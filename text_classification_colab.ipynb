{
  "nbformat": 4,
  "nbformat_minor": 5,
  "metadata": {
    "kernelspec": {
      "display_name": "Python 3",
      "language": "python",
      "name": "python3"
    },
    "language_info": {
      "codemirror_mode": {
        "name": "ipython",
        "version": 3
      },
      "file_extension": ".py",
      "mimetype": "text/x-python",
      "name": "python",
      "nbconvert_exporter": "python",
      "pygments_lexer": "ipython3",
      "version": "3.7.10"
    },
    "colab": {
      "name": "text_classification_example.ipynb",
      "provenance": []
    },
    "accelerator": "GPU"
  },
  "cells": [
    {
      "cell_type": "code",
      "metadata": {
        "colab": {
          "base_uri": "https://localhost:8080/"
        },
        "id": "5h_ZvnAlt1QT",
        "outputId": "004e94fb-843a-442e-d1b0-226b7ecbdbf4"
      },
      "source": [
        "# this cell for running in Google Colab\n",
        "!pip install -Uqq fastbook fastai"
      ],
      "id": "5h_ZvnAlt1QT",
      "execution_count": 1,
      "outputs": [
        {
          "output_type": "stream",
          "text": [
            "\u001b[K     |████████████████████████████████| 727kB 9.3MB/s \n",
            "\u001b[K     |████████████████████████████████| 204kB 16.9MB/s \n",
            "\u001b[K     |████████████████████████████████| 1.2MB 17.1MB/s \n",
            "\u001b[K     |████████████████████████████████| 51kB 8.1MB/s \n",
            "\u001b[K     |████████████████████████████████| 61kB 10.2MB/s \n",
            "\u001b[K     |████████████████████████████████| 51kB 7.3MB/s \n",
            "\u001b[?25h"
          ],
          "name": "stdout"
        }
      ]
    },
    {
      "cell_type": "code",
      "metadata": {
        "id": "7SYsu9p6t4b8"
      },
      "source": [
        "import fastbook"
      ],
      "id": "7SYsu9p6t4b8",
      "execution_count": 2,
      "outputs": []
    },
    {
      "cell_type": "code",
      "metadata": {
        "colab": {
          "base_uri": "https://localhost:8080/"
        },
        "id": "xu500CHUujmu",
        "outputId": "d7e241d2-d8db-4d2e-b8ff-c859f9205553"
      },
      "source": [
        "# this cell will setup a path that allows you to load and save files to your google drive\n",
        "fastbook.setup_book()"
      ],
      "id": "xu500CHUujmu",
      "execution_count": 3,
      "outputs": [
        {
          "output_type": "stream",
          "text": [
            "Mounted at /content/gdrive\n"
          ],
          "name": "stdout"
        }
      ]
    },
    {
      "cell_type": "code",
      "metadata": {
        "id": "f4368554"
      },
      "source": [
        "from fastai.text.all import *"
      ],
      "id": "f4368554",
      "execution_count": 4,
      "outputs": []
    },
    {
      "cell_type": "code",
      "metadata": {
        "colab": {
          "base_uri": "https://localhost:8080/"
        },
        "id": "721e8126",
        "outputId": "674e7314-d95c-42d4-bfcc-68febbb7a600"
      },
      "source": [
        "Path.cwd()"
      ],
      "id": "721e8126",
      "execution_count": 6,
      "outputs": [
        {
          "output_type": "execute_result",
          "data": {
            "text/plain": [
              "Path('/content')"
            ]
          },
          "metadata": {
            "tags": []
          },
          "execution_count": 6
        }
      ]
    },
    {
      "cell_type": "code",
      "metadata": {
        "id": "d61926a1"
      },
      "source": [
        "data_path = fastbook.gdrive / Path('data')\n",
        "data_file = data_path / 'mtsamples.csv'"
      ],
      "id": "d61926a1",
      "execution_count": 30,
      "outputs": []
    },
    {
      "cell_type": "code",
      "metadata": {
        "colab": {
          "base_uri": "https://localhost:8080/"
        },
        "id": "b1ed449f-5443-4a77-947a-e667e021ef24",
        "outputId": "87a69258-488f-42e3-858c-dec498d04520"
      },
      "source": [
        "data_file"
      ],
      "id": "b1ed449f-5443-4a77-947a-e667e021ef24",
      "execution_count": 31,
      "outputs": [
        {
          "output_type": "execute_result",
          "data": {
            "text/plain": [
              "Path('/content/gdrive/My Drive/data/mtsamples.csv')"
            ]
          },
          "metadata": {
            "tags": []
          },
          "execution_count": 31
        }
      ]
    },
    {
      "cell_type": "code",
      "metadata": {
        "colab": {
          "base_uri": "https://localhost:8080/",
          "height": 34
        },
        "id": "36e6f504-109b-49ad-a1cb-c08e8352464b",
        "outputId": "1759f662-29af-4df7-a308-e2e28eb6764f"
      },
      "source": [
        "if data_file.is_file():\n",
        "    print('Already downloaded')\n",
        "else:\n",
        "    print('downloading data file')\n",
        "    download_data(\n",
        "        url='https://github.com/socd06/medical-nlp/raw/master/data/mtsamples.csv',\n",
        "        fname = data_file\n",
        "    )"
      ],
      "id": "36e6f504-109b-49ad-a1cb-c08e8352464b",
      "execution_count": 32,
      "outputs": [
        {
          "output_type": "stream",
          "text": [
            "downloading data file\n"
          ],
          "name": "stdout"
        },
        {
          "output_type": "display_data",
          "data": {
            "text/html": [
              ""
            ],
            "text/plain": [
              "<IPython.core.display.HTML object>"
            ]
          },
          "metadata": {
            "tags": []
          }
        },
        {
          "output_type": "display_data",
          "data": {
            "text/html": [
              ""
            ],
            "text/plain": [
              "<IPython.core.display.HTML object>"
            ]
          },
          "metadata": {
            "tags": []
          }
        },
        {
          "output_type": "display_data",
          "data": {
            "text/html": [
              ""
            ],
            "text/plain": [
              "<IPython.core.display.HTML object>"
            ]
          },
          "metadata": {
            "tags": []
          }
        },
        {
          "output_type": "display_data",
          "data": {
            "text/html": [
              ""
            ],
            "text/plain": [
              "<IPython.core.display.HTML object>"
            ]
          },
          "metadata": {
            "tags": []
          }
        }
      ]
    },
    {
      "cell_type": "code",
      "metadata": {
        "colab": {
          "base_uri": "https://localhost:8080/",
          "height": 1000
        },
        "id": "0b52bdf3",
        "outputId": "08bf26d8-4102-46dc-8658-343caf3dc473"
      },
      "source": [
        "mtsamples = pd.read_csv(str(data_path) + '/mtsamples.csv')\n",
        "mtsamples.head()"
      ],
      "id": "0b52bdf3",
      "execution_count": 10,
      "outputs": [
        {
          "output_type": "execute_result",
          "data": {
            "text/html": [
              "<div>\n",
              "<style scoped>\n",
              "    .dataframe tbody tr th:only-of-type {\n",
              "        vertical-align: middle;\n",
              "    }\n",
              "\n",
              "    .dataframe tbody tr th {\n",
              "        vertical-align: top;\n",
              "    }\n",
              "\n",
              "    .dataframe thead th {\n",
              "        text-align: right;\n",
              "    }\n",
              "</style>\n",
              "<table border=\"1\" class=\"dataframe\">\n",
              "  <thead>\n",
              "    <tr style=\"text-align: right;\">\n",
              "      <th></th>\n",
              "      <th>Unnamed: 0</th>\n",
              "      <th>description</th>\n",
              "      <th>medical_specialty</th>\n",
              "      <th>sample_name</th>\n",
              "      <th>transcription</th>\n",
              "      <th>keywords</th>\n",
              "    </tr>\n",
              "  </thead>\n",
              "  <tbody>\n",
              "    <tr>\n",
              "      <th>0</th>\n",
              "      <td>0</td>\n",
              "      <td>A 23-year-old white female presents with complaint of allergies.</td>\n",
              "      <td>Allergy / Immunology</td>\n",
              "      <td>Allergic Rhinitis</td>\n",
              "      <td>SUBJECTIVE:,  This 23-year-old white female presents with complaint of allergies.  She used to have allergies when she lived in Seattle but she thinks they are worse here.  In the past, she has tried Claritin, and Zyrtec.  Both worked for short time but then seemed to lose effectiveness.  She has used Allegra also.  She used that last summer and she began using it again two weeks ago.  It does not appear to be working very well.  She has used over-the-counter sprays but no prescription nasal sprays.  She does have asthma but doest not require daily medication for this and does not think it...</td>\n",
              "      <td>allergy / immunology, allergic rhinitis, allergies, asthma, nasal sprays, rhinitis, nasal, erythematous, allegra, sprays, allergic,</td>\n",
              "    </tr>\n",
              "    <tr>\n",
              "      <th>1</th>\n",
              "      <td>1</td>\n",
              "      <td>Consult for laparoscopic gastric bypass.</td>\n",
              "      <td>Bariatrics</td>\n",
              "      <td>Laparoscopic Gastric Bypass Consult - 2</td>\n",
              "      <td>PAST MEDICAL HISTORY:, He has difficulty climbing stairs, difficulty with airline seats, tying shoes, used to public seating, and lifting objects off the floor.  He exercises three times a week at home and does cardio.  He has difficulty walking two blocks or five flights of stairs.  Difficulty with snoring.  He has muscle and joint pains including knee pain, back pain, foot and ankle pain, and swelling.  He has gastroesophageal reflux disease.,PAST SURGICAL HISTORY:, Includes reconstructive surgery on his right hand 13 years ago.  ,SOCIAL HISTORY:, He is currently single.  He has about te...</td>\n",
              "      <td>bariatrics, laparoscopic gastric bypass, weight loss programs, gastric bypass, atkin's diet, weight watcher's, body weight, laparoscopic gastric, weight loss, pounds, months, weight, laparoscopic, band, loss, diets, overweight, lost</td>\n",
              "    </tr>\n",
              "    <tr>\n",
              "      <th>2</th>\n",
              "      <td>2</td>\n",
              "      <td>Consult for laparoscopic gastric bypass.</td>\n",
              "      <td>Bariatrics</td>\n",
              "      <td>Laparoscopic Gastric Bypass Consult - 1</td>\n",
              "      <td>HISTORY OF PRESENT ILLNESS: , I have seen ABC today.  He is a very pleasant gentleman who is 42 years old, 344 pounds.  He is 5'9\".  He has a BMI of 51.  He has been overweight for ten years since the age of 33, at his highest he was 358 pounds, at his lowest 260.  He is pursuing surgical attempts of weight loss to feel good, get healthy, and begin to exercise again.  He wants to be able to exercise and play volleyball.  Physically, he is sluggish.  He gets tired quickly.  He does not go out often.  When he loses weight he always regains it and he gains back more than he lost.  His biggest...</td>\n",
              "      <td>bariatrics, laparoscopic gastric bypass, heart attacks, body weight, pulmonary embolism, potential complications, sleep study, weight loss, gastric bypass, anastomosis, loss, sleep, laparoscopic, gastric, bypass, heart, pounds, weight,</td>\n",
              "    </tr>\n",
              "    <tr>\n",
              "      <th>3</th>\n",
              "      <td>3</td>\n",
              "      <td>2-D M-Mode. Doppler.</td>\n",
              "      <td>Cardiovascular / Pulmonary</td>\n",
              "      <td>2-D Echocardiogram - 1</td>\n",
              "      <td>2-D M-MODE: , ,1.  Left atrial enlargement with left atrial diameter of 4.7 cm.,2.  Normal size right and left ventricle.,3.  Normal LV systolic function with left ventricular ejection fraction of 51%.,4.  Normal LV diastolic function.,5.  No pericardial effusion.,6.  Normal morphology of aortic valve, mitral valve, tricuspid valve, and pulmonary valve.,7.  PA systolic pressure is 36 mmHg.,DOPPLER: , ,1.  Mild mitral and tricuspid regurgitation.,2.  Trace aortic and pulmonary regurgitation.</td>\n",
              "      <td>cardiovascular / pulmonary, 2-d m-mode, doppler, aortic valve, atrial enlargement, diastolic function, ejection fraction, mitral, mitral valve, pericardial effusion, pulmonary valve, regurgitation, systolic function, tricuspid, tricuspid valve, normal lv</td>\n",
              "    </tr>\n",
              "    <tr>\n",
              "      <th>4</th>\n",
              "      <td>4</td>\n",
              "      <td>2-D Echocardiogram</td>\n",
              "      <td>Cardiovascular / Pulmonary</td>\n",
              "      <td>2-D Echocardiogram - 2</td>\n",
              "      <td>1.  The left ventricular cavity size and wall thickness appear normal.  The wall motion and left ventricular systolic function appears hyperdynamic with estimated ejection fraction of 70% to 75%.  There is near-cavity obliteration seen.  There also appears to be increased left ventricular outflow tract gradient at the mid cavity level consistent with hyperdynamic left ventricular systolic function.  There is abnormal left ventricular relaxation pattern seen as well as elevated left atrial pressures seen by Doppler examination.,2.  The left atrium appears mildly dilated.,3.  The right atriu...</td>\n",
              "      <td>cardiovascular / pulmonary, 2-d, doppler, echocardiogram, annular, aortic root, aortic valve, atrial, atrium, calcification, cavity, ejection fraction, mitral, obliteration, outflow, regurgitation, relaxation pattern, stenosis, systolic function, tricuspid, valve, ventricular, ventricular cavity, wall motion, pulmonary artery</td>\n",
              "    </tr>\n",
              "  </tbody>\n",
              "</table>\n",
              "</div>"
            ],
            "text/plain": [
              "   Unnamed: 0  \\\n",
              "0           0   \n",
              "1           1   \n",
              "2           2   \n",
              "3           3   \n",
              "4           4   \n",
              "\n",
              "                                                         description  \\\n",
              "0   A 23-year-old white female presents with complaint of allergies.   \n",
              "1                           Consult for laparoscopic gastric bypass.   \n",
              "2                           Consult for laparoscopic gastric bypass.   \n",
              "3                                             2-D M-Mode. Doppler.     \n",
              "4                                                 2-D Echocardiogram   \n",
              "\n",
              "             medical_specialty                                sample_name  \\\n",
              "0         Allergy / Immunology                         Allergic Rhinitis    \n",
              "1                   Bariatrics   Laparoscopic Gastric Bypass Consult - 2    \n",
              "2                   Bariatrics   Laparoscopic Gastric Bypass Consult - 1    \n",
              "3   Cardiovascular / Pulmonary                    2-D Echocardiogram - 1    \n",
              "4   Cardiovascular / Pulmonary                    2-D Echocardiogram - 2    \n",
              "\n",
              "                                                                                                                                                                                                                                                                                                                                                                                                                                                                                                                                                                                                             transcription  \\\n",
              "0  SUBJECTIVE:,  This 23-year-old white female presents with complaint of allergies.  She used to have allergies when she lived in Seattle but she thinks they are worse here.  In the past, she has tried Claritin, and Zyrtec.  Both worked for short time but then seemed to lose effectiveness.  She has used Allegra also.  She used that last summer and she began using it again two weeks ago.  It does not appear to be working very well.  She has used over-the-counter sprays but no prescription nasal sprays.  She does have asthma but doest not require daily medication for this and does not think it...   \n",
              "1  PAST MEDICAL HISTORY:, He has difficulty climbing stairs, difficulty with airline seats, tying shoes, used to public seating, and lifting objects off the floor.  He exercises three times a week at home and does cardio.  He has difficulty walking two blocks or five flights of stairs.  Difficulty with snoring.  He has muscle and joint pains including knee pain, back pain, foot and ankle pain, and swelling.  He has gastroesophageal reflux disease.,PAST SURGICAL HISTORY:, Includes reconstructive surgery on his right hand 13 years ago.  ,SOCIAL HISTORY:, He is currently single.  He has about te...   \n",
              "2  HISTORY OF PRESENT ILLNESS: , I have seen ABC today.  He is a very pleasant gentleman who is 42 years old, 344 pounds.  He is 5'9\".  He has a BMI of 51.  He has been overweight for ten years since the age of 33, at his highest he was 358 pounds, at his lowest 260.  He is pursuing surgical attempts of weight loss to feel good, get healthy, and begin to exercise again.  He wants to be able to exercise and play volleyball.  Physically, he is sluggish.  He gets tired quickly.  He does not go out often.  When he loses weight he always regains it and he gains back more than he lost.  His biggest...   \n",
              "3                                                                                                          2-D M-MODE: , ,1.  Left atrial enlargement with left atrial diameter of 4.7 cm.,2.  Normal size right and left ventricle.,3.  Normal LV systolic function with left ventricular ejection fraction of 51%.,4.  Normal LV diastolic function.,5.  No pericardial effusion.,6.  Normal morphology of aortic valve, mitral valve, tricuspid valve, and pulmonary valve.,7.  PA systolic pressure is 36 mmHg.,DOPPLER: , ,1.  Mild mitral and tricuspid regurgitation.,2.  Trace aortic and pulmonary regurgitation.   \n",
              "4  1.  The left ventricular cavity size and wall thickness appear normal.  The wall motion and left ventricular systolic function appears hyperdynamic with estimated ejection fraction of 70% to 75%.  There is near-cavity obliteration seen.  There also appears to be increased left ventricular outflow tract gradient at the mid cavity level consistent with hyperdynamic left ventricular systolic function.  There is abnormal left ventricular relaxation pattern seen as well as elevated left atrial pressures seen by Doppler examination.,2.  The left atrium appears mildly dilated.,3.  The right atriu...   \n",
              "\n",
              "                                                                                                                                                                                                                                                                                                                                  keywords  \n",
              "0                                                                                                                                                                                                      allergy / immunology, allergic rhinitis, allergies, asthma, nasal sprays, rhinitis, nasal, erythematous, allegra, sprays, allergic,  \n",
              "1                                                                                                 bariatrics, laparoscopic gastric bypass, weight loss programs, gastric bypass, atkin's diet, weight watcher's, body weight, laparoscopic gastric, weight loss, pounds, months, weight, laparoscopic, band, loss, diets, overweight, lost  \n",
              "2                                                                                              bariatrics, laparoscopic gastric bypass, heart attacks, body weight, pulmonary embolism, potential complications, sleep study, weight loss, gastric bypass, anastomosis, loss, sleep, laparoscopic, gastric, bypass, heart, pounds, weight,  \n",
              "3                                                                          cardiovascular / pulmonary, 2-d m-mode, doppler, aortic valve, atrial enlargement, diastolic function, ejection fraction, mitral, mitral valve, pericardial effusion, pulmonary valve, regurgitation, systolic function, tricuspid, tricuspid valve, normal lv   \n",
              "4  cardiovascular / pulmonary, 2-d, doppler, echocardiogram, annular, aortic root, aortic valve, atrial, atrium, calcification, cavity, ejection fraction, mitral, obliteration, outflow, regurgitation, relaxation pattern, stenosis, systolic function, tricuspid, valve, ventricular, ventricular cavity, wall motion, pulmonary artery  "
            ]
          },
          "metadata": {
            "tags": []
          },
          "execution_count": 10
        }
      ]
    },
    {
      "cell_type": "code",
      "metadata": {
        "colab": {
          "base_uri": "https://localhost:8080/"
        },
        "id": "8e900009",
        "outputId": "65162546-1a72-47ac-e8d5-67f3a17886d6"
      },
      "source": [
        "mtsamples.transcription.str.len()"
      ],
      "id": "8e900009",
      "execution_count": 11,
      "outputs": [
        {
          "output_type": "execute_result",
          "data": {
            "text/plain": [
              "0       1331.0\n",
              "1       2431.0\n",
              "2       4422.0\n",
              "3        495.0\n",
              "4       1618.0\n",
              "         ...  \n",
              "4994    5338.0\n",
              "4995    1566.0\n",
              "4996    4543.0\n",
              "4997    2781.0\n",
              "4998    4379.0\n",
              "Name: transcription, Length: 4999, dtype: float64"
            ]
          },
          "metadata": {
            "tags": []
          },
          "execution_count": 11
        }
      ]
    },
    {
      "cell_type": "code",
      "metadata": {
        "colab": {
          "base_uri": "https://localhost:8080/"
        },
        "id": "e35a8619",
        "outputId": "3c083b7a-2874-42ec-e31d-ef86a4dbe3e8"
      },
      "source": [
        "mtsamples.medical_specialty.value_counts()"
      ],
      "id": "e35a8619",
      "execution_count": 12,
      "outputs": [
        {
          "output_type": "execute_result",
          "data": {
            "text/plain": [
              " Surgery                          1103\n",
              " Consult - History and Phy.        516\n",
              " Cardiovascular / Pulmonary        372\n",
              " Orthopedic                        355\n",
              " Radiology                         273\n",
              " General Medicine                  259\n",
              " Gastroenterology                  230\n",
              " Neurology                         223\n",
              " SOAP / Chart / Progress Notes     166\n",
              " Obstetrics / Gynecology           160\n",
              " Urology                           158\n",
              " Discharge Summary                 108\n",
              " ENT - Otolaryngology               98\n",
              " Neurosurgery                       94\n",
              " Hematology - Oncology              90\n",
              " Ophthalmology                      83\n",
              " Nephrology                         81\n",
              " Emergency Room Reports             75\n",
              " Pediatrics - Neonatal              70\n",
              " Pain Management                    62\n",
              " Psychiatry / Psychology            53\n",
              " Office Notes                       51\n",
              " Podiatry                           47\n",
              " Dermatology                        29\n",
              " Cosmetic / Plastic Surgery         27\n",
              " Dentistry                          27\n",
              " Letters                            23\n",
              " Physical Medicine - Rehab          21\n",
              " Sleep Medicine                     20\n",
              " Endocrinology                      19\n",
              " Bariatrics                         18\n",
              " IME-QME-Work Comp etc.             16\n",
              " Chiropractic                       14\n",
              " Diets and Nutritions               10\n",
              " Rheumatology                       10\n",
              " Speech - Language                   9\n",
              " Lab Medicine - Pathology            8\n",
              " Autopsy                             8\n",
              " Allergy / Immunology                7\n",
              " Hospice - Palliative Care           6\n",
              "Name: medical_specialty, dtype: int64"
            ]
          },
          "metadata": {
            "tags": []
          },
          "execution_count": 12
        }
      ]
    },
    {
      "cell_type": "markdown",
      "metadata": {
        "id": "f6a9df06"
      },
      "source": [
        "This is one way to load the data for training\n",
        "\n",
        "```python\n",
        "TextDataLoaders.from_df(mtsamples,\n",
        "                        valid_pct=0.2,\n",
        "                        seed=42,\n",
        "                        text_col='transcription',\n",
        "                        label_col='medical_specialty',\n",
        "                        seq_len=72)\n",
        "```"
      ],
      "id": "f6a9df06"
    },
    {
      "cell_type": "code",
      "metadata": {
        "id": "65bff6a4"
      },
      "source": [
        "# dls_lm = DataBlock(\n",
        "#     blocks=(TextBlock.from_df('transcription', is_lm=True), CategoryBlock),\n",
        "#     get_x=ColReader('transcription'), \n",
        "#     get_y=ColReader('medical_specialty'),\n",
        "#     splitter=TrainTestSplitter(test_size=0.2,\n",
        "#                                random_state=42,\n",
        "#                                stratify=mtsamples.medical_specialty)\n",
        "# )"
      ],
      "id": "65bff6a4",
      "execution_count": 13,
      "outputs": []
    },
    {
      "cell_type": "code",
      "metadata": {
        "id": "dfe7270d"
      },
      "source": [
        "dls_lm = DataBlock(\n",
        "    blocks=TextBlock.from_df('transcription', is_lm=True),\n",
        "    get_x=ColReader('text'),\n",
        "    splitter=TrainTestSplitter(test_size=0.2,\n",
        "                               random_state=42)\n",
        ")"
      ],
      "id": "dfe7270d",
      "execution_count": 14,
      "outputs": []
    },
    {
      "cell_type": "code",
      "metadata": {
        "colab": {
          "base_uri": "https://localhost:8080/",
          "height": 72
        },
        "id": "f5f48b66",
        "outputId": "352b45af-b245-49cb-e982-0fcf13a99834"
      },
      "source": [
        "# setting max transcription length to 128 words\n",
        "# this step takes 1 - 2 minutes\n",
        "dls_lm = dls_lm.dataloaders(mtsamples, bs=64, seq_len=128)"
      ],
      "id": "f5f48b66",
      "execution_count": 15,
      "outputs": [
        {
          "output_type": "display_data",
          "data": {
            "text/html": [
              ""
            ],
            "text/plain": [
              "<IPython.core.display.HTML object>"
            ]
          },
          "metadata": {
            "tags": []
          }
        },
        {
          "output_type": "stream",
          "text": [
            "/usr/local/lib/python3.7/dist-packages/numpy/core/_asarray.py:83: VisibleDeprecationWarning: Creating an ndarray from ragged nested sequences (which is a list-or-tuple of lists-or-tuples-or ndarrays with different lengths or shapes) is deprecated. If you meant to do this, you must specify 'dtype=object' when creating the ndarray\n",
            "  return array(a, dtype, copy=False, order=order)\n"
          ],
          "name": "stderr"
        }
      ]
    },
    {
      "cell_type": "code",
      "metadata": {
        "colab": {
          "base_uri": "https://localhost:8080/",
          "height": 355
        },
        "id": "a241960c",
        "outputId": "5cb895b5-597a-4745-8785-4c43edccbebe"
      },
      "source": [
        "dls_lm.show_batch(max_n=2)"
      ],
      "id": "a241960c",
      "execution_count": 16,
      "outputs": [
        {
          "output_type": "display_data",
          "data": {
            "text/html": [
              "<table border=\"1\" class=\"dataframe\">\n",
              "  <thead>\n",
              "    <tr style=\"text-align: right;\">\n",
              "      <th></th>\n",
              "      <th>text</th>\n",
              "      <th>text_</th>\n",
              "    </tr>\n",
              "  </thead>\n",
              "  <tbody>\n",
              "    <tr>\n",
              "      <th>0</th>\n",
              "      <td>xxbos xxup procedure : , xxmaj flexible bronchoscopy . ,preoperative xxup diagnosis ( es ) : , xxmaj chronic wheezing . ,indications xxup for xxup procedure : , xxmaj evaluate the airway . ,description xxup of xxup procedure : , this was done in the pediatric endoscopy suite with the aid of xxmaj anesthesia . xxmaj the patient was sedated with xxunk and propofol . xxmaj one ml of 1 % lidocaine was used for airway anesthesia . xxmaj the 2.8-mm flexible pediatric bronchoscope was passed through the left naris . xxmaj the upper airway was visualized . xxmaj the epiglottis , xxunk , and vocal cords were all normal . xxmaj the scope was passed below the cords . xxmaj the subglottic space was normal . xxmaj</td>\n",
              "      <td>xxup procedure : , xxmaj flexible bronchoscopy . ,preoperative xxup diagnosis ( es ) : , xxmaj chronic wheezing . ,indications xxup for xxup procedure : , xxmaj evaluate the airway . ,description xxup of xxup procedure : , this was done in the pediatric endoscopy suite with the aid of xxmaj anesthesia . xxmaj the patient was sedated with xxunk and propofol . xxmaj one ml of 1 % lidocaine was used for airway anesthesia . xxmaj the 2.8-mm flexible pediatric bronchoscope was passed through the left naris . xxmaj the upper airway was visualized . xxmaj the epiglottis , xxunk , and vocal cords were all normal . xxmaj the scope was passed below the cords . xxmaj the subglottic space was normal . xxmaj the</td>\n",
              "    </tr>\n",
              "    <tr>\n",
              "      <th>1</th>\n",
              "      <td>was then inspected for any remaining short bony edges , none were noted . ,copious amounts of sterile saline was then used to flush the surgical site . xxmaj the capsule was closed with # 3 - 0 xxmaj vicryl . xxmaj subcutaneous closure was performed with # 4 - 0 xxmaj vicryl followed by running subcuticular # 5 - 0 xxmaj vicryl . steri - strips were applied and 1 cc of dexamethasone phosphate was injected into the surgical site . ,dressings consisted of # 0 - 1 silk , copious xxmaj betadine , 4 x 4s , xxmaj kling , xxmaj kerlix , and xxmaj coban . xxmaj the pneumatic ankle tourniquet was released and immediate hyperemic flush was noted to all five digits of the</td>\n",
              "      <td>then inspected for any remaining short bony edges , none were noted . ,copious amounts of sterile saline was then used to flush the surgical site . xxmaj the capsule was closed with # 3 - 0 xxmaj vicryl . xxmaj subcutaneous closure was performed with # 4 - 0 xxmaj vicryl followed by running subcuticular # 5 - 0 xxmaj vicryl . steri - strips were applied and 1 cc of dexamethasone phosphate was injected into the surgical site . ,dressings consisted of # 0 - 1 silk , copious xxmaj betadine , 4 x 4s , xxmaj kling , xxmaj kerlix , and xxmaj coban . xxmaj the pneumatic ankle tourniquet was released and immediate hyperemic flush was noted to all five digits of the right</td>\n",
              "    </tr>\n",
              "  </tbody>\n",
              "</table>"
            ],
            "text/plain": [
              "<IPython.core.display.HTML object>"
            ]
          },
          "metadata": {
            "tags": []
          }
        }
      ]
    },
    {
      "cell_type": "code",
      "metadata": {
        "id": "a555a56f"
      },
      "source": [
        "learn = language_model_learner(\n",
        "    dls_lm,\n",
        "    AWD_LSTM,\n",
        "    model_dir=fastbook.gdrive / Path('data'),\n",
        "    drop_mult=0.3,\n",
        "    metrics=[accuracy, Perplexity()]).to_fp16()"
      ],
      "id": "a555a56f",
      "execution_count": 34,
      "outputs": []
    },
    {
      "cell_type": "code",
      "metadata": {
        "colab": {
          "base_uri": "https://localhost:8080/",
          "height": 81
        },
        "id": "2e3c133a",
        "outputId": "ca79ae04-0d7c-4815-9387-c7625c3c9128"
      },
      "source": [
        "# on macbook this takes 40 minues\n",
        "# on GPU machine this takes about 1 minute\n",
        "learn.fit_one_cycle(1, 2e-2)"
      ],
      "id": "2e3c133a",
      "execution_count": 35,
      "outputs": [
        {
          "output_type": "display_data",
          "data": {
            "text/html": [
              "<table border=\"1\" class=\"dataframe\">\n",
              "  <thead>\n",
              "    <tr style=\"text-align: left;\">\n",
              "      <th>epoch</th>\n",
              "      <th>train_loss</th>\n",
              "      <th>valid_loss</th>\n",
              "      <th>accuracy</th>\n",
              "      <th>perplexity</th>\n",
              "      <th>time</th>\n",
              "    </tr>\n",
              "  </thead>\n",
              "  <tbody>\n",
              "    <tr>\n",
              "      <td>0</td>\n",
              "      <td>3.048979</td>\n",
              "      <td>2.881843</td>\n",
              "      <td>0.449544</td>\n",
              "      <td>17.847141</td>\n",
              "      <td>01:16</td>\n",
              "    </tr>\n",
              "  </tbody>\n",
              "</table>"
            ],
            "text/plain": [
              "<IPython.core.display.HTML object>"
            ]
          },
          "metadata": {
            "tags": []
          }
        }
      ]
    },
    {
      "cell_type": "code",
      "metadata": {
        "colab": {
          "base_uri": "https://localhost:8080/"
        },
        "id": "6f8554c3",
        "outputId": "e0952393-d3da-4fce-8db1-d9871f4e99a8"
      },
      "source": [
        "learn.save('1epoch')"
      ],
      "id": "6f8554c3",
      "execution_count": 36,
      "outputs": [
        {
          "output_type": "execute_result",
          "data": {
            "text/plain": [
              "Path('/content/gdrive/My Drive/data/1epoch.pth')"
            ]
          },
          "metadata": {
            "tags": []
          },
          "execution_count": 36
        }
      ]
    },
    {
      "cell_type": "code",
      "metadata": {
        "colab": {
          "base_uri": "https://localhost:8080/",
          "height": 363
        },
        "id": "6wi48g8_3aEM",
        "outputId": "bcb51470-24da-4bc0-84d3-93cf008238b8"
      },
      "source": [
        "learn.unfreeze()\n",
        "learn.fit_one_cycle(10, 2e-3)"
      ],
      "id": "6wi48g8_3aEM",
      "execution_count": 37,
      "outputs": [
        {
          "output_type": "display_data",
          "data": {
            "text/html": [
              "<table border=\"1\" class=\"dataframe\">\n",
              "  <thead>\n",
              "    <tr style=\"text-align: left;\">\n",
              "      <th>epoch</th>\n",
              "      <th>train_loss</th>\n",
              "      <th>valid_loss</th>\n",
              "      <th>accuracy</th>\n",
              "      <th>perplexity</th>\n",
              "      <th>time</th>\n",
              "    </tr>\n",
              "  </thead>\n",
              "  <tbody>\n",
              "    <tr>\n",
              "      <td>0</td>\n",
              "      <td>2.661049</td>\n",
              "      <td>2.703400</td>\n",
              "      <td>0.470938</td>\n",
              "      <td>14.930404</td>\n",
              "      <td>01:23</td>\n",
              "    </tr>\n",
              "    <tr>\n",
              "      <td>1</td>\n",
              "      <td>2.439440</td>\n",
              "      <td>2.477741</td>\n",
              "      <td>0.501964</td>\n",
              "      <td>11.914323</td>\n",
              "      <td>01:23</td>\n",
              "    </tr>\n",
              "    <tr>\n",
              "      <td>2</td>\n",
              "      <td>2.142361</td>\n",
              "      <td>2.210938</td>\n",
              "      <td>0.542657</td>\n",
              "      <td>9.124273</td>\n",
              "      <td>01:23</td>\n",
              "    </tr>\n",
              "    <tr>\n",
              "      <td>3</td>\n",
              "      <td>1.807399</td>\n",
              "      <td>1.970857</td>\n",
              "      <td>0.586664</td>\n",
              "      <td>7.176824</td>\n",
              "      <td>01:23</td>\n",
              "    </tr>\n",
              "    <tr>\n",
              "      <td>4</td>\n",
              "      <td>1.549410</td>\n",
              "      <td>1.749228</td>\n",
              "      <td>0.631957</td>\n",
              "      <td>5.750159</td>\n",
              "      <td>01:23</td>\n",
              "    </tr>\n",
              "    <tr>\n",
              "      <td>5</td>\n",
              "      <td>1.329410</td>\n",
              "      <td>1.576361</td>\n",
              "      <td>0.669718</td>\n",
              "      <td>4.837323</td>\n",
              "      <td>01:23</td>\n",
              "    </tr>\n",
              "    <tr>\n",
              "      <td>6</td>\n",
              "      <td>1.091925</td>\n",
              "      <td>1.441991</td>\n",
              "      <td>0.702111</td>\n",
              "      <td>4.229109</td>\n",
              "      <td>01:23</td>\n",
              "    </tr>\n",
              "    <tr>\n",
              "      <td>7</td>\n",
              "      <td>0.960812</td>\n",
              "      <td>1.352861</td>\n",
              "      <td>0.724349</td>\n",
              "      <td>3.868476</td>\n",
              "      <td>01:23</td>\n",
              "    </tr>\n",
              "    <tr>\n",
              "      <td>8</td>\n",
              "      <td>0.876318</td>\n",
              "      <td>1.315484</td>\n",
              "      <td>0.733831</td>\n",
              "      <td>3.726555</td>\n",
              "      <td>01:24</td>\n",
              "    </tr>\n",
              "    <tr>\n",
              "      <td>9</td>\n",
              "      <td>0.805579</td>\n",
              "      <td>1.309688</td>\n",
              "      <td>0.735736</td>\n",
              "      <td>3.705017</td>\n",
              "      <td>01:24</td>\n",
              "    </tr>\n",
              "  </tbody>\n",
              "</table>"
            ],
            "text/plain": [
              "<IPython.core.display.HTML object>"
            ]
          },
          "metadata": {
            "tags": []
          }
        }
      ]
    },
    {
      "cell_type": "code",
      "metadata": {
        "id": "wshP_Vru55lX"
      },
      "source": [
        "learn.save_encoder('finetuned')"
      ],
      "id": "wshP_Vru55lX",
      "execution_count": null,
      "outputs": []
    },
    {
      "cell_type": "code",
      "metadata": {
        "id": "H7r0efIX5_YS"
      },
      "source": [
        "dls_lm = DataBlock(\n",
        "    blocks=TextBlock.from_df('transcription', is_lm=True),\n",
        "    get_x=ColReader('text'),\n",
        "    #get_y='medical_specialty',\n",
        "    splitter=TrainTestSplitter(test_size=0.2,\n",
        "                               random_state=42,\n",
        "                               stratify=mtsamples.medical_specialty)\n",
        ")"
      ],
      "id": "H7r0efIX5_YS",
      "execution_count": null,
      "outputs": []
    },
    {
      "cell_type": "code",
      "metadata": {
        "id": "S63CGt8l5_y4"
      },
      "source": [
        ""
      ],
      "id": "S63CGt8l5_y4",
      "execution_count": null,
      "outputs": []
    },
    {
      "cell_type": "code",
      "metadata": {
        "id": "yLNdc8BW5__H"
      },
      "source": [
        ""
      ],
      "id": "yLNdc8BW5__H",
      "execution_count": null,
      "outputs": []
    }
  ]
}