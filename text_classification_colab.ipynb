{
  "nbformat": 4,
  "nbformat_minor": 5,
  "metadata": {
    "accelerator": "GPU",
    "colab": {
      "name": "text_classification_colab.ipynb",
      "provenance": []
    },
    "jupytext": {
      "text_representation": {
        "extension": ".md",
        "format_name": "markdown",
        "format_version": "1.3",
        "jupytext_version": "1.11.1"
      }
    },
    "kernelspec": {
      "display_name": "Python 3",
      "language": "python",
      "name": "python3"
    },
    "language_info": {
      "codemirror_mode": {
        "name": "ipython",
        "version": 3
      },
      "file_extension": ".py",
      "mimetype": "text/x-python",
      "name": "python",
      "nbconvert_exporter": "python",
      "pygments_lexer": "ipython3",
      "version": "3.7.10"
    }
  },
  "cells": [
    {
      "cell_type": "markdown",
      "metadata": {
        "id": "c8fe1817"
      },
      "source": [
        "# Example of how to use Deep Learning for text classification\n",
        "\n",
        "Click [Text Classification Example](https://colab.research.google.com/github/magic-lantern/coprh-nlp-2021/blob/main/text_classification_colab.ipynb) to open this notebook in Google Colab - no local setup required, results saved to your Google Drive.\n",
        "\n",
        "In Google Colab, make sure you change the Runtime to a GPU instance - that will result vastly improved runtimes for deep learning steps. On CPU based hardware some steps take 40 minutes versus 1 minute per training epoch on systems with a GPU. Steps to update runtime:\n",
        "\n",
        "    Runtime > Change runtime type > Select 'GPU' in Hardware accelerator box\n",
        "\n",
        "Click 'Save' to switch from Default runtime to GPU accelerated runtime.\n",
        "\n",
        "Some useful links:\n",
        "\n",
        "* https://muellerzr.github.io/fastblog/2020/08/21/intermediate.html#A-Text-Example"
      ],
      "id": "c8fe1817"
    },
    {
      "cell_type": "code",
      "metadata": {
        "colab": {
          "base_uri": "https://localhost:8080/"
        },
        "id": "99dc132e",
        "outputId": "cf3966c4-8193-43c6-e057-9c78469449bf"
      },
      "source": [
        "# this cell makes sure Google Colab version has latest software dependencies\n",
        "!pip install -Uqq fastbook fastai"
      ],
      "id": "99dc132e",
      "execution_count": 1,
      "outputs": [
        {
          "output_type": "stream",
          "text": [
            "\u001b[K     |████████████████████████████████| 727kB 18.2MB/s \n",
            "\u001b[K     |████████████████████████████████| 204kB 54.9MB/s \n",
            "\u001b[K     |████████████████████████████████| 51kB 7.6MB/s \n",
            "\u001b[K     |████████████████████████████████| 1.2MB 52.5MB/s \n",
            "\u001b[K     |████████████████████████████████| 61kB 7.9MB/s \n",
            "\u001b[K     |████████████████████████████████| 51kB 7.5MB/s \n",
            "\u001b[?25h"
          ],
          "name": "stdout"
        }
      ]
    },
    {
      "cell_type": "code",
      "metadata": {
        "id": "b8ec45b4"
      },
      "source": [
        "import fastbook\n",
        "import gc"
      ],
      "id": "b8ec45b4",
      "execution_count": 2,
      "outputs": []
    },
    {
      "cell_type": "code",
      "metadata": {
        "colab": {
          "base_uri": "https://localhost:8080/"
        },
        "id": "ccd58e7d",
        "outputId": "047b9078-f931-44af-971a-664fb7c0acf3"
      },
      "source": [
        "# this cell will setup a path that allows you to load and save files to your google drive\n",
        "# you will be prompted to log in with a Google enabled account.\n",
        "fastbook.setup_book()"
      ],
      "id": "ccd58e7d",
      "execution_count": 3,
      "outputs": [
        {
          "output_type": "stream",
          "text": [
            "Mounted at /content/gdrive\n"
          ],
          "name": "stdout"
        }
      ]
    },
    {
      "cell_type": "code",
      "metadata": {
        "id": "be0a1f20"
      },
      "source": [
        "from fastai.text.all import *"
      ],
      "id": "be0a1f20",
      "execution_count": 4,
      "outputs": []
    },
    {
      "cell_type": "code",
      "metadata": {
        "colab": {
          "base_uri": "https://localhost:8080/"
        },
        "id": "fe22952b",
        "outputId": "3d898ae9-0476-4039-a990-ddc2a12c8da2"
      },
      "source": [
        "Path.cwd()"
      ],
      "id": "fe22952b",
      "execution_count": 5,
      "outputs": [
        {
          "output_type": "execute_result",
          "data": {
            "text/plain": [
              "Path('/content')"
            ]
          },
          "metadata": {
            "tags": []
          },
          "execution_count": 5
        }
      ]
    },
    {
      "cell_type": "code",
      "metadata": {
        "id": "c27edf42"
      },
      "source": [
        "data_path = fastbook.gdrive / Path('data')\n",
        "data_file = data_path / 'mtsamples.csv'\n",
        "sequence_length = 512"
      ],
      "id": "c27edf42",
      "execution_count": 6,
      "outputs": []
    },
    {
      "cell_type": "code",
      "metadata": {
        "colab": {
          "base_uri": "https://localhost:8080/"
        },
        "id": "1fadf0a4",
        "outputId": "e3270e96-76d1-450d-db29-f0c19be234c7"
      },
      "source": [
        "data_file"
      ],
      "id": "1fadf0a4",
      "execution_count": 7,
      "outputs": [
        {
          "output_type": "execute_result",
          "data": {
            "text/plain": [
              "Path('/content/gdrive/My Drive/data/mtsamples.csv')"
            ]
          },
          "metadata": {
            "tags": []
          },
          "execution_count": 7
        }
      ]
    },
    {
      "cell_type": "code",
      "metadata": {
        "colab": {
          "base_uri": "https://localhost:8080/"
        },
        "id": "59b3c102",
        "outputId": "e3e0fbf8-6883-479e-aa92-1b4d898570cf"
      },
      "source": [
        "if data_file.is_file():\n",
        "    print('Already downloaded')\n",
        "else:\n",
        "    print('downloading data file')\n",
        "    download_data(\n",
        "        url='https://github.com/socd06/medical-nlp/raw/master/data/mtsamples.csv',\n",
        "        fname = data_file\n",
        "    )"
      ],
      "id": "59b3c102",
      "execution_count": 8,
      "outputs": [
        {
          "output_type": "stream",
          "text": [
            "Already downloaded\n"
          ],
          "name": "stdout"
        }
      ]
    },
    {
      "cell_type": "code",
      "metadata": {
        "colab": {
          "base_uri": "https://localhost:8080/",
          "height": 745
        },
        "id": "8a4af966",
        "outputId": "b97e73ca-d9c1-40f0-c19e-4dc8825d6454"
      },
      "source": [
        "mtsamples = pd.read_csv(str(data_path) + '/mtsamples.csv')\n",
        "# remove leading/trailing spaces from text fields\n",
        "mtsamples = mtsamples.applymap(lambda x: x.strip() if isinstance(x, str) else x)\n",
        "mtsamples.head()"
      ],
      "id": "8a4af966",
      "execution_count": 9,
      "outputs": [
        {
          "output_type": "execute_result",
          "data": {
            "text/html": [
              "<div>\n",
              "<style scoped>\n",
              "    .dataframe tbody tr th:only-of-type {\n",
              "        vertical-align: middle;\n",
              "    }\n",
              "\n",
              "    .dataframe tbody tr th {\n",
              "        vertical-align: top;\n",
              "    }\n",
              "\n",
              "    .dataframe thead th {\n",
              "        text-align: right;\n",
              "    }\n",
              "</style>\n",
              "<table border=\"1\" class=\"dataframe\">\n",
              "  <thead>\n",
              "    <tr style=\"text-align: right;\">\n",
              "      <th></th>\n",
              "      <th>Unnamed: 0</th>\n",
              "      <th>description</th>\n",
              "      <th>medical_specialty</th>\n",
              "      <th>sample_name</th>\n",
              "      <th>transcription</th>\n",
              "      <th>keywords</th>\n",
              "    </tr>\n",
              "  </thead>\n",
              "  <tbody>\n",
              "    <tr>\n",
              "      <th>0</th>\n",
              "      <td>0</td>\n",
              "      <td>A 23-year-old white female presents with complaint of allergies.</td>\n",
              "      <td>Allergy / Immunology</td>\n",
              "      <td>Allergic Rhinitis</td>\n",
              "      <td>SUBJECTIVE:,  This 23-year-old white female presents with complaint of allergies.  She used to have allergies when she lived in Seattle but she thinks they are worse here.  In the past, she has tried Claritin, and Zyrtec.  Both worked for short time but then seemed to lose effectiveness.  She has used Allegra also.  She used that last summer and she began using it again two weeks ago.  It does not appear to be working very well.  She has used over-the-counter sprays but no prescription nasal sprays.  She does have asthma but doest not require daily medication for this and does not think it...</td>\n",
              "      <td>allergy / immunology, allergic rhinitis, allergies, asthma, nasal sprays, rhinitis, nasal, erythematous, allegra, sprays, allergic,</td>\n",
              "    </tr>\n",
              "    <tr>\n",
              "      <th>1</th>\n",
              "      <td>1</td>\n",
              "      <td>Consult for laparoscopic gastric bypass.</td>\n",
              "      <td>Bariatrics</td>\n",
              "      <td>Laparoscopic Gastric Bypass Consult - 2</td>\n",
              "      <td>PAST MEDICAL HISTORY:, He has difficulty climbing stairs, difficulty with airline seats, tying shoes, used to public seating, and lifting objects off the floor.  He exercises three times a week at home and does cardio.  He has difficulty walking two blocks or five flights of stairs.  Difficulty with snoring.  He has muscle and joint pains including knee pain, back pain, foot and ankle pain, and swelling.  He has gastroesophageal reflux disease.,PAST SURGICAL HISTORY:, Includes reconstructive surgery on his right hand 13 years ago.  ,SOCIAL HISTORY:, He is currently single.  He has about te...</td>\n",
              "      <td>bariatrics, laparoscopic gastric bypass, weight loss programs, gastric bypass, atkin's diet, weight watcher's, body weight, laparoscopic gastric, weight loss, pounds, months, weight, laparoscopic, band, loss, diets, overweight, lost</td>\n",
              "    </tr>\n",
              "    <tr>\n",
              "      <th>2</th>\n",
              "      <td>2</td>\n",
              "      <td>Consult for laparoscopic gastric bypass.</td>\n",
              "      <td>Bariatrics</td>\n",
              "      <td>Laparoscopic Gastric Bypass Consult - 1</td>\n",
              "      <td>HISTORY OF PRESENT ILLNESS: , I have seen ABC today.  He is a very pleasant gentleman who is 42 years old, 344 pounds.  He is 5'9\".  He has a BMI of 51.  He has been overweight for ten years since the age of 33, at his highest he was 358 pounds, at his lowest 260.  He is pursuing surgical attempts of weight loss to feel good, get healthy, and begin to exercise again.  He wants to be able to exercise and play volleyball.  Physically, he is sluggish.  He gets tired quickly.  He does not go out often.  When he loses weight he always regains it and he gains back more than he lost.  His biggest...</td>\n",
              "      <td>bariatrics, laparoscopic gastric bypass, heart attacks, body weight, pulmonary embolism, potential complications, sleep study, weight loss, gastric bypass, anastomosis, loss, sleep, laparoscopic, gastric, bypass, heart, pounds, weight,</td>\n",
              "    </tr>\n",
              "    <tr>\n",
              "      <th>3</th>\n",
              "      <td>3</td>\n",
              "      <td>2-D M-Mode. Doppler.</td>\n",
              "      <td>Cardiovascular / Pulmonary</td>\n",
              "      <td>2-D Echocardiogram - 1</td>\n",
              "      <td>2-D M-MODE: , ,1.  Left atrial enlargement with left atrial diameter of 4.7 cm.,2.  Normal size right and left ventricle.,3.  Normal LV systolic function with left ventricular ejection fraction of 51%.,4.  Normal LV diastolic function.,5.  No pericardial effusion.,6.  Normal morphology of aortic valve, mitral valve, tricuspid valve, and pulmonary valve.,7.  PA systolic pressure is 36 mmHg.,DOPPLER: , ,1.  Mild mitral and tricuspid regurgitation.,2.  Trace aortic and pulmonary regurgitation.</td>\n",
              "      <td>cardiovascular / pulmonary, 2-d m-mode, doppler, aortic valve, atrial enlargement, diastolic function, ejection fraction, mitral, mitral valve, pericardial effusion, pulmonary valve, regurgitation, systolic function, tricuspid, tricuspid valve, normal lv</td>\n",
              "    </tr>\n",
              "    <tr>\n",
              "      <th>4</th>\n",
              "      <td>4</td>\n",
              "      <td>2-D Echocardiogram</td>\n",
              "      <td>Cardiovascular / Pulmonary</td>\n",
              "      <td>2-D Echocardiogram - 2</td>\n",
              "      <td>1.  The left ventricular cavity size and wall thickness appear normal.  The wall motion and left ventricular systolic function appears hyperdynamic with estimated ejection fraction of 70% to 75%.  There is near-cavity obliteration seen.  There also appears to be increased left ventricular outflow tract gradient at the mid cavity level consistent with hyperdynamic left ventricular systolic function.  There is abnormal left ventricular relaxation pattern seen as well as elevated left atrial pressures seen by Doppler examination.,2.  The left atrium appears mildly dilated.,3.  The right atriu...</td>\n",
              "      <td>cardiovascular / pulmonary, 2-d, doppler, echocardiogram, annular, aortic root, aortic valve, atrial, atrium, calcification, cavity, ejection fraction, mitral, obliteration, outflow, regurgitation, relaxation pattern, stenosis, systolic function, tricuspid, valve, ventricular, ventricular cavity, wall motion, pulmonary artery</td>\n",
              "    </tr>\n",
              "  </tbody>\n",
              "</table>\n",
              "</div>"
            ],
            "text/plain": [
              "   Unnamed: 0  \\\n",
              "0           0   \n",
              "1           1   \n",
              "2           2   \n",
              "3           3   \n",
              "4           4   \n",
              "\n",
              "                                                        description  \\\n",
              "0  A 23-year-old white female presents with complaint of allergies.   \n",
              "1                          Consult for laparoscopic gastric bypass.   \n",
              "2                          Consult for laparoscopic gastric bypass.   \n",
              "3                                              2-D M-Mode. Doppler.   \n",
              "4                                                2-D Echocardiogram   \n",
              "\n",
              "            medical_specialty                              sample_name  \\\n",
              "0        Allergy / Immunology                        Allergic Rhinitis   \n",
              "1                  Bariatrics  Laparoscopic Gastric Bypass Consult - 2   \n",
              "2                  Bariatrics  Laparoscopic Gastric Bypass Consult - 1   \n",
              "3  Cardiovascular / Pulmonary                   2-D Echocardiogram - 1   \n",
              "4  Cardiovascular / Pulmonary                   2-D Echocardiogram - 2   \n",
              "\n",
              "                                                                                                                                                                                                                                                                                                                                                                                                                                                                                                                                                                                                             transcription  \\\n",
              "0  SUBJECTIVE:,  This 23-year-old white female presents with complaint of allergies.  She used to have allergies when she lived in Seattle but she thinks they are worse here.  In the past, she has tried Claritin, and Zyrtec.  Both worked for short time but then seemed to lose effectiveness.  She has used Allegra also.  She used that last summer and she began using it again two weeks ago.  It does not appear to be working very well.  She has used over-the-counter sprays but no prescription nasal sprays.  She does have asthma but doest not require daily medication for this and does not think it...   \n",
              "1  PAST MEDICAL HISTORY:, He has difficulty climbing stairs, difficulty with airline seats, tying shoes, used to public seating, and lifting objects off the floor.  He exercises three times a week at home and does cardio.  He has difficulty walking two blocks or five flights of stairs.  Difficulty with snoring.  He has muscle and joint pains including knee pain, back pain, foot and ankle pain, and swelling.  He has gastroesophageal reflux disease.,PAST SURGICAL HISTORY:, Includes reconstructive surgery on his right hand 13 years ago.  ,SOCIAL HISTORY:, He is currently single.  He has about te...   \n",
              "2  HISTORY OF PRESENT ILLNESS: , I have seen ABC today.  He is a very pleasant gentleman who is 42 years old, 344 pounds.  He is 5'9\".  He has a BMI of 51.  He has been overweight for ten years since the age of 33, at his highest he was 358 pounds, at his lowest 260.  He is pursuing surgical attempts of weight loss to feel good, get healthy, and begin to exercise again.  He wants to be able to exercise and play volleyball.  Physically, he is sluggish.  He gets tired quickly.  He does not go out often.  When he loses weight he always regains it and he gains back more than he lost.  His biggest...   \n",
              "3                                                                                                          2-D M-MODE: , ,1.  Left atrial enlargement with left atrial diameter of 4.7 cm.,2.  Normal size right and left ventricle.,3.  Normal LV systolic function with left ventricular ejection fraction of 51%.,4.  Normal LV diastolic function.,5.  No pericardial effusion.,6.  Normal morphology of aortic valve, mitral valve, tricuspid valve, and pulmonary valve.,7.  PA systolic pressure is 36 mmHg.,DOPPLER: , ,1.  Mild mitral and tricuspid regurgitation.,2.  Trace aortic and pulmonary regurgitation.   \n",
              "4  1.  The left ventricular cavity size and wall thickness appear normal.  The wall motion and left ventricular systolic function appears hyperdynamic with estimated ejection fraction of 70% to 75%.  There is near-cavity obliteration seen.  There also appears to be increased left ventricular outflow tract gradient at the mid cavity level consistent with hyperdynamic left ventricular systolic function.  There is abnormal left ventricular relaxation pattern seen as well as elevated left atrial pressures seen by Doppler examination.,2.  The left atrium appears mildly dilated.,3.  The right atriu...   \n",
              "\n",
              "                                                                                                                                                                                                                                                                                                                                  keywords  \n",
              "0                                                                                                                                                                                                      allergy / immunology, allergic rhinitis, allergies, asthma, nasal sprays, rhinitis, nasal, erythematous, allegra, sprays, allergic,  \n",
              "1                                                                                                 bariatrics, laparoscopic gastric bypass, weight loss programs, gastric bypass, atkin's diet, weight watcher's, body weight, laparoscopic gastric, weight loss, pounds, months, weight, laparoscopic, band, loss, diets, overweight, lost  \n",
              "2                                                                                              bariatrics, laparoscopic gastric bypass, heart attacks, body weight, pulmonary embolism, potential complications, sleep study, weight loss, gastric bypass, anastomosis, loss, sleep, laparoscopic, gastric, bypass, heart, pounds, weight,  \n",
              "3                                                                           cardiovascular / pulmonary, 2-d m-mode, doppler, aortic valve, atrial enlargement, diastolic function, ejection fraction, mitral, mitral valve, pericardial effusion, pulmonary valve, regurgitation, systolic function, tricuspid, tricuspid valve, normal lv  \n",
              "4  cardiovascular / pulmonary, 2-d, doppler, echocardiogram, annular, aortic root, aortic valve, atrial, atrium, calcification, cavity, ejection fraction, mitral, obliteration, outflow, regurgitation, relaxation pattern, stenosis, systolic function, tricuspid, valve, ventricular, ventricular cavity, wall motion, pulmonary artery  "
            ]
          },
          "metadata": {
            "tags": []
          },
          "execution_count": 9
        }
      ]
    },
    {
      "cell_type": "markdown",
      "metadata": {
        "id": "7b1afc98"
      },
      "source": [
        "A note on data cleanup. In the best case, a machine learning model can only be as good as the data provided. If data is of poor quality or inconsistent, it will be difficult to get good accuracy with your model.\n",
        "\n",
        "Let's review the really short transcription notes."
      ],
      "id": "7b1afc98"
    },
    {
      "cell_type": "code",
      "metadata": {
        "id": "9d6ca1fd"
      },
      "source": [
        "word_len = mtsamples.transcription.str.split(' ').str.len()"
      ],
      "id": "9d6ca1fd",
      "execution_count": 10,
      "outputs": []
    },
    {
      "cell_type": "code",
      "metadata": {
        "id": "b112b29d"
      },
      "source": [
        "mtsamples['num_words'] =  mtsamples.transcription.str.split(' ').str.len()"
      ],
      "id": "b112b29d",
      "execution_count": 11,
      "outputs": []
    },
    {
      "cell_type": "code",
      "metadata": {
        "colab": {
          "base_uri": "https://localhost:8080/"
        },
        "id": "5c20489c",
        "outputId": "07183f4c-24a0-4bd0-dd1e-758cd7b9e85f"
      },
      "source": [
        "word_len.median()"
      ],
      "id": "5c20489c",
      "execution_count": 12,
      "outputs": [
        {
          "output_type": "execute_result",
          "data": {
            "text/plain": [
              "425.0"
            ]
          },
          "metadata": {
            "tags": []
          },
          "execution_count": 12
        }
      ]
    },
    {
      "cell_type": "code",
      "metadata": {
        "colab": {
          "base_uri": "https://localhost:8080/"
        },
        "id": "ffd7336a",
        "outputId": "1f0806b9-1a8d-484d-a4c1-b621fa174edf"
      },
      "source": [
        "word_len.min()"
      ],
      "id": "ffd7336a",
      "execution_count": 13,
      "outputs": [
        {
          "output_type": "execute_result",
          "data": {
            "text/plain": [
              "1.0"
            ]
          },
          "metadata": {
            "tags": []
          },
          "execution_count": 13
        }
      ]
    },
    {
      "cell_type": "code",
      "metadata": {
        "colab": {
          "base_uri": "https://localhost:8080/",
          "height": 397
        },
        "id": "826d1bc7",
        "outputId": "a67a3413-9c6f-4d3e-ec4f-0cece3ac3ff6"
      },
      "source": [
        "print(f\"There are {len(mtsamples[mtsamples['num_words'] < 5])} records with short notes.\")\n",
        "mtsamples[mtsamples['num_words'] < 5].head()"
      ],
      "id": "826d1bc7",
      "execution_count": 14,
      "outputs": [
        {
          "output_type": "stream",
          "text": [
            "There are 16 records with short notes.\n"
          ],
          "name": "stdout"
        },
        {
          "output_type": "execute_result",
          "data": {
            "text/html": [
              "<div>\n",
              "<style scoped>\n",
              "    .dataframe tbody tr th:only-of-type {\n",
              "        vertical-align: middle;\n",
              "    }\n",
              "\n",
              "    .dataframe tbody tr th {\n",
              "        vertical-align: top;\n",
              "    }\n",
              "\n",
              "    .dataframe thead th {\n",
              "        text-align: right;\n",
              "    }\n",
              "</style>\n",
              "<table border=\"1\" class=\"dataframe\">\n",
              "  <thead>\n",
              "    <tr style=\"text-align: right;\">\n",
              "      <th></th>\n",
              "      <th>Unnamed: 0</th>\n",
              "      <th>description</th>\n",
              "      <th>medical_specialty</th>\n",
              "      <th>sample_name</th>\n",
              "      <th>transcription</th>\n",
              "      <th>keywords</th>\n",
              "      <th>num_words</th>\n",
              "    </tr>\n",
              "  </thead>\n",
              "  <tbody>\n",
              "    <tr>\n",
              "      <th>24</th>\n",
              "      <td>24</td>\n",
              "      <td>Blood in urine - Transitional cell cancer of the bladder.</td>\n",
              "      <td>Urology</td>\n",
              "      <td>Urology Consut - 1</td>\n",
              "      <td>CHIEF COMPLAINT:,</td>\n",
              "      <td>NaN</td>\n",
              "      <td>2.0</td>\n",
              "    </tr>\n",
              "    <tr>\n",
              "      <th>872</th>\n",
              "      <td>872</td>\n",
              "      <td>EGD with dilation for dysphagia.</td>\n",
              "      <td>Surgery</td>\n",
              "      <td>EGD with Dilation</td>\n",
              "      <td>INDICATION:  ,</td>\n",
              "      <td>surgery, egd, hurricaine spray, olympus endoscope, savary wire, cricopharyngeus, decubitus, dilator, duodenum, dysphagia, esophagus, hiatal hernia, peptic, pylorus, stomach, tortuosity, egd with dilation, tortuous, scope, hiatal, hernia,</td>\n",
              "      <td>3.0</td>\n",
              "    </tr>\n",
              "    <tr>\n",
              "      <th>1379</th>\n",
              "      <td>1379</td>\n",
              "      <td>Sample progress note - Gen Med.</td>\n",
              "      <td>SOAP / Chart / Progress Notes</td>\n",
              "      <td>Gen Med SOAP - 1</td>\n",
              "      <td>SUBJECTIVE:,</td>\n",
              "      <td>soap / chart / progress notes, progress note, clear to auscultation, s1, s2, s3, s4, blood pressure, clubbing, cyanosis, general medicine, peripheral edema, rubs, tenderness, abdomen, pressure, soap, blood</td>\n",
              "      <td>1.0</td>\n",
              "    </tr>\n",
              "    <tr>\n",
              "      <th>1525</th>\n",
              "      <td>1525</td>\n",
              "      <td>Dobutrex stress test for abnormal EKG</td>\n",
              "      <td>Radiology</td>\n",
              "      <td>Stress Test Dobutrex</td>\n",
              "      <td>INDICATIONS:,</td>\n",
              "      <td>radiology, dobutrex stress test, abnormal ekg, dobutrex, inferior abnormality, ischemic heart disease, ventricle, µg/kg/minute, stress test, stress,</td>\n",
              "      <td>1.0</td>\n",
              "    </tr>\n",
              "    <tr>\n",
              "      <th>1949</th>\n",
              "      <td>1949</td>\n",
              "      <td>Trigger Point Injection.  The area over the myofascial spasm was prepped with alcohol utilizing sterile technique.</td>\n",
              "      <td>Pain Management</td>\n",
              "      <td>Trigger Point Injection</td>\n",
              "      <td>OPERATION:,</td>\n",
              "      <td>pain management, myofascial spasm, trigger point injection, trigger, injection, spasm</td>\n",
              "      <td>1.0</td>\n",
              "    </tr>\n",
              "  </tbody>\n",
              "</table>\n",
              "</div>"
            ],
            "text/plain": [
              "      Unnamed: 0  \\\n",
              "24            24   \n",
              "872          872   \n",
              "1379        1379   \n",
              "1525        1525   \n",
              "1949        1949   \n",
              "\n",
              "                                                                                                             description  \\\n",
              "24                                                             Blood in urine - Transitional cell cancer of the bladder.   \n",
              "872                                                                                     EGD with dilation for dysphagia.   \n",
              "1379                                                                                     Sample progress note - Gen Med.   \n",
              "1525                                                                               Dobutrex stress test for abnormal EKG   \n",
              "1949  Trigger Point Injection.  The area over the myofascial spasm was prepped with alcohol utilizing sterile technique.   \n",
              "\n",
              "                  medical_specialty              sample_name  \\\n",
              "24                          Urology       Urology Consut - 1   \n",
              "872                         Surgery        EGD with Dilation   \n",
              "1379  SOAP / Chart / Progress Notes         Gen Med SOAP - 1   \n",
              "1525                      Radiology     Stress Test Dobutrex   \n",
              "1949                Pain Management  Trigger Point Injection   \n",
              "\n",
              "          transcription  \\\n",
              "24    CHIEF COMPLAINT:,   \n",
              "872      INDICATION:  ,   \n",
              "1379       SUBJECTIVE:,   \n",
              "1525      INDICATIONS:,   \n",
              "1949        OPERATION:,   \n",
              "\n",
              "                                                                                                                                                                                                                                           keywords  \\\n",
              "24                                                                                                                                                                                                                                              NaN   \n",
              "872   surgery, egd, hurricaine spray, olympus endoscope, savary wire, cricopharyngeus, decubitus, dilator, duodenum, dysphagia, esophagus, hiatal hernia, peptic, pylorus, stomach, tortuosity, egd with dilation, tortuous, scope, hiatal, hernia,   \n",
              "1379                                  soap / chart / progress notes, progress note, clear to auscultation, s1, s2, s3, s4, blood pressure, clubbing, cyanosis, general medicine, peripheral edema, rubs, tenderness, abdomen, pressure, soap, blood   \n",
              "1525                                                                                           radiology, dobutrex stress test, abnormal ekg, dobutrex, inferior abnormality, ischemic heart disease, ventricle, µg/kg/minute, stress test, stress,   \n",
              "1949                                                                                                                                                          pain management, myofascial spasm, trigger point injection, trigger, injection, spasm   \n",
              "\n",
              "      num_words  \n",
              "24          2.0  \n",
              "872         3.0  \n",
              "1379        1.0  \n",
              "1525        1.0  \n",
              "1949        1.0  "
            ]
          },
          "metadata": {
            "tags": []
          },
          "execution_count": 14
        }
      ]
    },
    {
      "cell_type": "code",
      "metadata": {
        "id": "4c8cd7fe"
      },
      "source": [
        "# drop transcripts with fewer than 5 words - they are not good notes\n",
        "mtsamples = mtsamples[mtsamples['num_words'] >= 5]"
      ],
      "id": "4c8cd7fe",
      "execution_count": 15,
      "outputs": []
    },
    {
      "cell_type": "code",
      "metadata": {
        "colab": {
          "base_uri": "https://localhost:8080/"
        },
        "id": "b3d3103b",
        "outputId": "3c0e7266-a265-4c84-d845-de54e2c0126a"
      },
      "source": [
        "mtsamples.medical_specialty.value_counts()"
      ],
      "id": "b3d3103b",
      "execution_count": 16,
      "outputs": [
        {
          "output_type": "execute_result",
          "data": {
            "text/plain": [
              "Surgery                          1087\n",
              "Consult - History and Phy.        515\n",
              "Cardiovascular / Pulmonary        370\n",
              "Orthopedic                        352\n",
              "Radiology                         272\n",
              "General Medicine                  258\n",
              "Neurology                         223\n",
              "Gastroenterology                  223\n",
              "SOAP / Chart / Progress Notes     165\n",
              "Obstetrics / Gynecology           155\n",
              "Urology                           155\n",
              "Discharge Summary                 108\n",
              "ENT - Otolaryngology               96\n",
              "Neurosurgery                       94\n",
              "Hematology - Oncology              90\n",
              "Ophthalmology                      83\n",
              "Nephrology                         81\n",
              "Emergency Room Reports             75\n",
              "Pediatrics - Neonatal              70\n",
              "Pain Management                    59\n",
              "Psychiatry / Psychology            53\n",
              "Office Notes                       48\n",
              "Podiatry                           47\n",
              "Dermatology                        29\n",
              "Dentistry                          27\n",
              "Cosmetic / Plastic Surgery         27\n",
              "Letters                            23\n",
              "Physical Medicine - Rehab          21\n",
              "Sleep Medicine                     20\n",
              "Endocrinology                      19\n",
              "Bariatrics                         18\n",
              "IME-QME-Work Comp etc.             16\n",
              "Chiropractic                       13\n",
              "Rheumatology                       10\n",
              "Diets and Nutritions               10\n",
              "Speech - Language                   9\n",
              "Autopsy                             8\n",
              "Lab Medicine - Pathology            8\n",
              "Allergy / Immunology                7\n",
              "Hospice - Palliative Care           6\n",
              "Name: medical_specialty, dtype: int64"
            ]
          },
          "metadata": {
            "tags": []
          },
          "execution_count": 16
        }
      ]
    },
    {
      "cell_type": "markdown",
      "metadata": {
        "id": "NeVfLvS5P2W3"
      },
      "source": [
        "All machine learning models require a few examples to be able to train from. In this dataset, we will combine those categories with 20 or less examples into an 'Other' category. Later those more rare categories can be dealt with separately."
      ],
      "id": "NeVfLvS5P2W3"
    },
    {
      "cell_type": "code",
      "metadata": {
        "colab": {
          "base_uri": "https://localhost:8080/"
        },
        "id": "6yl-ikvfRRcc",
        "outputId": "dfe6f752-fd76-40df-f3e7-e324db9c8d04"
      },
      "source": [
        "mtsamples.groupby(['medical_specialty'])['transcription'].transform('count')"
      ],
      "id": "6yl-ikvfRRcc",
      "execution_count": 17,
      "outputs": [
        {
          "output_type": "execute_result",
          "data": {
            "text/plain": [
              "0         7\n",
              "1        18\n",
              "2        18\n",
              "3       370\n",
              "4       370\n",
              "       ... \n",
              "4994      7\n",
              "4995      7\n",
              "4996      7\n",
              "4997      7\n",
              "4998      7\n",
              "Name: transcription, Length: 4950, dtype: int64"
            ]
          },
          "metadata": {
            "tags": []
          },
          "execution_count": 17
        }
      ]
    },
    {
      "cell_type": "code",
      "metadata": {
        "id": "m97stAsjP15E"
      },
      "source": [
        "mtsamples['counts'] = mtsamples.groupby(['medical_specialty'])['transcription'].transform('count')"
      ],
      "id": "m97stAsjP15E",
      "execution_count": 18,
      "outputs": []
    },
    {
      "cell_type": "code",
      "metadata": {
        "colab": {
          "base_uri": "https://localhost:8080/"
        },
        "id": "tfyBD4DHSSrf",
        "outputId": "33ed7696-4a4b-442e-d874-43ee7c69a1e8"
      },
      "source": [
        "mtsamples.loc[mtsamples['counts'] < 21, 'medical_specialty'] = 'Other'\n",
        "mtsamples.medical_specialty.value_counts()"
      ],
      "id": "tfyBD4DHSSrf",
      "execution_count": 19,
      "outputs": [
        {
          "output_type": "execute_result",
          "data": {
            "text/plain": [
              "Surgery                          1087\n",
              "Consult - History and Phy.        515\n",
              "Cardiovascular / Pulmonary        370\n",
              "Orthopedic                        352\n",
              "Radiology                         272\n",
              "General Medicine                  258\n",
              "Neurology                         223\n",
              "Gastroenterology                  223\n",
              "SOAP / Chart / Progress Notes     165\n",
              "Obstetrics / Gynecology           155\n",
              "Urology                           155\n",
              "Other                             144\n",
              "Discharge Summary                 108\n",
              "ENT - Otolaryngology               96\n",
              "Neurosurgery                       94\n",
              "Hematology - Oncology              90\n",
              "Ophthalmology                      83\n",
              "Nephrology                         81\n",
              "Emergency Room Reports             75\n",
              "Pediatrics - Neonatal              70\n",
              "Pain Management                    59\n",
              "Psychiatry / Psychology            53\n",
              "Office Notes                       48\n",
              "Podiatry                           47\n",
              "Dermatology                        29\n",
              "Cosmetic / Plastic Surgery         27\n",
              "Dentistry                          27\n",
              "Letters                            23\n",
              "Physical Medicine - Rehab          21\n",
              "Name: medical_specialty, dtype: int64"
            ]
          },
          "metadata": {
            "tags": []
          },
          "execution_count": 19
        }
      ]
    },
    {
      "cell_type": "code",
      "metadata": {
        "id": "jZ-A8IgI7Koa"
      },
      "source": [
        "mtsamples = mtsamples[mtsamples.counts > 20]"
      ],
      "id": "jZ-A8IgI7Koa",
      "execution_count": 20,
      "outputs": []
    },
    {
      "cell_type": "code",
      "metadata": {
        "colab": {
          "base_uri": "https://localhost:8080/"
        },
        "id": "zaArdToy8gP1",
        "outputId": "b61a8561-922f-48ab-9a0d-8f07a3ff4a80"
      },
      "source": [
        "mtsamples.medical_specialty.value_counts()"
      ],
      "id": "zaArdToy8gP1",
      "execution_count": 21,
      "outputs": [
        {
          "output_type": "execute_result",
          "data": {
            "text/plain": [
              "Surgery                          1087\n",
              "Consult - History and Phy.        515\n",
              "Cardiovascular / Pulmonary        370\n",
              "Orthopedic                        352\n",
              "Radiology                         272\n",
              "General Medicine                  258\n",
              "Neurology                         223\n",
              "Gastroenterology                  223\n",
              "SOAP / Chart / Progress Notes     165\n",
              "Obstetrics / Gynecology           155\n",
              "Urology                           155\n",
              "Discharge Summary                 108\n",
              "ENT - Otolaryngology               96\n",
              "Neurosurgery                       94\n",
              "Hematology - Oncology              90\n",
              "Ophthalmology                      83\n",
              "Nephrology                         81\n",
              "Emergency Room Reports             75\n",
              "Pediatrics - Neonatal              70\n",
              "Pain Management                    59\n",
              "Psychiatry / Psychology            53\n",
              "Office Notes                       48\n",
              "Podiatry                           47\n",
              "Dermatology                        29\n",
              "Cosmetic / Plastic Surgery         27\n",
              "Dentistry                          27\n",
              "Letters                            23\n",
              "Physical Medicine - Rehab          21\n",
              "Name: medical_specialty, dtype: int64"
            ]
          },
          "metadata": {
            "tags": []
          },
          "execution_count": 21
        }
      ]
    },
    {
      "cell_type": "markdown",
      "metadata": {
        "id": "BsZi05Y0EUdc"
      },
      "source": [
        "### Setup objects for Language Model Training"
      ],
      "id": "BsZi05Y0EUdc"
    },
    {
      "cell_type": "markdown",
      "metadata": {
        "id": "24fb6dc2"
      },
      "source": [
        "This is one way to load the data for training - it's more simple, but you have less control.\n",
        "\n",
        "```python\n",
        "TextDataLoaders.from_df(mtsamples,\n",
        "                        valid_pct=0.2,\n",
        "                        seed=42,\n",
        "                        text_col='transcription',\n",
        "                        label_col='medical_specialty',\n",
        "                        seq_len=72)\n",
        "```"
      ],
      "id": "24fb6dc2"
    },
    {
      "cell_type": "code",
      "metadata": {
        "id": "b4a65e61"
      },
      "source": [
        "dls_lm = DataBlock(\n",
        "    blocks=TextBlock.from_df('transcription', is_lm=True),\n",
        "    get_x=ColReader('text'),\n",
        "    splitter=TrainTestSplitter(test_size=0.2,\n",
        "                               random_state=42)\n",
        ")"
      ],
      "id": "b4a65e61",
      "execution_count": 22,
      "outputs": []
    },
    {
      "cell_type": "code",
      "metadata": {
        "colab": {
          "base_uri": "https://localhost:8080/",
          "height": 72
        },
        "id": "fc358b72",
        "outputId": "9c0142c2-6e97-4684-fce1-9a99bf810c35"
      },
      "source": [
        "# This cell takes 1 - 2 minutes\n",
        "# when using seq_len of 256, bs of 128 fits in GPU memory, bs 256 does not fit\n",
        "# when using seq_len of 512, bs of 64 fits in GPU memory, bs 128 does not fit\n",
        "dls_lm = dls_lm.dataloaders(mtsamples, bs=32, seq_len=sequence_length)"
      ],
      "id": "fc358b72",
      "execution_count": 23,
      "outputs": [
        {
          "output_type": "display_data",
          "data": {
            "text/html": [
              ""
            ],
            "text/plain": [
              "<IPython.core.display.HTML object>"
            ]
          },
          "metadata": {
            "tags": []
          }
        },
        {
          "output_type": "stream",
          "text": [
            "/usr/local/lib/python3.7/dist-packages/numpy/core/_asarray.py:83: VisibleDeprecationWarning: Creating an ndarray from ragged nested sequences (which is a list-or-tuple of lists-or-tuples-or ndarrays with different lengths or shapes) is deprecated. If you meant to do this, you must specify 'dtype=object' when creating the ndarray\n",
            "  return array(a, dtype, copy=False, order=order)\n"
          ],
          "name": "stderr"
        }
      ]
    },
    {
      "cell_type": "markdown",
      "metadata": {
        "id": "adxARtIOD_os"
      },
      "source": [
        "## Train the language Model\n",
        "\n",
        "This portion can be skipped if done previously"
      ],
      "id": "adxARtIOD_os"
    },
    {
      "cell_type": "code",
      "metadata": {
        "id": "9e3337c6"
      },
      "source": [
        "# if changes in the above were made (such as batch size), it may be beneficial to purge GPU memory\n",
        "gc.collect()\n",
        "torch.cuda.empty_cache()\n",
        "gc.collect()\n",
        "torch.cuda.empty_cache()"
      ],
      "id": "9e3337c6",
      "execution_count": 24,
      "outputs": []
    },
    {
      "cell_type": "code",
      "metadata": {
        "colab": {
          "base_uri": "https://localhost:8080/",
          "height": 355
        },
        "id": "49354b58",
        "outputId": "80222535-c0c2-4f04-ba2c-3b96caba2b05"
      },
      "source": [
        "dls_lm.show_batch(max_n=2)"
      ],
      "id": "49354b58",
      "execution_count": 25,
      "outputs": [
        {
          "output_type": "display_data",
          "data": {
            "text/html": [
              "<table border=\"1\" class=\"dataframe\">\n",
              "  <thead>\n",
              "    <tr style=\"text-align: right;\">\n",
              "      <th></th>\n",
              "      <th>text</th>\n",
              "      <th>text_</th>\n",
              "    </tr>\n",
              "  </thead>\n",
              "  <tbody>\n",
              "    <tr>\n",
              "      <th>0</th>\n",
              "      <td>xxbos xxup chief xxup complaint ( 1 / 1 ) : , xxmaj this 62 year old female presents today for evaluation of angina . ,associated signs and symptoms : xxmaj associated signs and symptoms include chest pain , nausea , pain radiating to the arm and pain radiating to the jaw . xxunk : xxmaj the patient has had no previous treatments for this condition . ,duration : xxmaj condition has existed for 5 hours . ,quality : xxmaj quality of the pain is described by the patient as crushing . xxunk : xxmaj severity of condition is severe and unchanged . xxunk ( onset / frequency ) : xxmaj onset was sudden and with exercise . xxmaj patient has the following coronary risk factors : smoking 1 packs / day for 40 years and elevated cholesterol for 5 years . xxmaj patient 's elevated cholesterol is not being</td>\n",
              "      <td>xxup chief xxup complaint ( 1 / 1 ) : , xxmaj this 62 year old female presents today for evaluation of angina . ,associated signs and symptoms : xxmaj associated signs and symptoms include chest pain , nausea , pain radiating to the arm and pain radiating to the jaw . xxunk : xxmaj the patient has had no previous treatments for this condition . ,duration : xxmaj condition has existed for 5 hours . ,quality : xxmaj quality of the pain is described by the patient as crushing . xxunk : xxmaj severity of condition is severe and unchanged . xxunk ( onset / frequency ) : xxmaj onset was sudden and with exercise . xxmaj patient has the following coronary risk factors : smoking 1 packs / day for 40 years and elevated cholesterol for 5 years . xxmaj patient 's elevated cholesterol is not being treated</td>\n",
              "    </tr>\n",
              "    <tr>\n",
              "      <th>1</th>\n",
              "      <td>colonoscopy . xxmaj she is xxup g4 , xxup p3 , with no cesarean section . ,review xxup of xxup systems : , heent : xxmaj for headaches and sore throat . xxmaj musculoskeletal : xxmaj she is right handed with joint pain , stiffness , and decreased range of motion . xxmaj cardiac : xxmaj for heart murmur . xxup gi : xxmaj negative and noncontributory . xxmaj respiratory : xxmaj negative and noncontributory . xxmaj urinary : xxmaj negative and noncontributory . hem - onc : xxmaj negative and noncontributory . xxmaj vascular : xxmaj negative and noncontributory . xxmaj psychiatric : xxmaj negative and noncontributory . xxmaj genital : xxmaj negative and noncontributory . xxmaj she denies any bowel or bladder dysfunction or loss of sensation in her genital area . ,physical xxup examination : , xxmaj she is 5 feet 2 inches tall . xxmaj current</td>\n",
              "      <td>. xxmaj she is xxup g4 , xxup p3 , with no cesarean section . ,review xxup of xxup systems : , heent : xxmaj for headaches and sore throat . xxmaj musculoskeletal : xxmaj she is right handed with joint pain , stiffness , and decreased range of motion . xxmaj cardiac : xxmaj for heart murmur . xxup gi : xxmaj negative and noncontributory . xxmaj respiratory : xxmaj negative and noncontributory . xxmaj urinary : xxmaj negative and noncontributory . hem - onc : xxmaj negative and noncontributory . xxmaj vascular : xxmaj negative and noncontributory . xxmaj psychiatric : xxmaj negative and noncontributory . xxmaj genital : xxmaj negative and noncontributory . xxmaj she denies any bowel or bladder dysfunction or loss of sensation in her genital area . ,physical xxup examination : , xxmaj she is 5 feet 2 inches tall . xxmaj current weight</td>\n",
              "    </tr>\n",
              "  </tbody>\n",
              "</table>"
            ],
            "text/plain": [
              "<IPython.core.display.HTML object>"
            ]
          },
          "metadata": {
            "tags": []
          }
        }
      ]
    },
    {
      "cell_type": "code",
      "metadata": {
        "colab": {
          "base_uri": "https://localhost:8080/",
          "height": 17
        },
        "id": "d642f450",
        "outputId": "e6183f4f-acd1-4a75-cbf6-e47bb3f1433b"
      },
      "source": [
        "lm_learn = language_model_learner(\n",
        "    dls_lm,\n",
        "    AWD_LSTM,\n",
        "    model_dir=fastbook.gdrive / Path('data'),\n",
        "    drop_mult=0.3,\n",
        "    metrics=[accuracy, Perplexity()]).to_fp16()"
      ],
      "id": "d642f450",
      "execution_count": 26,
      "outputs": [
        {
          "output_type": "display_data",
          "data": {
            "text/html": [
              ""
            ],
            "text/plain": [
              "<IPython.core.display.HTML object>"
            ]
          },
          "metadata": {
            "tags": []
          }
        }
      ]
    },
    {
      "cell_type": "code",
      "metadata": {
        "colab": {
          "base_uri": "https://localhost:8080/",
          "height": 81
        },
        "id": "915814fd",
        "outputId": "3530936c-45a5-464b-fbff-cf99646d7cdd"
      },
      "source": [
        "# on macbook this cell takes 40 minues\n",
        "# on GPU machine this cell takes about 1 minute\n",
        "lm_learn.fit_one_cycle(1, 2e-2)"
      ],
      "id": "915814fd",
      "execution_count": 27,
      "outputs": [
        {
          "output_type": "display_data",
          "data": {
            "text/html": [
              "<table border=\"1\" class=\"dataframe\">\n",
              "  <thead>\n",
              "    <tr style=\"text-align: left;\">\n",
              "      <th>epoch</th>\n",
              "      <th>train_loss</th>\n",
              "      <th>valid_loss</th>\n",
              "      <th>accuracy</th>\n",
              "      <th>perplexity</th>\n",
              "      <th>time</th>\n",
              "    </tr>\n",
              "  </thead>\n",
              "  <tbody>\n",
              "    <tr>\n",
              "      <td>0</td>\n",
              "      <td>3.296636</td>\n",
              "      <td>2.982498</td>\n",
              "      <td>0.441904</td>\n",
              "      <td>19.737053</td>\n",
              "      <td>01:06</td>\n",
              "    </tr>\n",
              "  </tbody>\n",
              "</table>"
            ],
            "text/plain": [
              "<IPython.core.display.HTML object>"
            ]
          },
          "metadata": {
            "tags": []
          }
        }
      ]
    },
    {
      "cell_type": "code",
      "metadata": {
        "colab": {
          "base_uri": "https://localhost:8080/"
        },
        "id": "a60d5389",
        "outputId": "642c61f2-9749-4d80-df00-668b050b714f"
      },
      "source": [
        "lm_learn.save('1stepoch')\n",
        "# can load already saved trained model with\n",
        "# learn.load('1stepoch')"
      ],
      "id": "a60d5389",
      "execution_count": 28,
      "outputs": [
        {
          "output_type": "execute_result",
          "data": {
            "text/plain": [
              "Path('/content/gdrive/My Drive/data/1stepoch.pth')"
            ]
          },
          "metadata": {
            "tags": []
          },
          "execution_count": 28
        }
      ]
    },
    {
      "cell_type": "code",
      "metadata": {
        "id": "d41db8bc"
      },
      "source": [
        "# if changes in the above were made (such as batch size), it may be beneficial to purge GPU memory\n",
        "# gc.collect()\n",
        "# torch.cuda.empty_cache()\n",
        "# gc.collect()\n",
        "# torch.cuda.empty_cache()"
      ],
      "id": "d41db8bc",
      "execution_count": 29,
      "outputs": []
    },
    {
      "cell_type": "code",
      "metadata": {
        "colab": {
          "base_uri": "https://localhost:8080/",
          "height": 990
        },
        "id": "6f857a0a",
        "outputId": "3ba759f0-e7d2-4bc7-978d-86d1f710caac"
      },
      "source": [
        "lm_learn.unfreeze()\n",
        "lm_learn.fit_one_cycle(30, 2e-3)"
      ],
      "id": "6f857a0a",
      "execution_count": 30,
      "outputs": [
        {
          "output_type": "display_data",
          "data": {
            "text/html": [
              "<table border=\"1\" class=\"dataframe\">\n",
              "  <thead>\n",
              "    <tr style=\"text-align: left;\">\n",
              "      <th>epoch</th>\n",
              "      <th>train_loss</th>\n",
              "      <th>valid_loss</th>\n",
              "      <th>accuracy</th>\n",
              "      <th>perplexity</th>\n",
              "      <th>time</th>\n",
              "    </tr>\n",
              "  </thead>\n",
              "  <tbody>\n",
              "    <tr>\n",
              "      <td>0</td>\n",
              "      <td>2.882909</td>\n",
              "      <td>2.877978</td>\n",
              "      <td>0.454041</td>\n",
              "      <td>17.778282</td>\n",
              "      <td>01:14</td>\n",
              "    </tr>\n",
              "    <tr>\n",
              "      <td>1</td>\n",
              "      <td>2.791034</td>\n",
              "      <td>2.769066</td>\n",
              "      <td>0.467733</td>\n",
              "      <td>15.943729</td>\n",
              "      <td>01:13</td>\n",
              "    </tr>\n",
              "    <tr>\n",
              "      <td>2</td>\n",
              "      <td>2.664852</td>\n",
              "      <td>2.638365</td>\n",
              "      <td>0.484761</td>\n",
              "      <td>13.990305</td>\n",
              "      <td>01:13</td>\n",
              "    </tr>\n",
              "    <tr>\n",
              "      <td>3</td>\n",
              "      <td>2.508491</td>\n",
              "      <td>2.493161</td>\n",
              "      <td>0.504319</td>\n",
              "      <td>12.099459</td>\n",
              "      <td>01:13</td>\n",
              "    </tr>\n",
              "    <tr>\n",
              "      <td>4</td>\n",
              "      <td>2.334734</td>\n",
              "      <td>2.321356</td>\n",
              "      <td>0.529879</td>\n",
              "      <td>10.189485</td>\n",
              "      <td>01:14</td>\n",
              "    </tr>\n",
              "    <tr>\n",
              "      <td>5</td>\n",
              "      <td>2.121944</td>\n",
              "      <td>2.162823</td>\n",
              "      <td>0.554982</td>\n",
              "      <td>8.695648</td>\n",
              "      <td>01:13</td>\n",
              "    </tr>\n",
              "    <tr>\n",
              "      <td>6</td>\n",
              "      <td>1.912671</td>\n",
              "      <td>1.993129</td>\n",
              "      <td>0.585764</td>\n",
              "      <td>7.338458</td>\n",
              "      <td>01:14</td>\n",
              "    </tr>\n",
              "    <tr>\n",
              "      <td>7</td>\n",
              "      <td>1.706861</td>\n",
              "      <td>1.831785</td>\n",
              "      <td>0.617578</td>\n",
              "      <td>6.245022</td>\n",
              "      <td>01:13</td>\n",
              "    </tr>\n",
              "    <tr>\n",
              "      <td>8</td>\n",
              "      <td>1.510077</td>\n",
              "      <td>1.700571</td>\n",
              "      <td>0.643784</td>\n",
              "      <td>5.477075</td>\n",
              "      <td>01:14</td>\n",
              "    </tr>\n",
              "    <tr>\n",
              "      <td>9</td>\n",
              "      <td>1.361713</td>\n",
              "      <td>1.574467</td>\n",
              "      <td>0.670547</td>\n",
              "      <td>4.828168</td>\n",
              "      <td>01:13</td>\n",
              "    </tr>\n",
              "    <tr>\n",
              "      <td>10</td>\n",
              "      <td>1.199761</td>\n",
              "      <td>1.465352</td>\n",
              "      <td>0.696896</td>\n",
              "      <td>4.329067</td>\n",
              "      <td>01:13</td>\n",
              "    </tr>\n",
              "    <tr>\n",
              "      <td>11</td>\n",
              "      <td>1.064588</td>\n",
              "      <td>1.365265</td>\n",
              "      <td>0.720124</td>\n",
              "      <td>3.916761</td>\n",
              "      <td>01:14</td>\n",
              "    </tr>\n",
              "    <tr>\n",
              "      <td>12</td>\n",
              "      <td>0.972953</td>\n",
              "      <td>1.281758</td>\n",
              "      <td>0.740132</td>\n",
              "      <td>3.602968</td>\n",
              "      <td>01:14</td>\n",
              "    </tr>\n",
              "    <tr>\n",
              "      <td>13</td>\n",
              "      <td>0.881165</td>\n",
              "      <td>1.208813</td>\n",
              "      <td>0.759112</td>\n",
              "      <td>3.349507</td>\n",
              "      <td>01:13</td>\n",
              "    </tr>\n",
              "    <tr>\n",
              "      <td>14</td>\n",
              "      <td>0.795285</td>\n",
              "      <td>1.149557</td>\n",
              "      <td>0.775685</td>\n",
              "      <td>3.156794</td>\n",
              "      <td>01:13</td>\n",
              "    </tr>\n",
              "    <tr>\n",
              "      <td>15</td>\n",
              "      <td>0.710589</td>\n",
              "      <td>1.081439</td>\n",
              "      <td>0.794081</td>\n",
              "      <td>2.948920</td>\n",
              "      <td>01:13</td>\n",
              "    </tr>\n",
              "    <tr>\n",
              "      <td>16</td>\n",
              "      <td>0.666049</td>\n",
              "      <td>1.027446</td>\n",
              "      <td>0.809375</td>\n",
              "      <td>2.793921</td>\n",
              "      <td>01:13</td>\n",
              "    </tr>\n",
              "    <tr>\n",
              "      <td>17</td>\n",
              "      <td>0.609038</td>\n",
              "      <td>0.985899</td>\n",
              "      <td>0.821139</td>\n",
              "      <td>2.680220</td>\n",
              "      <td>01:13</td>\n",
              "    </tr>\n",
              "    <tr>\n",
              "      <td>18</td>\n",
              "      <td>0.547376</td>\n",
              "      <td>0.944473</td>\n",
              "      <td>0.833048</td>\n",
              "      <td>2.571457</td>\n",
              "      <td>01:13</td>\n",
              "    </tr>\n",
              "    <tr>\n",
              "      <td>19</td>\n",
              "      <td>0.514898</td>\n",
              "      <td>0.915675</td>\n",
              "      <td>0.841887</td>\n",
              "      <td>2.498460</td>\n",
              "      <td>01:13</td>\n",
              "    </tr>\n",
              "    <tr>\n",
              "      <td>20</td>\n",
              "      <td>0.482601</td>\n",
              "      <td>0.887827</td>\n",
              "      <td>0.849886</td>\n",
              "      <td>2.429843</td>\n",
              "      <td>01:13</td>\n",
              "    </tr>\n",
              "    <tr>\n",
              "      <td>21</td>\n",
              "      <td>0.445504</td>\n",
              "      <td>0.865112</td>\n",
              "      <td>0.856573</td>\n",
              "      <td>2.375273</td>\n",
              "      <td>01:13</td>\n",
              "    </tr>\n",
              "    <tr>\n",
              "      <td>22</td>\n",
              "      <td>0.409308</td>\n",
              "      <td>0.845702</td>\n",
              "      <td>0.862500</td>\n",
              "      <td>2.329613</td>\n",
              "      <td>01:13</td>\n",
              "    </tr>\n",
              "    <tr>\n",
              "      <td>23</td>\n",
              "      <td>0.388725</td>\n",
              "      <td>0.831521</td>\n",
              "      <td>0.866773</td>\n",
              "      <td>2.296810</td>\n",
              "      <td>01:12</td>\n",
              "    </tr>\n",
              "    <tr>\n",
              "      <td>24</td>\n",
              "      <td>0.360715</td>\n",
              "      <td>0.820977</td>\n",
              "      <td>0.870013</td>\n",
              "      <td>2.272720</td>\n",
              "      <td>01:13</td>\n",
              "    </tr>\n",
              "    <tr>\n",
              "      <td>25</td>\n",
              "      <td>0.348538</td>\n",
              "      <td>0.814919</td>\n",
              "      <td>0.872317</td>\n",
              "      <td>2.258992</td>\n",
              "      <td>01:13</td>\n",
              "    </tr>\n",
              "    <tr>\n",
              "      <td>26</td>\n",
              "      <td>0.353415</td>\n",
              "      <td>0.810253</td>\n",
              "      <td>0.873637</td>\n",
              "      <td>2.248477</td>\n",
              "      <td>01:13</td>\n",
              "    </tr>\n",
              "    <tr>\n",
              "      <td>27</td>\n",
              "      <td>0.361553</td>\n",
              "      <td>0.807438</td>\n",
              "      <td>0.874237</td>\n",
              "      <td>2.242157</td>\n",
              "      <td>01:13</td>\n",
              "    </tr>\n",
              "    <tr>\n",
              "      <td>28</td>\n",
              "      <td>0.344676</td>\n",
              "      <td>0.806731</td>\n",
              "      <td>0.874762</td>\n",
              "      <td>2.240571</td>\n",
              "      <td>01:13</td>\n",
              "    </tr>\n",
              "    <tr>\n",
              "      <td>29</td>\n",
              "      <td>0.343053</td>\n",
              "      <td>0.806705</td>\n",
              "      <td>0.874827</td>\n",
              "      <td>2.240513</td>\n",
              "      <td>01:13</td>\n",
              "    </tr>\n",
              "  </tbody>\n",
              "</table>"
            ],
            "text/plain": [
              "<IPython.core.display.HTML object>"
            ]
          },
          "metadata": {
            "tags": []
          }
        }
      ]
    },
    {
      "cell_type": "code",
      "metadata": {
        "id": "eefe4759"
      },
      "source": [
        "lm_learn.save_encoder('finetuned')\n",
        "# can load with\n",
        "# lm_learn.load('finetuned')"
      ],
      "id": "eefe4759",
      "execution_count": 31,
      "outputs": []
    },
    {
      "cell_type": "markdown",
      "metadata": {
        "id": "deab493b"
      },
      "source": [
        "## Now build a text classifier\n",
        "\n",
        "Now that we have finetuned a language model based on our actual text let's build a classifier to identify the medical specialty of the transcription notes. As shown previously in this dataset, some specialties are more represented than others. Split data such that training and testing data sets are balanced based on specialty."
      ],
      "id": "deab493b"
    },
    {
      "cell_type": "code",
      "metadata": {
        "id": "982bac9a",
        "colab": {
          "base_uri": "https://localhost:8080/",
          "height": 92
        },
        "outputId": "197fa694-30e6-471f-d8c0-6e964380a225"
      },
      "source": [
        "# this cell takes about 2 minutes to run\n",
        "dls_clas = DataBlock(\n",
        "    blocks=(TextBlock.from_df('transcription', vocab=dls_lm.vocab), CategoryBlock),\n",
        "    get_x=ColReader('text'),\n",
        "    get_y=ColReader('medical_specialty'),\n",
        "    splitter=TrainTestSplitter(test_size=0.2,\n",
        "                               random_state=42,\n",
        "                               stratify=mtsamples.medical_specialty)\n",
        ").dataloaders(mtsamples, bs=128, seq_len=sequence_length)"
      ],
      "id": "982bac9a",
      "execution_count": 32,
      "outputs": [
        {
          "output_type": "display_data",
          "data": {
            "text/html": [
              "\n",
              "    <div>\n",
              "        <style>\n",
              "            /* Turns off some styling */\n",
              "            progress {\n",
              "                /* gets rid of default border in Firefox and Opera. */\n",
              "                border: none;\n",
              "                /* Needs to be in here for Safari polyfill so background images work as expected. */\n",
              "                background-size: auto;\n",
              "            }\n",
              "            .progress-bar-interrupted, .progress-bar-interrupted::-webkit-progress-bar {\n",
              "                background: #F44336;\n",
              "            }\n",
              "        </style>\n",
              "      <progress value='397' class='' max='4806' style='width:300px; height:20px; vertical-align: middle;'></progress>\n",
              "      8.26% [397/4806 00:09<01:43]\n",
              "    </div>\n",
              "    "
            ],
            "text/plain": [
              "<IPython.core.display.HTML object>"
            ]
          },
          "metadata": {
            "tags": []
          }
        },
        {
          "output_type": "display_data",
          "data": {
            "text/html": [
              ""
            ],
            "text/plain": [
              "<IPython.core.display.HTML object>"
            ]
          },
          "metadata": {
            "tags": []
          }
        },
        {
          "output_type": "stream",
          "text": [
            "/usr/local/lib/python3.7/dist-packages/numpy/core/_asarray.py:83: VisibleDeprecationWarning: Creating an ndarray from ragged nested sequences (which is a list-or-tuple of lists-or-tuples-or ndarrays with different lengths or shapes) is deprecated. If you meant to do this, you must specify 'dtype=object' when creating the ndarray\n",
            "  return array(a, dtype, copy=False, order=order)\n"
          ],
          "name": "stderr"
        }
      ]
    },
    {
      "cell_type": "code",
      "metadata": {
        "id": "e62acb3b",
        "colab": {
          "base_uri": "https://localhost:8080/",
          "height": 216
        },
        "outputId": "69377863-8126-4f6a-ef89-1abea1d250e6"
      },
      "source": [
        "dls_clas.show_batch(max_n=2)"
      ],
      "id": "e62acb3b",
      "execution_count": 33,
      "outputs": [
        {
          "output_type": "display_data",
          "data": {
            "text/html": [
              "<table border=\"1\" class=\"dataframe\">\n",
              "  <thead>\n",
              "    <tr style=\"text-align: right;\">\n",
              "      <th></th>\n",
              "      <th>text</th>\n",
              "      <th>category</th>\n",
              "    </tr>\n",
              "  </thead>\n",
              "  <tbody>\n",
              "    <tr>\n",
              "      <th>0</th>\n",
              "      <td>xxbos xxup date xxup of xxup injury : xxmaj october 4 , 2 xxrep 3 0 , date xxup of xxup examination : xxmaj september 5 , xxunk xxup physician : x xxup y , md , prior to the beginning of the examination , it is explained to the examinee that this examination is intended for evaluative purposes only , and that it is not intended to xxunk a general medical examination . xxmaj it is explained to the examinee that the traditional doctor - patient relationship does not apply to this examination , and that a written report will be provided to the agency requesting this examination . xxmaj it has also been emphasized to the examinee that he should not attempt any physical activity beyond his tolerance , in order to avoid injury . ,chief xxup complaint : , aching and mid back pain . ,history xxup</td>\n",
              "      <td>Letters</td>\n",
              "    </tr>\n",
              "    <tr>\n",
              "      <th>1</th>\n",
              "      <td>xxbos xxup history xxup of xxup present xxup illness : , the patient is a 79-year - old right - handed man who reports that approximately one and a half years ago , he fell down while walking in the living room from the bedroom . xxmaj at that time , he reports both legs gave away on him and he fell . xxmaj he reported that he had some lightheadedness just before he fell and was slightly confused , but was aware of what was happening around him . xxmaj he was able to get up shortly after falling and according to the patient and his son , subsequently returned back to normal . ,he was then well until the 3rd of xxmaj july 2008 when his legs again gave way on him . xxmaj this was not preceded by lightheadedness . xxmaj he was rushed to the hospital</td>\n",
              "      <td>Consult - History and Phy.</td>\n",
              "    </tr>\n",
              "  </tbody>\n",
              "</table>"
            ],
            "text/plain": [
              "<IPython.core.display.HTML object>"
            ]
          },
          "metadata": {
            "tags": []
          }
        }
      ]
    },
    {
      "cell_type": "code",
      "metadata": {
        "id": "ac12345f"
      },
      "source": [
        "learn = text_classifier_learner(\n",
        "    dls_clas,\n",
        "    AWD_LSTM,\n",
        "    drop_mult=0.3,\n",
        "    metrics=accuracy,\n",
        "    model_dir=fastbook.gdrive / Path('data')).to_fp16()"
      ],
      "id": "ac12345f",
      "execution_count": 34,
      "outputs": []
    },
    {
      "cell_type": "code",
      "metadata": {
        "id": "8c2a043a"
      },
      "source": [
        "# load the encoder used for the language model - must be the same to build off language model.\n",
        "learn = learn.load_encoder('finetuned')"
      ],
      "id": "8c2a043a",
      "execution_count": 35,
      "outputs": []
    },
    {
      "cell_type": "code",
      "metadata": {
        "id": "eMmosjDCzBT2",
        "colab": {
          "base_uri": "https://localhost:8080/",
          "height": 306
        },
        "outputId": "dd6daf07-112d-4725-8a39-466c495bcb52"
      },
      "source": [
        "# attempt to find a decent learning rate for this dataset\n",
        "learn.lr_find()"
      ],
      "id": "eMmosjDCzBT2",
      "execution_count": 36,
      "outputs": [
        {
          "output_type": "display_data",
          "data": {
            "text/html": [
              ""
            ],
            "text/plain": [
              "<IPython.core.display.HTML object>"
            ]
          },
          "metadata": {
            "tags": []
          }
        },
        {
          "output_type": "execute_result",
          "data": {
            "text/plain": [
              "SuggestedLRs(lr_min=0.04365158379077912, lr_steep=0.007585775572806597)"
            ]
          },
          "metadata": {
            "tags": []
          },
          "execution_count": 36
        },
        {
          "output_type": "display_data",
          "data": {
            "image/png": "[encoded data removed]",
            "text/plain": [
              "<Figure size 432x288 with 1 Axes>"
            ]
          },
          "metadata": {
            "tags": [],
            "needs_background": "light"
          }
        }
      ]
    },
    {
      "cell_type": "code",
      "metadata": {
        "id": "e3b92d1a"
      },
      "source": [
        "learn.fit_one_cycle(10, 3e-2)"
      ],
      "id": "e3b92d1a",
      "execution_count": null,
      "outputs": []
    },
    {
      "cell_type": "code",
      "metadata": {
        "id": "3a1pZpOB0KsU"
      },
      "source": [
        "learn.save('class_part_1')"
      ],
      "id": "3a1pZpOB0KsU",
      "execution_count": null,
      "outputs": []
    },
    {
      "cell_type": "code",
      "metadata": {
        "id": "8mYtXu2nvhat"
      },
      "source": [
        "learn.freeze_to(-2)\n",
        "learn.fit_one_cycle(10, slice(1e-2/(2.6**4),1e-2))"
      ],
      "id": "8mYtXu2nvhat",
      "execution_count": null,
      "outputs": []
    },
    {
      "cell_type": "code",
      "metadata": {
        "id": "majRrG7C0SKJ"
      },
      "source": [
        "learn.save('class_part_2')"
      ],
      "id": "majRrG7C0SKJ",
      "execution_count": null,
      "outputs": []
    },
    {
      "cell_type": "code",
      "metadata": {
        "id": "prnKbBnZvnwr",
        "colab": {
          "base_uri": "https://localhost:8080/",
          "height": 363
        },
        "outputId": "917eedde-5592-40ea-a731-5ac5e1973c44"
      },
      "source": [
        "learn.freeze_to(-3)\n",
        "learn.fit_one_cycle(10, slice(5e-3/(2.6**4),5e-3))"
      ],
      "id": "prnKbBnZvnwr",
      "execution_count": 41,
      "outputs": [
        {
          "output_type": "display_data",
          "data": {
            "text/html": [
              "<table border=\"1\" class=\"dataframe\">\n",
              "  <thead>\n",
              "    <tr style=\"text-align: left;\">\n",
              "      <th>epoch</th>\n",
              "      <th>train_loss</th>\n",
              "      <th>valid_loss</th>\n",
              "      <th>accuracy</th>\n",
              "      <th>time</th>\n",
              "    </tr>\n",
              "  </thead>\n",
              "  <tbody>\n",
              "    <tr>\n",
              "      <td>0</td>\n",
              "      <td>0.881601</td>\n",
              "      <td>2.390136</td>\n",
              "      <td>0.144491</td>\n",
              "      <td>00:21</td>\n",
              "    </tr>\n",
              "    <tr>\n",
              "      <td>1</td>\n",
              "      <td>0.882918</td>\n",
              "      <td>2.437767</td>\n",
              "      <td>0.155925</td>\n",
              "      <td>00:21</td>\n",
              "    </tr>\n",
              "    <tr>\n",
              "      <td>2</td>\n",
              "      <td>0.909385</td>\n",
              "      <td>2.610116</td>\n",
              "      <td>0.159044</td>\n",
              "      <td>00:21</td>\n",
              "    </tr>\n",
              "    <tr>\n",
              "      <td>3</td>\n",
              "      <td>0.923810</td>\n",
              "      <td>2.621238</td>\n",
              "      <td>0.148649</td>\n",
              "      <td>00:21</td>\n",
              "    </tr>\n",
              "    <tr>\n",
              "      <td>4</td>\n",
              "      <td>0.918602</td>\n",
              "      <td>2.662336</td>\n",
              "      <td>0.140333</td>\n",
              "      <td>00:21</td>\n",
              "    </tr>\n",
              "    <tr>\n",
              "      <td>5</td>\n",
              "      <td>0.904019</td>\n",
              "      <td>2.788979</td>\n",
              "      <td>0.143451</td>\n",
              "      <td>00:21</td>\n",
              "    </tr>\n",
              "    <tr>\n",
              "      <td>6</td>\n",
              "      <td>0.886288</td>\n",
              "      <td>2.770458</td>\n",
              "      <td>0.127859</td>\n",
              "      <td>00:21</td>\n",
              "    </tr>\n",
              "    <tr>\n",
              "      <td>7</td>\n",
              "      <td>0.869852</td>\n",
              "      <td>2.814972</td>\n",
              "      <td>0.124740</td>\n",
              "      <td>00:21</td>\n",
              "    </tr>\n",
              "    <tr>\n",
              "      <td>8</td>\n",
              "      <td>0.855788</td>\n",
              "      <td>2.662111</td>\n",
              "      <td>0.122661</td>\n",
              "      <td>00:21</td>\n",
              "    </tr>\n",
              "    <tr>\n",
              "      <td>9</td>\n",
              "      <td>0.843944</td>\n",
              "      <td>2.756602</td>\n",
              "      <td>0.125780</td>\n",
              "      <td>00:21</td>\n",
              "    </tr>\n",
              "  </tbody>\n",
              "</table>"
            ],
            "text/plain": [
              "<IPython.core.display.HTML object>"
            ]
          },
          "metadata": {
            "tags": []
          }
        }
      ]
    },
    {
      "cell_type": "code",
      "metadata": {
        "id": "aJkDmun-0T5z"
      },
      "source": [
        "learn.save('class_part_3')"
      ],
      "id": "aJkDmun-0T5z",
      "execution_count": null,
      "outputs": []
    },
    {
      "cell_type": "code",
      "metadata": {
        "id": "l781vmBVvqbb"
      },
      "source": [
        "# this takes about 30 seconds per epoch\n",
        "learn.unfreeze()\n",
        "learn.fit_one_cycle(100, slice(1e-3/(2.6**4),1e-3))\n",
        "# after this: learn.fit_one_cycle(10, slice(1e-3/(2.6**4),1e-3))\n",
        "# starts at 0.33 and got to 0.26 - accuracy is decreasing with training"
      ],
      "id": "l781vmBVvqbb",
      "execution_count": null,
      "outputs": []
    },
    {
      "cell_type": "code",
      "metadata": {
        "id": "Pcs2EgkK0Xtz"
      },
      "source": [
        "learn.save('class_full_100')"
      ],
      "id": "Pcs2EgkK0Xtz",
      "execution_count": null,
      "outputs": []
    },
    {
      "cell_type": "code",
      "metadata": {
        "id": "Fi18a1jqGkYf"
      },
      "source": [
        "learn.fit_one_cycle(100, slice(6e-4/(2.6**4),6e-4))"
      ],
      "id": "Fi18a1jqGkYf",
      "execution_count": null,
      "outputs": []
    },
    {
      "cell_type": "code",
      "metadata": {
        "id": "Z_vcxYm70cy-"
      },
      "source": [
        "learn.save('class_full_200')"
      ],
      "id": "Z_vcxYm70cy-",
      "execution_count": null,
      "outputs": []
    },
    {
      "cell_type": "code",
      "metadata": {
        "id": "oQWuzoaKvyuc"
      },
      "source": [
        "learn.show_results()"
      ],
      "id": "oQWuzoaKvyuc",
      "execution_count": null,
      "outputs": []
    },
    {
      "cell_type": "code",
      "metadata": {
        "id": "sDunqwzV0WZZ"
      },
      "source": [
        "interp = Interpretation.from_learner(learn)"
      ],
      "id": "sDunqwzV0WZZ",
      "execution_count": null,
      "outputs": []
    },
    {
      "cell_type": "code",
      "metadata": {
        "id": "5Z87Eefu1CA-"
      },
      "source": [
        "interp.plot_top_losses(9, figsize=(15,10))"
      ],
      "id": "5Z87Eefu1CA-",
      "execution_count": null,
      "outputs": []
    },
    {
      "cell_type": "code",
      "metadata": {
        "id": "oQe44V-M1ECB"
      },
      "source": [
        ""
      ],
      "id": "oQe44V-M1ECB",
      "execution_count": null,
      "outputs": []
    }
  ]
}