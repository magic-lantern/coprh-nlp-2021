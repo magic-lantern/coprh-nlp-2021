{
 "cells": [
  {
   "cell_type": "markdown",
   "metadata": {
    "id": "c8fe1817"
   },
   "source": [
    "# Example of how to use Deep Learning for text classification\n",
    "\n",
    "Click [Text Classification Example](https://colab.research.google.com/github/magic-lantern/coprh-nlp-2021/blob/main/text_classification_colab.ipynb) to open this notebook in Google Colab - no local setup required, results saved to your Google Drive.\n",
    "\n",
    "In Google Colab, make sure you change the Runtime to a GPU instance - that will result vastly improved runtimes for deep learning steps. On CPU based hardware some steps take 40 minutes versus 1 minute per training epoch on systems with a GPU. Steps to update runtime:\n",
    "\n",
    "    Runtime > Change runtime type > Select 'GPU' in Hardware accelerator box\n",
    "\n",
    "Click 'Save' to switch from Default runtime to GPU accelerated runtime.\n",
    "\n",
    "Some useful links:\n",
    "\n",
    "* https://muellerzr.github.io/fastblog/2020/08/21/intermediate.html#A-Text-Example"
   ]
  },
  {
   "cell_type": "code",
   "execution_count": 1,
   "metadata": {
    "colab": {
     "base_uri": "https://localhost:8080/"
    },
    "id": "99dc132e",
    "outputId": "cabb01a4-a2bf-49e9-f5c7-19eacc88a356"
   },
   "outputs": [],
   "source": [
    "# this cell makes sure Google Colab version has latest software dependencies\n",
    "# !pip install -Uqq fastbook fastai"
   ]
  },
  {
   "cell_type": "code",
   "execution_count": 2,
   "metadata": {
    "id": "b8ec45b4"
   },
   "outputs": [],
   "source": [
    "import gc"
   ]
  },
  {
   "cell_type": "code",
   "execution_count": 3,
   "metadata": {
    "colab": {
     "base_uri": "https://localhost:8080/"
    },
    "id": "ccd58e7d",
    "outputId": "eddce2b0-99c2-4ec1-fa34-2d6edd52c491"
   },
   "outputs": [],
   "source": [
    "# this cell will setup a path that allows you to load and save files to your google drive\n",
    "# you will be prompted to log in with a Google enabled account.\n",
    "# import fastbook\n",
    "# fastbook.setup_book()"
   ]
  },
  {
   "cell_type": "code",
   "execution_count": 4,
   "metadata": {
    "id": "be0a1f20"
   },
   "outputs": [],
   "source": [
    "from fastai.text.all import *"
   ]
  },
  {
   "cell_type": "code",
   "execution_count": 5,
   "metadata": {
    "colab": {
     "base_uri": "https://localhost:8080/"
    },
    "id": "fe22952b",
    "outputId": "64a85246-2205-40ee-9c41-71b8a909e9bc"
   },
   "outputs": [
    {
     "data": {
      "text/plain": [
       "Path('/home/sethr/coprh-nlp-2021')"
      ]
     },
     "execution_count": 5,
     "metadata": {},
     "output_type": "execute_result"
    }
   ],
   "source": [
    "Path.cwd()"
   ]
  },
  {
   "cell_type": "code",
   "execution_count": 6,
   "metadata": {
    "id": "c27edf42"
   },
   "outputs": [],
   "source": [
    "# outside Google Colab, I'm not using fastbook\n",
    "if 'fastbook' in vars() or 'fastbook' in globals():\n",
    "    data_path = fastbook.gdrive / Path('data')\n",
    "    model_path = fastbook.gdrive / Path('models')\n",
    "else:\n",
    "    data_path = Path.cwd() / Path('data')\n",
    "    model_path = Path.cwd() / Path('models')\n",
    "data_file = data_path / 'mtsamples.csv'\n",
    "sequence_length = 512"
   ]
  },
  {
   "cell_type": "code",
   "execution_count": 7,
   "metadata": {
    "colab": {
     "base_uri": "https://localhost:8080/"
    },
    "id": "1fadf0a4",
    "outputId": "2396b7bc-61ce-4d98-c123-9b257aad3590"
   },
   "outputs": [
    {
     "data": {
      "text/plain": [
       "Path('/home/sethr/coprh-nlp-2021/data/mtsamples.csv')"
      ]
     },
     "execution_count": 7,
     "metadata": {},
     "output_type": "execute_result"
    }
   ],
   "source": [
    "data_file"
   ]
  },
  {
   "cell_type": "code",
   "execution_count": 8,
   "metadata": {
    "colab": {
     "base_uri": "https://localhost:8080/"
    },
    "id": "59b3c102",
    "outputId": "f6c1ebd7-f691-4942-9c62-cf178d163d45"
   },
   "outputs": [
    {
     "name": "stdout",
     "output_type": "stream",
     "text": [
      "Already downloaded\n"
     ]
    }
   ],
   "source": [
    "if data_file.is_file():\n",
    "    print('Already downloaded')\n",
    "else:\n",
    "    print('downloading data file')\n",
    "    download_data(\n",
    "        url='https://github.com/socd06/medical-nlp/raw/master/data/mtsamples.csv',\n",
    "        fname = data_file\n",
    "    )"
   ]
  },
  {
   "cell_type": "code",
   "execution_count": 339,
   "metadata": {
    "colab": {
     "base_uri": "https://localhost:8080/",
     "height": 554
    },
    "id": "8a4af966",
    "outputId": "7f7eacfb-7294-41db-d682-fad89719dfb6"
   },
   "outputs": [
    {
     "data": {
      "text/html": [
       "<div>\n",
       "<style scoped>\n",
       "    .dataframe tbody tr th:only-of-type {\n",
       "        vertical-align: middle;\n",
       "    }\n",
       "\n",
       "    .dataframe tbody tr th {\n",
       "        vertical-align: top;\n",
       "    }\n",
       "\n",
       "    .dataframe thead th {\n",
       "        text-align: right;\n",
       "    }\n",
       "</style>\n",
       "<table border=\"1\" class=\"dataframe\">\n",
       "  <thead>\n",
       "    <tr style=\"text-align: right;\">\n",
       "      <th></th>\n",
       "      <th>Unnamed: 0</th>\n",
       "      <th>description</th>\n",
       "      <th>medical_specialty</th>\n",
       "      <th>sample_name</th>\n",
       "      <th>transcription</th>\n",
       "      <th>keywords</th>\n",
       "    </tr>\n",
       "  </thead>\n",
       "  <tbody>\n",
       "    <tr>\n",
       "      <th>0</th>\n",
       "      <td>0</td>\n",
       "      <td>A 23-year-old white female presents with complaint of allergies.</td>\n",
       "      <td>Allergy / Immunology</td>\n",
       "      <td>Allergic Rhinitis</td>\n",
       "      <td>SUBJECTIVE:,  This 23-year-old white female presents with complaint of allergies.  She used to have allergies when she lived in Seattle but she thinks they are worse here.  In the past, she has tried Claritin, and Zyrtec.  Both worked for short time but then seemed to lose effectiveness.  She has used Allegra also.  She used that last summer and she began using it again two weeks ago.  It does not appear to be working very well.  She has used over-the-counter sprays but no prescription nasal sprays.  She does have asthma but doest not require daily medication for this and does not think it...</td>\n",
       "      <td>allergy / immunology, allergic rhinitis, allergies, asthma, nasal sprays, rhinitis, nasal, erythematous, allegra, sprays, allergic,</td>\n",
       "    </tr>\n",
       "    <tr>\n",
       "      <th>1</th>\n",
       "      <td>1</td>\n",
       "      <td>Consult for laparoscopic gastric bypass.</td>\n",
       "      <td>Bariatrics</td>\n",
       "      <td>Laparoscopic Gastric Bypass Consult - 2</td>\n",
       "      <td>PAST MEDICAL HISTORY:, He has difficulty climbing stairs, difficulty with airline seats, tying shoes, used to public seating, and lifting objects off the floor.  He exercises three times a week at home and does cardio.  He has difficulty walking two blocks or five flights of stairs.  Difficulty with snoring.  He has muscle and joint pains including knee pain, back pain, foot and ankle pain, and swelling.  He has gastroesophageal reflux disease.,PAST SURGICAL HISTORY:, Includes reconstructive surgery on his right hand 13 years ago.  ,SOCIAL HISTORY:, He is currently single.  He has about te...</td>\n",
       "      <td>bariatrics, laparoscopic gastric bypass, weight loss programs, gastric bypass, atkin's diet, weight watcher's, body weight, laparoscopic gastric, weight loss, pounds, months, weight, laparoscopic, band, loss, diets, overweight, lost</td>\n",
       "    </tr>\n",
       "    <tr>\n",
       "      <th>2</th>\n",
       "      <td>2</td>\n",
       "      <td>Consult for laparoscopic gastric bypass.</td>\n",
       "      <td>Bariatrics</td>\n",
       "      <td>Laparoscopic Gastric Bypass Consult - 1</td>\n",
       "      <td>HISTORY OF PRESENT ILLNESS: , I have seen ABC today.  He is a very pleasant gentleman who is 42 years old, 344 pounds.  He is 5'9\".  He has a BMI of 51.  He has been overweight for ten years since the age of 33, at his highest he was 358 pounds, at his lowest 260.  He is pursuing surgical attempts of weight loss to feel good, get healthy, and begin to exercise again.  He wants to be able to exercise and play volleyball.  Physically, he is sluggish.  He gets tired quickly.  He does not go out often.  When he loses weight he always regains it and he gains back more than he lost.  His biggest...</td>\n",
       "      <td>bariatrics, laparoscopic gastric bypass, heart attacks, body weight, pulmonary embolism, potential complications, sleep study, weight loss, gastric bypass, anastomosis, loss, sleep, laparoscopic, gastric, bypass, heart, pounds, weight,</td>\n",
       "    </tr>\n",
       "    <tr>\n",
       "      <th>3</th>\n",
       "      <td>3</td>\n",
       "      <td>2-D M-Mode. Doppler.</td>\n",
       "      <td>Cardiovascular / Pulmonary</td>\n",
       "      <td>2-D Echocardiogram - 1</td>\n",
       "      <td>2-D M-MODE: , ,1.  Left atrial enlargement with left atrial diameter of 4.7 cm.,2.  Normal size right and left ventricle.,3.  Normal LV systolic function with left ventricular ejection fraction of 51%.,4.  Normal LV diastolic function.,5.  No pericardial effusion.,6.  Normal morphology of aortic valve, mitral valve, tricuspid valve, and pulmonary valve.,7.  PA systolic pressure is 36 mmHg.,DOPPLER: , ,1.  Mild mitral and tricuspid regurgitation.,2.  Trace aortic and pulmonary regurgitation.</td>\n",
       "      <td>cardiovascular / pulmonary, 2-d m-mode, doppler, aortic valve, atrial enlargement, diastolic function, ejection fraction, mitral, mitral valve, pericardial effusion, pulmonary valve, regurgitation, systolic function, tricuspid, tricuspid valve, normal lv</td>\n",
       "    </tr>\n",
       "    <tr>\n",
       "      <th>4</th>\n",
       "      <td>4</td>\n",
       "      <td>2-D Echocardiogram</td>\n",
       "      <td>Cardiovascular / Pulmonary</td>\n",
       "      <td>2-D Echocardiogram - 2</td>\n",
       "      <td>1.  The left ventricular cavity size and wall thickness appear normal.  The wall motion and left ventricular systolic function appears hyperdynamic with estimated ejection fraction of 70% to 75%.  There is near-cavity obliteration seen.  There also appears to be increased left ventricular outflow tract gradient at the mid cavity level consistent with hyperdynamic left ventricular systolic function.  There is abnormal left ventricular relaxation pattern seen as well as elevated left atrial pressures seen by Doppler examination.,2.  The left atrium appears mildly dilated.,3.  The right atriu...</td>\n",
       "      <td>cardiovascular / pulmonary, 2-d, doppler, echocardiogram, annular, aortic root, aortic valve, atrial, atrium, calcification, cavity, ejection fraction, mitral, obliteration, outflow, regurgitation, relaxation pattern, stenosis, systolic function, tricuspid, valve, ventricular, ventricular cavity, wall motion, pulmonary artery</td>\n",
       "    </tr>\n",
       "  </tbody>\n",
       "</table>\n",
       "</div>"
      ],
      "text/plain": [
       "   Unnamed: 0  \\\n",
       "0           0   \n",
       "1           1   \n",
       "2           2   \n",
       "3           3   \n",
       "4           4   \n",
       "\n",
       "                                                        description  \\\n",
       "0  A 23-year-old white female presents with complaint of allergies.   \n",
       "1                          Consult for laparoscopic gastric bypass.   \n",
       "2                          Consult for laparoscopic gastric bypass.   \n",
       "3                                              2-D M-Mode. Doppler.   \n",
       "4                                                2-D Echocardiogram   \n",
       "\n",
       "            medical_specialty                              sample_name  \\\n",
       "0        Allergy / Immunology                        Allergic Rhinitis   \n",
       "1                  Bariatrics  Laparoscopic Gastric Bypass Consult - 2   \n",
       "2                  Bariatrics  Laparoscopic Gastric Bypass Consult - 1   \n",
       "3  Cardiovascular / Pulmonary                   2-D Echocardiogram - 1   \n",
       "4  Cardiovascular / Pulmonary                   2-D Echocardiogram - 2   \n",
       "\n",
       "                                                                                                                                                                                                                                                                                                                                                                                                                                                                                                                                                                                                             transcription  \\\n",
       "0  SUBJECTIVE:,  This 23-year-old white female presents with complaint of allergies.  She used to have allergies when she lived in Seattle but she thinks they are worse here.  In the past, she has tried Claritin, and Zyrtec.  Both worked for short time but then seemed to lose effectiveness.  She has used Allegra also.  She used that last summer and she began using it again two weeks ago.  It does not appear to be working very well.  She has used over-the-counter sprays but no prescription nasal sprays.  She does have asthma but doest not require daily medication for this and does not think it...   \n",
       "1  PAST MEDICAL HISTORY:, He has difficulty climbing stairs, difficulty with airline seats, tying shoes, used to public seating, and lifting objects off the floor.  He exercises three times a week at home and does cardio.  He has difficulty walking two blocks or five flights of stairs.  Difficulty with snoring.  He has muscle and joint pains including knee pain, back pain, foot and ankle pain, and swelling.  He has gastroesophageal reflux disease.,PAST SURGICAL HISTORY:, Includes reconstructive surgery on his right hand 13 years ago.  ,SOCIAL HISTORY:, He is currently single.  He has about te...   \n",
       "2  HISTORY OF PRESENT ILLNESS: , I have seen ABC today.  He is a very pleasant gentleman who is 42 years old, 344 pounds.  He is 5'9\".  He has a BMI of 51.  He has been overweight for ten years since the age of 33, at his highest he was 358 pounds, at his lowest 260.  He is pursuing surgical attempts of weight loss to feel good, get healthy, and begin to exercise again.  He wants to be able to exercise and play volleyball.  Physically, he is sluggish.  He gets tired quickly.  He does not go out often.  When he loses weight he always regains it and he gains back more than he lost.  His biggest...   \n",
       "3                                                                                                          2-D M-MODE: , ,1.  Left atrial enlargement with left atrial diameter of 4.7 cm.,2.  Normal size right and left ventricle.,3.  Normal LV systolic function with left ventricular ejection fraction of 51%.,4.  Normal LV diastolic function.,5.  No pericardial effusion.,6.  Normal morphology of aortic valve, mitral valve, tricuspid valve, and pulmonary valve.,7.  PA systolic pressure is 36 mmHg.,DOPPLER: , ,1.  Mild mitral and tricuspid regurgitation.,2.  Trace aortic and pulmonary regurgitation.   \n",
       "4  1.  The left ventricular cavity size and wall thickness appear normal.  The wall motion and left ventricular systolic function appears hyperdynamic with estimated ejection fraction of 70% to 75%.  There is near-cavity obliteration seen.  There also appears to be increased left ventricular outflow tract gradient at the mid cavity level consistent with hyperdynamic left ventricular systolic function.  There is abnormal left ventricular relaxation pattern seen as well as elevated left atrial pressures seen by Doppler examination.,2.  The left atrium appears mildly dilated.,3.  The right atriu...   \n",
       "\n",
       "                                                                                                                                                                                                                                                                                                                                  keywords  \n",
       "0                                                                                                                                                                                                      allergy / immunology, allergic rhinitis, allergies, asthma, nasal sprays, rhinitis, nasal, erythematous, allegra, sprays, allergic,  \n",
       "1                                                                                                 bariatrics, laparoscopic gastric bypass, weight loss programs, gastric bypass, atkin's diet, weight watcher's, body weight, laparoscopic gastric, weight loss, pounds, months, weight, laparoscopic, band, loss, diets, overweight, lost  \n",
       "2                                                                                              bariatrics, laparoscopic gastric bypass, heart attacks, body weight, pulmonary embolism, potential complications, sleep study, weight loss, gastric bypass, anastomosis, loss, sleep, laparoscopic, gastric, bypass, heart, pounds, weight,  \n",
       "3                                                                           cardiovascular / pulmonary, 2-d m-mode, doppler, aortic valve, atrial enlargement, diastolic function, ejection fraction, mitral, mitral valve, pericardial effusion, pulmonary valve, regurgitation, systolic function, tricuspid, tricuspid valve, normal lv  \n",
       "4  cardiovascular / pulmonary, 2-d, doppler, echocardiogram, annular, aortic root, aortic valve, atrial, atrium, calcification, cavity, ejection fraction, mitral, obliteration, outflow, regurgitation, relaxation pattern, stenosis, systolic function, tricuspid, valve, ventricular, ventricular cavity, wall motion, pulmonary artery  "
      ]
     },
     "execution_count": 339,
     "metadata": {},
     "output_type": "execute_result"
    }
   ],
   "source": [
    "mtsamples = pd.read_csv(str(data_path) + '/mtsamples.csv')\n",
    "# remove leading/trailing spaces from text fields\n",
    "mtsamples = mtsamples.applymap(lambda x: x.strip() if isinstance(x, str) else x)\n",
    "mtsamples.head()"
   ]
  },
  {
   "cell_type": "markdown",
   "metadata": {
    "id": "BsZi05Y0EUdc"
   },
   "source": [
    "### Setup objects for Language Model Training"
   ]
  },
  {
   "cell_type": "markdown",
   "metadata": {
    "id": "24fb6dc2"
   },
   "source": [
    "This is one way to load the data for training - it's more simple, but you have less control.\n",
    "\n",
    "```python\n",
    "TextDataLoaders.from_df(mtsamples,\n",
    "                        valid_pct=0.2,\n",
    "                        seed=42,\n",
    "                        text_col='transcription',\n",
    "                        label_col='medical_specialty',\n",
    "                        seq_len=72)\n",
    "```"
   ]
  },
  {
   "cell_type": "code",
   "execution_count": 10,
   "metadata": {
    "id": "b4a65e61"
   },
   "outputs": [],
   "source": [
    "dls_lm = DataBlock(\n",
    "    blocks=TextBlock.from_df('transcription', is_lm=True),\n",
    "    get_x=ColReader('text'),\n",
    "    splitter=TrainTestSplitter(test_size=0.2,\n",
    "                               random_state=42)\n",
    ")"
   ]
  },
  {
   "cell_type": "code",
   "execution_count": 11,
   "metadata": {
    "colab": {
     "base_uri": "https://localhost:8080/",
     "height": 72
    },
    "id": "fc358b72",
    "outputId": "fdf5164f-f086-48fc-e61f-955bf932d163"
   },
   "outputs": [
    {
     "data": {
      "text/html": [],
      "text/plain": [
       "<IPython.core.display.HTML object>"
      ]
     },
     "metadata": {},
     "output_type": "display_data"
    },
    {
     "name": "stderr",
     "output_type": "stream",
     "text": [
      "/opt/miniconda3/envs/coprh/lib/python3.7/site-packages/numpy/core/_asarray.py:83: VisibleDeprecationWarning: Creating an ndarray from ragged nested sequences (which is a list-or-tuple of lists-or-tuples-or ndarrays with different lengths or shapes) is deprecated. If you meant to do this, you must specify 'dtype=object' when creating the ndarray\n",
      "  return array(a, dtype, copy=False, order=order)\n"
     ]
    }
   ],
   "source": [
    "# This cell takes 1 - 2 minutes\n",
    "# when using seq_len of 256, bs of 128 fits in GPU memory, bs 256 does not fit\n",
    "# when using seq_len of 512, bs of 64 fits in GPU memory, bs 128 does not fit\n",
    "dls_lm = dls_lm.dataloaders(mtsamples, bs=32, seq_len=sequence_length)"
   ]
  },
  {
   "cell_type": "markdown",
   "metadata": {
    "id": "adxARtIOD_os"
   },
   "source": [
    "## Train the language Model\n",
    "\n",
    "This portion can be skipped if done previously"
   ]
  },
  {
   "cell_type": "code",
   "execution_count": 12,
   "metadata": {
    "id": "9e3337c6"
   },
   "outputs": [],
   "source": [
    "# if changes in the above were made (such as batch size), it may be beneficial to purge GPU memory\n",
    "gc.collect()\n",
    "torch.cuda.empty_cache()\n",
    "gc.collect()\n",
    "torch.cuda.empty_cache()"
   ]
  },
  {
   "cell_type": "code",
   "execution_count": 13,
   "metadata": {
    "colab": {
     "base_uri": "https://localhost:8080/",
     "height": 286
    },
    "id": "49354b58",
    "outputId": "8e2f8763-dc20-446a-a310-ab85fb170380"
   },
   "outputs": [
    {
     "data": {
      "text/html": [
       "<table border=\"1\" class=\"dataframe\">\n",
       "  <thead>\n",
       "    <tr style=\"text-align: right;\">\n",
       "      <th></th>\n",
       "      <th>text</th>\n",
       "      <th>text_</th>\n",
       "    </tr>\n",
       "  </thead>\n",
       "  <tbody>\n",
       "    <tr>\n",
       "      <th>0</th>\n",
       "      <td>xxbos xxup preoperative xxup diagnoses:,1 . xxmaj right carpal tunnel syndrome . ,2 . xxmaj right index finger and middle fingers tenosynovitis . ,postoperative xxup diagnoses:,1 . xxmaj right carpal tunnel syndrome . ,2 . xxmaj right index finger and middle fingers tenosynovitis . ,procedures xxup performed:,1 . xxmaj right carpal tunnel release . ,2 . xxmaj right index and middle fingers release xxup a1 pulley . ,tourniquet xxup time : , 70 minutes . ,blood xxup loss : , minimal . ,gross xxup intraoperative xxup findings:,1 . a compressed median nerve at the carpal tunnel , which was flattened . ,2 . a stenosing tenosynovitis of the xxup a1 pulley of the right index as well as middle fingers . xxmaj after the xxup a1 pulley was released , there was evidence of some synovitis as well as some fraying of the flexor digitorum profundus as well as flexor</td>\n",
       "      <td>xxup preoperative xxup diagnoses:,1 . xxmaj right carpal tunnel syndrome . ,2 . xxmaj right index finger and middle fingers tenosynovitis . ,postoperative xxup diagnoses:,1 . xxmaj right carpal tunnel syndrome . ,2 . xxmaj right index finger and middle fingers tenosynovitis . ,procedures xxup performed:,1 . xxmaj right carpal tunnel release . ,2 . xxmaj right index and middle fingers release xxup a1 pulley . ,tourniquet xxup time : , 70 minutes . ,blood xxup loss : , minimal . ,gross xxup intraoperative xxup findings:,1 . a compressed median nerve at the carpal tunnel , which was flattened . ,2 . a stenosing tenosynovitis of the xxup a1 pulley of the right index as well as middle fingers . xxmaj after the xxup a1 pulley was released , there was evidence of some synovitis as well as some fraying of the flexor digitorum profundus as well as flexor digitorum</td>\n",
       "    </tr>\n",
       "    <tr>\n",
       "      <th>1</th>\n",
       "      <td>xxmaj kopans wire was trimmed to an appropriate length . xxmaj the patient was sterilely prepped and draped in the usual manner . xxmaj local anesthetic consisting of 1 % lidocaine and 0.5 % xxmaj marcaine was injected into the proposed line of incision . a curvilinear circumareolar incision was then made with a # 15 scalpel blade close to the wire . xxmaj the wire was stabilized and brought to protrude through the incision . xxmaj skin flaps were then generated with electrocautery . a generous core tissue was grasped with xxmaj allis forceps and excised with electrocautery . xxmaj prior to complete excision , the superior margin was marked with a # 2 - 0 xxmaj vicryl suture , which was tied and cut short . xxmaj the lateral margin was marked with a # 2 - 0 xxmaj vicryl suture , which was tied and cut along</td>\n",
       "      <td>kopans wire was trimmed to an appropriate length . xxmaj the patient was sterilely prepped and draped in the usual manner . xxmaj local anesthetic consisting of 1 % lidocaine and 0.5 % xxmaj marcaine was injected into the proposed line of incision . a curvilinear circumareolar incision was then made with a # 15 scalpel blade close to the wire . xxmaj the wire was stabilized and brought to protrude through the incision . xxmaj skin flaps were then generated with electrocautery . a generous core tissue was grasped with xxmaj allis forceps and excised with electrocautery . xxmaj prior to complete excision , the superior margin was marked with a # 2 - 0 xxmaj vicryl suture , which was tied and cut short . xxmaj the lateral margin was marked with a # 2 - 0 xxmaj vicryl suture , which was tied and cut along .</td>\n",
       "    </tr>\n",
       "  </tbody>\n",
       "</table>"
      ],
      "text/plain": [
       "<IPython.core.display.HTML object>"
      ]
     },
     "metadata": {},
     "output_type": "display_data"
    }
   ],
   "source": [
    "dls_lm.show_batch(max_n=2)"
   ]
  },
  {
   "cell_type": "code",
   "execution_count": 14,
   "metadata": {
    "colab": {
     "base_uri": "https://localhost:8080/",
     "height": 17
    },
    "id": "d642f450",
    "outputId": "38cd3eeb-6e05-4ff7-b06a-5a4d8b161e60"
   },
   "outputs": [],
   "source": [
    "lm_learn = language_model_learner(\n",
    "    dls_lm,\n",
    "    AWD_LSTM,\n",
    "    model_dir=model_path,\n",
    "    drop_mult=0.3,\n",
    "    metrics=[accuracy, Perplexity()]).to_fp16()"
   ]
  },
  {
   "cell_type": "code",
   "execution_count": 15,
   "metadata": {
    "colab": {
     "base_uri": "https://localhost:8080/",
     "height": 81
    },
    "id": "915814fd",
    "outputId": "3b798273-0a16-472d-9efa-c513c7414d49"
   },
   "outputs": [
    {
     "data": {
      "text/html": [
       "<table border=\"1\" class=\"dataframe\">\n",
       "  <thead>\n",
       "    <tr style=\"text-align: left;\">\n",
       "      <th>epoch</th>\n",
       "      <th>train_loss</th>\n",
       "      <th>valid_loss</th>\n",
       "      <th>accuracy</th>\n",
       "      <th>perplexity</th>\n",
       "      <th>time</th>\n",
       "    </tr>\n",
       "  </thead>\n",
       "  <tbody>\n",
       "    <tr>\n",
       "      <td>0</td>\n",
       "      <td>3.270690</td>\n",
       "      <td>2.987110</td>\n",
       "      <td>0.440546</td>\n",
       "      <td>19.828299</td>\n",
       "      <td>00:39</td>\n",
       "    </tr>\n",
       "  </tbody>\n",
       "</table>"
      ],
      "text/plain": [
       "<IPython.core.display.HTML object>"
      ]
     },
     "metadata": {},
     "output_type": "display_data"
    }
   ],
   "source": [
    "# on macbook this cell takes 40 minues\n",
    "# on GPU machine this cell takes about 1 minute\n",
    "lm_learn.fit_one_cycle(1, 2e-2)"
   ]
  },
  {
   "cell_type": "code",
   "execution_count": 16,
   "metadata": {
    "colab": {
     "base_uri": "https://localhost:8080/"
    },
    "id": "a60d5389",
    "outputId": "70ee908a-1fe2-4a88-d3ab-ee81276a15e8"
   },
   "outputs": [
    {
     "data": {
      "text/plain": [
       "Path('/home/sethr/coprh-nlp-2021/models/lm_1stepoch.pth')"
      ]
     },
     "execution_count": 16,
     "metadata": {},
     "output_type": "execute_result"
    }
   ],
   "source": [
    "lm_learn.save('lm_1stepoch')\n",
    "# can load already saved trained model with\n",
    "# learn.load('1stepoch')"
   ]
  },
  {
   "cell_type": "code",
   "execution_count": 17,
   "metadata": {
    "id": "d41db8bc"
   },
   "outputs": [],
   "source": [
    "# if changes in the above were made (such as batch size), it may be beneficial to purge GPU memory\n",
    "gc.collect()\n",
    "torch.cuda.empty_cache()\n",
    "gc.collect()\n",
    "torch.cuda.empty_cache()"
   ]
  },
  {
   "cell_type": "code",
   "execution_count": 18,
   "metadata": {
    "colab": {
     "base_uri": "https://localhost:8080/",
     "height": 408
    },
    "id": "6f857a0a",
    "outputId": "b49d6791-ae9b-4111-959c-3e88fdcbb131"
   },
   "outputs": [
    {
     "data": {
      "text/html": [
       "<table border=\"1\" class=\"dataframe\">\n",
       "  <thead>\n",
       "    <tr style=\"text-align: left;\">\n",
       "      <th>epoch</th>\n",
       "      <th>train_loss</th>\n",
       "      <th>valid_loss</th>\n",
       "      <th>accuracy</th>\n",
       "      <th>perplexity</th>\n",
       "      <th>time</th>\n",
       "    </tr>\n",
       "  </thead>\n",
       "  <tbody>\n",
       "    <tr>\n",
       "      <td>0</td>\n",
       "      <td>2.887732</td>\n",
       "      <td>2.881750</td>\n",
       "      <td>0.452936</td>\n",
       "      <td>17.845472</td>\n",
       "      <td>00:40</td>\n",
       "    </tr>\n",
       "    <tr>\n",
       "      <td>1</td>\n",
       "      <td>2.781535</td>\n",
       "      <td>2.775317</td>\n",
       "      <td>0.465512</td>\n",
       "      <td>16.043718</td>\n",
       "      <td>00:41</td>\n",
       "    </tr>\n",
       "    <tr>\n",
       "      <td>2</td>\n",
       "      <td>2.641725</td>\n",
       "      <td>2.652862</td>\n",
       "      <td>0.481623</td>\n",
       "      <td>14.194607</td>\n",
       "      <td>00:41</td>\n",
       "    </tr>\n",
       "    <tr>\n",
       "      <td>3</td>\n",
       "      <td>2.487550</td>\n",
       "      <td>2.512061</td>\n",
       "      <td>0.503008</td>\n",
       "      <td>12.330321</td>\n",
       "      <td>00:41</td>\n",
       "    </tr>\n",
       "    <tr>\n",
       "      <td>4</td>\n",
       "      <td>2.312256</td>\n",
       "      <td>2.363909</td>\n",
       "      <td>0.523999</td>\n",
       "      <td>10.632430</td>\n",
       "      <td>00:41</td>\n",
       "    </tr>\n",
       "    <tr>\n",
       "      <td>5</td>\n",
       "      <td>2.106853</td>\n",
       "      <td>2.198189</td>\n",
       "      <td>0.550306</td>\n",
       "      <td>9.008680</td>\n",
       "      <td>00:41</td>\n",
       "    </tr>\n",
       "    <tr>\n",
       "      <td>6</td>\n",
       "      <td>1.881068</td>\n",
       "      <td>2.039901</td>\n",
       "      <td>0.579597</td>\n",
       "      <td>7.689844</td>\n",
       "      <td>00:41</td>\n",
       "    </tr>\n",
       "    <tr>\n",
       "      <td>7</td>\n",
       "      <td>1.670260</td>\n",
       "      <td>1.893647</td>\n",
       "      <td>0.606988</td>\n",
       "      <td>6.643555</td>\n",
       "      <td>00:41</td>\n",
       "    </tr>\n",
       "    <tr>\n",
       "      <td>8</td>\n",
       "      <td>1.493606</td>\n",
       "      <td>1.757652</td>\n",
       "      <td>0.637139</td>\n",
       "      <td>5.798808</td>\n",
       "      <td>00:41</td>\n",
       "    </tr>\n",
       "    <tr>\n",
       "      <td>9</td>\n",
       "      <td>1.310314</td>\n",
       "      <td>1.654280</td>\n",
       "      <td>0.659104</td>\n",
       "      <td>5.229315</td>\n",
       "      <td>00:41</td>\n",
       "    </tr>\n",
       "    <tr>\n",
       "      <td>10</td>\n",
       "      <td>1.163030</td>\n",
       "      <td>1.541986</td>\n",
       "      <td>0.685460</td>\n",
       "      <td>4.673865</td>\n",
       "      <td>00:42</td>\n",
       "    </tr>\n",
       "    <tr>\n",
       "      <td>11</td>\n",
       "      <td>1.059332</td>\n",
       "      <td>1.455810</td>\n",
       "      <td>0.707790</td>\n",
       "      <td>4.287956</td>\n",
       "      <td>00:41</td>\n",
       "    </tr>\n",
       "    <tr>\n",
       "      <td>12</td>\n",
       "      <td>0.948566</td>\n",
       "      <td>1.372149</td>\n",
       "      <td>0.727881</td>\n",
       "      <td>3.943816</td>\n",
       "      <td>00:41</td>\n",
       "    </tr>\n",
       "    <tr>\n",
       "      <td>13</td>\n",
       "      <td>0.854902</td>\n",
       "      <td>1.304064</td>\n",
       "      <td>0.746695</td>\n",
       "      <td>3.684241</td>\n",
       "      <td>00:41</td>\n",
       "    </tr>\n",
       "    <tr>\n",
       "      <td>14</td>\n",
       "      <td>0.791881</td>\n",
       "      <td>1.239993</td>\n",
       "      <td>0.762408</td>\n",
       "      <td>3.455590</td>\n",
       "      <td>00:41</td>\n",
       "    </tr>\n",
       "    <tr>\n",
       "      <td>15</td>\n",
       "      <td>0.717746</td>\n",
       "      <td>1.189871</td>\n",
       "      <td>0.776733</td>\n",
       "      <td>3.286659</td>\n",
       "      <td>00:41</td>\n",
       "    </tr>\n",
       "    <tr>\n",
       "      <td>16</td>\n",
       "      <td>0.626893</td>\n",
       "      <td>1.132409</td>\n",
       "      <td>0.793092</td>\n",
       "      <td>3.103122</td>\n",
       "      <td>00:41</td>\n",
       "    </tr>\n",
       "    <tr>\n",
       "      <td>17</td>\n",
       "      <td>0.595273</td>\n",
       "      <td>1.092163</td>\n",
       "      <td>0.805730</td>\n",
       "      <td>2.980715</td>\n",
       "      <td>00:41</td>\n",
       "    </tr>\n",
       "    <tr>\n",
       "      <td>18</td>\n",
       "      <td>0.540659</td>\n",
       "      <td>1.056608</td>\n",
       "      <td>0.816878</td>\n",
       "      <td>2.876597</td>\n",
       "      <td>00:41</td>\n",
       "    </tr>\n",
       "    <tr>\n",
       "      <td>19</td>\n",
       "      <td>0.496284</td>\n",
       "      <td>1.030024</td>\n",
       "      <td>0.825394</td>\n",
       "      <td>2.801133</td>\n",
       "      <td>00:41</td>\n",
       "    </tr>\n",
       "    <tr>\n",
       "      <td>20</td>\n",
       "      <td>0.474834</td>\n",
       "      <td>0.999261</td>\n",
       "      <td>0.833966</td>\n",
       "      <td>2.716273</td>\n",
       "      <td>00:41</td>\n",
       "    </tr>\n",
       "    <tr>\n",
       "      <td>21</td>\n",
       "      <td>0.417527</td>\n",
       "      <td>0.979689</td>\n",
       "      <td>0.841056</td>\n",
       "      <td>2.663627</td>\n",
       "      <td>00:42</td>\n",
       "    </tr>\n",
       "    <tr>\n",
       "      <td>22</td>\n",
       "      <td>0.408574</td>\n",
       "      <td>0.962972</td>\n",
       "      <td>0.846451</td>\n",
       "      <td>2.619470</td>\n",
       "      <td>00:41</td>\n",
       "    </tr>\n",
       "    <tr>\n",
       "      <td>23</td>\n",
       "      <td>0.365252</td>\n",
       "      <td>0.947967</td>\n",
       "      <td>0.850957</td>\n",
       "      <td>2.580459</td>\n",
       "      <td>00:41</td>\n",
       "    </tr>\n",
       "    <tr>\n",
       "      <td>24</td>\n",
       "      <td>0.371032</td>\n",
       "      <td>0.939727</td>\n",
       "      <td>0.853695</td>\n",
       "      <td>2.559281</td>\n",
       "      <td>00:41</td>\n",
       "    </tr>\n",
       "    <tr>\n",
       "      <td>25</td>\n",
       "      <td>0.357859</td>\n",
       "      <td>0.932334</td>\n",
       "      <td>0.855876</td>\n",
       "      <td>2.540431</td>\n",
       "      <td>00:42</td>\n",
       "    </tr>\n",
       "    <tr>\n",
       "      <td>26</td>\n",
       "      <td>0.331631</td>\n",
       "      <td>0.928527</td>\n",
       "      <td>0.857449</td>\n",
       "      <td>2.530777</td>\n",
       "      <td>00:41</td>\n",
       "    </tr>\n",
       "    <tr>\n",
       "      <td>27</td>\n",
       "      <td>0.319569</td>\n",
       "      <td>0.926053</td>\n",
       "      <td>0.858276</td>\n",
       "      <td>2.524525</td>\n",
       "      <td>00:41</td>\n",
       "    </tr>\n",
       "    <tr>\n",
       "      <td>28</td>\n",
       "      <td>0.318496</td>\n",
       "      <td>0.924524</td>\n",
       "      <td>0.858655</td>\n",
       "      <td>2.520668</td>\n",
       "      <td>00:41</td>\n",
       "    </tr>\n",
       "    <tr>\n",
       "      <td>29</td>\n",
       "      <td>0.332768</td>\n",
       "      <td>0.924525</td>\n",
       "      <td>0.858719</td>\n",
       "      <td>2.520672</td>\n",
       "      <td>00:41</td>\n",
       "    </tr>\n",
       "  </tbody>\n",
       "</table>"
      ],
      "text/plain": [
       "<IPython.core.display.HTML object>"
      ]
     },
     "metadata": {},
     "output_type": "display_data"
    }
   ],
   "source": [
    "lm_learn.unfreeze()\n",
    "lm_learn.fit_one_cycle(30, 2e-3)"
   ]
  },
  {
   "cell_type": "code",
   "execution_count": 19,
   "metadata": {
    "id": "eefe4759"
   },
   "outputs": [],
   "source": [
    "lm_learn.save_encoder('lm_finetuned')\n",
    "# can load with\n",
    "# lm_learn.load('finetuned')"
   ]
  },
  {
   "cell_type": "markdown",
   "metadata": {
    "id": "deab493b"
   },
   "source": [
    "## Now build a text classifier\n",
    "\n",
    "Now that we have finetuned a language model based on our actual text let's build a classifier to identify the medical specialty of the transcription notes. As shown previously in this dataset, some specialties are more represented than others. Split data such that training and testing data sets are balanced based on specialty."
   ]
  },
  {
   "cell_type": "markdown",
   "metadata": {
    "id": "Guc4aZ7p3ZlE"
   },
   "source": [
    "A note on data cleanup: In the best case, a machine learning model can only be as good as the data provided. If data is of poor quality or labels are inconsistent, it will be difficult to get good accuracy with your model.\n",
    "\n",
    "Let's review the really short transcription notes."
   ]
  },
  {
   "cell_type": "code",
   "execution_count": 340,
   "metadata": {
    "id": "JvUEN8FX3ZlF"
   },
   "outputs": [],
   "source": [
    "word_len = mtsamples.transcription.str.split(' ').str.len()"
   ]
  },
  {
   "cell_type": "code",
   "execution_count": 341,
   "metadata": {
    "id": "Ar_jI-F-3ZlG"
   },
   "outputs": [],
   "source": [
    "mtsamples['num_words'] =  mtsamples.transcription.str.split(' ').str.len()"
   ]
  },
  {
   "cell_type": "code",
   "execution_count": 342,
   "metadata": {
    "colab": {
     "base_uri": "https://localhost:8080/"
    },
    "id": "OJqgRSzj3ZlG",
    "outputId": "a80e43bb-38a4-4c04-e316-63520bb3307d"
   },
   "outputs": [
    {
     "data": {
      "text/plain": [
       "425.0"
      ]
     },
     "execution_count": 342,
     "metadata": {},
     "output_type": "execute_result"
    }
   ],
   "source": [
    "word_len.median()"
   ]
  },
  {
   "cell_type": "code",
   "execution_count": 343,
   "metadata": {
    "colab": {
     "base_uri": "https://localhost:8080/"
    },
    "id": "xO6hjbNr3ZlJ",
    "outputId": "742d1ad0-5eb4-4783-fcd5-59ecb237110d"
   },
   "outputs": [
    {
     "data": {
      "text/plain": [
       "1.0"
      ]
     },
     "execution_count": 343,
     "metadata": {},
     "output_type": "execute_result"
    }
   ],
   "source": [
    "word_len.min()"
   ]
  },
  {
   "cell_type": "code",
   "execution_count": 344,
   "metadata": {
    "colab": {
     "base_uri": "https://localhost:8080/"
    },
    "id": "YAWiEULq3ZlK",
    "outputId": "53d63f8f-7535-4c64-f722-c28298cdfc67"
   },
   "outputs": [
    {
     "data": {
      "text/plain": [
       "333.8242317381962"
      ]
     },
     "execution_count": 344,
     "metadata": {},
     "output_type": "execute_result"
    }
   ],
   "source": [
    "word_len.std()"
   ]
  },
  {
   "cell_type": "code",
   "execution_count": 345,
   "metadata": {
    "colab": {
     "base_uri": "https://localhost:8080/",
     "height": 328
    },
    "id": "ruL0DdHa3ZlL",
    "outputId": "fe492cd3-32d3-44e3-a297-7334099b1d8e"
   },
   "outputs": [
    {
     "name": "stdout",
     "output_type": "stream",
     "text": [
      "There are 16 records with short notes.\n"
     ]
    },
    {
     "data": {
      "text/html": [
       "<div>\n",
       "<style scoped>\n",
       "    .dataframe tbody tr th:only-of-type {\n",
       "        vertical-align: middle;\n",
       "    }\n",
       "\n",
       "    .dataframe tbody tr th {\n",
       "        vertical-align: top;\n",
       "    }\n",
       "\n",
       "    .dataframe thead th {\n",
       "        text-align: right;\n",
       "    }\n",
       "</style>\n",
       "<table border=\"1\" class=\"dataframe\">\n",
       "  <thead>\n",
       "    <tr style=\"text-align: right;\">\n",
       "      <th></th>\n",
       "      <th>Unnamed: 0</th>\n",
       "      <th>description</th>\n",
       "      <th>medical_specialty</th>\n",
       "      <th>sample_name</th>\n",
       "      <th>transcription</th>\n",
       "      <th>keywords</th>\n",
       "      <th>num_words</th>\n",
       "    </tr>\n",
       "  </thead>\n",
       "  <tbody>\n",
       "    <tr>\n",
       "      <th>24</th>\n",
       "      <td>24</td>\n",
       "      <td>Blood in urine - Transitional cell cancer of the bladder.</td>\n",
       "      <td>Urology</td>\n",
       "      <td>Urology Consut - 1</td>\n",
       "      <td>CHIEF COMPLAINT:,</td>\n",
       "      <td>NaN</td>\n",
       "      <td>2.0</td>\n",
       "    </tr>\n",
       "    <tr>\n",
       "      <th>872</th>\n",
       "      <td>872</td>\n",
       "      <td>EGD with dilation for dysphagia.</td>\n",
       "      <td>Surgery</td>\n",
       "      <td>EGD with Dilation</td>\n",
       "      <td>INDICATION:  ,</td>\n",
       "      <td>surgery, egd, hurricaine spray, olympus endoscope, savary wire, cricopharyngeus, decubitus, dilator, duodenum, dysphagia, esophagus, hiatal hernia, peptic, pylorus, stomach, tortuosity, egd with dilation, tortuous, scope, hiatal, hernia,</td>\n",
       "      <td>3.0</td>\n",
       "    </tr>\n",
       "    <tr>\n",
       "      <th>1379</th>\n",
       "      <td>1379</td>\n",
       "      <td>Sample progress note - Gen Med.</td>\n",
       "      <td>SOAP / Chart / Progress Notes</td>\n",
       "      <td>Gen Med SOAP - 1</td>\n",
       "      <td>SUBJECTIVE:,</td>\n",
       "      <td>soap / chart / progress notes, progress note, clear to auscultation, s1, s2, s3, s4, blood pressure, clubbing, cyanosis, general medicine, peripheral edema, rubs, tenderness, abdomen, pressure, soap, blood</td>\n",
       "      <td>1.0</td>\n",
       "    </tr>\n",
       "    <tr>\n",
       "      <th>1525</th>\n",
       "      <td>1525</td>\n",
       "      <td>Dobutrex stress test for abnormal EKG</td>\n",
       "      <td>Radiology</td>\n",
       "      <td>Stress Test Dobutrex</td>\n",
       "      <td>INDICATIONS:,</td>\n",
       "      <td>radiology, dobutrex stress test, abnormal ekg, dobutrex, inferior abnormality, ischemic heart disease, ventricle, µg/kg/minute, stress test, stress,</td>\n",
       "      <td>1.0</td>\n",
       "    </tr>\n",
       "    <tr>\n",
       "      <th>1949</th>\n",
       "      <td>1949</td>\n",
       "      <td>Trigger Point Injection.  The area over the myofascial spasm was prepped with alcohol utilizing sterile technique.</td>\n",
       "      <td>Pain Management</td>\n",
       "      <td>Trigger Point Injection</td>\n",
       "      <td>OPERATION:,</td>\n",
       "      <td>pain management, myofascial spasm, trigger point injection, trigger, injection, spasm</td>\n",
       "      <td>1.0</td>\n",
       "    </tr>\n",
       "  </tbody>\n",
       "</table>\n",
       "</div>"
      ],
      "text/plain": [
       "      Unnamed: 0  \\\n",
       "24            24   \n",
       "872          872   \n",
       "1379        1379   \n",
       "1525        1525   \n",
       "1949        1949   \n",
       "\n",
       "                                                                                                             description  \\\n",
       "24                                                             Blood in urine - Transitional cell cancer of the bladder.   \n",
       "872                                                                                     EGD with dilation for dysphagia.   \n",
       "1379                                                                                     Sample progress note - Gen Med.   \n",
       "1525                                                                               Dobutrex stress test for abnormal EKG   \n",
       "1949  Trigger Point Injection.  The area over the myofascial spasm was prepped with alcohol utilizing sterile technique.   \n",
       "\n",
       "                  medical_specialty              sample_name  \\\n",
       "24                          Urology       Urology Consut - 1   \n",
       "872                         Surgery        EGD with Dilation   \n",
       "1379  SOAP / Chart / Progress Notes         Gen Med SOAP - 1   \n",
       "1525                      Radiology     Stress Test Dobutrex   \n",
       "1949                Pain Management  Trigger Point Injection   \n",
       "\n",
       "          transcription  \\\n",
       "24    CHIEF COMPLAINT:,   \n",
       "872      INDICATION:  ,   \n",
       "1379       SUBJECTIVE:,   \n",
       "1525      INDICATIONS:,   \n",
       "1949        OPERATION:,   \n",
       "\n",
       "                                                                                                                                                                                                                                           keywords  \\\n",
       "24                                                                                                                                                                                                                                              NaN   \n",
       "872   surgery, egd, hurricaine spray, olympus endoscope, savary wire, cricopharyngeus, decubitus, dilator, duodenum, dysphagia, esophagus, hiatal hernia, peptic, pylorus, stomach, tortuosity, egd with dilation, tortuous, scope, hiatal, hernia,   \n",
       "1379                                  soap / chart / progress notes, progress note, clear to auscultation, s1, s2, s3, s4, blood pressure, clubbing, cyanosis, general medicine, peripheral edema, rubs, tenderness, abdomen, pressure, soap, blood   \n",
       "1525                                                                                           radiology, dobutrex stress test, abnormal ekg, dobutrex, inferior abnormality, ischemic heart disease, ventricle, µg/kg/minute, stress test, stress,   \n",
       "1949                                                                                                                                                          pain management, myofascial spasm, trigger point injection, trigger, injection, spasm   \n",
       "\n",
       "      num_words  \n",
       "24          2.0  \n",
       "872         3.0  \n",
       "1379        1.0  \n",
       "1525        1.0  \n",
       "1949        1.0  "
      ]
     },
     "execution_count": 345,
     "metadata": {},
     "output_type": "execute_result"
    }
   ],
   "source": [
    "print(f\"There are {len(mtsamples[mtsamples['num_words'] < 5])} records with short notes.\")\n",
    "mtsamples[mtsamples['num_words'] < 5].head()"
   ]
  },
  {
   "cell_type": "code",
   "execution_count": 346,
   "metadata": {
    "id": "141ugTdB3ZlM"
   },
   "outputs": [],
   "source": [
    "# keep transcripts with 5 or more words\n",
    "mtsamples = mtsamples[mtsamples['num_words'] >= 5]"
   ]
  },
  {
   "cell_type": "code",
   "execution_count": 347,
   "metadata": {
    "colab": {
     "base_uri": "https://localhost:8080/"
    },
    "id": "DR5DkABr3ZlN",
    "outputId": "450fbe20-5feb-4f5d-91b5-e1d60c241538"
   },
   "outputs": [
    {
     "data": {
      "text/plain": [
       "Surgery                          1087\n",
       "Consult - History and Phy.        515\n",
       "Cardiovascular / Pulmonary        370\n",
       "Orthopedic                        352\n",
       "Radiology                         272\n",
       "General Medicine                  258\n",
       "Neurology                         223\n",
       "Gastroenterology                  223\n",
       "SOAP / Chart / Progress Notes     165\n",
       "Obstetrics / Gynecology           155\n",
       "Urology                           155\n",
       "Discharge Summary                 108\n",
       "ENT - Otolaryngology               96\n",
       "Neurosurgery                       94\n",
       "Hematology - Oncology              90\n",
       "Ophthalmology                      83\n",
       "Nephrology                         81\n",
       "Emergency Room Reports             75\n",
       "Pediatrics - Neonatal              70\n",
       "Pain Management                    59\n",
       "Psychiatry / Psychology            53\n",
       "Office Notes                       48\n",
       "Podiatry                           47\n",
       "Dermatology                        29\n",
       "Dentistry                          27\n",
       "Cosmetic / Plastic Surgery         27\n",
       "Letters                            23\n",
       "Physical Medicine - Rehab          21\n",
       "Sleep Medicine                     20\n",
       "Endocrinology                      19\n",
       "Bariatrics                         18\n",
       "IME-QME-Work Comp etc.             16\n",
       "Chiropractic                       13\n",
       "Rheumatology                       10\n",
       "Diets and Nutritions               10\n",
       "Speech - Language                   9\n",
       "Lab Medicine - Pathology            8\n",
       "Autopsy                             8\n",
       "Allergy / Immunology                7\n",
       "Hospice - Palliative Care           6\n",
       "Name: medical_specialty, dtype: int64"
      ]
     },
     "execution_count": 347,
     "metadata": {},
     "output_type": "execute_result"
    }
   ],
   "source": [
    "mtsamples.medical_specialty.value_counts()"
   ]
  },
  {
   "cell_type": "markdown",
   "metadata": {
    "id": "zsfjAtHS3ZlO"
   },
   "source": [
    "All machine learning models require a few examples to be able to train from. In this dataset, we will combine those categories with less than 50 examples into an 'Other' category. Later those more rare categories can be dealt with separately."
   ]
  },
  {
   "cell_type": "code",
   "execution_count": 348,
   "metadata": {
    "colab": {
     "base_uri": "https://localhost:8080/"
    },
    "id": "yFkGwy8V3ZlP",
    "outputId": "7829806b-fac2-481e-cd5a-3ae0fc9111b4"
   },
   "outputs": [],
   "source": [
    "mtsamples['counts'] = mtsamples.groupby(['medical_specialty'])['transcription'].transform('count')"
   ]
  },
  {
   "cell_type": "code",
   "execution_count": 350,
   "metadata": {},
   "outputs": [
    {
     "data": {
      "text/html": [
       "<div>\n",
       "<style scoped>\n",
       "    .dataframe tbody tr th:only-of-type {\n",
       "        vertical-align: middle;\n",
       "    }\n",
       "\n",
       "    .dataframe tbody tr th {\n",
       "        vertical-align: top;\n",
       "    }\n",
       "\n",
       "    .dataframe thead th {\n",
       "        text-align: right;\n",
       "    }\n",
       "</style>\n",
       "<table border=\"1\" class=\"dataframe\">\n",
       "  <thead>\n",
       "    <tr style=\"text-align: right;\">\n",
       "      <th></th>\n",
       "      <th>Unnamed: 0</th>\n",
       "      <th>description</th>\n",
       "      <th>medical_specialty</th>\n",
       "      <th>sample_name</th>\n",
       "      <th>transcription</th>\n",
       "      <th>keywords</th>\n",
       "      <th>num_words</th>\n",
       "      <th>counts</th>\n",
       "    </tr>\n",
       "  </thead>\n",
       "  <tbody>\n",
       "    <tr>\n",
       "      <th>0</th>\n",
       "      <td>0</td>\n",
       "      <td>A 23-year-old white female presents with complaint of allergies.</td>\n",
       "      <td>Other</td>\n",
       "      <td>Allergic Rhinitis</td>\n",
       "      <td>SUBJECTIVE:,  This 23-year-old white female presents with complaint of allergies.  She used to have allergies when she lived in Seattle but she thinks they are worse here.  In the past, she has tried Claritin, and Zyrtec.  Both worked for short time but then seemed to lose effectiveness.  She has used Allegra also.  She used that last summer and she began using it again two weeks ago.  It does not appear to be working very well.  She has used over-the-counter sprays but no prescription nasal sprays.  She does have asthma but doest not require daily medication for this and does not think it...</td>\n",
       "      <td>allergy / immunology, allergic rhinitis, allergies, asthma, nasal sprays, rhinitis, nasal, erythematous, allegra, sprays, allergic,</td>\n",
       "      <td>226.0</td>\n",
       "      <td>7</td>\n",
       "    </tr>\n",
       "    <tr>\n",
       "      <th>1</th>\n",
       "      <td>1</td>\n",
       "      <td>Consult for laparoscopic gastric bypass.</td>\n",
       "      <td>Other</td>\n",
       "      <td>Laparoscopic Gastric Bypass Consult - 2</td>\n",
       "      <td>PAST MEDICAL HISTORY:, He has difficulty climbing stairs, difficulty with airline seats, tying shoes, used to public seating, and lifting objects off the floor.  He exercises three times a week at home and does cardio.  He has difficulty walking two blocks or five flights of stairs.  Difficulty with snoring.  He has muscle and joint pains including knee pain, back pain, foot and ankle pain, and swelling.  He has gastroesophageal reflux disease.,PAST SURGICAL HISTORY:, Includes reconstructive surgery on his right hand 13 years ago.  ,SOCIAL HISTORY:, He is currently single.  He has about te...</td>\n",
       "      <td>bariatrics, laparoscopic gastric bypass, weight loss programs, gastric bypass, atkin's diet, weight watcher's, body weight, laparoscopic gastric, weight loss, pounds, months, weight, laparoscopic, band, loss, diets, overweight, lost</td>\n",
       "      <td>375.0</td>\n",
       "      <td>18</td>\n",
       "    </tr>\n",
       "    <tr>\n",
       "      <th>2</th>\n",
       "      <td>2</td>\n",
       "      <td>Consult for laparoscopic gastric bypass.</td>\n",
       "      <td>Other</td>\n",
       "      <td>Laparoscopic Gastric Bypass Consult - 1</td>\n",
       "      <td>HISTORY OF PRESENT ILLNESS: , I have seen ABC today.  He is a very pleasant gentleman who is 42 years old, 344 pounds.  He is 5'9\".  He has a BMI of 51.  He has been overweight for ten years since the age of 33, at his highest he was 358 pounds, at his lowest 260.  He is pursuing surgical attempts of weight loss to feel good, get healthy, and begin to exercise again.  He wants to be able to exercise and play volleyball.  Physically, he is sluggish.  He gets tired quickly.  He does not go out often.  When he loses weight he always regains it and he gains back more than he lost.  His biggest...</td>\n",
       "      <td>bariatrics, laparoscopic gastric bypass, heart attacks, body weight, pulmonary embolism, potential complications, sleep study, weight loss, gastric bypass, anastomosis, loss, sleep, laparoscopic, gastric, bypass, heart, pounds, weight,</td>\n",
       "      <td>774.0</td>\n",
       "      <td>18</td>\n",
       "    </tr>\n",
       "    <tr>\n",
       "      <th>3</th>\n",
       "      <td>3</td>\n",
       "      <td>2-D M-Mode. Doppler.</td>\n",
       "      <td>Cardiovascular / Pulmonary</td>\n",
       "      <td>2-D Echocardiogram - 1</td>\n",
       "      <td>2-D M-MODE: , ,1.  Left atrial enlargement with left atrial diameter of 4.7 cm.,2.  Normal size right and left ventricle.,3.  Normal LV systolic function with left ventricular ejection fraction of 51%.,4.  Normal LV diastolic function.,5.  No pericardial effusion.,6.  Normal morphology of aortic valve, mitral valve, tricuspid valve, and pulmonary valve.,7.  PA systolic pressure is 36 mmHg.,DOPPLER: , ,1.  Mild mitral and tricuspid regurgitation.,2.  Trace aortic and pulmonary regurgitation.</td>\n",
       "      <td>cardiovascular / pulmonary, 2-d m-mode, doppler, aortic valve, atrial enlargement, diastolic function, ejection fraction, mitral, mitral valve, pericardial effusion, pulmonary valve, regurgitation, systolic function, tricuspid, tricuspid valve, normal lv</td>\n",
       "      <td>77.0</td>\n",
       "      <td>370</td>\n",
       "    </tr>\n",
       "    <tr>\n",
       "      <th>4</th>\n",
       "      <td>4</td>\n",
       "      <td>2-D Echocardiogram</td>\n",
       "      <td>Cardiovascular / Pulmonary</td>\n",
       "      <td>2-D Echocardiogram - 2</td>\n",
       "      <td>1.  The left ventricular cavity size and wall thickness appear normal.  The wall motion and left ventricular systolic function appears hyperdynamic with estimated ejection fraction of 70% to 75%.  There is near-cavity obliteration seen.  There also appears to be increased left ventricular outflow tract gradient at the mid cavity level consistent with hyperdynamic left ventricular systolic function.  There is abnormal left ventricular relaxation pattern seen as well as elevated left atrial pressures seen by Doppler examination.,2.  The left atrium appears mildly dilated.,3.  The right atriu...</td>\n",
       "      <td>cardiovascular / pulmonary, 2-d, doppler, echocardiogram, annular, aortic root, aortic valve, atrial, atrium, calcification, cavity, ejection fraction, mitral, obliteration, outflow, regurgitation, relaxation pattern, stenosis, systolic function, tricuspid, valve, ventricular, ventricular cavity, wall motion, pulmonary artery</td>\n",
       "      <td>246.0</td>\n",
       "      <td>370</td>\n",
       "    </tr>\n",
       "    <tr>\n",
       "      <th>...</th>\n",
       "      <td>...</td>\n",
       "      <td>...</td>\n",
       "      <td>...</td>\n",
       "      <td>...</td>\n",
       "      <td>...</td>\n",
       "      <td>...</td>\n",
       "      <td>...</td>\n",
       "      <td>...</td>\n",
       "    </tr>\n",
       "    <tr>\n",
       "      <th>4994</th>\n",
       "      <td>4994</td>\n",
       "      <td>Patient having severe sinusitis about two to three months ago with facial discomfort, nasal congestion, eye pain, and postnasal drip symptoms.</td>\n",
       "      <td>Other</td>\n",
       "      <td>Chronic Sinusitis</td>\n",
       "      <td>HISTORY:,  I had the pleasure of meeting and evaluating the patient referred today for evaluation and treatment of chronic sinusitis.  As you are well aware, she is a pleasant 50-year-old female who states she started having severe sinusitis about two to three months ago with facial discomfort, nasal congestion, eye pain, and postnasal drip symptoms.  She states she really has sinus problems, but this infection has been rather severe and she notes she has not had much improvement with antibiotics.  She had a CT of her paranasal sinuses identifying mild mucosal thickening of right paranasal...</td>\n",
       "      <td>NaN</td>\n",
       "      <td>840.0</td>\n",
       "      <td>7</td>\n",
       "    </tr>\n",
       "    <tr>\n",
       "      <th>4995</th>\n",
       "      <td>4995</td>\n",
       "      <td>This is a 14-month-old baby boy Caucasian who came in with presumptive diagnosis of Kawasaki with fever for more than 5 days and conjunctivitis, mild arthritis with edema, rash, resolving and with elevated neutrophils and thrombocytosis, elevated CRP and ESR.</td>\n",
       "      <td>Other</td>\n",
       "      <td>Kawasaki Disease - Discharge Summary</td>\n",
       "      <td>ADMITTING DIAGNOSIS: , Kawasaki disease.,DISCHARGE DIAGNOSIS:,  Kawasaki disease, resolving.,HOSPITAL COURSE:,  This is a 14-month-old baby boy Caucasian who came in with presumptive diagnosis of Kawasaki with fever for more than 5 days and conjunctivitis, mild arthritis with edema, rash, resolving and with elevated neutrophils and thrombocytosis, elevated CRP and ESR.  When he was sent to the hospital, he had a fever of 102.  Subsequently, the patient was evaluated and based on the criteria, he was started on high dose of aspirin and IVIG.  Echocardiogram was also done, which was negative...</td>\n",
       "      <td>allergy / immunology, mucous membranes, conjunctivitis, ad lib, kawasaki disease, vaccine, fever, aspirin</td>\n",
       "      <td>282.0</td>\n",
       "      <td>7</td>\n",
       "    </tr>\n",
       "    <tr>\n",
       "      <th>4996</th>\n",
       "      <td>4996</td>\n",
       "      <td>A female for a complete physical and follow up on asthma with allergic rhinitis.</td>\n",
       "      <td>Other</td>\n",
       "      <td>Followup on Asthma</td>\n",
       "      <td>SUBJECTIVE: , This is a 42-year-old white female who comes in today for a complete physical and follow up on asthma.  She says her asthma has been worse over the last three months.  She has been using her inhaler daily.  Her allergies seem to be a little bit worse as well.  Her husband has been hauling corn and this seems to aggravate things.  She has not been taking Allegra daily but when she does take it, it seems to help somewhat.  She has not been taking her Flonase which has helped her in the past.  She also notes that in the past she was on Advair but she got some vaginal irritation ...</td>\n",
       "      <td>NaN</td>\n",
       "      <td>787.0</td>\n",
       "      <td>7</td>\n",
       "    </tr>\n",
       "    <tr>\n",
       "      <th>4997</th>\n",
       "      <td>4997</td>\n",
       "      <td>Mother states he has been wheezing and coughing.</td>\n",
       "      <td>Other</td>\n",
       "      <td>Asthma in a 5-year-old</td>\n",
       "      <td>CHIEF COMPLAINT: , This 5-year-old male presents to Children's Hospital Emergency Department by the mother with \"have asthma.\"  Mother states he has been wheezing and coughing.  They saw their primary medical doctor.  He was evaluated at the clinic, given the breathing treatment and discharged home, was not having asthma, prescribed prednisone and an antibiotic.  They told to go to the ER if he got worse.  He has had some vomiting and some abdominal pain.  His peak flows on the morning are normal at 150, but in the morning, they were down to 100 and subsequently decreased to 75 over the co...</td>\n",
       "      <td>NaN</td>\n",
       "      <td>426.0</td>\n",
       "      <td>7</td>\n",
       "    </tr>\n",
       "    <tr>\n",
       "      <th>4998</th>\n",
       "      <td>4998</td>\n",
       "      <td>Acute allergic reaction, etiology uncertain, however, suspicious for Keflex.</td>\n",
       "      <td>Other</td>\n",
       "      <td>Allergy Evaluation Consult</td>\n",
       "      <td>HISTORY: , A 34-year-old male presents today self-referred at the recommendation of Emergency Room physicians and his nephrologist to pursue further allergy evaluation and treatment.  Please refer to chart for history and physical, as well as the medical records regarding his allergic reaction treatment at ABC Medical Center for further details and studies.  In summary, the patient had an acute event of perioral swelling, etiology uncertain, occurring on 05/03/2008 requiring transfer from ABC Medical Center to XYZ Medical Center due to a history of renal failure requiring dialysis and he w...</td>\n",
       "      <td>NaN</td>\n",
       "      <td>683.0</td>\n",
       "      <td>7</td>\n",
       "    </tr>\n",
       "  </tbody>\n",
       "</table>\n",
       "<p>4950 rows × 8 columns</p>\n",
       "</div>"
      ],
      "text/plain": [
       "      Unnamed: 0  \\\n",
       "0              0   \n",
       "1              1   \n",
       "2              2   \n",
       "3              3   \n",
       "4              4   \n",
       "...          ...   \n",
       "4994        4994   \n",
       "4995        4995   \n",
       "4996        4996   \n",
       "4997        4997   \n",
       "4998        4998   \n",
       "\n",
       "                                                                                                                                                                                                                                                              description  \\\n",
       "0                                                                                                                                                                                                        A 23-year-old white female presents with complaint of allergies.   \n",
       "1                                                                                                                                                                                                                                Consult for laparoscopic gastric bypass.   \n",
       "2                                                                                                                                                                                                                                Consult for laparoscopic gastric bypass.   \n",
       "3                                                                                                                                                                                                                                                    2-D M-Mode. Doppler.   \n",
       "4                                                                                                                                                                                                                                                      2-D Echocardiogram   \n",
       "...                                                                                                                                                                                                                                                                   ...   \n",
       "4994                                                                                                                       Patient having severe sinusitis about two to three months ago with facial discomfort, nasal congestion, eye pain, and postnasal drip symptoms.   \n",
       "4995  This is a 14-month-old baby boy Caucasian who came in with presumptive diagnosis of Kawasaki with fever for more than 5 days and conjunctivitis, mild arthritis with edema, rash, resolving and with elevated neutrophils and thrombocytosis, elevated CRP and ESR.   \n",
       "4996                                                                                                                                                                                     A female for a complete physical and follow up on asthma with allergic rhinitis.   \n",
       "4997                                                                                                                                                                                                                     Mother states he has been wheezing and coughing.   \n",
       "4998                                                                                                                                                                                         Acute allergic reaction, etiology uncertain, however, suspicious for Keflex.   \n",
       "\n",
       "               medical_specialty                              sample_name  \\\n",
       "0                          Other                        Allergic Rhinitis   \n",
       "1                          Other  Laparoscopic Gastric Bypass Consult - 2   \n",
       "2                          Other  Laparoscopic Gastric Bypass Consult - 1   \n",
       "3     Cardiovascular / Pulmonary                   2-D Echocardiogram - 1   \n",
       "4     Cardiovascular / Pulmonary                   2-D Echocardiogram - 2   \n",
       "...                          ...                                      ...   \n",
       "4994                       Other                        Chronic Sinusitis   \n",
       "4995                       Other     Kawasaki Disease - Discharge Summary   \n",
       "4996                       Other                       Followup on Asthma   \n",
       "4997                       Other                   Asthma in a 5-year-old   \n",
       "4998                       Other               Allergy Evaluation Consult   \n",
       "\n",
       "                                                                                                                                                                                                                                                                                                                                                                                                                                                                                                                                                                                                                transcription  \\\n",
       "0     SUBJECTIVE:,  This 23-year-old white female presents with complaint of allergies.  She used to have allergies when she lived in Seattle but she thinks they are worse here.  In the past, she has tried Claritin, and Zyrtec.  Both worked for short time but then seemed to lose effectiveness.  She has used Allegra also.  She used that last summer and she began using it again two weeks ago.  It does not appear to be working very well.  She has used over-the-counter sprays but no prescription nasal sprays.  She does have asthma but doest not require daily medication for this and does not think it...   \n",
       "1     PAST MEDICAL HISTORY:, He has difficulty climbing stairs, difficulty with airline seats, tying shoes, used to public seating, and lifting objects off the floor.  He exercises three times a week at home and does cardio.  He has difficulty walking two blocks or five flights of stairs.  Difficulty with snoring.  He has muscle and joint pains including knee pain, back pain, foot and ankle pain, and swelling.  He has gastroesophageal reflux disease.,PAST SURGICAL HISTORY:, Includes reconstructive surgery on his right hand 13 years ago.  ,SOCIAL HISTORY:, He is currently single.  He has about te...   \n",
       "2     HISTORY OF PRESENT ILLNESS: , I have seen ABC today.  He is a very pleasant gentleman who is 42 years old, 344 pounds.  He is 5'9\".  He has a BMI of 51.  He has been overweight for ten years since the age of 33, at his highest he was 358 pounds, at his lowest 260.  He is pursuing surgical attempts of weight loss to feel good, get healthy, and begin to exercise again.  He wants to be able to exercise and play volleyball.  Physically, he is sluggish.  He gets tired quickly.  He does not go out often.  When he loses weight he always regains it and he gains back more than he lost.  His biggest...   \n",
       "3                                                                                                             2-D M-MODE: , ,1.  Left atrial enlargement with left atrial diameter of 4.7 cm.,2.  Normal size right and left ventricle.,3.  Normal LV systolic function with left ventricular ejection fraction of 51%.,4.  Normal LV diastolic function.,5.  No pericardial effusion.,6.  Normal morphology of aortic valve, mitral valve, tricuspid valve, and pulmonary valve.,7.  PA systolic pressure is 36 mmHg.,DOPPLER: , ,1.  Mild mitral and tricuspid regurgitation.,2.  Trace aortic and pulmonary regurgitation.   \n",
       "4     1.  The left ventricular cavity size and wall thickness appear normal.  The wall motion and left ventricular systolic function appears hyperdynamic with estimated ejection fraction of 70% to 75%.  There is near-cavity obliteration seen.  There also appears to be increased left ventricular outflow tract gradient at the mid cavity level consistent with hyperdynamic left ventricular systolic function.  There is abnormal left ventricular relaxation pattern seen as well as elevated left atrial pressures seen by Doppler examination.,2.  The left atrium appears mildly dilated.,3.  The right atriu...   \n",
       "...                                                                                                                                                                                                                                                                                                                                                                                                                                                                                                                                                                                                                       ...   \n",
       "4994  HISTORY:,  I had the pleasure of meeting and evaluating the patient referred today for evaluation and treatment of chronic sinusitis.  As you are well aware, she is a pleasant 50-year-old female who states she started having severe sinusitis about two to three months ago with facial discomfort, nasal congestion, eye pain, and postnasal drip symptoms.  She states she really has sinus problems, but this infection has been rather severe and she notes she has not had much improvement with antibiotics.  She had a CT of her paranasal sinuses identifying mild mucosal thickening of right paranasal...   \n",
       "4995  ADMITTING DIAGNOSIS: , Kawasaki disease.,DISCHARGE DIAGNOSIS:,  Kawasaki disease, resolving.,HOSPITAL COURSE:,  This is a 14-month-old baby boy Caucasian who came in with presumptive diagnosis of Kawasaki with fever for more than 5 days and conjunctivitis, mild arthritis with edema, rash, resolving and with elevated neutrophils and thrombocytosis, elevated CRP and ESR.  When he was sent to the hospital, he had a fever of 102.  Subsequently, the patient was evaluated and based on the criteria, he was started on high dose of aspirin and IVIG.  Echocardiogram was also done, which was negative...   \n",
       "4996  SUBJECTIVE: , This is a 42-year-old white female who comes in today for a complete physical and follow up on asthma.  She says her asthma has been worse over the last three months.  She has been using her inhaler daily.  Her allergies seem to be a little bit worse as well.  Her husband has been hauling corn and this seems to aggravate things.  She has not been taking Allegra daily but when she does take it, it seems to help somewhat.  She has not been taking her Flonase which has helped her in the past.  She also notes that in the past she was on Advair but she got some vaginal irritation ...   \n",
       "4997  CHIEF COMPLAINT: , This 5-year-old male presents to Children's Hospital Emergency Department by the mother with \"have asthma.\"  Mother states he has been wheezing and coughing.  They saw their primary medical doctor.  He was evaluated at the clinic, given the breathing treatment and discharged home, was not having asthma, prescribed prednisone and an antibiotic.  They told to go to the ER if he got worse.  He has had some vomiting and some abdominal pain.  His peak flows on the morning are normal at 150, but in the morning, they were down to 100 and subsequently decreased to 75 over the co...   \n",
       "4998  HISTORY: , A 34-year-old male presents today self-referred at the recommendation of Emergency Room physicians and his nephrologist to pursue further allergy evaluation and treatment.  Please refer to chart for history and physical, as well as the medical records regarding his allergic reaction treatment at ABC Medical Center for further details and studies.  In summary, the patient had an acute event of perioral swelling, etiology uncertain, occurring on 05/03/2008 requiring transfer from ABC Medical Center to XYZ Medical Center due to a history of renal failure requiring dialysis and he w...   \n",
       "\n",
       "                                                                                                                                                                                                                                                                                                                                     keywords  \\\n",
       "0                                                                                                                                                                                                         allergy / immunology, allergic rhinitis, allergies, asthma, nasal sprays, rhinitis, nasal, erythematous, allegra, sprays, allergic,   \n",
       "1                                                                                                    bariatrics, laparoscopic gastric bypass, weight loss programs, gastric bypass, atkin's diet, weight watcher's, body weight, laparoscopic gastric, weight loss, pounds, months, weight, laparoscopic, band, loss, diets, overweight, lost   \n",
       "2                                                                                                 bariatrics, laparoscopic gastric bypass, heart attacks, body weight, pulmonary embolism, potential complications, sleep study, weight loss, gastric bypass, anastomosis, loss, sleep, laparoscopic, gastric, bypass, heart, pounds, weight,   \n",
       "3                                                                              cardiovascular / pulmonary, 2-d m-mode, doppler, aortic valve, atrial enlargement, diastolic function, ejection fraction, mitral, mitral valve, pericardial effusion, pulmonary valve, regurgitation, systolic function, tricuspid, tricuspid valve, normal lv   \n",
       "4     cardiovascular / pulmonary, 2-d, doppler, echocardiogram, annular, aortic root, aortic valve, atrial, atrium, calcification, cavity, ejection fraction, mitral, obliteration, outflow, regurgitation, relaxation pattern, stenosis, systolic function, tricuspid, valve, ventricular, ventricular cavity, wall motion, pulmonary artery   \n",
       "...                                                                                                                                                                                                                                                                                                                                       ...   \n",
       "4994                                                                                                                                                                                                                                                                                                                                      NaN   \n",
       "4995                                                                                                                                                                                                                                allergy / immunology, mucous membranes, conjunctivitis, ad lib, kawasaki disease, vaccine, fever, aspirin   \n",
       "4996                                                                                                                                                                                                                                                                                                                                      NaN   \n",
       "4997                                                                                                                                                                                                                                                                                                                                      NaN   \n",
       "4998                                                                                                                                                                                                                                                                                                                                      NaN   \n",
       "\n",
       "      num_words  counts  \n",
       "0         226.0       7  \n",
       "1         375.0      18  \n",
       "2         774.0      18  \n",
       "3          77.0     370  \n",
       "4         246.0     370  \n",
       "...         ...     ...  \n",
       "4994      840.0       7  \n",
       "4995      282.0       7  \n",
       "4996      787.0       7  \n",
       "4997      426.0       7  \n",
       "4998      683.0       7  \n",
       "\n",
       "[4950 rows x 8 columns]"
      ]
     },
     "execution_count": 350,
     "metadata": {},
     "output_type": "execute_result"
    }
   ],
   "source": [
    "mtsamples.head()"
   ]
  },
  {
   "cell_type": "code",
   "execution_count": 351,
   "metadata": {
    "id": "V_--VeCD3ZlQ"
   },
   "outputs": [],
   "source": [
    "# for now just drop the infrequent categories\n",
    "mtsamples = mtsamples[mtsamples.counts >= 100]"
   ]
  },
  {
   "cell_type": "code",
   "execution_count": 352,
   "metadata": {},
   "outputs": [],
   "source": [
    "# as surgery and general medicine actuallly overlap with many of the other note types, drop these\n",
    "mtsamples = mtsamples[mtsamples.medical_specialty != 'Surgery']\n",
    "mtsamples = mtsamples[mtsamples.medical_specialty != 'General Medicine']"
   ]
  },
  {
   "cell_type": "code",
   "execution_count": 353,
   "metadata": {
    "colab": {
     "base_uri": "https://localhost:8080/"
    },
    "id": "8gwpakiv3ZlQ",
    "outputId": "f5358f28-7b78-46b3-a50c-2bae91b09a70"
   },
   "outputs": [
    {
     "data": {
      "text/plain": [
       "Consult - History and Phy.       515\n",
       "Cardiovascular / Pulmonary       370\n",
       "Orthopedic                       352\n",
       "Radiology                        272\n",
       "Neurology                        223\n",
       "Gastroenterology                 223\n",
       "SOAP / Chart / Progress Notes    165\n",
       "Obstetrics / Gynecology          155\n",
       "Urology                          155\n",
       "Discharge Summary                108\n",
       "Name: medical_specialty, dtype: int64"
      ]
     },
     "execution_count": 353,
     "metadata": {},
     "output_type": "execute_result"
    }
   ],
   "source": [
    "mtsamples.medical_specialty.value_counts()"
   ]
  },
  {
   "cell_type": "code",
   "execution_count": 354,
   "metadata": {
    "id": "X-iYd330luBp"
   },
   "outputs": [],
   "source": [
    "# if changes in the above were made (such as batch size), it may be beneficial to purge GPU memory\n",
    "gc.collect()\n",
    "torch.cuda.empty_cache()\n",
    "gc.collect()\n",
    "torch.cuda.empty_cache()"
   ]
  },
  {
   "cell_type": "code",
   "execution_count": 355,
   "metadata": {
    "colab": {
     "base_uri": "https://localhost:8080/",
     "height": 72
    },
    "id": "982bac9a",
    "outputId": "d811547a-b7d6-40d4-ca91-db234b03f22e"
   },
   "outputs": [
    {
     "data": {
      "text/html": [],
      "text/plain": [
       "<IPython.core.display.HTML object>"
      ]
     },
     "metadata": {},
     "output_type": "display_data"
    },
    {
     "name": "stderr",
     "output_type": "stream",
     "text": [
      "/opt/miniconda3/envs/coprh/lib/python3.7/site-packages/numpy/core/_asarray.py:83: VisibleDeprecationWarning: Creating an ndarray from ragged nested sequences (which is a list-or-tuple of lists-or-tuples-or ndarrays with different lengths or shapes) is deprecated. If you meant to do this, you must specify 'dtype=object' when creating the ndarray\n",
      "  return array(a, dtype, copy=False, order=order)\n"
     ]
    }
   ],
   "source": [
    "# this cell takes about 2 minutes to run\n",
    "dls_clas = DataBlock(\n",
    "    blocks=(TextBlock.from_df('transcription', vocab=dls_lm.vocab), CategoryBlock),\n",
    "    get_x=ColReader('text'),\n",
    "    get_y=ColReader('medical_specialty'),\n",
    "#     splitter=TrainTestSplitter(test_size=0.2,\n",
    "#                                random_state=42)\n",
    "    splitter=TrainTestSplitter(test_size=0.2,\n",
    "                               random_state=42,\n",
    "                               stratify=mtsamples.medical_specialty)\n",
    ").dataloaders(mtsamples, bs=256, seq_len=sequence_length)"
   ]
  },
  {
   "cell_type": "code",
   "execution_count": 356,
   "metadata": {
    "colab": {
     "base_uri": "https://localhost:8080/",
     "height": 380
    },
    "id": "e62acb3b",
    "outputId": "bb0cec1b-2cb1-419a-8bbf-02c58a43160d"
   },
   "outputs": [
    {
     "data": {
      "text/html": [
       "<table border=\"1\" class=\"dataframe\">\n",
       "  <thead>\n",
       "    <tr style=\"text-align: right;\">\n",
       "      <th></th>\n",
       "      <th>text</th>\n",
       "      <th>category</th>\n",
       "    </tr>\n",
       "  </thead>\n",
       "  <tbody>\n",
       "    <tr>\n",
       "      <th>0</th>\n",
       "      <td>xxbos xxup history xxup of xxup present xxup illness : , the patient is a 79 - year - old right - handed man who reports that approximately one and a half years ago , he fell down while walking in the living room from the bedroom . xxmaj at that time , he reports both legs gave away on him and he fell . xxmaj he reported that he had some lightheadedness just before he fell and was slightly confused , but was aware of what was happening around him . xxmaj he was able to get up shortly after falling and according to the patient and his son , subsequently returned back to normal . ,he was then well until the 3rd of xxmaj july 2008 when his legs again gave way on him . xxmaj this was not preceded by lightheadedness . xxmaj he was rushed to</td>\n",
       "      <td>Consult - History and Phy.</td>\n",
       "    </tr>\n",
       "    <tr>\n",
       "      <th>1</th>\n",
       "      <td>xxbos xxup history xxup of xxup present xxup illness : , the patient is a 79 - year - old right - handed man who reports that approximately one and a half years ago , he fell down while walking in the living room from the bedroom . xxmaj at that time , he reports both legs gave away on him and he fell . xxmaj he reported that he had some lightheadedness just before he fell and was slightly confused , but was aware of what was happening around him . xxmaj he was able to get up shortly after falling and according to the patient and his son , subsequently returned back to normal . ,he was then well until the 3rd of xxmaj july 2008 when his legs again gave way on him . xxmaj this was not preceded by lightheadedness . xxmaj he was rushed to</td>\n",
       "      <td>Neurology</td>\n",
       "    </tr>\n",
       "    <tr>\n",
       "      <th>2</th>\n",
       "      <td>xxbos xxup preoperative xxup diagnoses:,1 . xxmaj hallux abductovalgus , right foot . ,2 . xxmaj hammer toe , right foot , second , third , fourth and fifth toes . ,3 . xxmaj tailor 's bunionette , right foot . ,4 . xxmaj degenerative joint disease , right first metatarsophalangeal joint . ,5 . xxmaj rheumatoid arthritis . ,6 . xxmaj contracted fourth right metatarsophalangeal joint . ,postoperative xxup diagnoses:,1 . xxmaj hallux abductovalgus , right foot . ,2 . xxmaj hammer toe , right foot , second , third , fourth and fifth toes . ,3 . xxmaj tailor 's bunionette , right foot . ,4 . xxmaj degenerative joint disease , right first metatarsophalangeal joint . ,5 . xxmaj rheumatoid arthritis . ,6 . xxmaj contracted fourth right metatarsophalangeal joint . ,procedures xxup performed:,1 . xxmaj bunionectomy , right foot with xxmaj biopro hemi implant , right</td>\n",
       "      <td>Orthopedic</td>\n",
       "    </tr>\n",
       "    <tr>\n",
       "      <th>3</th>\n",
       "      <td>xxbos xxup reason xxup for xxup referral : , xxmaj the patient is a 58 - year - old african - american right - handed female with 16 years of education who was referred for a neuropsychological evaluation by xxmaj dr . xxup x. xxmaj she is presenting for a second opinion following a recent neuropsychological evaluation that was ordered by her former place of employment that suggested that she was in the \" early stages of a likely dementia \" and was thereafter terminated from her position as a psychiatric nurse . a comprehensive evaluation was requested to assess current cognitive functioning and assist with diagnostic decisions and treatment planning . xxmaj note that this evaluation was undertaken as a clinical exam and intended for the purposes of aiding with treatment planning . xxmaj the patient was fully informed about the nature of this evaluation and intended use of</td>\n",
       "      <td>Consult - History and Phy.</td>\n",
       "    </tr>\n",
       "    <tr>\n",
       "      <th>4</th>\n",
       "      <td>xxbos xxup preoperative xxup diagnoses:,1 . xxmaj clinical stage xxup t2 , xxup nx , xxup mx transitional cell carcinoma of the urinary bladder , status post chemotherapy and radiation therapy . ,2 . xxmaj new right hydronephrosis . ,postoperative xxup diagnoses:,1 . xxmaj clinical stage xxmaj xxunk , xxup n3 , xxup m1 transitional cell carcinoma of the urinary bladder , status post chemotherapy and radiation therapy . ,2 . xxmaj new right hydronephrosis . ,3 . xxmaj carcinoid tumor of the small bowel . ,title xxup of xxup operation : , xxmaj exploratory laparotomy , resection of small bowel lesion , biopsy of small bowel mesentery , bilateral extended pelvic and iliac lymphadenectomy ( including xxunk and precaval , bilateral common iliac , presacral , bilateral external iliac lymph nodes ) , salvage radical cystoprostatectomy ( very difficult due to previous chemotherapy and radiation therapy ) , and</td>\n",
       "      <td>Urology</td>\n",
       "    </tr>\n",
       "  </tbody>\n",
       "</table>"
      ],
      "text/plain": [
       "<IPython.core.display.HTML object>"
      ]
     },
     "metadata": {},
     "output_type": "display_data"
    }
   ],
   "source": [
    "dls_clas.show_batch(max_n=5)"
   ]
  },
  {
   "cell_type": "code",
   "execution_count": 357,
   "metadata": {},
   "outputs": [],
   "source": [
    "# del(learn)"
   ]
  },
  {
   "cell_type": "code",
   "execution_count": 358,
   "metadata": {
    "id": "ac12345f"
   },
   "outputs": [],
   "source": [
    "learn = text_classifier_learner(\n",
    "    dls_clas,\n",
    "    AWD_LSTM,\n",
    "    drop_mult=0.3,\n",
    "    metrics=accuracy,\n",
    "    model_dir=model_path).to_fp16()\n",
    "# maybe try without fp16?"
   ]
  },
  {
   "cell_type": "code",
   "execution_count": 359,
   "metadata": {
    "id": "8c2a043a"
   },
   "outputs": [],
   "source": [
    "# load the encoder used for the language model - must be the same to build off language model.\n",
    "learn = learn.load_encoder('lm_finetuned')"
   ]
  },
  {
   "cell_type": "code",
   "execution_count": 360,
   "metadata": {
    "colab": {
     "base_uri": "https://localhost:8080/",
     "height": 306
    },
    "id": "eMmosjDCzBT2",
    "outputId": "38e89cd1-6746-4a56-8a28-f36b39370dfb"
   },
   "outputs": [
    {
     "data": {
      "text/html": [],
      "text/plain": [
       "<IPython.core.display.HTML object>"
      ]
     },
     "metadata": {},
     "output_type": "display_data"
    },
    {
     "data": {
      "text/plain": [
       "SuggestedLRs(lr_min=0.33113112449646, lr_steep=0.43651583790779114)"
      ]
     },
     "execution_count": 360,
     "metadata": {},
     "output_type": "execute_result"
    },
    {
     "data": {
      "image/png": "[encoded data removed]",
      "text/plain": [
       "<Figure size 432x288 with 1 Axes>"
      ]
     },
     "metadata": {
      "needs_background": "light"
     },
     "output_type": "display_data"
    }
   ],
   "source": [
    "# attempt to find a decent learning rate for this dataset\n",
    "learn.lr_find()"
   ]
  },
  {
   "cell_type": "code",
   "execution_count": 361,
   "metadata": {
    "colab": {
     "base_uri": "https://localhost:8080/",
     "height": 697
    },
    "id": "e3b92d1a",
    "outputId": "426549ed-d55d-4c34-be8f-1e3e39ca76b5"
   },
   "outputs": [
    {
     "data": {
      "text/html": [
       "<table border=\"1\" class=\"dataframe\">\n",
       "  <thead>\n",
       "    <tr style=\"text-align: left;\">\n",
       "      <th>epoch</th>\n",
       "      <th>train_loss</th>\n",
       "      <th>valid_loss</th>\n",
       "      <th>accuracy</th>\n",
       "      <th>time</th>\n",
       "    </tr>\n",
       "  </thead>\n",
       "  <tbody>\n",
       "    <tr>\n",
       "      <td>0</td>\n",
       "      <td>2.237449</td>\n",
       "      <td>2.580991</td>\n",
       "      <td>0.202756</td>\n",
       "      <td>00:06</td>\n",
       "    </tr>\n",
       "  </tbody>\n",
       "</table>"
      ],
      "text/plain": [
       "<IPython.core.display.HTML object>"
      ]
     },
     "metadata": {},
     "output_type": "display_data"
    }
   ],
   "source": [
    "learn.fit_one_cycle(1, 3e-1)\n",
    "# learn.fit_one_cycle(20, 3e-1) .24 - .58, best .61\n",
    "# learn.fit_one_cycle(10, 3e-1) .24 - .57"
   ]
  },
  {
   "cell_type": "code",
   "execution_count": 362,
   "metadata": {
    "colab": {
     "base_uri": "https://localhost:8080/"
    },
    "id": "3a1pZpOB0KsU",
    "outputId": "3c823d73-a96a-40b3-9361-9eeb11a29758"
   },
   "outputs": [
    {
     "data": {
      "text/plain": [
       "Path('/home/sethr/coprh-nlp-2021/models/class_part_1.pth')"
      ]
     },
     "execution_count": 362,
     "metadata": {},
     "output_type": "execute_result"
    }
   ],
   "source": [
    "learn.save('class_part_1')"
   ]
  },
  {
   "cell_type": "code",
   "execution_count": 363,
   "metadata": {},
   "outputs": [],
   "source": [
    "# learn = learn.load('class_part_1')"
   ]
  },
  {
   "cell_type": "code",
   "execution_count": 364,
   "metadata": {
    "colab": {
     "base_uri": "https://localhost:8080/",
     "height": 363
    },
    "id": "8mYtXu2nvhat",
    "outputId": "b6b7204c-33a2-4afa-c466-8d30cd7974f7"
   },
   "outputs": [
    {
     "data": {
      "text/html": [
       "<table border=\"1\" class=\"dataframe\">\n",
       "  <thead>\n",
       "    <tr style=\"text-align: left;\">\n",
       "      <th>epoch</th>\n",
       "      <th>train_loss</th>\n",
       "      <th>valid_loss</th>\n",
       "      <th>accuracy</th>\n",
       "      <th>time</th>\n",
       "    </tr>\n",
       "  </thead>\n",
       "  <tbody>\n",
       "    <tr>\n",
       "      <td>0</td>\n",
       "      <td>1.608754</td>\n",
       "      <td>1.878681</td>\n",
       "      <td>0.238189</td>\n",
       "      <td>00:07</td>\n",
       "    </tr>\n",
       "  </tbody>\n",
       "</table>"
      ],
      "text/plain": [
       "<IPython.core.display.HTML object>"
      ]
     },
     "metadata": {},
     "output_type": "display_data"
    }
   ],
   "source": [
    "learn.freeze_to(-2)\n",
    "learn.fit_one_cycle(1, slice(3e-2/(2.6**4),3e-2))\n",
    "# learn.fit_one_cycle(20, slice(3e-2/(2.6**4),3e-2)) .46 - .23\n",
    "# learn.fit_one_cycle(20, slice(7e-1/(2.6**4),7e-1)) .39 - .40, very erratic\n",
    "# learn.fit_one_cycle(20, slice(1e-1/(2.6**4),1e-1)) .42 - .34"
   ]
  },
  {
   "cell_type": "code",
   "execution_count": 365,
   "metadata": {
    "colab": {
     "base_uri": "https://localhost:8080/"
    },
    "id": "majRrG7C0SKJ",
    "outputId": "fec89dd2-dd50-4a26-9f8b-0eeffb563cb5"
   },
   "outputs": [
    {
     "data": {
      "text/plain": [
       "Path('/home/sethr/coprh-nlp-2021/models/class_part_2.pth')"
      ]
     },
     "execution_count": 365,
     "metadata": {},
     "output_type": "execute_result"
    }
   ],
   "source": [
    "learn.save('class_part_2')"
   ]
  },
  {
   "cell_type": "code",
   "execution_count": 366,
   "metadata": {},
   "outputs": [],
   "source": [
    "# learn = learn.load('class_part_2')"
   ]
  },
  {
   "cell_type": "code",
   "execution_count": 367,
   "metadata": {
    "colab": {
     "base_uri": "https://localhost:8080/",
     "height": 363
    },
    "id": "prnKbBnZvnwr",
    "outputId": "1b621a79-4352-469b-bc62-c426a490e6ff"
   },
   "outputs": [
    {
     "data": {
      "text/html": [
       "<table border=\"1\" class=\"dataframe\">\n",
       "  <thead>\n",
       "    <tr style=\"text-align: left;\">\n",
       "      <th>epoch</th>\n",
       "      <th>train_loss</th>\n",
       "      <th>valid_loss</th>\n",
       "      <th>accuracy</th>\n",
       "      <th>time</th>\n",
       "    </tr>\n",
       "  </thead>\n",
       "  <tbody>\n",
       "    <tr>\n",
       "      <td>0</td>\n",
       "      <td>1.338264</td>\n",
       "      <td>1.701349</td>\n",
       "      <td>0.389764</td>\n",
       "      <td>00:08</td>\n",
       "    </tr>\n",
       "  </tbody>\n",
       "</table>"
      ],
      "text/plain": [
       "<IPython.core.display.HTML object>"
      ]
     },
     "metadata": {},
     "output_type": "display_data"
    }
   ],
   "source": [
    "learn.freeze_to(-3)\n",
    "learn.fit_one_cycle(1, slice(5e-3/(2.6**4),5e-3))\n",
    "# learn.fit_one_cycle(10, slice(5e-1/(2.6**4),5e-1)) .22 - .26\n",
    "# learn.fit_one_cycle(10, slice(5e-3/(2.6**4),5e-3)) .41 - .24 best .41\n",
    "# learn.fit_one_cycle(10, slice(5e-2/(2.6**4),5e-2)) .38 - .24, best .45"
   ]
  },
  {
   "cell_type": "code",
   "execution_count": 368,
   "metadata": {
    "colab": {
     "base_uri": "https://localhost:8080/"
    },
    "id": "aJkDmun-0T5z",
    "outputId": "1d5ccbb6-1118-444f-9323-abd7ab6c5c6b"
   },
   "outputs": [
    {
     "data": {
      "text/plain": [
       "Path('/home/sethr/coprh-nlp-2021/models/class_part_3.pth')"
      ]
     },
     "execution_count": 368,
     "metadata": {},
     "output_type": "execute_result"
    }
   ],
   "source": [
    "learn.save('class_part_3')"
   ]
  },
  {
   "cell_type": "code",
   "execution_count": 369,
   "metadata": {},
   "outputs": [],
   "source": [
    "learn = learn.load('class_part_3')"
   ]
  },
  {
   "cell_type": "code",
   "execution_count": 370,
   "metadata": {
    "colab": {
     "base_uri": "https://localhost:8080/",
     "height": 1000
    },
    "id": "l781vmBVvqbb",
    "outputId": "20c499b0-6375-4af4-a092-74d6b54d5cb8"
   },
   "outputs": [
    {
     "data": {
      "text/html": [
       "<table border=\"1\" class=\"dataframe\">\n",
       "  <thead>\n",
       "    <tr style=\"text-align: left;\">\n",
       "      <th>epoch</th>\n",
       "      <th>train_loss</th>\n",
       "      <th>valid_loss</th>\n",
       "      <th>accuracy</th>\n",
       "      <th>time</th>\n",
       "    </tr>\n",
       "  </thead>\n",
       "  <tbody>\n",
       "    <tr>\n",
       "      <td>0</td>\n",
       "      <td>1.277526</td>\n",
       "      <td>1.598480</td>\n",
       "      <td>0.484252</td>\n",
       "      <td>00:09</td>\n",
       "    </tr>\n",
       "    <tr>\n",
       "      <td>1</td>\n",
       "      <td>1.262868</td>\n",
       "      <td>1.463184</td>\n",
       "      <td>0.555118</td>\n",
       "      <td>00:08</td>\n",
       "    </tr>\n",
       "    <tr>\n",
       "      <td>2</td>\n",
       "      <td>1.227728</td>\n",
       "      <td>1.350153</td>\n",
       "      <td>0.574803</td>\n",
       "      <td>00:09</td>\n",
       "    </tr>\n",
       "    <tr>\n",
       "      <td>3</td>\n",
       "      <td>1.187215</td>\n",
       "      <td>1.277344</td>\n",
       "      <td>0.590551</td>\n",
       "      <td>00:08</td>\n",
       "    </tr>\n",
       "    <tr>\n",
       "      <td>4</td>\n",
       "      <td>1.144877</td>\n",
       "      <td>1.238984</td>\n",
       "      <td>0.578740</td>\n",
       "      <td>00:08</td>\n",
       "    </tr>\n",
       "    <tr>\n",
       "      <td>5</td>\n",
       "      <td>1.105320</td>\n",
       "      <td>1.228777</td>\n",
       "      <td>0.574803</td>\n",
       "      <td>00:08</td>\n",
       "    </tr>\n",
       "    <tr>\n",
       "      <td>6</td>\n",
       "      <td>1.070391</td>\n",
       "      <td>1.242780</td>\n",
       "      <td>0.562992</td>\n",
       "      <td>00:08</td>\n",
       "    </tr>\n",
       "    <tr>\n",
       "      <td>7</td>\n",
       "      <td>1.040663</td>\n",
       "      <td>1.287227</td>\n",
       "      <td>0.562992</td>\n",
       "      <td>00:09</td>\n",
       "    </tr>\n",
       "    <tr>\n",
       "      <td>8</td>\n",
       "      <td>1.014807</td>\n",
       "      <td>1.354007</td>\n",
       "      <td>0.559055</td>\n",
       "      <td>00:08</td>\n",
       "    </tr>\n",
       "    <tr>\n",
       "      <td>9</td>\n",
       "      <td>0.993648</td>\n",
       "      <td>1.426390</td>\n",
       "      <td>0.561024</td>\n",
       "      <td>00:08</td>\n",
       "    </tr>\n",
       "  </tbody>\n",
       "</table>"
      ],
      "text/plain": [
       "<IPython.core.display.HTML object>"
      ]
     },
     "metadata": {},
     "output_type": "display_data"
    }
   ],
   "source": [
    "# now train all layers\n",
    "# this takes about 30 seconds per epoch\n",
    "learn.unfreeze()\n",
    "learn.fit_one_cycle(10, slice(5e-3/(2.6**4),5e-3))\n",
    "# learn.fit_one_cycle(10, slice(5e-3/(2.6**4),5e-3)) .48 - .56, best .59"
   ]
  },
  {
   "cell_type": "code",
   "execution_count": 371,
   "metadata": {},
   "outputs": [
    {
     "data": {
      "text/html": [
       "<table border=\"1\" class=\"dataframe\">\n",
       "  <thead>\n",
       "    <tr style=\"text-align: left;\">\n",
       "      <th>epoch</th>\n",
       "      <th>train_loss</th>\n",
       "      <th>valid_loss</th>\n",
       "      <th>accuracy</th>\n",
       "      <th>time</th>\n",
       "    </tr>\n",
       "  </thead>\n",
       "  <tbody>\n",
       "    <tr>\n",
       "      <td>0</td>\n",
       "      <td>0.892403</td>\n",
       "      <td>1.511068</td>\n",
       "      <td>0.561024</td>\n",
       "      <td>00:08</td>\n",
       "    </tr>\n",
       "    <tr>\n",
       "      <td>1</td>\n",
       "      <td>0.885958</td>\n",
       "      <td>1.630729</td>\n",
       "      <td>0.559055</td>\n",
       "      <td>00:08</td>\n",
       "    </tr>\n",
       "    <tr>\n",
       "      <td>2</td>\n",
       "      <td>0.868517</td>\n",
       "      <td>1.478703</td>\n",
       "      <td>0.543307</td>\n",
       "      <td>00:09</td>\n",
       "    </tr>\n",
       "    <tr>\n",
       "      <td>3</td>\n",
       "      <td>0.847643</td>\n",
       "      <td>1.425370</td>\n",
       "      <td>0.545276</td>\n",
       "      <td>00:08</td>\n",
       "    </tr>\n",
       "    <tr>\n",
       "      <td>4</td>\n",
       "      <td>0.825591</td>\n",
       "      <td>1.478553</td>\n",
       "      <td>0.531496</td>\n",
       "      <td>00:08</td>\n",
       "    </tr>\n",
       "    <tr>\n",
       "      <td>5</td>\n",
       "      <td>0.803579</td>\n",
       "      <td>1.528089</td>\n",
       "      <td>0.527559</td>\n",
       "      <td>00:09</td>\n",
       "    </tr>\n",
       "    <tr>\n",
       "      <td>6</td>\n",
       "      <td>0.784427</td>\n",
       "      <td>1.635834</td>\n",
       "      <td>0.523622</td>\n",
       "      <td>00:08</td>\n",
       "    </tr>\n",
       "    <tr>\n",
       "      <td>7</td>\n",
       "      <td>0.766526</td>\n",
       "      <td>1.674434</td>\n",
       "      <td>0.527559</td>\n",
       "      <td>00:08</td>\n",
       "    </tr>\n",
       "    <tr>\n",
       "      <td>8</td>\n",
       "      <td>0.750943</td>\n",
       "      <td>1.450357</td>\n",
       "      <td>0.521654</td>\n",
       "      <td>00:08</td>\n",
       "    </tr>\n",
       "    <tr>\n",
       "      <td>9</td>\n",
       "      <td>0.737907</td>\n",
       "      <td>1.416075</td>\n",
       "      <td>0.521654</td>\n",
       "      <td>00:08</td>\n",
       "    </tr>\n",
       "  </tbody>\n",
       "</table>"
      ],
      "text/plain": [
       "<IPython.core.display.HTML object>"
      ]
     },
     "metadata": {},
     "output_type": "display_data"
    }
   ],
   "source": [
    "learn.fit_one_cycle(10, slice(5e-3/(2.6**4),5e-3))"
   ]
  },
  {
   "cell_type": "code",
   "execution_count": 372,
   "metadata": {},
   "outputs": [
    {
     "data": {
      "text/html": [
       "<table border=\"1\" class=\"dataframe\">\n",
       "  <thead>\n",
       "    <tr style=\"text-align: left;\">\n",
       "      <th>epoch</th>\n",
       "      <th>train_loss</th>\n",
       "      <th>valid_loss</th>\n",
       "      <th>accuracy</th>\n",
       "      <th>time</th>\n",
       "    </tr>\n",
       "  </thead>\n",
       "  <tbody>\n",
       "    <tr>\n",
       "      <td>0</td>\n",
       "      <td>0.672824</td>\n",
       "      <td>1.504184</td>\n",
       "      <td>0.521654</td>\n",
       "      <td>00:09</td>\n",
       "    </tr>\n",
       "    <tr>\n",
       "      <td>1</td>\n",
       "      <td>0.673319</td>\n",
       "      <td>1.516473</td>\n",
       "      <td>0.523622</td>\n",
       "      <td>00:08</td>\n",
       "    </tr>\n",
       "    <tr>\n",
       "      <td>2</td>\n",
       "      <td>0.673271</td>\n",
       "      <td>1.522402</td>\n",
       "      <td>0.519685</td>\n",
       "      <td>00:09</td>\n",
       "    </tr>\n",
       "    <tr>\n",
       "      <td>3</td>\n",
       "      <td>0.674647</td>\n",
       "      <td>1.589015</td>\n",
       "      <td>0.521654</td>\n",
       "      <td>00:08</td>\n",
       "    </tr>\n",
       "    <tr>\n",
       "      <td>4</td>\n",
       "      <td>0.671816</td>\n",
       "      <td>1.695058</td>\n",
       "      <td>0.521654</td>\n",
       "      <td>00:08</td>\n",
       "    </tr>\n",
       "    <tr>\n",
       "      <td>5</td>\n",
       "      <td>0.669447</td>\n",
       "      <td>1.726897</td>\n",
       "      <td>0.517717</td>\n",
       "      <td>00:08</td>\n",
       "    </tr>\n",
       "    <tr>\n",
       "      <td>6</td>\n",
       "      <td>0.664590</td>\n",
       "      <td>1.546626</td>\n",
       "      <td>0.519685</td>\n",
       "      <td>00:08</td>\n",
       "    </tr>\n",
       "    <tr>\n",
       "      <td>7</td>\n",
       "      <td>0.660026</td>\n",
       "      <td>1.570856</td>\n",
       "      <td>0.525591</td>\n",
       "      <td>00:08</td>\n",
       "    </tr>\n",
       "    <tr>\n",
       "      <td>8</td>\n",
       "      <td>0.653209</td>\n",
       "      <td>1.588639</td>\n",
       "      <td>0.515748</td>\n",
       "      <td>00:08</td>\n",
       "    </tr>\n",
       "    <tr>\n",
       "      <td>9</td>\n",
       "      <td>0.651169</td>\n",
       "      <td>1.610244</td>\n",
       "      <td>0.521654</td>\n",
       "      <td>00:08</td>\n",
       "    </tr>\n",
       "    <tr>\n",
       "      <td>10</td>\n",
       "      <td>0.647616</td>\n",
       "      <td>1.684598</td>\n",
       "      <td>0.531496</td>\n",
       "      <td>00:09</td>\n",
       "    </tr>\n",
       "    <tr>\n",
       "      <td>11</td>\n",
       "      <td>0.642403</td>\n",
       "      <td>1.782788</td>\n",
       "      <td>0.523622</td>\n",
       "      <td>00:08</td>\n",
       "    </tr>\n",
       "    <tr>\n",
       "      <td>12</td>\n",
       "      <td>0.637666</td>\n",
       "      <td>1.654083</td>\n",
       "      <td>0.519685</td>\n",
       "      <td>00:08</td>\n",
       "    </tr>\n",
       "    <tr>\n",
       "      <td>13</td>\n",
       "      <td>0.633630</td>\n",
       "      <td>1.648253</td>\n",
       "      <td>0.521654</td>\n",
       "      <td>00:08</td>\n",
       "    </tr>\n",
       "    <tr>\n",
       "      <td>14</td>\n",
       "      <td>0.630478</td>\n",
       "      <td>1.648531</td>\n",
       "      <td>0.525591</td>\n",
       "      <td>00:08</td>\n",
       "    </tr>\n",
       "    <tr>\n",
       "      <td>15</td>\n",
       "      <td>0.628069</td>\n",
       "      <td>1.707669</td>\n",
       "      <td>0.525591</td>\n",
       "      <td>00:08</td>\n",
       "    </tr>\n",
       "    <tr>\n",
       "      <td>16</td>\n",
       "      <td>0.624273</td>\n",
       "      <td>1.747326</td>\n",
       "      <td>0.525591</td>\n",
       "      <td>00:08</td>\n",
       "    </tr>\n",
       "    <tr>\n",
       "      <td>17</td>\n",
       "      <td>0.621026</td>\n",
       "      <td>1.552874</td>\n",
       "      <td>0.527559</td>\n",
       "      <td>00:08</td>\n",
       "    </tr>\n",
       "    <tr>\n",
       "      <td>18</td>\n",
       "      <td>0.618793</td>\n",
       "      <td>1.604574</td>\n",
       "      <td>0.525591</td>\n",
       "      <td>00:08</td>\n",
       "    </tr>\n",
       "    <tr>\n",
       "      <td>19</td>\n",
       "      <td>0.616897</td>\n",
       "      <td>1.690767</td>\n",
       "      <td>0.525591</td>\n",
       "      <td>00:08</td>\n",
       "    </tr>\n",
       "  </tbody>\n",
       "</table>"
      ],
      "text/plain": [
       "<IPython.core.display.HTML object>"
      ]
     },
     "metadata": {},
     "output_type": "display_data"
    }
   ],
   "source": [
    "learn.fit_one_cycle(20, 5e-4) #.52"
   ]
  },
  {
   "cell_type": "code",
   "execution_count": 373,
   "metadata": {
    "colab": {
     "base_uri": "https://localhost:8080/"
    },
    "id": "Pcs2EgkK0Xtz",
    "outputId": "f431c63c-08e0-4002-cf36-759378504c7f"
   },
   "outputs": [
    {
     "data": {
      "text/plain": [
       "Path('/home/sethr/coprh-nlp-2021/models/class_full_500_part_1.pth')"
      ]
     },
     "execution_count": 373,
     "metadata": {},
     "output_type": "execute_result"
    }
   ],
   "source": [
    "learn.save('class_full_500_part_1')"
   ]
  },
  {
   "cell_type": "code",
   "execution_count": 374,
   "metadata": {
    "colab": {
     "base_uri": "https://localhost:8080/",
     "height": 1000
    },
    "id": "Fi18a1jqGkYf",
    "outputId": "66916338-7d52-4091-f747-6d5ed8abf5c9"
   },
   "outputs": [],
   "source": [
    "# learn.fit_one_cycle(500, slice(6e-4/(2.6**4),6e-4))"
   ]
  },
  {
   "cell_type": "code",
   "execution_count": 375,
   "metadata": {
    "id": "Z_vcxYm70cy-"
   },
   "outputs": [],
   "source": [
    "#learn.save('class_full_500_part_2')\n",
    "# learn = learn.load('class_full_500_part_2')"
   ]
  },
  {
   "cell_type": "code",
   "execution_count": 376,
   "metadata": {
    "id": "oQWuzoaKvyuc"
   },
   "outputs": [
    {
     "data": {
      "text/html": [],
      "text/plain": [
       "<IPython.core.display.HTML object>"
      ]
     },
     "metadata": {},
     "output_type": "display_data"
    },
    {
     "data": {
      "text/html": [
       "<table border=\"1\" class=\"dataframe\">\n",
       "  <thead>\n",
       "    <tr style=\"text-align: right;\">\n",
       "      <th></th>\n",
       "      <th>text</th>\n",
       "      <th>category</th>\n",
       "      <th>category_</th>\n",
       "    </tr>\n",
       "  </thead>\n",
       "  <tbody>\n",
       "    <tr>\n",
       "      <th>0</th>\n",
       "      <td>xxbos xxup reason xxup for xxup visit : , xxmaj the patient presents for a followup for history of erythema nodosum . ,history xxup of xxup present xxup illness : , xxmaj this is a 25 - year - old woman who is attending xxunk classes . xxmaj she was diagnosed with presumptive erythema nodosum in 2004 based on a biopsy consistent with erythema nodosum , but not entirely specific back in xxmaj xxunk . xxmaj at that point , she had undergone workup which was extensive for secondary diseases associated with erythema nodosum . xxmaj part of her workup included a colonoscopy . xxmaj the findings were equivocal xxunk not clearly abnormal biopsies of the terminal ileum . ,the skin biopsy , in particular , mentions some fibrosis , basal xxunk , and inflammatory cells in the subcutis . ,prior to the onset of her erythema nodosum , she</td>\n",
       "      <td>Consult - History and Phy.</td>\n",
       "      <td>Consult - History and Phy.</td>\n",
       "    </tr>\n",
       "    <tr>\n",
       "      <th>1</th>\n",
       "      <td>xxbos xxup type xxup of xxup consultation : , xxmaj wound care consult . ,history xxup of xxup present xxup illness : , xxmaj the patient is a 62 - year - old woman with a past medical history significant for prior ileojejunal bypass for weight loss ( 1980 ) and then subsequent gastric banding ( 2002 xxmaj dr . xxup x ) who was transferred to this facility following a complicated surgical and postoperative course after takedown of the prior xxunk and bypass ( 07 / 08 / 2008 , xxmaj dr . xxup y ) . xxmaj the patient has been followed by xxmaj cardiothoracic xxmaj surgery ( dr . xxup z ) as an outpatient . xxmaj she had a history of daily postprandial vomiting , regurgitation , and heartburn . xxmaj she underwent a preop assessment of her xxup gerd and postprandial vomiting including nuclear gastric</td>\n",
       "      <td>Consult - History and Phy.</td>\n",
       "      <td>Consult - History and Phy.</td>\n",
       "    </tr>\n",
       "    <tr>\n",
       "      <th>2</th>\n",
       "      <td>xxbos xxup reason xxup for xxup referral : , xxmaj the patient is a 58 - year - old african - american right - handed female with 16 years of education who was referred for a neuropsychological evaluation by xxmaj dr . xxup x. xxmaj she is presenting for a second opinion following a recent neuropsychological evaluation that was ordered by her former place of employment that suggested that she was in the \" early stages of a likely dementia \" and was thereafter terminated from her position as a psychiatric nurse . a comprehensive evaluation was requested to assess current cognitive functioning and assist with diagnostic decisions and treatment planning . xxmaj note that this evaluation was undertaken as a clinical exam and intended for the purposes of aiding with treatment planning . xxmaj the patient was fully informed about the nature of this evaluation and intended use of</td>\n",
       "      <td>Neurology</td>\n",
       "      <td>Consult - History and Phy.</td>\n",
       "    </tr>\n",
       "    <tr>\n",
       "      <th>3</th>\n",
       "      <td>xxbos xxup history xxup of xxup present xxup illness : , xxmaj the patient is a 35 - year - old woman who reports that on the xxunk of xxmaj october 2008 , she had a rupture of her membranes at nine months of pregnancy , and was admitted to hospital and was given an epidural anesthetic . i do not have the records from this hospital admission , but apparently the epidural was administered for approximately 14 to 18 hours . xxmaj she was sitting up during the epidural . ,she did not notice any difference in her lower extremities at the time she had the epidural ; however , she reports that she was extremely sleepy and may not have been aware of any change in strength or sensation in her lower extremities at that time . xxmaj she delivered on the 31st of xxmaj october , by</td>\n",
       "      <td>Neurology</td>\n",
       "      <td>Consult - History and Phy.</td>\n",
       "    </tr>\n",
       "    <tr>\n",
       "      <th>4</th>\n",
       "      <td>xxbos xxup reason xxup for xxup referral : , xxmaj the patient was referred to me by xxmaj dr . x of the xxmaj clinic due to concerns regarding behavioral acting out as well as encopresis . xxmaj this is a 90 - minute initial intake completed on 10 / 03 / 2007 . i met with the patient 's mother individually for the entire session . i reviewed with her the treatment , consent form , as well as the boundaries of confidentiality , and she stated that she understood these concepts . ,presenting xxup problems : , xxmaj mother reported that her primary concern in regard to the patient had to do with his oppositionality . xxmaj she was more ambivalent regarding addressing the encopresis . xxmaj in regards to his oppositionality , she reported that the onset of his oppositionality was approximately at 4 years of age</td>\n",
       "      <td>Consult - History and Phy.</td>\n",
       "      <td>Consult - History and Phy.</td>\n",
       "    </tr>\n",
       "    <tr>\n",
       "      <th>5</th>\n",
       "      <td>xxbos xxup history xxup of xxup present xxup illness : , xxmaj the patient is a 63 - year - old left - handed gentleman who presents for further evaluation of multiple neurological symptoms . i asked him to discuss each symptom individually as he had a very hard time describing the nature of his problems . xxmaj he first mentioned that he has neck pain . xxmaj he states that he has had this for at least 15 years . xxmaj it is worse with movement . xxmaj it has progressed very slowly over the course of 15 years . xxmaj it is localized to the base of his neck and is sharp in quality . xxmaj he also endorses a history of gait instability . xxmaj this has been present for a few years and has been slightly progressively worsening . xxmaj he describes that he feels unsteady</td>\n",
       "      <td>Neurology</td>\n",
       "      <td>Consult - History and Phy.</td>\n",
       "    </tr>\n",
       "    <tr>\n",
       "      <th>6</th>\n",
       "      <td>xxbos xxup preoperative xxup diagnoses:,1 . xxmaj right ankle trimalleolar fracture . ,2 . xxmaj right distal tibia plafond fracture with comminuted posterolateral impacted fragment . ,operative xxup procedure : , delayed open reduction internal fixation with plates and screws , 6 - hole contoured distal fibular plate and screws reducing posterolateral malleolar fragment , as well as medial malleolar fragment . ,postoperative xxup diagnoses:,1 . xxmaj right ankle trimalleolar fracture . ,2 . xxmaj right distal tibia plafond fracture with comminuted posterolateral impacted fragment . ,tourniquet xxup time : , 80 minutes . ,history : , xxmaj this 50 - year - old gentleman was from the area and riding his motorcycle in kentucky . ,the patient lost control of his motorcycle when he was traveling approximately 40 mile per hour . xxmaj he was on a curve and lost control . xxmaj he is unsure what exactly happened</td>\n",
       "      <td>Orthopedic</td>\n",
       "      <td>Orthopedic</td>\n",
       "    </tr>\n",
       "    <tr>\n",
       "      <th>7</th>\n",
       "      <td>xxbos xxup preoperative xxup diagnosis ( es ): , xxup l4 - l5 and xxup l5 - s1 degenerative disk disease / disk protrusions / spondylosis with radiculopathy . ,postoperative xxup diagnosis ( es ): , xxup l4 - l5 and xxup l5 - s1 degenerative disk disease / disk protrusions / spondylosis with radiculopathy . ,procedure:,1 . xxmaj left xxup l4 - l5 and xxup l5 - s1 xxmaj transforaminal xxmaj lumbar xxmaj interbody xxmaj fusion ( xxunk . xxup l4 to xxup s1 fixation ( danek xxup xxunk system).,3 . xxmaj right posterolateral xxup l4 to xxup s1 fusion . ,4 . xxmaj placement of intervertebral prosthetic device ( danek xxmaj capstone spacers xxup l4 - l5 and xxup l5 - xxunk . xxmaj vertebral autograft plus bone morphogenetic protein ( xxunk : , none . ,anesthesia : , xxmaj general endotracheal . ,specimens : , xxmaj portions</td>\n",
       "      <td>Orthopedic</td>\n",
       "      <td>Orthopedic</td>\n",
       "    </tr>\n",
       "    <tr>\n",
       "      <th>8</th>\n",
       "      <td>xxbos xxup chief xxup complaint : , xxmaj blood in urine . ,history xxup of xxup present xxup illness : , this is a 78 - year - old male who has prostate cancer with metastatic disease to his bladder and in several locations throughout the skeletal system including the spine and shoulder . xxmaj the patient has had problems with hematuria in the past , but the patient noted that this episode began yesterday , and today he has been passing principally blood with very little urine . xxmaj the patient states that there is no change in his chronic lower back pain and denies any incontinence of urine or stool . xxmaj the patient has not had any fever . xxmaj there is no abdominal pain and the patient is still able to pass urine . xxmaj the patient has not had any melena or hematochezia . xxmaj</td>\n",
       "      <td>Urology</td>\n",
       "      <td>Consult - History and Phy.</td>\n",
       "    </tr>\n",
       "  </tbody>\n",
       "</table>"
      ],
      "text/plain": [
       "<IPython.core.display.HTML object>"
      ]
     },
     "metadata": {},
     "output_type": "display_data"
    }
   ],
   "source": [
    "learn.show_results()"
   ]
  },
  {
   "cell_type": "code",
   "execution_count": 377,
   "metadata": {
    "id": "sDunqwzV0WZZ"
   },
   "outputs": [
    {
     "data": {
      "text/html": [],
      "text/plain": [
       "<IPython.core.display.HTML object>"
      ]
     },
     "metadata": {},
     "output_type": "display_data"
    }
   ],
   "source": [
    "interp = Interpretation.from_learner(learn)"
   ]
  },
  {
   "cell_type": "code",
   "execution_count": 378,
   "metadata": {
    "id": "5Z87Eefu1CA-"
   },
   "outputs": [
    {
     "data": {
      "text/html": [
       "<table border=\"1\" class=\"dataframe\">\n",
       "  <thead>\n",
       "    <tr style=\"text-align: right;\">\n",
       "      <th></th>\n",
       "      <th>input</th>\n",
       "      <th>target</th>\n",
       "      <th>predicted</th>\n",
       "      <th>probability</th>\n",
       "      <th>loss</th>\n",
       "    </tr>\n",
       "  </thead>\n",
       "  <tbody>\n",
       "    <tr>\n",
       "      <th>0</th>\n",
       "      <td>xxbos xxup reason xxup for xxup consultation : , xxmaj loculated left effusion , xxunk pneumonia .</td>\n",
       "      <td>Consult - History and Phy.</td>\n",
       "      <td>SOAP / Chart / Progress Notes</td>\n",
       "      <td>0.9562889933586121</td>\n",
       "      <td>30.950944900512695</td>\n",
       "    </tr>\n",
       "    <tr>\n",
       "      <th>1</th>\n",
       "      <td>xxbos xxup discharge xxup summary , summary xxup of xxup treatment xxunk major problems were identified at the admission of this xxunk .</td>\n",
       "      <td>Discharge Summary</td>\n",
       "      <td>SOAP / Chart / Progress Notes</td>\n",
       "      <td>0.9562889933586121</td>\n",
       "      <td>28.599382400512695</td>\n",
       "    </tr>\n",
       "    <tr>\n",
       "      <th>2</th>\n",
       "      <td>xxbos findings:,there is a large xxunk mass lesion producing diffuse expansion of the sella turcica . xxmaj this mass lesions measures approximately 16 x 18 x 18 mm ( craniocaudal x xxup ap x mediolateral ) in size .</td>\n",
       "      <td>Neurology</td>\n",
       "      <td>SOAP / Chart / Progress Notes</td>\n",
       "      <td>0.9562889933586121</td>\n",
       "      <td>27.349382400512695</td>\n",
       "    </tr>\n",
       "    <tr>\n",
       "      <th>3</th>\n",
       "      <td>xxbos xxup indications : , chest pain . ,stress xxup technique : ,</td>\n",
       "      <td>Cardiovascular / Pulmonary</td>\n",
       "      <td>SOAP / Chart / Progress Notes</td>\n",
       "      <td>0.9562889933586121</td>\n",
       "      <td>19.271257400512695</td>\n",
       "    </tr>\n",
       "    <tr>\n",
       "      <th>4</th>\n",
       "      <td>xxbos xxup general evaluation:,fetal xxmaj cardiac xxmaj activity : xxmaj normal at 140 bpm , fetal xxmaj position : variable , placenta : xxmaj posterior without evidence of placenta previa . ,uterus : normal , cervix :</td>\n",
       "      <td>Obstetrics / Gynecology</td>\n",
       "      <td>SOAP / Chart / Progress Notes</td>\n",
       "      <td>0.9562889933586121</td>\n",
       "      <td>15.167070388793945</td>\n",
       "    </tr>\n",
       "    <tr>\n",
       "      <th>5</th>\n",
       "      <td>xxbos xxup indications : , chest pain . ,stress xxup technique : ,</td>\n",
       "      <td>Radiology</td>\n",
       "      <td>SOAP / Chart / Progress Notes</td>\n",
       "      <td>0.9562889933586121</td>\n",
       "      <td>7.267351150512695</td>\n",
       "    </tr>\n",
       "    <tr>\n",
       "      <th>6</th>\n",
       "      <td>xxbos xxup diagnosis : , shortness of breath . xxmaj fatigue and weakness . xxmaj hypertension . hyperlipidemia . ,indication : , xxmaj to evaluate for coronary artery disease . ,</td>\n",
       "      <td>Radiology</td>\n",
       "      <td>SOAP / Chart / Progress Notes</td>\n",
       "      <td>0.9562889933586121</td>\n",
       "      <td>7.267351150512695</td>\n",
       "    </tr>\n",
       "    <tr>\n",
       "      <th>7</th>\n",
       "      <td>xxbos findings:,there is a large xxunk mass lesion producing diffuse expansion of the sella turcica . xxmaj this mass lesions measures approximately 16 x 18 x 18 mm ( craniocaudal x xxup ap x mediolateral ) in size .</td>\n",
       "      <td>Radiology</td>\n",
       "      <td>SOAP / Chart / Progress Notes</td>\n",
       "      <td>0.9562889933586121</td>\n",
       "      <td>7.267351150512695</td>\n",
       "    </tr>\n",
       "    <tr>\n",
       "      <th>8</th>\n",
       "      <td>xxbos xxup duplex xxup ultrasound xxup of xxup legs , right xxup leg : , xxmaj duplex imaging was carried out according to normal protocol with a 7.5 xxmaj mhz imaging probe using xxmaj b - mode ultrasound . xxmaj deep veins were imaged at the level of the common femoral and popliteal veins . xxmaj all deep veins demonstrated compressibility without evidence of intraluminal thrombus or increased echogenicity . ,the long saphenous system displayed compressibility without evidence of thrombosis . xxmaj the long saphenous vein measured * cm at the proximal thigh with reflux of * seconds after release of distal compression and * cm at the knee with reflux of * seconds after release of distal compression . xxmaj the small saphenous system measured * cm at the proximal calf with reflux of * seconds after release of distal compression . ,left xxup leg : , xxmaj duplex</td>\n",
       "      <td>Radiology</td>\n",
       "      <td>Cardiovascular / Pulmonary</td>\n",
       "      <td>0.9548391103744507</td>\n",
       "      <td>5.369332790374756</td>\n",
       "    </tr>\n",
       "  </tbody>\n",
       "</table>"
      ],
      "text/plain": [
       "<IPython.core.display.HTML object>"
      ]
     },
     "metadata": {},
     "output_type": "display_data"
    }
   ],
   "source": [
    "interp.plot_top_losses(9, figsize=(15,10))"
   ]
  },
  {
   "cell_type": "code",
   "execution_count": 379,
   "metadata": {},
   "outputs": [
    {
     "data": {
      "text/html": [],
      "text/plain": [
       "<IPython.core.display.HTML object>"
      ]
     },
     "metadata": {},
     "output_type": "display_data"
    }
   ],
   "source": [
    "interp = ClassificationInterpretation.from_learner(learn)"
   ]
  },
  {
   "cell_type": "code",
   "execution_count": 380,
   "metadata": {},
   "outputs": [],
   "source": [
    "losses,idxs = interp.top_losses()"
   ]
  },
  {
   "cell_type": "code",
   "execution_count": 381,
   "metadata": {},
   "outputs": [
    {
     "data": {
      "text/plain": [
       "True"
      ]
     },
     "execution_count": 381,
     "metadata": {},
     "output_type": "execute_result"
    }
   ],
   "source": [
    "len(dls_clas.valid_ds)==len(losses)==len(idxs)"
   ]
  },
  {
   "cell_type": "code",
   "execution_count": 382,
   "metadata": {},
   "outputs": [
    {
     "data": {
      "image/png": "[encoded data removed]",
      "text/plain": [
       "<Figure size 720x720 with 1 Axes>"
      ]
     },
     "metadata": {
      "needs_background": "light"
     },
     "output_type": "display_data"
    }
   ],
   "source": [
    "interp.plot_confusion_matrix(figsize=(10,10))"
   ]
  },
  {
   "cell_type": "code",
   "execution_count": 383,
   "metadata": {
    "id": "oQe44V-M1ECB"
   },
   "outputs": [],
   "source": [
    "# del(learn)"
   ]
  }
 ],
 "metadata": {
  "accelerator": "GPU",
  "colab": {
   "collapsed_sections": [],
   "name": "text_classification_colab.ipynb",
   "provenance": []
  },
  "kernelspec": {
   "display_name": "Python [conda env:coprh]",
   "language": "python",
   "name": "conda-env-coprh-py"
  },
  "language_info": {
   "codemirror_mode": {
    "name": "ipython",
    "version": 3
   },
   "file_extension": ".py",
   "mimetype": "text/x-python",
   "name": "python",
   "nbconvert_exporter": "python",
   "pygments_lexer": "ipython3",
   "version": "3.7.10"
  }
 },
 "nbformat": 4,
 "nbformat_minor": 5
}
