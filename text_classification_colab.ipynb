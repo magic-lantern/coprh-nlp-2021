{
  "nbformat": 4,
  "nbformat_minor": 5,
  "metadata": {
    "accelerator": "GPU",
    "colab": {
      "name": "text_classification_colab.ipynb",
      "provenance": [],
      "collapsed_sections": []
    },
    "kernelspec": {
      "name": "python3",
      "display_name": "Python 3"
    },
    "language_info": {
      "name": "python"
    }
  },
  "cells": [
    {
      "cell_type": "markdown",
      "metadata": {
        "id": "c8fe1817"
      },
      "source": [
        "# Example of how to use Deep Learning for text classification\n",
        "\n",
        "Click [Text Classification Example](https://colab.research.google.com/github/magic-lantern/coprh-nlp-2021/blob/main/text_classification_colab.ipynb) to open this notebook in Google Colab - no local setup required, results saved to your Google Drive.\n",
        "\n",
        "In Google Colab, make sure you change the Runtime to a GPU instance - that will result vastly improved runtimes for deep learning steps. On CPU based hardware some steps take 40 minutes versus 1 minute per training epoch on systems with a GPU. Steps to update runtime:\n",
        "\n",
        "    Runtime > Change runtime type > Select 'GPU' in Hardware accelerator box\n",
        "\n",
        "Click 'Save' to switch from Default runtime to GPU accelerated runtime.\n",
        "\n",
        "Some useful links:\n",
        "\n",
        "* https://muellerzr.github.io/fastblog/2020/08/21/intermediate.html#A-Text-Example"
      ],
      "id": "c8fe1817"
    },
    {
      "cell_type": "code",
      "metadata": {
        "colab": {
          "base_uri": "https://localhost:8080/"
        },
        "id": "99dc132e",
        "outputId": "cedaa479-b1fd-4b2d-cf48-5c91813f12fd"
      },
      "source": [
        "# this cell makes sure Google Colab version has latest software dependencies\n",
        "!pip install -Uqq fastbook fastai"
      ],
      "id": "99dc132e",
      "execution_count": 1,
      "outputs": [
        {
          "output_type": "stream",
          "text": [
            "\u001b[K     |████████████████████████████████| 727kB 8.6MB/s \n",
            "\u001b[K     |████████████████████████████████| 204kB 49.2MB/s \n",
            "\u001b[K     |████████████████████████████████| 51kB 9.4MB/s \n",
            "\u001b[K     |████████████████████████████████| 1.2MB 18.7MB/s \n",
            "\u001b[K     |████████████████████████████████| 61kB 10.0MB/s \n",
            "\u001b[K     |████████████████████████████████| 61kB 10.4MB/s \n",
            "\u001b[?25h"
          ],
          "name": "stdout"
        }
      ]
    },
    {
      "cell_type": "code",
      "metadata": {
        "id": "b8ec45b4"
      },
      "source": [
        "import gc"
      ],
      "id": "b8ec45b4",
      "execution_count": 2,
      "outputs": []
    },
    {
      "cell_type": "code",
      "metadata": {
        "colab": {
          "base_uri": "https://localhost:8080/"
        },
        "id": "ccd58e7d",
        "outputId": "2f7d98a9-98ac-4e84-84eb-27ef90dcbccf"
      },
      "source": [
        "# this cell will setup a path that allows you to load and save files to your google drive\n",
        "# you will be prompted to log in with a Google enabled account.\n",
        "import fastbook\n",
        "fastbook.setup_book()"
      ],
      "id": "ccd58e7d",
      "execution_count": 3,
      "outputs": [
        {
          "output_type": "stream",
          "text": [
            "Mounted at /content/gdrive\n"
          ],
          "name": "stdout"
        }
      ]
    },
    {
      "cell_type": "code",
      "metadata": {
        "id": "be0a1f20"
      },
      "source": [
        "from fastai.text.all import *"
      ],
      "id": "be0a1f20",
      "execution_count": 4,
      "outputs": []
    },
    {
      "cell_type": "code",
      "metadata": {
        "colab": {
          "base_uri": "https://localhost:8080/"
        },
        "id": "fe22952b",
        "outputId": "49afd109-3e38-4c1a-87b2-4d0872f3cc34"
      },
      "source": [
        "Path.cwd()"
      ],
      "id": "fe22952b",
      "execution_count": 5,
      "outputs": [
        {
          "output_type": "execute_result",
          "data": {
            "text/plain": [
              "Path('/content')"
            ]
          },
          "metadata": {
            "tags": []
          },
          "execution_count": 5
        }
      ]
    },
    {
      "cell_type": "code",
      "metadata": {
        "id": "c27edf42"
      },
      "source": [
        "# outside Google Colab, I'm not using fastbook\n",
        "if 'fastbook' in vars() or 'fastbook' in globals():\n",
        "    data_path = fastbook.gdrive / Path('data')\n",
        "    model_path = fastbook.gdrive / Path('models')\n",
        "else:\n",
        "    data_path = Path.cwd() / Path('data')\n",
        "    model_path = Path.cwd() / Path('models')\n",
        "data_file = data_path / 'mtsamples.csv'\n",
        "sequence_length = 512"
      ],
      "id": "c27edf42",
      "execution_count": 6,
      "outputs": []
    },
    {
      "cell_type": "code",
      "metadata": {
        "colab": {
          "base_uri": "https://localhost:8080/"
        },
        "id": "1fadf0a4",
        "outputId": "aba545d7-2046-4fd1-b879-1a1742b5dbd1"
      },
      "source": [
        "data_file"
      ],
      "id": "1fadf0a4",
      "execution_count": 7,
      "outputs": [
        {
          "output_type": "execute_result",
          "data": {
            "text/plain": [
              "Path('/content/gdrive/My Drive/data/mtsamples.csv')"
            ]
          },
          "metadata": {
            "tags": []
          },
          "execution_count": 7
        }
      ]
    },
    {
      "cell_type": "code",
      "metadata": {
        "colab": {
          "base_uri": "https://localhost:8080/"
        },
        "id": "59b3c102",
        "outputId": "ec7452d6-7d6e-476f-f340-9135cde4c368"
      },
      "source": [
        "if data_file.is_file():\n",
        "    print('Already downloaded')\n",
        "else:\n",
        "    print('downloading data file')\n",
        "    download_data(\n",
        "        url='https://github.com/socd06/medical-nlp/raw/master/data/mtsamples.csv',\n",
        "        fname = data_file\n",
        "    )"
      ],
      "id": "59b3c102",
      "execution_count": 8,
      "outputs": [
        {
          "output_type": "stream",
          "text": [
            "Already downloaded\n"
          ],
          "name": "stdout"
        }
      ]
    },
    {
      "cell_type": "code",
      "metadata": {
        "colab": {
          "base_uri": "https://localhost:8080/",
          "height": 640
        },
        "id": "8a4af966",
        "outputId": "60853b15-9470-405f-e83c-44eb47bb9214"
      },
      "source": [
        "mtsamples = pd.read_csv(str(data_path) + '/mtsamples.csv')\n",
        "# remove leading/trailing spaces from text fields\n",
        "mtsamples = mtsamples.applymap(lambda x: x.strip() if isinstance(x, str) else x)\n",
        "mtsamples.head()"
      ],
      "id": "8a4af966",
      "execution_count": 9,
      "outputs": [
        {
          "output_type": "execute_result",
          "data": {
            "text/html": [
              "<div>\n",
              "<style scoped>\n",
              "    .dataframe tbody tr th:only-of-type {\n",
              "        vertical-align: middle;\n",
              "    }\n",
              "\n",
              "    .dataframe tbody tr th {\n",
              "        vertical-align: top;\n",
              "    }\n",
              "\n",
              "    .dataframe thead th {\n",
              "        text-align: right;\n",
              "    }\n",
              "</style>\n",
              "<table border=\"1\" class=\"dataframe\">\n",
              "  <thead>\n",
              "    <tr style=\"text-align: right;\">\n",
              "      <th></th>\n",
              "      <th>Unnamed: 0</th>\n",
              "      <th>description</th>\n",
              "      <th>medical_specialty</th>\n",
              "      <th>sample_name</th>\n",
              "      <th>transcription</th>\n",
              "      <th>keywords</th>\n",
              "    </tr>\n",
              "  </thead>\n",
              "  <tbody>\n",
              "    <tr>\n",
              "      <th>0</th>\n",
              "      <td>0</td>\n",
              "      <td>A 23-year-old white female presents with complaint of allergies.</td>\n",
              "      <td>Allergy / Immunology</td>\n",
              "      <td>Allergic Rhinitis</td>\n",
              "      <td>SUBJECTIVE:,  This 23-year-old white female presents with complaint of allergies.  She used to have allergies when she lived in Seattle but she thinks they are worse here.  In the past, she has tried Claritin, and Zyrtec.  Both worked for short time but then seemed to lose effectiveness.  She has used Allegra also.  She used that last summer and she began using it again two weeks ago.  It does not appear to be working very well.  She has used over-the-counter sprays but no prescription nasal sprays.  She does have asthma but doest not require daily medication for this and does not think it...</td>\n",
              "      <td>allergy / immunology, allergic rhinitis, allergies, asthma, nasal sprays, rhinitis, nasal, erythematous, allegra, sprays, allergic,</td>\n",
              "    </tr>\n",
              "    <tr>\n",
              "      <th>1</th>\n",
              "      <td>1</td>\n",
              "      <td>Consult for laparoscopic gastric bypass.</td>\n",
              "      <td>Bariatrics</td>\n",
              "      <td>Laparoscopic Gastric Bypass Consult - 2</td>\n",
              "      <td>PAST MEDICAL HISTORY:, He has difficulty climbing stairs, difficulty with airline seats, tying shoes, used to public seating, and lifting objects off the floor.  He exercises three times a week at home and does cardio.  He has difficulty walking two blocks or five flights of stairs.  Difficulty with snoring.  He has muscle and joint pains including knee pain, back pain, foot and ankle pain, and swelling.  He has gastroesophageal reflux disease.,PAST SURGICAL HISTORY:, Includes reconstructive surgery on his right hand 13 years ago.  ,SOCIAL HISTORY:, He is currently single.  He has about te...</td>\n",
              "      <td>bariatrics, laparoscopic gastric bypass, weight loss programs, gastric bypass, atkin's diet, weight watcher's, body weight, laparoscopic gastric, weight loss, pounds, months, weight, laparoscopic, band, loss, diets, overweight, lost</td>\n",
              "    </tr>\n",
              "    <tr>\n",
              "      <th>2</th>\n",
              "      <td>2</td>\n",
              "      <td>Consult for laparoscopic gastric bypass.</td>\n",
              "      <td>Bariatrics</td>\n",
              "      <td>Laparoscopic Gastric Bypass Consult - 1</td>\n",
              "      <td>HISTORY OF PRESENT ILLNESS: , I have seen ABC today.  He is a very pleasant gentleman who is 42 years old, 344 pounds.  He is 5'9\".  He has a BMI of 51.  He has been overweight for ten years since the age of 33, at his highest he was 358 pounds, at his lowest 260.  He is pursuing surgical attempts of weight loss to feel good, get healthy, and begin to exercise again.  He wants to be able to exercise and play volleyball.  Physically, he is sluggish.  He gets tired quickly.  He does not go out often.  When he loses weight he always regains it and he gains back more than he lost.  His biggest...</td>\n",
              "      <td>bariatrics, laparoscopic gastric bypass, heart attacks, body weight, pulmonary embolism, potential complications, sleep study, weight loss, gastric bypass, anastomosis, loss, sleep, laparoscopic, gastric, bypass, heart, pounds, weight,</td>\n",
              "    </tr>\n",
              "    <tr>\n",
              "      <th>3</th>\n",
              "      <td>3</td>\n",
              "      <td>2-D M-Mode. Doppler.</td>\n",
              "      <td>Cardiovascular / Pulmonary</td>\n",
              "      <td>2-D Echocardiogram - 1</td>\n",
              "      <td>2-D M-MODE: , ,1.  Left atrial enlargement with left atrial diameter of 4.7 cm.,2.  Normal size right and left ventricle.,3.  Normal LV systolic function with left ventricular ejection fraction of 51%.,4.  Normal LV diastolic function.,5.  No pericardial effusion.,6.  Normal morphology of aortic valve, mitral valve, tricuspid valve, and pulmonary valve.,7.  PA systolic pressure is 36 mmHg.,DOPPLER: , ,1.  Mild mitral and tricuspid regurgitation.,2.  Trace aortic and pulmonary regurgitation.</td>\n",
              "      <td>cardiovascular / pulmonary, 2-d m-mode, doppler, aortic valve, atrial enlargement, diastolic function, ejection fraction, mitral, mitral valve, pericardial effusion, pulmonary valve, regurgitation, systolic function, tricuspid, tricuspid valve, normal lv</td>\n",
              "    </tr>\n",
              "    <tr>\n",
              "      <th>4</th>\n",
              "      <td>4</td>\n",
              "      <td>2-D Echocardiogram</td>\n",
              "      <td>Cardiovascular / Pulmonary</td>\n",
              "      <td>2-D Echocardiogram - 2</td>\n",
              "      <td>1.  The left ventricular cavity size and wall thickness appear normal.  The wall motion and left ventricular systolic function appears hyperdynamic with estimated ejection fraction of 70% to 75%.  There is near-cavity obliteration seen.  There also appears to be increased left ventricular outflow tract gradient at the mid cavity level consistent with hyperdynamic left ventricular systolic function.  There is abnormal left ventricular relaxation pattern seen as well as elevated left atrial pressures seen by Doppler examination.,2.  The left atrium appears mildly dilated.,3.  The right atriu...</td>\n",
              "      <td>cardiovascular / pulmonary, 2-d, doppler, echocardiogram, annular, aortic root, aortic valve, atrial, atrium, calcification, cavity, ejection fraction, mitral, obliteration, outflow, regurgitation, relaxation pattern, stenosis, systolic function, tricuspid, valve, ventricular, ventricular cavity, wall motion, pulmonary artery</td>\n",
              "    </tr>\n",
              "  </tbody>\n",
              "</table>\n",
              "</div>"
            ],
            "text/plain": [
              "   Unnamed: 0  \\\n",
              "0           0   \n",
              "1           1   \n",
              "2           2   \n",
              "3           3   \n",
              "4           4   \n",
              "\n",
              "                                                        description  \\\n",
              "0  A 23-year-old white female presents with complaint of allergies.   \n",
              "1                          Consult for laparoscopic gastric bypass.   \n",
              "2                          Consult for laparoscopic gastric bypass.   \n",
              "3                                              2-D M-Mode. Doppler.   \n",
              "4                                                2-D Echocardiogram   \n",
              "\n",
              "            medical_specialty                              sample_name  \\\n",
              "0        Allergy / Immunology                        Allergic Rhinitis   \n",
              "1                  Bariatrics  Laparoscopic Gastric Bypass Consult - 2   \n",
              "2                  Bariatrics  Laparoscopic Gastric Bypass Consult - 1   \n",
              "3  Cardiovascular / Pulmonary                   2-D Echocardiogram - 1   \n",
              "4  Cardiovascular / Pulmonary                   2-D Echocardiogram - 2   \n",
              "\n",
              "                                                                                                                                                                                                                                                                                                                                                                                                                                                                                                                                                                                                             transcription  \\\n",
              "0  SUBJECTIVE:,  This 23-year-old white female presents with complaint of allergies.  She used to have allergies when she lived in Seattle but she thinks they are worse here.  In the past, she has tried Claritin, and Zyrtec.  Both worked for short time but then seemed to lose effectiveness.  She has used Allegra also.  She used that last summer and she began using it again two weeks ago.  It does not appear to be working very well.  She has used over-the-counter sprays but no prescription nasal sprays.  She does have asthma but doest not require daily medication for this and does not think it...   \n",
              "1  PAST MEDICAL HISTORY:, He has difficulty climbing stairs, difficulty with airline seats, tying shoes, used to public seating, and lifting objects off the floor.  He exercises three times a week at home and does cardio.  He has difficulty walking two blocks or five flights of stairs.  Difficulty with snoring.  He has muscle and joint pains including knee pain, back pain, foot and ankle pain, and swelling.  He has gastroesophageal reflux disease.,PAST SURGICAL HISTORY:, Includes reconstructive surgery on his right hand 13 years ago.  ,SOCIAL HISTORY:, He is currently single.  He has about te...   \n",
              "2  HISTORY OF PRESENT ILLNESS: , I have seen ABC today.  He is a very pleasant gentleman who is 42 years old, 344 pounds.  He is 5'9\".  He has a BMI of 51.  He has been overweight for ten years since the age of 33, at his highest he was 358 pounds, at his lowest 260.  He is pursuing surgical attempts of weight loss to feel good, get healthy, and begin to exercise again.  He wants to be able to exercise and play volleyball.  Physically, he is sluggish.  He gets tired quickly.  He does not go out often.  When he loses weight he always regains it and he gains back more than he lost.  His biggest...   \n",
              "3                                                                                                          2-D M-MODE: , ,1.  Left atrial enlargement with left atrial diameter of 4.7 cm.,2.  Normal size right and left ventricle.,3.  Normal LV systolic function with left ventricular ejection fraction of 51%.,4.  Normal LV diastolic function.,5.  No pericardial effusion.,6.  Normal morphology of aortic valve, mitral valve, tricuspid valve, and pulmonary valve.,7.  PA systolic pressure is 36 mmHg.,DOPPLER: , ,1.  Mild mitral and tricuspid regurgitation.,2.  Trace aortic and pulmonary regurgitation.   \n",
              "4  1.  The left ventricular cavity size and wall thickness appear normal.  The wall motion and left ventricular systolic function appears hyperdynamic with estimated ejection fraction of 70% to 75%.  There is near-cavity obliteration seen.  There also appears to be increased left ventricular outflow tract gradient at the mid cavity level consistent with hyperdynamic left ventricular systolic function.  There is abnormal left ventricular relaxation pattern seen as well as elevated left atrial pressures seen by Doppler examination.,2.  The left atrium appears mildly dilated.,3.  The right atriu...   \n",
              "\n",
              "                                                                                                                                                                                                                                                                                                                                  keywords  \n",
              "0                                                                                                                                                                                                      allergy / immunology, allergic rhinitis, allergies, asthma, nasal sprays, rhinitis, nasal, erythematous, allegra, sprays, allergic,  \n",
              "1                                                                                                 bariatrics, laparoscopic gastric bypass, weight loss programs, gastric bypass, atkin's diet, weight watcher's, body weight, laparoscopic gastric, weight loss, pounds, months, weight, laparoscopic, band, loss, diets, overweight, lost  \n",
              "2                                                                                              bariatrics, laparoscopic gastric bypass, heart attacks, body weight, pulmonary embolism, potential complications, sleep study, weight loss, gastric bypass, anastomosis, loss, sleep, laparoscopic, gastric, bypass, heart, pounds, weight,  \n",
              "3                                                                           cardiovascular / pulmonary, 2-d m-mode, doppler, aortic valve, atrial enlargement, diastolic function, ejection fraction, mitral, mitral valve, pericardial effusion, pulmonary valve, regurgitation, systolic function, tricuspid, tricuspid valve, normal lv  \n",
              "4  cardiovascular / pulmonary, 2-d, doppler, echocardiogram, annular, aortic root, aortic valve, atrial, atrium, calcification, cavity, ejection fraction, mitral, obliteration, outflow, regurgitation, relaxation pattern, stenosis, systolic function, tricuspid, valve, ventricular, ventricular cavity, wall motion, pulmonary artery  "
            ]
          },
          "metadata": {
            "tags": []
          },
          "execution_count": 9
        }
      ]
    },
    {
      "cell_type": "markdown",
      "metadata": {
        "id": "BsZi05Y0EUdc"
      },
      "source": [
        "### Setup objects for Language Model Training"
      ],
      "id": "BsZi05Y0EUdc"
    },
    {
      "cell_type": "markdown",
      "metadata": {
        "id": "24fb6dc2"
      },
      "source": [
        "This is one way to load the data for training - it's more simple, but you have less control.\n",
        "\n",
        "```python\n",
        "TextDataLoaders.from_df(mtsamples,\n",
        "                        valid_pct=0.2,\n",
        "                        seed=42,\n",
        "                        text_col='transcription',\n",
        "                        label_col='medical_specialty',\n",
        "                        seq_len=72)\n",
        "```"
      ],
      "id": "24fb6dc2"
    },
    {
      "cell_type": "code",
      "metadata": {
        "id": "b4a65e61"
      },
      "source": [
        "dls_lm = DataBlock(\n",
        "    blocks=TextBlock.from_df('transcription', is_lm=True),\n",
        "    get_x=ColReader('text'),\n",
        "    splitter=TrainTestSplitter(test_size=0.2,\n",
        "                               random_state=42)\n",
        ")"
      ],
      "id": "b4a65e61",
      "execution_count": 10,
      "outputs": []
    },
    {
      "cell_type": "code",
      "metadata": {
        "colab": {
          "base_uri": "https://localhost:8080/",
          "height": 72
        },
        "id": "fc358b72",
        "outputId": "df9ade36-285a-4fc0-f9b0-62f645537c87"
      },
      "source": [
        "# This cell takes 1 - 2 minutes\n",
        "# when using seq_len of 256, bs of 128 fits in GPU memory, bs 256 does not fit\n",
        "# when using seq_len of 512, bs of 64 fits in GPU memory, bs 128 does not fit\n",
        "dls_lm = dls_lm.dataloaders(mtsamples, bs=32, seq_len=sequence_length)"
      ],
      "id": "fc358b72",
      "execution_count": 11,
      "outputs": [
        {
          "output_type": "display_data",
          "data": {
            "text/html": [
              ""
            ],
            "text/plain": [
              "<IPython.core.display.HTML object>"
            ]
          },
          "metadata": {
            "tags": []
          }
        },
        {
          "output_type": "stream",
          "text": [
            "/usr/local/lib/python3.7/dist-packages/numpy/core/_asarray.py:83: VisibleDeprecationWarning: Creating an ndarray from ragged nested sequences (which is a list-or-tuple of lists-or-tuples-or ndarrays with different lengths or shapes) is deprecated. If you meant to do this, you must specify 'dtype=object' when creating the ndarray\n",
            "  return array(a, dtype, copy=False, order=order)\n"
          ],
          "name": "stderr"
        }
      ]
    },
    {
      "cell_type": "markdown",
      "metadata": {
        "id": "adxARtIOD_os"
      },
      "source": [
        "## Train the language Model\n",
        "\n",
        "This portion can be skipped if done previously"
      ],
      "id": "adxARtIOD_os"
    },
    {
      "cell_type": "code",
      "metadata": {
        "id": "9e3337c6"
      },
      "source": [
        "# if changes in the above were made (such as batch size), it may be beneficial to purge GPU memory\n",
        "gc.collect()\n",
        "torch.cuda.empty_cache()\n",
        "gc.collect()\n",
        "torch.cuda.empty_cache()"
      ],
      "id": "9e3337c6",
      "execution_count": 12,
      "outputs": []
    },
    {
      "cell_type": "code",
      "metadata": {
        "colab": {
          "base_uri": "https://localhost:8080/",
          "height": 321
        },
        "id": "49354b58",
        "outputId": "43e477c6-5de2-4428-ee7f-412c7e170973"
      },
      "source": [
        "dls_lm.show_batch(max_n=2)"
      ],
      "id": "49354b58",
      "execution_count": 13,
      "outputs": [
        {
          "output_type": "display_data",
          "data": {
            "text/html": [
              "<table border=\"1\" class=\"dataframe\">\n",
              "  <thead>\n",
              "    <tr style=\"text-align: right;\">\n",
              "      <th></th>\n",
              "      <th>text</th>\n",
              "      <th>text_</th>\n",
              "    </tr>\n",
              "  </thead>\n",
              "  <tbody>\n",
              "    <tr>\n",
              "      <th>0</th>\n",
              "      <td>xxbos xxup preoperative xxup diagnoses:,1 . xxmaj pelvic pain . ,2 . hypermenorrhea . ,postoperative xxup diagnoses:,1 . xxmaj pelvic pain . ,2 . xxmaj hypermenorrhea . ,3 . xxmaj mild pelvic endometriosis . ,procedure xxup performed:,1 . xxmaj dilatation and curettage ( d&amp;c).,2 . xxmaj laparoscopic ablation of endometrial implants . ,anesthesia : , general endotracheal . ,complications : , none . ,estimated xxup blood xxup loss : , xxmaj less than 50 cc . ,specimen : , xxmaj endometrial curettings . ,indications : , xxmaj this is a 26-year - old female with a history of approximately one year of heavy painful menses . xxmaj she did complain of some dyspareunia and wants a definitive diagnosis . ,findings : , xxmaj on bimanual exam , the uterus is small and anteverted with mildly decreased mobility on the left side . xxmaj there are no adnexal masses appreciated .</td>\n",
              "      <td>xxup preoperative xxup diagnoses:,1 . xxmaj pelvic pain . ,2 . hypermenorrhea . ,postoperative xxup diagnoses:,1 . xxmaj pelvic pain . ,2 . xxmaj hypermenorrhea . ,3 . xxmaj mild pelvic endometriosis . ,procedure xxup performed:,1 . xxmaj dilatation and curettage ( d&amp;c).,2 . xxmaj laparoscopic ablation of endometrial implants . ,anesthesia : , general endotracheal . ,complications : , none . ,estimated xxup blood xxup loss : , xxmaj less than 50 cc . ,specimen : , xxmaj endometrial curettings . ,indications : , xxmaj this is a 26-year - old female with a history of approximately one year of heavy painful menses . xxmaj she did complain of some dyspareunia and wants a definitive diagnosis . ,findings : , xxmaj on bimanual exam , the uterus is small and anteverted with mildly decreased mobility on the left side . xxmaj there are no adnexal masses appreciated . xxmaj</td>\n",
              "    </tr>\n",
              "    <tr>\n",
              "      <th>1</th>\n",
              "      <td>97.5 degrees . xxmaj blood pressure is 168 / 70 . xxmaj pulse is 88 . xxmaj weight is 129 pounds . ,general : xxmaj she is an elderly 76-year - old in no acute distress . ,heent : xxmaj atraumatic . xxmaj extraocular muscles were intact . xxmaj pupils equal , round and reactive to light and accommodation . xxmaj tympanic membranes are clear , dry and intact . xxmaj sinuses and throat are clear . xxmaj neck is soft , supple . xxmaj no meningeal signs are present . xxmaj no thyromegaly is present . ,chest : xxmaj clear to auscultation . ,cardiovascular : xxmaj regular rate and rhythm without murmur . ,abdomen : xxmaj soft , nontender . xxmaj bowel sounds are positive . xxmaj no organomegaly or peritoneal signs are present . ,extremities : xxmaj moving all extremities . xxmaj peripheral pulses are normal . xxmaj</td>\n",
              "      <td>degrees . xxmaj blood pressure is 168 / 70 . xxmaj pulse is 88 . xxmaj weight is 129 pounds . ,general : xxmaj she is an elderly 76-year - old in no acute distress . ,heent : xxmaj atraumatic . xxmaj extraocular muscles were intact . xxmaj pupils equal , round and reactive to light and accommodation . xxmaj tympanic membranes are clear , dry and intact . xxmaj sinuses and throat are clear . xxmaj neck is soft , supple . xxmaj no meningeal signs are present . xxmaj no thyromegaly is present . ,chest : xxmaj clear to auscultation . ,cardiovascular : xxmaj regular rate and rhythm without murmur . ,abdomen : xxmaj soft , nontender . xxmaj bowel sounds are positive . xxmaj no organomegaly or peritoneal signs are present . ,extremities : xxmaj moving all extremities . xxmaj peripheral pulses are normal . xxmaj no</td>\n",
              "    </tr>\n",
              "  </tbody>\n",
              "</table>"
            ],
            "text/plain": [
              "<IPython.core.display.HTML object>"
            ]
          },
          "metadata": {
            "tags": []
          }
        }
      ]
    },
    {
      "cell_type": "code",
      "metadata": {
        "colab": {
          "base_uri": "https://localhost:8080/",
          "height": 17
        },
        "id": "d642f450",
        "outputId": "ae653cce-dd93-4d29-c0ef-75d7546041e1"
      },
      "source": [
        "lm_learn = language_model_learner(\n",
        "    dls_lm,\n",
        "    AWD_LSTM,\n",
        "    model_dir=model_path,\n",
        "    drop_mult=0.3,\n",
        "    metrics=[accuracy, Perplexity()]).to_fp16()"
      ],
      "id": "d642f450",
      "execution_count": 14,
      "outputs": [
        {
          "output_type": "display_data",
          "data": {
            "text/html": [
              ""
            ],
            "text/plain": [
              "<IPython.core.display.HTML object>"
            ]
          },
          "metadata": {
            "tags": []
          }
        }
      ]
    },
    {
      "cell_type": "code",
      "metadata": {
        "colab": {
          "base_uri": "https://localhost:8080/",
          "height": 81
        },
        "id": "915814fd",
        "outputId": "ebe17069-640f-40fc-b0bc-2b3ebd385d2d"
      },
      "source": [
        "# on macbook this cell takes 40 minues\n",
        "# on GPU machine this cell takes about 1 minute\n",
        "lm_learn.fit_one_cycle(1, 2e-2)"
      ],
      "id": "915814fd",
      "execution_count": 24,
      "outputs": [
        {
          "output_type": "display_data",
          "data": {
            "text/html": [
              "<table border=\"1\" class=\"dataframe\">\n",
              "  <thead>\n",
              "    <tr style=\"text-align: left;\">\n",
              "      <th>epoch</th>\n",
              "      <th>train_loss</th>\n",
              "      <th>valid_loss</th>\n",
              "      <th>accuracy</th>\n",
              "      <th>perplexity</th>\n",
              "      <th>time</th>\n",
              "    </tr>\n",
              "  </thead>\n",
              "  <tbody>\n",
              "    <tr>\n",
              "      <td>0</td>\n",
              "      <td>3.290352</td>\n",
              "      <td>2.999032</td>\n",
              "      <td>0.438649</td>\n",
              "      <td>20.066099</td>\n",
              "      <td>01:08</td>\n",
              "    </tr>\n",
              "  </tbody>\n",
              "</table>"
            ],
            "text/plain": [
              "<IPython.core.display.HTML object>"
            ]
          },
          "metadata": {
            "tags": []
          }
        }
      ]
    },
    {
      "cell_type": "code",
      "metadata": {
        "colab": {
          "base_uri": "https://localhost:8080/"
        },
        "id": "a60d5389",
        "outputId": "e570225f-ef4b-4e49-dcc9-21531f6b0aa3"
      },
      "source": [
        "lm_learn.save('lm_1stepoch')\n",
        "# can load already saved trained model with\n",
        "# learn.load('1stepoch')"
      ],
      "id": "a60d5389",
      "execution_count": 18,
      "outputs": [
        {
          "output_type": "execute_result",
          "data": {
            "text/plain": [
              "Path('/content/gdrive/My Drive/models/lm_1stepoch.pth')"
            ]
          },
          "metadata": {
            "tags": []
          },
          "execution_count": 18
        }
      ]
    },
    {
      "cell_type": "code",
      "metadata": {
        "id": "d41db8bc"
      },
      "source": [
        "# if changes in the above were made (such as batch size), it may be beneficial to purge GPU memory\n",
        "gc.collect()\n",
        "torch.cuda.empty_cache()\n",
        "gc.collect()\n",
        "torch.cuda.empty_cache()"
      ],
      "id": "d41db8bc",
      "execution_count": 19,
      "outputs": []
    },
    {
      "cell_type": "code",
      "metadata": {
        "colab": {
          "base_uri": "https://localhost:8080/",
          "height": 990
        },
        "id": "6f857a0a",
        "outputId": "55e5e09c-4a73-46cc-f2b2-77ab316344be"
      },
      "source": [
        "# train language model until we get to about 85% accuracy\n",
        "# each epoch takes about 1 minute\n",
        "lm_learn.unfreeze()\n",
        "lm_learn.fit_one_cycle(30, 2e-3)"
      ],
      "id": "6f857a0a",
      "execution_count": 20,
      "outputs": [
        {
          "output_type": "display_data",
          "data": {
            "text/html": [
              "<table border=\"1\" class=\"dataframe\">\n",
              "  <thead>\n",
              "    <tr style=\"text-align: left;\">\n",
              "      <th>epoch</th>\n",
              "      <th>train_loss</th>\n",
              "      <th>valid_loss</th>\n",
              "      <th>accuracy</th>\n",
              "      <th>perplexity</th>\n",
              "      <th>time</th>\n",
              "    </tr>\n",
              "  </thead>\n",
              "  <tbody>\n",
              "    <tr>\n",
              "      <td>0</td>\n",
              "      <td>2.878558</td>\n",
              "      <td>2.898740</td>\n",
              "      <td>0.450906</td>\n",
              "      <td>18.151266</td>\n",
              "      <td>01:16</td>\n",
              "    </tr>\n",
              "    <tr>\n",
              "      <td>1</td>\n",
              "      <td>2.784798</td>\n",
              "      <td>2.796119</td>\n",
              "      <td>0.463979</td>\n",
              "      <td>16.380945</td>\n",
              "      <td>01:16</td>\n",
              "    </tr>\n",
              "    <tr>\n",
              "      <td>2</td>\n",
              "      <td>2.655247</td>\n",
              "      <td>2.667405</td>\n",
              "      <td>0.480619</td>\n",
              "      <td>14.402544</td>\n",
              "      <td>01:16</td>\n",
              "    </tr>\n",
              "    <tr>\n",
              "      <td>3</td>\n",
              "      <td>2.498225</td>\n",
              "      <td>2.520943</td>\n",
              "      <td>0.501134</td>\n",
              "      <td>12.440328</td>\n",
              "      <td>01:16</td>\n",
              "    </tr>\n",
              "    <tr>\n",
              "      <td>4</td>\n",
              "      <td>2.308361</td>\n",
              "      <td>2.372886</td>\n",
              "      <td>0.523736</td>\n",
              "      <td>10.728307</td>\n",
              "      <td>01:16</td>\n",
              "    </tr>\n",
              "    <tr>\n",
              "      <td>5</td>\n",
              "      <td>2.113454</td>\n",
              "      <td>2.202312</td>\n",
              "      <td>0.551386</td>\n",
              "      <td>9.045908</td>\n",
              "      <td>01:16</td>\n",
              "    </tr>\n",
              "    <tr>\n",
              "      <td>6</td>\n",
              "      <td>1.882982</td>\n",
              "      <td>2.044182</td>\n",
              "      <td>0.578262</td>\n",
              "      <td>7.722837</td>\n",
              "      <td>01:16</td>\n",
              "    </tr>\n",
              "    <tr>\n",
              "      <td>7</td>\n",
              "      <td>1.680471</td>\n",
              "      <td>1.891612</td>\n",
              "      <td>0.608896</td>\n",
              "      <td>6.630049</td>\n",
              "      <td>01:16</td>\n",
              "    </tr>\n",
              "    <tr>\n",
              "      <td>8</td>\n",
              "      <td>1.503989</td>\n",
              "      <td>1.771885</td>\n",
              "      <td>0.634022</td>\n",
              "      <td>5.881930</td>\n",
              "      <td>01:16</td>\n",
              "    </tr>\n",
              "    <tr>\n",
              "      <td>9</td>\n",
              "      <td>1.325124</td>\n",
              "      <td>1.644490</td>\n",
              "      <td>0.662032</td>\n",
              "      <td>5.178368</td>\n",
              "      <td>01:16</td>\n",
              "    </tr>\n",
              "    <tr>\n",
              "      <td>10</td>\n",
              "      <td>1.153747</td>\n",
              "      <td>1.544865</td>\n",
              "      <td>0.685697</td>\n",
              "      <td>4.687337</td>\n",
              "      <td>01:16</td>\n",
              "    </tr>\n",
              "    <tr>\n",
              "      <td>11</td>\n",
              "      <td>1.039526</td>\n",
              "      <td>1.455621</td>\n",
              "      <td>0.707497</td>\n",
              "      <td>4.287147</td>\n",
              "      <td>01:15</td>\n",
              "    </tr>\n",
              "    <tr>\n",
              "      <td>12</td>\n",
              "      <td>0.934688</td>\n",
              "      <td>1.373670</td>\n",
              "      <td>0.727946</td>\n",
              "      <td>3.949819</td>\n",
              "      <td>01:16</td>\n",
              "    </tr>\n",
              "    <tr>\n",
              "      <td>13</td>\n",
              "      <td>0.848919</td>\n",
              "      <td>1.301942</td>\n",
              "      <td>0.747087</td>\n",
              "      <td>3.676429</td>\n",
              "      <td>01:16</td>\n",
              "    </tr>\n",
              "    <tr>\n",
              "      <td>14</td>\n",
              "      <td>0.766980</td>\n",
              "      <td>1.240326</td>\n",
              "      <td>0.763258</td>\n",
              "      <td>3.456740</td>\n",
              "      <td>01:15</td>\n",
              "    </tr>\n",
              "    <tr>\n",
              "      <td>15</td>\n",
              "      <td>0.707210</td>\n",
              "      <td>1.186970</td>\n",
              "      <td>0.778768</td>\n",
              "      <td>3.277137</td>\n",
              "      <td>01:15</td>\n",
              "    </tr>\n",
              "    <tr>\n",
              "      <td>16</td>\n",
              "      <td>0.645519</td>\n",
              "      <td>1.138800</td>\n",
              "      <td>0.793225</td>\n",
              "      <td>3.123017</td>\n",
              "      <td>01:15</td>\n",
              "    </tr>\n",
              "    <tr>\n",
              "      <td>17</td>\n",
              "      <td>0.585264</td>\n",
              "      <td>1.100563</td>\n",
              "      <td>0.805034</td>\n",
              "      <td>3.005859</td>\n",
              "      <td>01:15</td>\n",
              "    </tr>\n",
              "    <tr>\n",
              "      <td>18</td>\n",
              "      <td>0.530816</td>\n",
              "      <td>1.060582</td>\n",
              "      <td>0.817174</td>\n",
              "      <td>2.888051</td>\n",
              "      <td>01:16</td>\n",
              "    </tr>\n",
              "    <tr>\n",
              "      <td>19</td>\n",
              "      <td>0.510209</td>\n",
              "      <td>1.032811</td>\n",
              "      <td>0.824365</td>\n",
              "      <td>2.808950</td>\n",
              "      <td>01:15</td>\n",
              "    </tr>\n",
              "    <tr>\n",
              "      <td>20</td>\n",
              "      <td>0.455385</td>\n",
              "      <td>1.000839</td>\n",
              "      <td>0.834744</td>\n",
              "      <td>2.720565</td>\n",
              "      <td>01:15</td>\n",
              "    </tr>\n",
              "    <tr>\n",
              "      <td>21</td>\n",
              "      <td>0.423995</td>\n",
              "      <td>0.978663</td>\n",
              "      <td>0.841644</td>\n",
              "      <td>2.660896</td>\n",
              "      <td>01:15</td>\n",
              "    </tr>\n",
              "    <tr>\n",
              "      <td>22</td>\n",
              "      <td>0.396768</td>\n",
              "      <td>0.963716</td>\n",
              "      <td>0.846928</td>\n",
              "      <td>2.621419</td>\n",
              "      <td>01:16</td>\n",
              "    </tr>\n",
              "    <tr>\n",
              "      <td>23</td>\n",
              "      <td>0.377676</td>\n",
              "      <td>0.950164</td>\n",
              "      <td>0.850932</td>\n",
              "      <td>2.586133</td>\n",
              "      <td>01:15</td>\n",
              "    </tr>\n",
              "    <tr>\n",
              "      <td>24</td>\n",
              "      <td>0.364722</td>\n",
              "      <td>0.940395</td>\n",
              "      <td>0.853944</td>\n",
              "      <td>2.560994</td>\n",
              "      <td>01:15</td>\n",
              "    </tr>\n",
              "    <tr>\n",
              "      <td>25</td>\n",
              "      <td>0.351256</td>\n",
              "      <td>0.932909</td>\n",
              "      <td>0.856369</td>\n",
              "      <td>2.541893</td>\n",
              "      <td>01:15</td>\n",
              "    </tr>\n",
              "    <tr>\n",
              "      <td>26</td>\n",
              "      <td>0.354966</td>\n",
              "      <td>0.928439</td>\n",
              "      <td>0.857618</td>\n",
              "      <td>2.530555</td>\n",
              "      <td>01:16</td>\n",
              "    </tr>\n",
              "    <tr>\n",
              "      <td>27</td>\n",
              "      <td>0.338421</td>\n",
              "      <td>0.926428</td>\n",
              "      <td>0.858427</td>\n",
              "      <td>2.525473</td>\n",
              "      <td>01:15</td>\n",
              "    </tr>\n",
              "    <tr>\n",
              "      <td>28</td>\n",
              "      <td>0.338700</td>\n",
              "      <td>0.925718</td>\n",
              "      <td>0.858685</td>\n",
              "      <td>2.523679</td>\n",
              "      <td>01:15</td>\n",
              "    </tr>\n",
              "    <tr>\n",
              "      <td>29</td>\n",
              "      <td>0.325344</td>\n",
              "      <td>0.925617</td>\n",
              "      <td>0.858743</td>\n",
              "      <td>2.523425</td>\n",
              "      <td>01:16</td>\n",
              "    </tr>\n",
              "  </tbody>\n",
              "</table>"
            ],
            "text/plain": [
              "<IPython.core.display.HTML object>"
            ]
          },
          "metadata": {
            "tags": []
          }
        }
      ]
    },
    {
      "cell_type": "code",
      "metadata": {
        "id": "eefe4759"
      },
      "source": [
        "lm_learn.save_encoder('lm_finetuned')"
      ],
      "id": "eefe4759",
      "execution_count": 21,
      "outputs": []
    },
    {
      "cell_type": "code",
      "metadata": {
        "id": "8c9fsBZLaf0n"
      },
      "source": [
        "? lm_learn.load()"
      ],
      "id": "8c9fsBZLaf0n",
      "execution_count": 25,
      "outputs": []
    },
    {
      "cell_type": "code",
      "metadata": {
        "colab": {
          "base_uri": "https://localhost:8080/",
          "height": 434
        },
        "id": "At6weoaoZYF7",
        "outputId": "ce599b19-ea7c-4a3a-af26-e02462674d7e"
      },
      "source": [
        "# can load with\n",
        "lm_learn = lm_learn.load('lm_finetuned')"
      ],
      "id": "At6weoaoZYF7",
      "execution_count": 26,
      "outputs": [
        {
          "output_type": "error",
          "ename": "RuntimeError",
          "evalue": "ignored",
          "traceback": [
            "\u001b[0;31m---------------------------------------------------------------------------\u001b[0m",
            "\u001b[0;31mRuntimeError\u001b[0m                              Traceback (most recent call last)",
            "\u001b[0;32m<ipython-input-26-9218cc58f077>\u001b[0m in \u001b[0;36m<module>\u001b[0;34m()\u001b[0m\n\u001b[1;32m      1\u001b[0m \u001b[0;31m# can load with\u001b[0m\u001b[0;34m\u001b[0m\u001b[0;34m\u001b[0m\u001b[0;34m\u001b[0m\u001b[0m\n\u001b[0;32m----> 2\u001b[0;31m \u001b[0mlm_learn\u001b[0m \u001b[0;34m=\u001b[0m \u001b[0mlm_learn\u001b[0m\u001b[0;34m.\u001b[0m\u001b[0mload\u001b[0m\u001b[0;34m(\u001b[0m\u001b[0;34m'lm_finetuned'\u001b[0m\u001b[0;34m)\u001b[0m\u001b[0;34m\u001b[0m\u001b[0;34m\u001b[0m\u001b[0m\n\u001b[0m",
            "\u001b[0;32m/usr/local/lib/python3.7/dist-packages/fastai/text/learner.py\u001b[0m in \u001b[0;36mload\u001b[0;34m(self, file, with_opt, device, **kwargs)\u001b[0m\n\u001b[1;32m    125\u001b[0m         \u001b[0;32mif\u001b[0m \u001b[0mself\u001b[0m\u001b[0;34m.\u001b[0m\u001b[0mopt\u001b[0m \u001b[0;32mis\u001b[0m \u001b[0;32mNone\u001b[0m\u001b[0;34m:\u001b[0m \u001b[0mself\u001b[0m\u001b[0;34m.\u001b[0m\u001b[0mcreate_opt\u001b[0m\u001b[0;34m(\u001b[0m\u001b[0;34m)\u001b[0m\u001b[0;34m\u001b[0m\u001b[0;34m\u001b[0m\u001b[0m\n\u001b[1;32m    126\u001b[0m         \u001b[0mfile\u001b[0m \u001b[0;34m=\u001b[0m \u001b[0mjoin_path_file\u001b[0m\u001b[0;34m(\u001b[0m\u001b[0mfile\u001b[0m\u001b[0;34m,\u001b[0m \u001b[0mself\u001b[0m\u001b[0;34m.\u001b[0m\u001b[0mpath\u001b[0m\u001b[0;34m/\u001b[0m\u001b[0mself\u001b[0m\u001b[0;34m.\u001b[0m\u001b[0mmodel_dir\u001b[0m\u001b[0;34m,\u001b[0m \u001b[0mext\u001b[0m\u001b[0;34m=\u001b[0m\u001b[0;34m'.pth'\u001b[0m\u001b[0;34m)\u001b[0m\u001b[0;34m\u001b[0m\u001b[0;34m\u001b[0m\u001b[0m\n\u001b[0;32m--> 127\u001b[0;31m         \u001b[0mload_model_text\u001b[0m\u001b[0;34m(\u001b[0m\u001b[0mfile\u001b[0m\u001b[0;34m,\u001b[0m \u001b[0mself\u001b[0m\u001b[0;34m.\u001b[0m\u001b[0mmodel\u001b[0m\u001b[0;34m,\u001b[0m \u001b[0mself\u001b[0m\u001b[0;34m.\u001b[0m\u001b[0mopt\u001b[0m\u001b[0;34m,\u001b[0m \u001b[0mdevice\u001b[0m\u001b[0;34m=\u001b[0m\u001b[0mdevice\u001b[0m\u001b[0;34m,\u001b[0m \u001b[0;34m**\u001b[0m\u001b[0mkwargs\u001b[0m\u001b[0;34m)\u001b[0m\u001b[0;34m\u001b[0m\u001b[0;34m\u001b[0m\u001b[0m\n\u001b[0m\u001b[1;32m    128\u001b[0m         \u001b[0;32mreturn\u001b[0m \u001b[0mself\u001b[0m\u001b[0;34m\u001b[0m\u001b[0;34m\u001b[0m\u001b[0m\n\u001b[1;32m    129\u001b[0m \u001b[0;34m\u001b[0m\u001b[0m\n",
            "\u001b[0;32m/usr/local/lib/python3.7/dist-packages/fastai/text/learner.py\u001b[0m in \u001b[0;36mload_model_text\u001b[0;34m(file, model, opt, with_opt, device, strict)\u001b[0m\n\u001b[1;32m     74\u001b[0m     \u001b[0mhasopt\u001b[0m \u001b[0;34m=\u001b[0m \u001b[0mset\u001b[0m\u001b[0;34m(\u001b[0m\u001b[0mstate\u001b[0m\u001b[0;34m)\u001b[0m\u001b[0;34m==\u001b[0m\u001b[0;34m{\u001b[0m\u001b[0;34m'model'\u001b[0m\u001b[0;34m,\u001b[0m \u001b[0;34m'opt'\u001b[0m\u001b[0;34m}\u001b[0m\u001b[0;34m\u001b[0m\u001b[0;34m\u001b[0m\u001b[0m\n\u001b[1;32m     75\u001b[0m     \u001b[0mmodel_state\u001b[0m \u001b[0;34m=\u001b[0m \u001b[0mstate\u001b[0m\u001b[0;34m[\u001b[0m\u001b[0;34m'model'\u001b[0m\u001b[0;34m]\u001b[0m \u001b[0;32mif\u001b[0m \u001b[0mhasopt\u001b[0m \u001b[0;32melse\u001b[0m \u001b[0mstate\u001b[0m\u001b[0;34m\u001b[0m\u001b[0;34m\u001b[0m\u001b[0m\n\u001b[0;32m---> 76\u001b[0;31m     \u001b[0mget_model\u001b[0m\u001b[0;34m(\u001b[0m\u001b[0mmodel\u001b[0m\u001b[0;34m)\u001b[0m\u001b[0;34m.\u001b[0m\u001b[0mload_state_dict\u001b[0m\u001b[0;34m(\u001b[0m\u001b[0mclean_raw_keys\u001b[0m\u001b[0;34m(\u001b[0m\u001b[0mmodel_state\u001b[0m\u001b[0;34m)\u001b[0m\u001b[0;34m,\u001b[0m \u001b[0mstrict\u001b[0m\u001b[0;34m=\u001b[0m\u001b[0mstrict\u001b[0m\u001b[0;34m)\u001b[0m\u001b[0;34m\u001b[0m\u001b[0;34m\u001b[0m\u001b[0m\n\u001b[0m\u001b[1;32m     77\u001b[0m     \u001b[0;32mif\u001b[0m \u001b[0mhasopt\u001b[0m \u001b[0;32mand\u001b[0m \u001b[0mifnone\u001b[0m\u001b[0;34m(\u001b[0m\u001b[0mwith_opt\u001b[0m\u001b[0;34m,\u001b[0m\u001b[0;32mTrue\u001b[0m\u001b[0;34m)\u001b[0m\u001b[0;34m:\u001b[0m\u001b[0;34m\u001b[0m\u001b[0;34m\u001b[0m\u001b[0m\n\u001b[1;32m     78\u001b[0m         \u001b[0;32mtry\u001b[0m\u001b[0;34m:\u001b[0m \u001b[0mopt\u001b[0m\u001b[0;34m.\u001b[0m\u001b[0mload_state_dict\u001b[0m\u001b[0;34m(\u001b[0m\u001b[0mstate\u001b[0m\u001b[0;34m[\u001b[0m\u001b[0;34m'opt'\u001b[0m\u001b[0;34m]\u001b[0m\u001b[0;34m)\u001b[0m\u001b[0;34m\u001b[0m\u001b[0;34m\u001b[0m\u001b[0m\n",
            "\u001b[0;32m/usr/local/lib/python3.7/dist-packages/torch/nn/modules/module.py\u001b[0m in \u001b[0;36mload_state_dict\u001b[0;34m(self, state_dict, strict)\u001b[0m\n\u001b[1;32m   1222\u001b[0m         \u001b[0;32mif\u001b[0m \u001b[0mlen\u001b[0m\u001b[0;34m(\u001b[0m\u001b[0merror_msgs\u001b[0m\u001b[0;34m)\u001b[0m \u001b[0;34m>\u001b[0m \u001b[0;36m0\u001b[0m\u001b[0;34m:\u001b[0m\u001b[0;34m\u001b[0m\u001b[0;34m\u001b[0m\u001b[0m\n\u001b[1;32m   1223\u001b[0m             raise RuntimeError('Error(s) in loading state_dict for {}:\\n\\t{}'.format(\n\u001b[0;32m-> 1224\u001b[0;31m                                self.__class__.__name__, \"\\n\\t\".join(error_msgs)))\n\u001b[0m\u001b[1;32m   1225\u001b[0m         \u001b[0;32mreturn\u001b[0m \u001b[0m_IncompatibleKeys\u001b[0m\u001b[0;34m(\u001b[0m\u001b[0mmissing_keys\u001b[0m\u001b[0;34m,\u001b[0m \u001b[0munexpected_keys\u001b[0m\u001b[0;34m)\u001b[0m\u001b[0;34m\u001b[0m\u001b[0;34m\u001b[0m\u001b[0m\n\u001b[1;32m   1226\u001b[0m \u001b[0;34m\u001b[0m\u001b[0m\n",
            "\u001b[0;31mRuntimeError\u001b[0m: Error(s) in loading state_dict for SequentialRNN:\n\tMissing key(s) in state_dict: \"0.encoder.weight\", \"0.encoder_dp.emb.weight\", \"0.rnns.0.weight_hh_l0_raw\", \"0.rnns.0.module.weight_ih_l0\", \"0.rnns.0.module.bias_ih_l0\", \"0.rnns.0.module.bias_hh_l0\", \"0.rnns.1.weight_hh_l0_raw\", \"0.rnns.1.module.weight_ih_l0\", \"0.rnns.1.module.bias_ih_l0\", \"0.rnns.1.module.bias_hh_l0\", \"0.rnns.2.weight_hh_l0_raw\", \"0.rnns.2.module.weight_ih_l0\", \"0.rnns.2.module.bias_ih_l0\", \"0.rnns.2.module.bias_hh_l0\", \"1.decoder.weight\", \"1.decoder.bias\". \n\tUnexpected key(s) in state_dict: \"encoder.weight\", \"encoder_dp.emb.weight\", \"rnns.0.weight_hh_l0_raw\", \"rnns.0.module.weight_ih_l0\", \"rnns.0.module.bias_ih_l0\", \"rnns.0.module.bias_hh_l0\", \"rnns.1.weight_hh_l0_raw\", \"rnns.1.module.weight_ih_l0\", \"rnns.1.module.bias_ih_l0\", \"rnns.1.module.bias_hh_l0\", \"rnns.2.weight_hh_l0_raw\", \"rnns.2.module.weight_ih_l0\", \"rnns.2.module.bias_ih_l0\", \"rnns.2.module.bias_hh_l0\". "
          ]
        }
      ]
    },
    {
      "cell_type": "markdown",
      "metadata": {
        "id": "deab493b"
      },
      "source": [
        "## Now build a text classifier\n",
        "\n",
        "Now that we have finetuned a language model based on our actual text let's build a classifier to identify the medical specialty of the transcription notes. As shown previously in this dataset, some specialties are more represented than others. Split data such that training and testing data sets are balanced based on specialty."
      ],
      "id": "deab493b"
    },
    {
      "cell_type": "markdown",
      "metadata": {
        "id": "Guc4aZ7p3ZlE"
      },
      "source": [
        "A note on data cleanup: In the best case, a machine learning model can only be as good as the data provided. If data is of poor quality or labels are inconsistent, it will be difficult to get good accuracy with your model.\n",
        "\n",
        "Let's review the really short transcription notes."
      ],
      "id": "Guc4aZ7p3ZlE"
    },
    {
      "cell_type": "code",
      "metadata": {
        "id": "JvUEN8FX3ZlF"
      },
      "source": [
        "word_len = mtsamples.transcription.str.split(' ').str.len()"
      ],
      "id": "JvUEN8FX3ZlF",
      "execution_count": 15,
      "outputs": []
    },
    {
      "cell_type": "code",
      "metadata": {
        "id": "Ar_jI-F-3ZlG"
      },
      "source": [
        "mtsamples['num_words'] =  mtsamples.transcription.str.split(' ').str.len()"
      ],
      "id": "Ar_jI-F-3ZlG",
      "execution_count": 16,
      "outputs": []
    },
    {
      "cell_type": "code",
      "metadata": {
        "colab": {
          "base_uri": "https://localhost:8080/"
        },
        "id": "OJqgRSzj3ZlG",
        "outputId": "60693f64-9fbd-43d8-a394-fe4f3d31a833"
      },
      "source": [
        "word_len.median()"
      ],
      "id": "OJqgRSzj3ZlG",
      "execution_count": 17,
      "outputs": [
        {
          "output_type": "execute_result",
          "data": {
            "text/plain": [
              "425.0"
            ]
          },
          "metadata": {
            "tags": []
          },
          "execution_count": 17
        }
      ]
    },
    {
      "cell_type": "code",
      "metadata": {
        "colab": {
          "base_uri": "https://localhost:8080/"
        },
        "id": "xO6hjbNr3ZlJ",
        "outputId": "6aa54ed4-4034-40f9-fe36-92f6f34d86d1"
      },
      "source": [
        "word_len.min()"
      ],
      "id": "xO6hjbNr3ZlJ",
      "execution_count": 18,
      "outputs": [
        {
          "output_type": "execute_result",
          "data": {
            "text/plain": [
              "1.0"
            ]
          },
          "metadata": {
            "tags": []
          },
          "execution_count": 18
        }
      ]
    },
    {
      "cell_type": "code",
      "metadata": {
        "colab": {
          "base_uri": "https://localhost:8080/"
        },
        "id": "YAWiEULq3ZlK",
        "outputId": "f4528e78-bf11-445a-ed93-fcb828992af3"
      },
      "source": [
        "word_len.std()"
      ],
      "id": "YAWiEULq3ZlK",
      "execution_count": 19,
      "outputs": [
        {
          "output_type": "execute_result",
          "data": {
            "text/plain": [
              "333.8242317381963"
            ]
          },
          "metadata": {
            "tags": []
          },
          "execution_count": 19
        }
      ]
    },
    {
      "cell_type": "code",
      "metadata": {
        "colab": {
          "base_uri": "https://localhost:8080/",
          "height": 380
        },
        "id": "ruL0DdHa3ZlL",
        "outputId": "a22df425-0af5-46c0-9fd5-6f9e1ab6198e"
      },
      "source": [
        "print(f\"There are {len(mtsamples[mtsamples['num_words'] < 5])} records with short notes.\")\n",
        "mtsamples[mtsamples['num_words'] < 5].head()"
      ],
      "id": "ruL0DdHa3ZlL",
      "execution_count": 20,
      "outputs": [
        {
          "output_type": "stream",
          "text": [
            "There are 16 records with short notes.\n"
          ],
          "name": "stdout"
        },
        {
          "output_type": "execute_result",
          "data": {
            "text/html": [
              "<div>\n",
              "<style scoped>\n",
              "    .dataframe tbody tr th:only-of-type {\n",
              "        vertical-align: middle;\n",
              "    }\n",
              "\n",
              "    .dataframe tbody tr th {\n",
              "        vertical-align: top;\n",
              "    }\n",
              "\n",
              "    .dataframe thead th {\n",
              "        text-align: right;\n",
              "    }\n",
              "</style>\n",
              "<table border=\"1\" class=\"dataframe\">\n",
              "  <thead>\n",
              "    <tr style=\"text-align: right;\">\n",
              "      <th></th>\n",
              "      <th>Unnamed: 0</th>\n",
              "      <th>description</th>\n",
              "      <th>medical_specialty</th>\n",
              "      <th>sample_name</th>\n",
              "      <th>transcription</th>\n",
              "      <th>keywords</th>\n",
              "      <th>num_words</th>\n",
              "    </tr>\n",
              "  </thead>\n",
              "  <tbody>\n",
              "    <tr>\n",
              "      <th>24</th>\n",
              "      <td>24</td>\n",
              "      <td>Blood in urine - Transitional cell cancer of the bladder.</td>\n",
              "      <td>Urology</td>\n",
              "      <td>Urology Consut - 1</td>\n",
              "      <td>CHIEF COMPLAINT:,</td>\n",
              "      <td>NaN</td>\n",
              "      <td>2.0</td>\n",
              "    </tr>\n",
              "    <tr>\n",
              "      <th>872</th>\n",
              "      <td>872</td>\n",
              "      <td>EGD with dilation for dysphagia.</td>\n",
              "      <td>Surgery</td>\n",
              "      <td>EGD with Dilation</td>\n",
              "      <td>INDICATION:  ,</td>\n",
              "      <td>surgery, egd, hurricaine spray, olympus endoscope, savary wire, cricopharyngeus, decubitus, dilator, duodenum, dysphagia, esophagus, hiatal hernia, peptic, pylorus, stomach, tortuosity, egd with dilation, tortuous, scope, hiatal, hernia,</td>\n",
              "      <td>3.0</td>\n",
              "    </tr>\n",
              "    <tr>\n",
              "      <th>1379</th>\n",
              "      <td>1379</td>\n",
              "      <td>Sample progress note - Gen Med.</td>\n",
              "      <td>SOAP / Chart / Progress Notes</td>\n",
              "      <td>Gen Med SOAP - 1</td>\n",
              "      <td>SUBJECTIVE:,</td>\n",
              "      <td>soap / chart / progress notes, progress note, clear to auscultation, s1, s2, s3, s4, blood pressure, clubbing, cyanosis, general medicine, peripheral edema, rubs, tenderness, abdomen, pressure, soap, blood</td>\n",
              "      <td>1.0</td>\n",
              "    </tr>\n",
              "    <tr>\n",
              "      <th>1525</th>\n",
              "      <td>1525</td>\n",
              "      <td>Dobutrex stress test for abnormal EKG</td>\n",
              "      <td>Radiology</td>\n",
              "      <td>Stress Test Dobutrex</td>\n",
              "      <td>INDICATIONS:,</td>\n",
              "      <td>radiology, dobutrex stress test, abnormal ekg, dobutrex, inferior abnormality, ischemic heart disease, ventricle, µg/kg/minute, stress test, stress,</td>\n",
              "      <td>1.0</td>\n",
              "    </tr>\n",
              "    <tr>\n",
              "      <th>1949</th>\n",
              "      <td>1949</td>\n",
              "      <td>Trigger Point Injection.  The area over the myofascial spasm was prepped with alcohol utilizing sterile technique.</td>\n",
              "      <td>Pain Management</td>\n",
              "      <td>Trigger Point Injection</td>\n",
              "      <td>OPERATION:,</td>\n",
              "      <td>pain management, myofascial spasm, trigger point injection, trigger, injection, spasm</td>\n",
              "      <td>1.0</td>\n",
              "    </tr>\n",
              "  </tbody>\n",
              "</table>\n",
              "</div>"
            ],
            "text/plain": [
              "      Unnamed: 0  \\\n",
              "24            24   \n",
              "872          872   \n",
              "1379        1379   \n",
              "1525        1525   \n",
              "1949        1949   \n",
              "\n",
              "                                                                                                             description  \\\n",
              "24                                                             Blood in urine - Transitional cell cancer of the bladder.   \n",
              "872                                                                                     EGD with dilation for dysphagia.   \n",
              "1379                                                                                     Sample progress note - Gen Med.   \n",
              "1525                                                                               Dobutrex stress test for abnormal EKG   \n",
              "1949  Trigger Point Injection.  The area over the myofascial spasm was prepped with alcohol utilizing sterile technique.   \n",
              "\n",
              "                  medical_specialty              sample_name  \\\n",
              "24                          Urology       Urology Consut - 1   \n",
              "872                         Surgery        EGD with Dilation   \n",
              "1379  SOAP / Chart / Progress Notes         Gen Med SOAP - 1   \n",
              "1525                      Radiology     Stress Test Dobutrex   \n",
              "1949                Pain Management  Trigger Point Injection   \n",
              "\n",
              "          transcription  \\\n",
              "24    CHIEF COMPLAINT:,   \n",
              "872      INDICATION:  ,   \n",
              "1379       SUBJECTIVE:,   \n",
              "1525      INDICATIONS:,   \n",
              "1949        OPERATION:,   \n",
              "\n",
              "                                                                                                                                                                                                                                           keywords  \\\n",
              "24                                                                                                                                                                                                                                              NaN   \n",
              "872   surgery, egd, hurricaine spray, olympus endoscope, savary wire, cricopharyngeus, decubitus, dilator, duodenum, dysphagia, esophagus, hiatal hernia, peptic, pylorus, stomach, tortuosity, egd with dilation, tortuous, scope, hiatal, hernia,   \n",
              "1379                                  soap / chart / progress notes, progress note, clear to auscultation, s1, s2, s3, s4, blood pressure, clubbing, cyanosis, general medicine, peripheral edema, rubs, tenderness, abdomen, pressure, soap, blood   \n",
              "1525                                                                                           radiology, dobutrex stress test, abnormal ekg, dobutrex, inferior abnormality, ischemic heart disease, ventricle, µg/kg/minute, stress test, stress,   \n",
              "1949                                                                                                                                                          pain management, myofascial spasm, trigger point injection, trigger, injection, spasm   \n",
              "\n",
              "      num_words  \n",
              "24          2.0  \n",
              "872         3.0  \n",
              "1379        1.0  \n",
              "1525        1.0  \n",
              "1949        1.0  "
            ]
          },
          "metadata": {
            "tags": []
          },
          "execution_count": 20
        }
      ]
    },
    {
      "cell_type": "code",
      "metadata": {
        "id": "141ugTdB3ZlM"
      },
      "source": [
        "# keep transcripts with 5 or more words\n",
        "mtsamples = mtsamples[mtsamples['num_words'] >= 5]"
      ],
      "id": "141ugTdB3ZlM",
      "execution_count": 21,
      "outputs": []
    },
    {
      "cell_type": "code",
      "metadata": {
        "colab": {
          "base_uri": "https://localhost:8080/"
        },
        "id": "DR5DkABr3ZlN",
        "outputId": "3d602ffc-faaa-444e-e5bd-030805d14c2f"
      },
      "source": [
        "mtsamples.medical_specialty.value_counts()"
      ],
      "id": "DR5DkABr3ZlN",
      "execution_count": 22,
      "outputs": [
        {
          "output_type": "execute_result",
          "data": {
            "text/plain": [
              "Surgery                          1087\n",
              "Consult - History and Phy.        515\n",
              "Cardiovascular / Pulmonary        370\n",
              "Orthopedic                        352\n",
              "Radiology                         272\n",
              "General Medicine                  258\n",
              "Neurology                         223\n",
              "Gastroenterology                  223\n",
              "SOAP / Chart / Progress Notes     165\n",
              "Urology                           155\n",
              "Obstetrics / Gynecology           155\n",
              "Discharge Summary                 108\n",
              "ENT - Otolaryngology               96\n",
              "Neurosurgery                       94\n",
              "Hematology - Oncology              90\n",
              "Ophthalmology                      83\n",
              "Nephrology                         81\n",
              "Emergency Room Reports             75\n",
              "Pediatrics - Neonatal              70\n",
              "Pain Management                    59\n",
              "Psychiatry / Psychology            53\n",
              "Office Notes                       48\n",
              "Podiatry                           47\n",
              "Dermatology                        29\n",
              "Dentistry                          27\n",
              "Cosmetic / Plastic Surgery         27\n",
              "Letters                            23\n",
              "Physical Medicine - Rehab          21\n",
              "Sleep Medicine                     20\n",
              "Endocrinology                      19\n",
              "Bariatrics                         18\n",
              "IME-QME-Work Comp etc.             16\n",
              "Chiropractic                       13\n",
              "Diets and Nutritions               10\n",
              "Rheumatology                       10\n",
              "Speech - Language                   9\n",
              "Autopsy                             8\n",
              "Lab Medicine - Pathology            8\n",
              "Allergy / Immunology                7\n",
              "Hospice - Palliative Care           6\n",
              "Name: medical_specialty, dtype: int64"
            ]
          },
          "metadata": {
            "tags": []
          },
          "execution_count": 22
        }
      ]
    },
    {
      "cell_type": "markdown",
      "metadata": {
        "id": "zsfjAtHS3ZlO"
      },
      "source": [
        "All machine learning models require a few examples to be able to train from. In this dataset, we will combine those categories with less than 50 examples into an 'Other' category. Later those more rare categories can be dealt with separately."
      ],
      "id": "zsfjAtHS3ZlO"
    },
    {
      "cell_type": "code",
      "metadata": {
        "id": "yFkGwy8V3ZlP"
      },
      "source": [
        "mtsamples['counts'] = mtsamples.groupby(['medical_specialty'])['transcription'].transform('count')"
      ],
      "id": "yFkGwy8V3ZlP",
      "execution_count": 23,
      "outputs": []
    },
    {
      "cell_type": "code",
      "metadata": {
        "colab": {
          "base_uri": "https://localhost:8080/",
          "height": 727
        },
        "id": "JSdGgdjxv2I9",
        "outputId": "00cf8d8b-711f-440f-b9e1-320f2ee2886e"
      },
      "source": [
        "mtsamples.head()"
      ],
      "id": "JSdGgdjxv2I9",
      "execution_count": 24,
      "outputs": [
        {
          "output_type": "execute_result",
          "data": {
            "text/html": [
              "<div>\n",
              "<style scoped>\n",
              "    .dataframe tbody tr th:only-of-type {\n",
              "        vertical-align: middle;\n",
              "    }\n",
              "\n",
              "    .dataframe tbody tr th {\n",
              "        vertical-align: top;\n",
              "    }\n",
              "\n",
              "    .dataframe thead th {\n",
              "        text-align: right;\n",
              "    }\n",
              "</style>\n",
              "<table border=\"1\" class=\"dataframe\">\n",
              "  <thead>\n",
              "    <tr style=\"text-align: right;\">\n",
              "      <th></th>\n",
              "      <th>Unnamed: 0</th>\n",
              "      <th>description</th>\n",
              "      <th>medical_specialty</th>\n",
              "      <th>sample_name</th>\n",
              "      <th>transcription</th>\n",
              "      <th>keywords</th>\n",
              "      <th>num_words</th>\n",
              "      <th>counts</th>\n",
              "    </tr>\n",
              "  </thead>\n",
              "  <tbody>\n",
              "    <tr>\n",
              "      <th>0</th>\n",
              "      <td>0</td>\n",
              "      <td>A 23-year-old white female presents with complaint of allergies.</td>\n",
              "      <td>Allergy / Immunology</td>\n",
              "      <td>Allergic Rhinitis</td>\n",
              "      <td>SUBJECTIVE:,  This 23-year-old white female presents with complaint of allergies.  She used to have allergies when she lived in Seattle but she thinks they are worse here.  In the past, she has tried Claritin, and Zyrtec.  Both worked for short time but then seemed to lose effectiveness.  She has used Allegra also.  She used that last summer and she began using it again two weeks ago.  It does not appear to be working very well.  She has used over-the-counter sprays but no prescription nasal sprays.  She does have asthma but doest not require daily medication for this and does not think it...</td>\n",
              "      <td>allergy / immunology, allergic rhinitis, allergies, asthma, nasal sprays, rhinitis, nasal, erythematous, allegra, sprays, allergic,</td>\n",
              "      <td>226.0</td>\n",
              "      <td>7</td>\n",
              "    </tr>\n",
              "    <tr>\n",
              "      <th>1</th>\n",
              "      <td>1</td>\n",
              "      <td>Consult for laparoscopic gastric bypass.</td>\n",
              "      <td>Bariatrics</td>\n",
              "      <td>Laparoscopic Gastric Bypass Consult - 2</td>\n",
              "      <td>PAST MEDICAL HISTORY:, He has difficulty climbing stairs, difficulty with airline seats, tying shoes, used to public seating, and lifting objects off the floor.  He exercises three times a week at home and does cardio.  He has difficulty walking two blocks or five flights of stairs.  Difficulty with snoring.  He has muscle and joint pains including knee pain, back pain, foot and ankle pain, and swelling.  He has gastroesophageal reflux disease.,PAST SURGICAL HISTORY:, Includes reconstructive surgery on his right hand 13 years ago.  ,SOCIAL HISTORY:, He is currently single.  He has about te...</td>\n",
              "      <td>bariatrics, laparoscopic gastric bypass, weight loss programs, gastric bypass, atkin's diet, weight watcher's, body weight, laparoscopic gastric, weight loss, pounds, months, weight, laparoscopic, band, loss, diets, overweight, lost</td>\n",
              "      <td>375.0</td>\n",
              "      <td>18</td>\n",
              "    </tr>\n",
              "    <tr>\n",
              "      <th>2</th>\n",
              "      <td>2</td>\n",
              "      <td>Consult for laparoscopic gastric bypass.</td>\n",
              "      <td>Bariatrics</td>\n",
              "      <td>Laparoscopic Gastric Bypass Consult - 1</td>\n",
              "      <td>HISTORY OF PRESENT ILLNESS: , I have seen ABC today.  He is a very pleasant gentleman who is 42 years old, 344 pounds.  He is 5'9\".  He has a BMI of 51.  He has been overweight for ten years since the age of 33, at his highest he was 358 pounds, at his lowest 260.  He is pursuing surgical attempts of weight loss to feel good, get healthy, and begin to exercise again.  He wants to be able to exercise and play volleyball.  Physically, he is sluggish.  He gets tired quickly.  He does not go out often.  When he loses weight he always regains it and he gains back more than he lost.  His biggest...</td>\n",
              "      <td>bariatrics, laparoscopic gastric bypass, heart attacks, body weight, pulmonary embolism, potential complications, sleep study, weight loss, gastric bypass, anastomosis, loss, sleep, laparoscopic, gastric, bypass, heart, pounds, weight,</td>\n",
              "      <td>774.0</td>\n",
              "      <td>18</td>\n",
              "    </tr>\n",
              "    <tr>\n",
              "      <th>3</th>\n",
              "      <td>3</td>\n",
              "      <td>2-D M-Mode. Doppler.</td>\n",
              "      <td>Cardiovascular / Pulmonary</td>\n",
              "      <td>2-D Echocardiogram - 1</td>\n",
              "      <td>2-D M-MODE: , ,1.  Left atrial enlargement with left atrial diameter of 4.7 cm.,2.  Normal size right and left ventricle.,3.  Normal LV systolic function with left ventricular ejection fraction of 51%.,4.  Normal LV diastolic function.,5.  No pericardial effusion.,6.  Normal morphology of aortic valve, mitral valve, tricuspid valve, and pulmonary valve.,7.  PA systolic pressure is 36 mmHg.,DOPPLER: , ,1.  Mild mitral and tricuspid regurgitation.,2.  Trace aortic and pulmonary regurgitation.</td>\n",
              "      <td>cardiovascular / pulmonary, 2-d m-mode, doppler, aortic valve, atrial enlargement, diastolic function, ejection fraction, mitral, mitral valve, pericardial effusion, pulmonary valve, regurgitation, systolic function, tricuspid, tricuspid valve, normal lv</td>\n",
              "      <td>77.0</td>\n",
              "      <td>370</td>\n",
              "    </tr>\n",
              "    <tr>\n",
              "      <th>4</th>\n",
              "      <td>4</td>\n",
              "      <td>2-D Echocardiogram</td>\n",
              "      <td>Cardiovascular / Pulmonary</td>\n",
              "      <td>2-D Echocardiogram - 2</td>\n",
              "      <td>1.  The left ventricular cavity size and wall thickness appear normal.  The wall motion and left ventricular systolic function appears hyperdynamic with estimated ejection fraction of 70% to 75%.  There is near-cavity obliteration seen.  There also appears to be increased left ventricular outflow tract gradient at the mid cavity level consistent with hyperdynamic left ventricular systolic function.  There is abnormal left ventricular relaxation pattern seen as well as elevated left atrial pressures seen by Doppler examination.,2.  The left atrium appears mildly dilated.,3.  The right atriu...</td>\n",
              "      <td>cardiovascular / pulmonary, 2-d, doppler, echocardiogram, annular, aortic root, aortic valve, atrial, atrium, calcification, cavity, ejection fraction, mitral, obliteration, outflow, regurgitation, relaxation pattern, stenosis, systolic function, tricuspid, valve, ventricular, ventricular cavity, wall motion, pulmonary artery</td>\n",
              "      <td>246.0</td>\n",
              "      <td>370</td>\n",
              "    </tr>\n",
              "  </tbody>\n",
              "</table>\n",
              "</div>"
            ],
            "text/plain": [
              "   Unnamed: 0  \\\n",
              "0           0   \n",
              "1           1   \n",
              "2           2   \n",
              "3           3   \n",
              "4           4   \n",
              "\n",
              "                                                        description  \\\n",
              "0  A 23-year-old white female presents with complaint of allergies.   \n",
              "1                          Consult for laparoscopic gastric bypass.   \n",
              "2                          Consult for laparoscopic gastric bypass.   \n",
              "3                                              2-D M-Mode. Doppler.   \n",
              "4                                                2-D Echocardiogram   \n",
              "\n",
              "            medical_specialty                              sample_name  \\\n",
              "0        Allergy / Immunology                        Allergic Rhinitis   \n",
              "1                  Bariatrics  Laparoscopic Gastric Bypass Consult - 2   \n",
              "2                  Bariatrics  Laparoscopic Gastric Bypass Consult - 1   \n",
              "3  Cardiovascular / Pulmonary                   2-D Echocardiogram - 1   \n",
              "4  Cardiovascular / Pulmonary                   2-D Echocardiogram - 2   \n",
              "\n",
              "                                                                                                                                                                                                                                                                                                                                                                                                                                                                                                                                                                                                             transcription  \\\n",
              "0  SUBJECTIVE:,  This 23-year-old white female presents with complaint of allergies.  She used to have allergies when she lived in Seattle but she thinks they are worse here.  In the past, she has tried Claritin, and Zyrtec.  Both worked for short time but then seemed to lose effectiveness.  She has used Allegra also.  She used that last summer and she began using it again two weeks ago.  It does not appear to be working very well.  She has used over-the-counter sprays but no prescription nasal sprays.  She does have asthma but doest not require daily medication for this and does not think it...   \n",
              "1  PAST MEDICAL HISTORY:, He has difficulty climbing stairs, difficulty with airline seats, tying shoes, used to public seating, and lifting objects off the floor.  He exercises three times a week at home and does cardio.  He has difficulty walking two blocks or five flights of stairs.  Difficulty with snoring.  He has muscle and joint pains including knee pain, back pain, foot and ankle pain, and swelling.  He has gastroesophageal reflux disease.,PAST SURGICAL HISTORY:, Includes reconstructive surgery on his right hand 13 years ago.  ,SOCIAL HISTORY:, He is currently single.  He has about te...   \n",
              "2  HISTORY OF PRESENT ILLNESS: , I have seen ABC today.  He is a very pleasant gentleman who is 42 years old, 344 pounds.  He is 5'9\".  He has a BMI of 51.  He has been overweight for ten years since the age of 33, at his highest he was 358 pounds, at his lowest 260.  He is pursuing surgical attempts of weight loss to feel good, get healthy, and begin to exercise again.  He wants to be able to exercise and play volleyball.  Physically, he is sluggish.  He gets tired quickly.  He does not go out often.  When he loses weight he always regains it and he gains back more than he lost.  His biggest...   \n",
              "3                                                                                                          2-D M-MODE: , ,1.  Left atrial enlargement with left atrial diameter of 4.7 cm.,2.  Normal size right and left ventricle.,3.  Normal LV systolic function with left ventricular ejection fraction of 51%.,4.  Normal LV diastolic function.,5.  No pericardial effusion.,6.  Normal morphology of aortic valve, mitral valve, tricuspid valve, and pulmonary valve.,7.  PA systolic pressure is 36 mmHg.,DOPPLER: , ,1.  Mild mitral and tricuspid regurgitation.,2.  Trace aortic and pulmonary regurgitation.   \n",
              "4  1.  The left ventricular cavity size and wall thickness appear normal.  The wall motion and left ventricular systolic function appears hyperdynamic with estimated ejection fraction of 70% to 75%.  There is near-cavity obliteration seen.  There also appears to be increased left ventricular outflow tract gradient at the mid cavity level consistent with hyperdynamic left ventricular systolic function.  There is abnormal left ventricular relaxation pattern seen as well as elevated left atrial pressures seen by Doppler examination.,2.  The left atrium appears mildly dilated.,3.  The right atriu...   \n",
              "\n",
              "                                                                                                                                                                                                                                                                                                                                  keywords  \\\n",
              "0                                                                                                                                                                                                      allergy / immunology, allergic rhinitis, allergies, asthma, nasal sprays, rhinitis, nasal, erythematous, allegra, sprays, allergic,   \n",
              "1                                                                                                 bariatrics, laparoscopic gastric bypass, weight loss programs, gastric bypass, atkin's diet, weight watcher's, body weight, laparoscopic gastric, weight loss, pounds, months, weight, laparoscopic, band, loss, diets, overweight, lost   \n",
              "2                                                                                              bariatrics, laparoscopic gastric bypass, heart attacks, body weight, pulmonary embolism, potential complications, sleep study, weight loss, gastric bypass, anastomosis, loss, sleep, laparoscopic, gastric, bypass, heart, pounds, weight,   \n",
              "3                                                                           cardiovascular / pulmonary, 2-d m-mode, doppler, aortic valve, atrial enlargement, diastolic function, ejection fraction, mitral, mitral valve, pericardial effusion, pulmonary valve, regurgitation, systolic function, tricuspid, tricuspid valve, normal lv   \n",
              "4  cardiovascular / pulmonary, 2-d, doppler, echocardiogram, annular, aortic root, aortic valve, atrial, atrium, calcification, cavity, ejection fraction, mitral, obliteration, outflow, regurgitation, relaxation pattern, stenosis, systolic function, tricuspid, valve, ventricular, ventricular cavity, wall motion, pulmonary artery   \n",
              "\n",
              "   num_words  counts  \n",
              "0      226.0       7  \n",
              "1      375.0      18  \n",
              "2      774.0      18  \n",
              "3       77.0     370  \n",
              "4      246.0     370  "
            ]
          },
          "metadata": {
            "tags": []
          },
          "execution_count": 24
        }
      ]
    },
    {
      "cell_type": "code",
      "metadata": {
        "id": "V_--VeCD3ZlQ"
      },
      "source": [
        "# for now just drop the infrequent categories\n",
        "mtsamples = mtsamples[mtsamples.counts >= 100]"
      ],
      "id": "V_--VeCD3ZlQ",
      "execution_count": 25,
      "outputs": []
    },
    {
      "cell_type": "code",
      "metadata": {
        "id": "p1fNM71Sv2I_"
      },
      "source": [
        "# as surgery and general medicine actuallly overlap with many of the other note types, drop these\n",
        "mtsamples = mtsamples[mtsamples.medical_specialty != 'Surgery']\n",
        "mtsamples = mtsamples[mtsamples.medical_specialty != 'General Medicine']"
      ],
      "id": "p1fNM71Sv2I_",
      "execution_count": 26,
      "outputs": []
    },
    {
      "cell_type": "code",
      "metadata": {
        "colab": {
          "base_uri": "https://localhost:8080/"
        },
        "id": "8gwpakiv3ZlQ",
        "outputId": "99839b6e-409d-4ab2-d518-35f5d3c85122"
      },
      "source": [
        "mtsamples.medical_specialty.value_counts()"
      ],
      "id": "8gwpakiv3ZlQ",
      "execution_count": 27,
      "outputs": [
        {
          "output_type": "execute_result",
          "data": {
            "text/plain": [
              "Consult - History and Phy.       515\n",
              "Cardiovascular / Pulmonary       370\n",
              "Orthopedic                       352\n",
              "Radiology                        272\n",
              "Neurology                        223\n",
              "Gastroenterology                 223\n",
              "SOAP / Chart / Progress Notes    165\n",
              "Obstetrics / Gynecology          155\n",
              "Urology                          155\n",
              "Discharge Summary                108\n",
              "Name: medical_specialty, dtype: int64"
            ]
          },
          "metadata": {
            "tags": []
          },
          "execution_count": 27
        }
      ]
    },
    {
      "cell_type": "code",
      "metadata": {
        "id": "X-iYd330luBp"
      },
      "source": [
        "# if changes in the above were made (such as batch size), it may be beneficial to purge GPU memory\n",
        "gc.collect()\n",
        "torch.cuda.empty_cache()\n",
        "gc.collect()\n",
        "torch.cuda.empty_cache()"
      ],
      "id": "X-iYd330luBp",
      "execution_count": 46,
      "outputs": []
    },
    {
      "cell_type": "code",
      "metadata": {
        "colab": {
          "base_uri": "https://localhost:8080/",
          "height": 72
        },
        "id": "982bac9a",
        "outputId": "3a0bce24-badb-4a12-9f4d-9b6d5f4a1029"
      },
      "source": [
        "# this cell takes about 2 minutes to run\n",
        "dls_clas = DataBlock(\n",
        "    blocks=(TextBlock.from_df('transcription', vocab=dls_lm.vocab), CategoryBlock),\n",
        "    get_x=ColReader('text'),\n",
        "    get_y=ColReader('medical_specialty'),\n",
        "#     splitter=TrainTestSplitter(test_size=0.2,\n",
        "#                                random_state=42)\n",
        "    splitter=TrainTestSplitter(test_size=0.2,\n",
        "                               random_state=42,\n",
        "                               stratify=mtsamples.medical_specialty)\n",
        ").dataloaders(mtsamples, bs=64, seq_len=sequence_length)"
      ],
      "id": "982bac9a",
      "execution_count": 29,
      "outputs": [
        {
          "output_type": "display_data",
          "data": {
            "text/html": [
              ""
            ],
            "text/plain": [
              "<IPython.core.display.HTML object>"
            ]
          },
          "metadata": {
            "tags": []
          }
        },
        {
          "output_type": "stream",
          "text": [
            "/usr/local/lib/python3.7/dist-packages/numpy/core/_asarray.py:83: VisibleDeprecationWarning: Creating an ndarray from ragged nested sequences (which is a list-or-tuple of lists-or-tuples-or ndarrays with different lengths or shapes) is deprecated. If you meant to do this, you must specify 'dtype=object' when creating the ndarray\n",
            "  return array(a, dtype, copy=False, order=order)\n"
          ],
          "name": "stderr"
        }
      ]
    },
    {
      "cell_type": "code",
      "metadata": {
        "colab": {
          "base_uri": "https://localhost:8080/",
          "height": 467
        },
        "id": "e62acb3b",
        "outputId": "84c881b5-f15c-46a3-d5ab-280ffe4e3e68"
      },
      "source": [
        "dls_clas.show_batch(max_n=5)"
      ],
      "id": "e62acb3b",
      "execution_count": 30,
      "outputs": [
        {
          "output_type": "display_data",
          "data": {
            "text/html": [
              "<table border=\"1\" class=\"dataframe\">\n",
              "  <thead>\n",
              "    <tr style=\"text-align: right;\">\n",
              "      <th></th>\n",
              "      <th>text</th>\n",
              "      <th>category</th>\n",
              "    </tr>\n",
              "  </thead>\n",
              "  <tbody>\n",
              "    <tr>\n",
              "      <th>0</th>\n",
              "      <td>xxbos xxup history xxup of xxup present xxup illness : , the patient is a 79-year - old right - handed man who reports that approximately one and a half years ago , he fell down while walking in the living room from the bedroom . xxmaj at that time , he reports both legs gave away on him and he fell . xxmaj he reported that he had some lightheadedness just before he fell and was slightly confused , but was aware of what was happening around him . xxmaj he was able to get up shortly after falling and according to the patient and his son , subsequently returned back to normal . ,he was then well until the 3rd of xxmaj july 2008 when his legs again gave way on him . xxmaj this was not preceded by lightheadedness . xxmaj he was rushed to the hospital</td>\n",
              "      <td>Consult - History and Phy.</td>\n",
              "    </tr>\n",
              "    <tr>\n",
              "      <th>1</th>\n",
              "      <td>xxbos xxup history xxup of xxup present xxup illness : , the patient is a 79-year - old right - handed man who reports that approximately one and a half years ago , he fell down while walking in the living room from the bedroom . xxmaj at that time , he reports both legs gave away on him and he fell . xxmaj he reported that he had some lightheadedness just before he fell and was slightly confused , but was aware of what was happening around him . xxmaj he was able to get up shortly after falling and according to the patient and his son , subsequently returned back to normal . ,he was then well until the 3rd of xxmaj july 2008 when his legs again gave way on him . xxmaj this was not preceded by lightheadedness . xxmaj he was rushed to the hospital</td>\n",
              "      <td>Neurology</td>\n",
              "    </tr>\n",
              "    <tr>\n",
              "      <th>2</th>\n",
              "      <td>xxbos xxup preoperative xxup diagnoses:,1 . xxmaj hallux abductovalgus , right foot . ,2 . xxmaj hammer toe , right foot , second , third , fourth and fifth toes . ,3 . xxmaj tailor 's bunionette , right foot . ,4 . xxmaj degenerative joint disease , right first metatarsophalangeal joint . ,5 . xxmaj rheumatoid arthritis . ,6 . xxmaj contracted fourth right metatarsophalangeal joint . ,postoperative xxup diagnoses:,1 . xxmaj hallux abductovalgus , right foot . ,2 . xxmaj hammer toe , right foot , second , third , fourth and fifth toes . ,3 . xxmaj tailor 's bunionette , right foot . ,4 . xxmaj degenerative joint disease , right first metatarsophalangeal joint . ,5 . xxmaj rheumatoid arthritis . ,6 . xxmaj contracted fourth right metatarsophalangeal joint . ,procedures xxup performed:,1 . xxmaj bunionectomy , right foot with xxmaj biopro hemi implant , right</td>\n",
              "      <td>Orthopedic</td>\n",
              "    </tr>\n",
              "    <tr>\n",
              "      <th>3</th>\n",
              "      <td>xxbos xxup reason xxup for xxup referral : , xxmaj the patient is a 58-year - old african - american right - handed female with 16 years of education who was referred for a neuropsychological evaluation by xxmaj dr . xxup x. xxmaj she is presenting for a second opinion following a recent neuropsychological evaluation that was ordered by her former place of employment that suggested that she was in the \" early stages of a likely dementia \" and was thereafter terminated from her position as a psychiatric nurse . a comprehensive evaluation was requested to assess current cognitive functioning and assist with diagnostic decisions and treatment planning . xxmaj note that this evaluation was undertaken as a clinical exam and intended for the purposes of aiding with treatment planning . xxmaj the patient was fully informed about the nature of this evaluation and intended use of the results</td>\n",
              "      <td>Consult - History and Phy.</td>\n",
              "    </tr>\n",
              "    <tr>\n",
              "      <th>4</th>\n",
              "      <td>xxbos xxup preoperative xxup diagnoses:,1 . xxmaj clinical stage xxup t2 , xxup nx , xxup mx transitional cell carcinoma of the urinary bladder , status post chemotherapy and radiation therapy . ,2 . xxmaj new right hydronephrosis . ,postoperative xxup diagnoses:,1 . xxmaj clinical stage xxmaj xxunk , xxup n3 , xxup m1 transitional cell carcinoma of the urinary bladder , status post chemotherapy and radiation therapy . ,2 . xxmaj new right hydronephrosis . ,3 . xxmaj carcinoid tumor of the small bowel . ,title xxup of xxup operation : , xxmaj exploratory laparotomy , resection of small bowel lesion , biopsy of small bowel mesentery , bilateral extended pelvic and iliac lymphadenectomy ( including xxunk and precaval , bilateral common iliac , presacral , bilateral external iliac lymph nodes ) , salvage radical cystoprostatectomy ( very difficult due to previous chemotherapy and radiation therapy ) , and</td>\n",
              "      <td>Urology</td>\n",
              "    </tr>\n",
              "  </tbody>\n",
              "</table>"
            ],
            "text/plain": [
              "<IPython.core.display.HTML object>"
            ]
          },
          "metadata": {
            "tags": []
          }
        }
      ]
    },
    {
      "cell_type": "code",
      "metadata": {
        "id": "ac12345f"
      },
      "source": [
        "learn = text_classifier_learner(\n",
        "    dls_clas,\n",
        "    AWD_LSTM,\n",
        "    drop_mult=0.7, # if this is too low, validation loss does not improve with more training\n",
        "    metrics=accuracy,\n",
        "    model_dir=model_path).to_fp16()\n",
        "# Without .fp16() requires more memory, takes about 2x - 3x time to train"
      ],
      "id": "ac12345f",
      "execution_count": 135,
      "outputs": []
    },
    {
      "cell_type": "code",
      "metadata": {
        "id": "8c2a043a"
      },
      "source": [
        "# load the encoder used for the language model - must be the same to build off language model.\n",
        "learn = learn.load_encoder('lm_finetuned')"
      ],
      "id": "8c2a043a",
      "execution_count": 136,
      "outputs": []
    },
    {
      "cell_type": "code",
      "metadata": {
        "colab": {
          "base_uri": "https://localhost:8080/",
          "height": 306
        },
        "id": "eMmosjDCzBT2",
        "outputId": "45ef15db-0c73-4ae2-c3f3-16979b8513be"
      },
      "source": [
        "# attempt to find a decent learning rate for this dataset\n",
        "learn.lr_find()"
      ],
      "id": "eMmosjDCzBT2",
      "execution_count": 128,
      "outputs": [
        {
          "output_type": "display_data",
          "data": {
            "text/html": [
              ""
            ],
            "text/plain": [
              "<IPython.core.display.HTML object>"
            ]
          },
          "metadata": {
            "tags": []
          }
        },
        {
          "output_type": "execute_result",
          "data": {
            "text/plain": [
              "SuggestedLRs(lr_min=0.04365158379077912, lr_steep=0.015848932787775993)"
            ]
          },
          "metadata": {
            "tags": []
          },
          "execution_count": 128
        },
        {
          "output_type": "display_data",
          "data": {
            "image/png": "[encoded data removed]",
            "text/plain": [
              "<Figure size 432x288 with 1 Axes>"
            ]
          },
          "metadata": {
            "tags": [],
            "needs_background": "light"
          }
        }
      ]
    },
    {
      "cell_type": "code",
      "metadata": {
        "colab": {
          "base_uri": "https://localhost:8080/",
          "height": 81
        },
        "id": "e3b92d1a",
        "outputId": "280feb33-b73f-46cb-8eb3-ad21ceee822e"
      },
      "source": [
        "learn.fit_one_cycle(1, 4e-1)"
      ],
      "id": "e3b92d1a",
      "execution_count": 137,
      "outputs": [
        {
          "output_type": "display_data",
          "data": {
            "text/html": [
              "<table border=\"1\" class=\"dataframe\">\n",
              "  <thead>\n",
              "    <tr style=\"text-align: left;\">\n",
              "      <th>epoch</th>\n",
              "      <th>train_loss</th>\n",
              "      <th>valid_loss</th>\n",
              "      <th>accuracy</th>\n",
              "      <th>time</th>\n",
              "    </tr>\n",
              "  </thead>\n",
              "  <tbody>\n",
              "    <tr>\n",
              "      <td>0</td>\n",
              "      <td>1.868258</td>\n",
              "      <td>1.234279</td>\n",
              "      <td>0.592520</td>\n",
              "      <td>00:09</td>\n",
              "    </tr>\n",
              "  </tbody>\n",
              "</table>"
            ],
            "text/plain": [
              "<IPython.core.display.HTML object>"
            ]
          },
          "metadata": {
            "tags": []
          }
        }
      ]
    },
    {
      "cell_type": "code",
      "metadata": {
        "colab": {
          "base_uri": "https://localhost:8080/"
        },
        "id": "3a1pZpOB0KsU",
        "outputId": "1dff46dc-0f0e-46e7-ed55-4d325cf6b2de"
      },
      "source": [
        "learn.save('class_part_1')"
      ],
      "id": "3a1pZpOB0KsU",
      "execution_count": 138,
      "outputs": [
        {
          "output_type": "execute_result",
          "data": {
            "text/plain": [
              "Path('/content/gdrive/My Drive/models/class_part_1.pth')"
            ]
          },
          "metadata": {
            "tags": []
          },
          "execution_count": 138
        }
      ]
    },
    {
      "cell_type": "code",
      "metadata": {
        "id": "39C2w0Pzv2JB"
      },
      "source": [
        "# learn = learn.load('class_part_1')"
      ],
      "id": "39C2w0Pzv2JB",
      "execution_count": 139,
      "outputs": []
    },
    {
      "cell_type": "code",
      "metadata": {
        "colab": {
          "base_uri": "https://localhost:8080/",
          "height": 81
        },
        "id": "8mYtXu2nvhat",
        "outputId": "8e0e19ba-c82b-484d-d4cb-1a49696b808f"
      },
      "source": [
        "learn.freeze_to(-2)\n",
        "learn.fit_one_cycle(1, slice(3e-2/(2.6**4),3e-2))"
      ],
      "id": "8mYtXu2nvhat",
      "execution_count": 140,
      "outputs": [
        {
          "output_type": "display_data",
          "data": {
            "text/html": [
              "<table border=\"1\" class=\"dataframe\">\n",
              "  <thead>\n",
              "    <tr style=\"text-align: left;\">\n",
              "      <th>epoch</th>\n",
              "      <th>train_loss</th>\n",
              "      <th>valid_loss</th>\n",
              "      <th>accuracy</th>\n",
              "      <th>time</th>\n",
              "    </tr>\n",
              "  </thead>\n",
              "  <tbody>\n",
              "    <tr>\n",
              "      <td>0</td>\n",
              "      <td>1.125360</td>\n",
              "      <td>0.960037</td>\n",
              "      <td>0.645669</td>\n",
              "      <td>00:10</td>\n",
              "    </tr>\n",
              "  </tbody>\n",
              "</table>"
            ],
            "text/plain": [
              "<IPython.core.display.HTML object>"
            ]
          },
          "metadata": {
            "tags": []
          }
        }
      ]
    },
    {
      "cell_type": "code",
      "metadata": {
        "colab": {
          "base_uri": "https://localhost:8080/"
        },
        "id": "majRrG7C0SKJ",
        "outputId": "0ab615bf-a860-4968-a91f-c807bf06b532"
      },
      "source": [
        "learn.save('class_part_2')"
      ],
      "id": "majRrG7C0SKJ",
      "execution_count": 141,
      "outputs": [
        {
          "output_type": "execute_result",
          "data": {
            "text/plain": [
              "Path('/content/gdrive/My Drive/models/class_part_2.pth')"
            ]
          },
          "metadata": {
            "tags": []
          },
          "execution_count": 141
        }
      ]
    },
    {
      "cell_type": "code",
      "metadata": {
        "id": "alTIPZaqv2JD"
      },
      "source": [
        "# learn = learn.load('class_part_2')"
      ],
      "id": "alTIPZaqv2JD",
      "execution_count": 142,
      "outputs": []
    },
    {
      "cell_type": "code",
      "metadata": {
        "colab": {
          "base_uri": "https://localhost:8080/",
          "height": 81
        },
        "id": "prnKbBnZvnwr",
        "outputId": "c5c1ae08-15fc-44da-8902-e427efb5a6b6"
      },
      "source": [
        "learn.freeze_to(-3)\n",
        "learn.fit_one_cycle(1, slice(5e-3/(2.6**4),5e-3))"
      ],
      "id": "prnKbBnZvnwr",
      "execution_count": 143,
      "outputs": [
        {
          "output_type": "display_data",
          "data": {
            "text/html": [
              "<table border=\"1\" class=\"dataframe\">\n",
              "  <thead>\n",
              "    <tr style=\"text-align: left;\">\n",
              "      <th>epoch</th>\n",
              "      <th>train_loss</th>\n",
              "      <th>valid_loss</th>\n",
              "      <th>accuracy</th>\n",
              "      <th>time</th>\n",
              "    </tr>\n",
              "  </thead>\n",
              "  <tbody>\n",
              "    <tr>\n",
              "      <td>0</td>\n",
              "      <td>0.968275</td>\n",
              "      <td>0.977524</td>\n",
              "      <td>0.665354</td>\n",
              "      <td>00:15</td>\n",
              "    </tr>\n",
              "  </tbody>\n",
              "</table>"
            ],
            "text/plain": [
              "<IPython.core.display.HTML object>"
            ]
          },
          "metadata": {
            "tags": []
          }
        }
      ]
    },
    {
      "cell_type": "code",
      "metadata": {
        "colab": {
          "base_uri": "https://localhost:8080/"
        },
        "id": "aJkDmun-0T5z",
        "outputId": "612dce85-9924-4a4a-fd80-580fbec1777c"
      },
      "source": [
        "learn.save('class_part_3')"
      ],
      "id": "aJkDmun-0T5z",
      "execution_count": 144,
      "outputs": [
        {
          "output_type": "execute_result",
          "data": {
            "text/plain": [
              "Path('/content/gdrive/My Drive/models/class_part_3.pth')"
            ]
          },
          "metadata": {
            "tags": []
          },
          "execution_count": 144
        }
      ]
    },
    {
      "cell_type": "code",
      "metadata": {
        "id": "IFb2aM5kv2JE"
      },
      "source": [
        "learn = learn.load('class_part_3')"
      ],
      "id": "IFb2aM5kv2JE",
      "execution_count": 164,
      "outputs": []
    },
    {
      "cell_type": "code",
      "metadata": {
        "id": "l781vmBVvqbb"
      },
      "source": [
        "# now train all layers\n",
        "learn.unfreeze()"
      ],
      "id": "l781vmBVvqbb",
      "execution_count": 165,
      "outputs": []
    },
    {
      "cell_type": "code",
      "metadata": {
        "id": "t-LmCpPModx9",
        "outputId": "2d3985a9-2bbc-43e4-dffa-aad0d4936c12",
        "colab": {
          "base_uri": "https://localhost:8080/",
          "height": 310
        }
      },
      "source": [
        "# attempt to find a decent learning rate for this dataset\n",
        "learn.lr_find()"
      ],
      "id": "t-LmCpPModx9",
      "execution_count": 156,
      "outputs": [
        {
          "output_type": "display_data",
          "data": {
            "text/html": [
              ""
            ],
            "text/plain": [
              "<IPython.core.display.HTML object>"
            ]
          },
          "metadata": {
            "tags": []
          }
        },
        {
          "output_type": "execute_result",
          "data": {
            "text/plain": [
              "SuggestedLRs(lr_min=6.309573450380412e-08, lr_steep=2.75422871709452e-06)"
            ]
          },
          "metadata": {
            "tags": []
          },
          "execution_count": 156
        },
        {
          "output_type": "display_data",
          "data": {
            "image/png": "[encoded data removed]",
            "text/plain": [
              "<Figure size 432x288 with 1 Axes>"
            ]
          },
          "metadata": {
            "tags": [],
            "needs_background": "light"
          }
        }
      ]
    },
    {
      "cell_type": "code",
      "metadata": {
        "id": "wC9XGz5Johh3",
        "outputId": "e0d4231c-dbf7-4db4-a770-906d026c7763",
        "colab": {
          "base_uri": "https://localhost:8080/",
          "height": 81
        }
      },
      "source": [
        "# now train all layers\n",
        "# this takes about 30 seconds per epoch\n",
        "# due to nature of dataset, more training doesn't help much\n",
        "learn.fit_one_cycle(1, slice(1e-6/(2.6**4),1e-6))"
      ],
      "id": "wC9XGz5Johh3",
      "execution_count": 166,
      "outputs": [
        {
          "output_type": "display_data",
          "data": {
            "text/html": [
              "<table border=\"1\" class=\"dataframe\">\n",
              "  <thead>\n",
              "    <tr style=\"text-align: left;\">\n",
              "      <th>epoch</th>\n",
              "      <th>train_loss</th>\n",
              "      <th>valid_loss</th>\n",
              "      <th>accuracy</th>\n",
              "      <th>time</th>\n",
              "    </tr>\n",
              "  </thead>\n",
              "  <tbody>\n",
              "    <tr>\n",
              "      <td>0</td>\n",
              "      <td>0.920632</td>\n",
              "      <td>1.956748</td>\n",
              "      <td>0.665354</td>\n",
              "      <td>00:18</td>\n",
              "    </tr>\n",
              "  </tbody>\n",
              "</table>"
            ],
            "text/plain": [
              "<IPython.core.display.HTML object>"
            ]
          },
          "metadata": {
            "tags": []
          }
        }
      ]
    },
    {
      "cell_type": "code",
      "metadata": {
        "colab": {
          "base_uri": "https://localhost:8080/"
        },
        "id": "Pcs2EgkK0Xtz",
        "outputId": "764c9484-891d-4bfa-d374-db250abb605b"
      },
      "source": [
        "learn.save('class_full_part_1')"
      ],
      "id": "Pcs2EgkK0Xtz",
      "execution_count": 167,
      "outputs": [
        {
          "output_type": "execute_result",
          "data": {
            "text/plain": [
              "Path('/content/gdrive/My Drive/models/class_full_part_1.pth')"
            ]
          },
          "metadata": {
            "tags": []
          },
          "execution_count": 167
        }
      ]
    },
    {
      "cell_type": "code",
      "metadata": {
        "id": "oQWuzoaKvyuc",
        "colab": {
          "base_uri": "https://localhost:8080/",
          "height": 835
        },
        "outputId": "fdf825a0-b53f-4443-9731-c234cdfc1c5b"
      },
      "source": [
        "learn.show_results()"
      ],
      "id": "oQWuzoaKvyuc",
      "execution_count": 168,
      "outputs": [
        {
          "output_type": "display_data",
          "data": {
            "text/html": [
              ""
            ],
            "text/plain": [
              "<IPython.core.display.HTML object>"
            ]
          },
          "metadata": {
            "tags": []
          }
        },
        {
          "output_type": "display_data",
          "data": {
            "text/html": [
              "<table border=\"1\" class=\"dataframe\">\n",
              "  <thead>\n",
              "    <tr style=\"text-align: right;\">\n",
              "      <th></th>\n",
              "      <th>text</th>\n",
              "      <th>category</th>\n",
              "      <th>category_</th>\n",
              "    </tr>\n",
              "  </thead>\n",
              "  <tbody>\n",
              "    <tr>\n",
              "      <th>0</th>\n",
              "      <td>xxbos xxup reason xxup for xxup visit : , xxmaj the patient presents for a followup for history of erythema nodosum . ,history xxup of xxup present xxup illness : , xxmaj this is a 25-year - old woman who is attending xxunk classes . xxmaj she was diagnosed with presumptive erythema nodosum in 2004 based on a biopsy consistent with erythema nodosum , but not entirely specific back in xxmaj xxunk . xxmaj at that point , she had undergone workup which was extensive for secondary diseases associated with erythema nodosum . xxmaj part of her workup included a colonoscopy . xxmaj the findings were equivocal xxunk not clearly abnormal biopsies of the terminal ileum . ,the skin biopsy , in particular , mentions some fibrosis , basal xxunk , and inflammatory cells in the subcutis . ,prior to the onset of her erythema nodosum , she had a</td>\n",
              "      <td>Consult - History and Phy.</td>\n",
              "      <td>SOAP / Chart / Progress Notes</td>\n",
              "    </tr>\n",
              "    <tr>\n",
              "      <th>1</th>\n",
              "      <td>xxbos xxup type xxup of xxup consultation : , xxmaj wound care consult . ,history xxup of xxup present xxup illness : , xxmaj the patient is a 62-year - old woman with a past medical history significant for prior ileojejunal bypass for weight loss ( 1980 ) and then subsequent gastric banding ( 2002 xxmaj dr . xxup x ) who was transferred to this facility following a complicated surgical and postoperative course after takedown of the prior xxunk and bypass ( 07 / 08 / 2008 , xxmaj dr . xxup y ) . xxmaj the patient has been followed by xxmaj cardiothoracic xxmaj surgery ( dr . xxup z ) as an outpatient . xxmaj she had a history of daily postprandial vomiting , regurgitation , and heartburn . xxmaj she underwent a preop assessment of her xxup gerd and postprandial vomiting including nuclear gastric emptying studies</td>\n",
              "      <td>Consult - History and Phy.</td>\n",
              "      <td>Discharge Summary</td>\n",
              "    </tr>\n",
              "    <tr>\n",
              "      <th>2</th>\n",
              "      <td>xxbos xxup reason xxup for xxup referral : , xxmaj the patient is a 58-year - old african - american right - handed female with 16 years of education who was referred for a neuropsychological evaluation by xxmaj dr . xxup x. xxmaj she is presenting for a second opinion following a recent neuropsychological evaluation that was ordered by her former place of employment that suggested that she was in the \" early stages of a likely dementia \" and was thereafter terminated from her position as a psychiatric nurse . a comprehensive evaluation was requested to assess current cognitive functioning and assist with diagnostic decisions and treatment planning . xxmaj note that this evaluation was undertaken as a clinical exam and intended for the purposes of aiding with treatment planning . xxmaj the patient was fully informed about the nature of this evaluation and intended use of the results</td>\n",
              "      <td>Neurology</td>\n",
              "      <td>Consult - History and Phy.</td>\n",
              "    </tr>\n",
              "    <tr>\n",
              "      <th>3</th>\n",
              "      <td>xxbos xxup history xxup of xxup present xxup illness : , xxmaj the patient is a 35-year - old woman who reports that on the xxunk of xxmaj october 2008 , she had a rupture of her membranes at nine months of pregnancy , and was admitted to hospital and was given an epidural anesthetic . i do not have the records from this hospital admission , but apparently the epidural was administered for approximately 14 to 18 hours . xxmaj she was sitting up during the epidural . ,she did not notice any difference in her lower extremities at the time she had the epidural ; however , she reports that she was extremely sleepy and may not have been aware of any change in strength or sensation in her lower extremities at that time . xxmaj she delivered on the 31st of xxmaj october , by xxmaj cesarean</td>\n",
              "      <td>Neurology</td>\n",
              "      <td>Orthopedic</td>\n",
              "    </tr>\n",
              "    <tr>\n",
              "      <th>4</th>\n",
              "      <td>xxbos xxup reason xxup for xxup referral : , xxmaj the patient was referred to me by xxmaj dr . x of the xxmaj clinic due to concerns regarding behavioral acting out as well as encopresis . xxmaj this is a 90-minute initial intake completed on 10 / 03 / 2007 . i met with the patient 's mother individually for the entire session . i reviewed with her the treatment , consent form , as well as the boundaries of confidentiality , and she stated that she understood these concepts . ,presenting xxup problems : , xxmaj mother reported that her primary concern in regard to the patient had to do with his oppositionality . xxmaj she was more ambivalent regarding addressing the encopresis . xxmaj in regards to his oppositionality , she reported that the onset of his oppositionality was approximately at 4 years of age , that</td>\n",
              "      <td>Consult - History and Phy.</td>\n",
              "      <td>Consult - History and Phy.</td>\n",
              "    </tr>\n",
              "    <tr>\n",
              "      <th>5</th>\n",
              "      <td>xxbos xxup history xxup of xxup present xxup illness : , xxmaj the patient is a 63-year - old left - handed gentleman who presents for further evaluation of multiple neurological symptoms . i asked him to discuss each symptom individually as he had a very hard time describing the nature of his problems . xxmaj he first mentioned that he has neck pain . xxmaj he states that he has had this for at least 15 years . xxmaj it is worse with movement . xxmaj it has progressed very slowly over the course of 15 years . xxmaj it is localized to the base of his neck and is sharp in quality . xxmaj he also endorses a history of gait instability . xxmaj this has been present for a few years and has been slightly progressively worsening . xxmaj he describes that he feels unsteady on his</td>\n",
              "      <td>Neurology</td>\n",
              "      <td>Consult - History and Phy.</td>\n",
              "    </tr>\n",
              "    <tr>\n",
              "      <th>6</th>\n",
              "      <td>xxbos xxup preoperative xxup diagnoses:,1 . xxmaj right ankle trimalleolar fracture . ,2 . xxmaj right distal tibia plafond fracture with comminuted posterolateral impacted fragment . ,operative xxup procedure : , delayed open reduction internal fixation with plates and screws , 6-hole contoured distal fibular plate and screws reducing posterolateral malleolar fragment , as well as medial malleolar fragment . ,postoperative xxup diagnoses:,1 . xxmaj right ankle trimalleolar fracture . ,2 . xxmaj right distal tibia plafond fracture with comminuted posterolateral impacted fragment . ,tourniquet xxup time : , 80 minutes . ,history : , xxmaj this 50-year - old gentleman was from the area and riding his motorcycle in kentucky . ,the patient lost control of his motorcycle when he was traveling approximately 40 mile per hour . xxmaj he was on a curve and lost control . xxmaj he is unsure what exactly happened , but he thinks</td>\n",
              "      <td>Orthopedic</td>\n",
              "      <td>Orthopedic</td>\n",
              "    </tr>\n",
              "    <tr>\n",
              "      <th>7</th>\n",
              "      <td>xxbos xxup chief xxup complaint : , xxmaj blood in urine . ,history xxup of xxup present xxup illness : , this is a 78-year - old male who has prostate cancer with metastatic disease to his bladder and in several locations throughout the skeletal system including the spine and shoulder . xxmaj the patient has had problems with hematuria in the past , but the patient noted that this episode began yesterday , and today he has been passing principally blood with very little urine . xxmaj the patient states that there is no change in his chronic lower back pain and denies any incontinence of urine or stool . xxmaj the patient has not had any fever . xxmaj there is no abdominal pain and the patient is still able to pass urine . xxmaj the patient has not had any melena or hematochezia . xxmaj there is</td>\n",
              "      <td>Urology</td>\n",
              "      <td>Urology</td>\n",
              "    </tr>\n",
              "    <tr>\n",
              "      <th>8</th>\n",
              "      <td>xxbos xxup preoperative xxup diagnosis ( es ) : , xxup l4-l5 and xxup l5-s1 degenerative disk disease / disk protrusions / spondylosis with radiculopathy . ,postoperative xxup diagnosis ( es ) : , xxup l4-l5 and xxup l5-s1 degenerative disk disease / disk protrusions / spondylosis with radiculopathy . ,procedure:,1 . xxmaj left xxup l4-l5 and xxup l5-s1 xxmaj transforaminal xxmaj lumbar xxmaj interbody xxmaj fusion ( xxunk . xxup l4 to xxup s1 fixation ( danek xxup xxunk system).,3 . xxmaj right posterolateral xxup l4 to xxup s1 fusion . ,4 . xxmaj placement of intervertebral prosthetic device ( danek xxmaj capstone spacers xxup l4-l5 and xxup xxunk . xxmaj vertebral autograft plus bone morphogenetic protein ( xxunk : , none . ,anesthesia : , xxmaj general endotracheal . ,specimens : , xxmaj portions of excised xxup l4-l5 and xxup l5-s1 disks . ,estimated xxup blood xxup loss</td>\n",
              "      <td>Orthopedic</td>\n",
              "      <td>Orthopedic</td>\n",
              "    </tr>\n",
              "  </tbody>\n",
              "</table>"
            ],
            "text/plain": [
              "<IPython.core.display.HTML object>"
            ]
          },
          "metadata": {
            "tags": []
          }
        }
      ]
    },
    {
      "cell_type": "code",
      "metadata": {
        "id": "sDunqwzV0WZZ",
        "colab": {
          "base_uri": "https://localhost:8080/",
          "height": 17
        },
        "outputId": "789697d1-757b-4e32-ca38-86dc4f118f33"
      },
      "source": [
        "interp = Interpretation.from_learner(learn)"
      ],
      "id": "sDunqwzV0WZZ",
      "execution_count": 169,
      "outputs": [
        {
          "output_type": "display_data",
          "data": {
            "text/html": [
              ""
            ],
            "text/plain": [
              "<IPython.core.display.HTML object>"
            ]
          },
          "metadata": {
            "tags": []
          }
        }
      ]
    },
    {
      "cell_type": "code",
      "metadata": {
        "id": "5Z87Eefu1CA-",
        "colab": {
          "base_uri": "https://localhost:8080/",
          "height": 835
        },
        "outputId": "a3729fb2-039f-4be9-8f8f-f1dcdf6bce8c"
      },
      "source": [
        "interp.plot_top_losses(9, figsize=(15,10))"
      ],
      "id": "5Z87Eefu1CA-",
      "execution_count": 170,
      "outputs": [
        {
          "output_type": "display_data",
          "data": {
            "text/html": [
              "<table border=\"1\" class=\"dataframe\">\n",
              "  <thead>\n",
              "    <tr style=\"text-align: right;\">\n",
              "      <th></th>\n",
              "      <th>input</th>\n",
              "      <th>target</th>\n",
              "      <th>predicted</th>\n",
              "      <th>probability</th>\n",
              "      <th>loss</th>\n",
              "    </tr>\n",
              "  </thead>\n",
              "  <tbody>\n",
              "    <tr>\n",
              "      <th>0</th>\n",
              "      <td>xxbos xxup discharge xxup summary , summary xxup of xxup treatment xxunk major problems were identified at the admission of this xxunk .</td>\n",
              "      <td>Discharge Summary</td>\n",
              "      <td>Cardiovascular / Pulmonary</td>\n",
              "      <td>1.0</td>\n",
              "      <td>524.6875</td>\n",
              "    </tr>\n",
              "    <tr>\n",
              "      <th>1</th>\n",
              "      <td>xxbos xxup preoperative xxup diagnosis : , xxmaj ovarian cyst , persistent . ,postoperative xxup diagnosis : , xxmaj ovarian cyst . ,anesthesia : , general , name xxup of xxup operation : , xxmaj diagnostic laparoscopy and drainage of cyst . ,procedure : , xxmaj the patient was taken to the operating room , prepped and draped in the usual manner , and adequate anesthesia was induced . xxmaj an infraumbilical incision was made , and xxmaj veress needle placed without difficulty . xxmaj gas was entered into the abdomen at two liters . xxmaj the laparoscope was entered , and the abdomen was visualized . xxmaj the second puncture site was made , and the second trocar placed without difficulty . xxmaj the cyst was noted on the left , a 3-cm , ovarian cyst . xxmaj this was needled , and a hole cut in it with</td>\n",
              "      <td>Radiology</td>\n",
              "      <td>Obstetrics / Gynecology</td>\n",
              "      <td>0.5560633540153503</td>\n",
              "      <td>7.199101448059082</td>\n",
              "    </tr>\n",
              "    <tr>\n",
              "      <th>2</th>\n",
              "      <td>xxbos xxup reason xxup for xxup consultation : , xxmaj loculated left effusion , xxunk pneumonia .</td>\n",
              "      <td>Consult - History and Phy.</td>\n",
              "      <td>Cardiovascular / Pulmonary</td>\n",
              "      <td>0.9631150960922241</td>\n",
              "      <td>7.1118011474609375</td>\n",
              "    </tr>\n",
              "    <tr>\n",
              "      <th>3</th>\n",
              "      <td>xxbos xxup cc : , vertigo . ,hx : , this xxunk / o xxup rhf experienced a 2 - 3 minute episode of lightheadedness while driving home from the dentist in 5 / 92 . xxmaj in 11 / 92 , while eating breakfast , she suddenly experienced vertigo . xxmaj this was immediately followed by nausea and several episodes of vomiting . xxmaj the vertigo lasted 2 - xxunk . xxmaj she retired to her room for a 2 hour nap after vomiting . xxmaj when she awoke , the symptoms had resolved . xxmaj on 1 / 13 / 93 she had an episode of right arm numbness lasting 4 - xxunk . xxmaj there was no associated weakness , xxup ha , dysarthria , dysphagia , visual change , vertigo or lightheadedness . xxunk xxup records : , 12 / 16 / 92 xxmaj carotid xxmaj</td>\n",
              "      <td>Consult - History and Phy.</td>\n",
              "      <td>Neurology</td>\n",
              "      <td>0.5465169548988342</td>\n",
              "      <td>6.976260185241699</td>\n",
              "    </tr>\n",
              "    <tr>\n",
              "      <th>4</th>\n",
              "      <td>xxbos xxup cc : , xxmaj left hemibody numbness . ,hx : , xxmaj this 44y / o xxup rhf awoke on 7 / 29 / 93 with left hemibody numbness without tingling , weakness , ataxia , visual or mental status change . xxmaj she had no progression of her symptoms until 7 / 7 / 93 when she notices her right hand was stiff and clumsy . xxmaj she coincidentally began listing to the right when walking . xxmaj she denied any recent colds / flu - like illness or history of multiple sclerosis . xxmaj she denied symptoms of xxmaj lhermitte 's or xxmaj uhthoff 's phenomena . ,meds : , none . ,pmh : , 1)bronchitis twice in past year ( last 2 months ago).,fhx : , xxmaj father with xxup htn and h / o strokes at ages 45 and 80 ; now 82 years</td>\n",
              "      <td>Orthopedic</td>\n",
              "      <td>Neurology</td>\n",
              "      <td>0.564806342124939</td>\n",
              "      <td>6.440901279449463</td>\n",
              "    </tr>\n",
              "    <tr>\n",
              "      <th>5</th>\n",
              "      <td>xxbos xxup procedure : , xxmaj subcutaneous ulnar nerve transposition . ,procedure xxup in xxup detail : , xxmaj after administering appropriate antibiotics and xxup mac anesthesia , the upper extremity was prepped and draped in the usual standard fashion . xxmaj the arm was exsanguinated with xxmaj esmarch , and the tourniquet inflated to 250 mmhg . ,a curvilinear incision was made over the medial elbow , starting proximally at the medial intermuscular septum , curving posterior to the medial epicondyle , then curving anteriorly along the path of the ulnar nerve . xxmaj dissection was carried down to the ulnar nerve . xxmaj branches of the medial antebrachial and the medial brachial cutaneous nerves were identified and protected . ,osborne 's fascia was released , an ulnar neurolysis performed , and the ulnar nerve was mobilized . xxmaj six cm of the medial intermuscular septum was excised ,</td>\n",
              "      <td>Neurology</td>\n",
              "      <td>Orthopedic</td>\n",
              "      <td>0.9795264601707458</td>\n",
              "      <td>6.191675662994385</td>\n",
              "    </tr>\n",
              "    <tr>\n",
              "      <th>6</th>\n",
              "      <td>xxbos xxup problem : , chronic abdominal pain , nausea , vomiting , abnormal liver function tests . , , history : , xxmaj the patient is a 23-year - old female referred for evaluation due to a chronic history of abdominal pain and extensive work - up for abnormal liver function tests and this chronic nausea and vomiting referred here for further evaluation due to the patient 's recent move from xxmaj xxunk to xxmaj portland . xxmaj the patient is not a great historian . xxmaj most of the history is obtained through the old history and chart that the patient has with her . xxmaj according to what we can make out , she began experiencing nausea , vomiting , recurrent epigastric and right upper quadrant pain in 2001 . xxmaj she was initially seen by xxmaj dr . a back in xxmaj september 2001 for abdominal</td>\n",
              "      <td>Consult - History and Phy.</td>\n",
              "      <td>Gastroenterology</td>\n",
              "      <td>0.995743453502655</td>\n",
              "      <td>5.947625160217285</td>\n",
              "    </tr>\n",
              "    <tr>\n",
              "      <th>7</th>\n",
              "      <td>xxbos findings:,there is a large xxunk mass lesion producing diffuse expansion of the sella turcica . xxmaj this mass lesions measures approximately 16 x 18 x 18 mm ( craniocaudal x xxup ap x mediolateral ) in size .</td>\n",
              "      <td>Neurology</td>\n",
              "      <td>Radiology</td>\n",
              "      <td>0.9813077449798584</td>\n",
              "      <td>5.862618923187256</td>\n",
              "    </tr>\n",
              "    <tr>\n",
              "      <th>8</th>\n",
              "      <td>xxbos xxup cc : , xxmaj progressive lower extremity weakness . ,hx : , this 52y / o xxup rhf had a h / o right frontal glioblastoma multiforme ( gbm ) diagnosed by brain biopsy / partial resection , on 1 / 15 / 1991 . xxmaj she had been healthy until 1 / 6 / 91 , when she experienced a generalized tonic - clonic type seizure during the night . xxmaj she subsequently underwent an xxup mri brain scan and was found to have a right frontal enhancing lesion in the mesial aspect of the right frontal lobe at approximately the level of the coronal suture . xxmaj there was minimal associated edema and no mass effect . xxmaj following extirpation of the tumor mass , she underwent radioactive xxmaj iodine implantation and 6020cgy radiation therapy in 35 fractions . xxmaj in 11 / 91 she received</td>\n",
              "      <td>Orthopedic</td>\n",
              "      <td>Neurology</td>\n",
              "      <td>0.5136703848838806</td>\n",
              "      <td>5.804845333099365</td>\n",
              "    </tr>\n",
              "  </tbody>\n",
              "</table>"
            ],
            "text/plain": [
              "<IPython.core.display.HTML object>"
            ]
          },
          "metadata": {
            "tags": []
          }
        }
      ]
    },
    {
      "cell_type": "code",
      "metadata": {
        "colab": {
          "base_uri": "https://localhost:8080/",
          "height": 17
        },
        "id": "VBnw3TLMv2JG",
        "outputId": "75f62649-b16f-4570-e696-e56b63c095eb"
      },
      "source": [
        "interp = ClassificationInterpretation.from_learner(learn)"
      ],
      "id": "VBnw3TLMv2JG",
      "execution_count": 171,
      "outputs": [
        {
          "output_type": "display_data",
          "data": {
            "text/html": [
              ""
            ],
            "text/plain": [
              "<IPython.core.display.HTML object>"
            ]
          },
          "metadata": {
            "tags": []
          }
        }
      ]
    },
    {
      "cell_type": "code",
      "metadata": {
        "id": "7qsY7nr5v2JG"
      },
      "source": [
        "losses,idxs = interp.top_losses()"
      ],
      "id": "7qsY7nr5v2JG",
      "execution_count": 172,
      "outputs": []
    },
    {
      "cell_type": "code",
      "metadata": {
        "colab": {
          "base_uri": "https://localhost:8080/"
        },
        "id": "nq7btCqlv2JH",
        "outputId": "20b16d90-e087-412e-c6fc-625106654c55"
      },
      "source": [
        "len(dls_clas.valid_ds)==len(losses)==len(idxs)"
      ],
      "id": "nq7btCqlv2JH",
      "execution_count": 173,
      "outputs": [
        {
          "output_type": "execute_result",
          "data": {
            "text/plain": [
              "True"
            ]
          },
          "metadata": {
            "tags": []
          },
          "execution_count": 173
        }
      ]
    },
    {
      "cell_type": "code",
      "metadata": {
        "colab": {
          "base_uri": "https://localhost:8080/",
          "height": 742
        },
        "id": "jaKpdinvv2JH",
        "outputId": "41aa132a-467f-4c51-e4a3-5ca0b1b42feb"
      },
      "source": [
        "interp.plot_confusion_matrix(figsize=(10,10))"
      ],
      "id": "jaKpdinvv2JH",
      "execution_count": 174,
      "outputs": [
        {
          "output_type": "display_data",
          "data": {
            "image/png": "[encoded data removed]",
            "text/plain": [
              "<Figure size 720x720 with 1 Axes>"
            ]
          },
          "metadata": {
            "tags": [],
            "needs_background": "light"
          }
        }
      ]
    },
    {
      "cell_type": "code",
      "metadata": {
        "id": "oQe44V-M1ECB"
      },
      "source": [
        "# del(learn)"
      ],
      "id": "oQe44V-M1ECB",
      "execution_count": 69,
      "outputs": []
    },
    {
      "cell_type": "code",
      "metadata": {
        "id": "19JAuNgoDCJ2"
      },
      "source": [
        ""
      ],
      "id": "19JAuNgoDCJ2",
      "execution_count": 69,
      "outputs": []
    }
  ]
}