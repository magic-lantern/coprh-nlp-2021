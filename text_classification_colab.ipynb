{
 "cells": [
  {
   "cell_type": "markdown",
   "metadata": {
    "id": "c8fe1817"
   },
   "source": [
    "# Example of how to use Deep Learning for text classification\n",
    "\n",
    "Click [Text Classification Example](https://colab.research.google.com/github/magic-lantern/coprh-nlp-2021/blob/main/text_classification_colab.ipynb) to open this notebook in Google Colab - no local setup required, results saved to your Google Drive.\n",
    "\n",
    "In Google Colab, make sure you change the Runtime to a GPU instance - that will result vastly improved runtimes for deep learning steps. On CPU based hardware some steps take 40 minutes versus 1 minute per training epoch on systems with a GPU. Steps to update runtime:\n",
    "\n",
    "    Runtime > Change runtime type > Select 'GPU' in Hardware accelerator box\n",
    "\n",
    "Click 'Save' to switch from Default runtime to GPU accelerated runtime.\n",
    "\n",
    "Some useful links:\n",
    "\n",
    "* https://muellerzr.github.io/fastblog/2020/08/21/intermediate.html#A-Text-Example"
   ]
  },
  {
   "cell_type": "code",
   "execution_count": 1,
   "metadata": {
    "colab": {
     "base_uri": "https://localhost:8080/"
    },
    "id": "99dc132e",
    "outputId": "cedaa479-b1fd-4b2d-cf48-5c91813f12fd"
   },
   "outputs": [],
   "source": [
    "# this cell makes sure Google Colab version has latest software dependencies\n",
    "!pip install -Uqq fastbook fastai"
   ]
  },
  {
   "cell_type": "code",
   "execution_count": 2,
   "metadata": {
    "id": "b8ec45b4"
   },
   "outputs": [],
   "source": [
    "import gc"
   ]
  },
  {
   "cell_type": "code",
   "execution_count": 3,
   "metadata": {
    "colab": {
     "base_uri": "https://localhost:8080/"
    },
    "id": "ccd58e7d",
    "outputId": "2f7d98a9-98ac-4e84-84eb-27ef90dcbccf"
   },
   "outputs": [],
   "source": [
    "# this cell will setup a path that allows you to load and save files to your google drive\n",
    "# you will be prompted to log in with a Google enabled account.\n",
    "import fastbook\n",
    "fastbook.setup_book()"
   ]
  },
  {
   "cell_type": "code",
   "execution_count": 4,
   "metadata": {
    "id": "be0a1f20"
   },
   "outputs": [],
   "source": [
    "from fastai.text.all import *"
   ]
  },
  {
   "cell_type": "code",
   "execution_count": 5,
   "metadata": {
    "colab": {
     "base_uri": "https://localhost:8080/"
    },
    "id": "fe22952b",
    "outputId": "49afd109-3e38-4c1a-87b2-4d0872f3cc34"
   },
   "outputs": [
    {
     "data": {
      "text/plain": [
       "Path('/home/sethr/coprh-nlp-2021')"
      ]
     },
     "execution_count": 5,
     "metadata": {},
     "output_type": "execute_result"
    }
   ],
   "source": [
    "Path.cwd()"
   ]
  },
  {
   "cell_type": "code",
   "execution_count": 6,
   "metadata": {
    "id": "c27edf42"
   },
   "outputs": [],
   "source": [
    "# outside Google Colab, I'm not using fastbook\n",
    "if 'fastbook' in vars() or 'fastbook' in globals():\n",
    "    data_path = fastbook.gdrive / Path('data')\n",
    "    model_path = fastbook.gdrive / Path('models')\n",
    "else:\n",
    "    data_path = Path.cwd() / Path('data')\n",
    "    model_path = Path.cwd() / Path('models')\n",
    "data_file = data_path / 'mtsamples.csv'\n",
    "sequence_length = 512"
   ]
  },
  {
   "cell_type": "code",
   "execution_count": 7,
   "metadata": {
    "colab": {
     "base_uri": "https://localhost:8080/"
    },
    "id": "1fadf0a4",
    "outputId": "aba545d7-2046-4fd1-b879-1a1742b5dbd1"
   },
   "outputs": [
    {
     "data": {
      "text/plain": [
       "Path('/home/sethr/coprh-nlp-2021/data/mtsamples.csv')"
      ]
     },
     "execution_count": 7,
     "metadata": {},
     "output_type": "execute_result"
    }
   ],
   "source": [
    "data_file"
   ]
  },
  {
   "cell_type": "code",
   "execution_count": 8,
   "metadata": {
    "colab": {
     "base_uri": "https://localhost:8080/"
    },
    "id": "59b3c102",
    "outputId": "ec7452d6-7d6e-476f-f340-9135cde4c368"
   },
   "outputs": [
    {
     "name": "stdout",
     "output_type": "stream",
     "text": [
      "Already downloaded\n"
     ]
    }
   ],
   "source": [
    "if data_file.is_file():\n",
    "    print('Already downloaded')\n",
    "else:\n",
    "    print('downloading data file')\n",
    "    download_data(\n",
    "        url='https://github.com/socd06/medical-nlp/raw/master/data/mtsamples.csv',\n",
    "        fname = data_file\n",
    "    )"
   ]
  },
  {
   "cell_type": "code",
   "execution_count": 9,
   "metadata": {
    "colab": {
     "base_uri": "https://localhost:8080/",
     "height": 640
    },
    "id": "8a4af966",
    "outputId": "60853b15-9470-405f-e83c-44eb47bb9214"
   },
   "outputs": [
    {
     "data": {
      "text/html": [
       "<div>\n",
       "<style scoped>\n",
       "    .dataframe tbody tr th:only-of-type {\n",
       "        vertical-align: middle;\n",
       "    }\n",
       "\n",
       "    .dataframe tbody tr th {\n",
       "        vertical-align: top;\n",
       "    }\n",
       "\n",
       "    .dataframe thead th {\n",
       "        text-align: right;\n",
       "    }\n",
       "</style>\n",
       "<table border=\"1\" class=\"dataframe\">\n",
       "  <thead>\n",
       "    <tr style=\"text-align: right;\">\n",
       "      <th></th>\n",
       "      <th>Unnamed: 0</th>\n",
       "      <th>description</th>\n",
       "      <th>medical_specialty</th>\n",
       "      <th>sample_name</th>\n",
       "      <th>transcription</th>\n",
       "      <th>keywords</th>\n",
       "    </tr>\n",
       "  </thead>\n",
       "  <tbody>\n",
       "    <tr>\n",
       "      <th>0</th>\n",
       "      <td>0</td>\n",
       "      <td>A 23-year-old white female presents with complaint of allergies.</td>\n",
       "      <td>Allergy / Immunology</td>\n",
       "      <td>Allergic Rhinitis</td>\n",
       "      <td>SUBJECTIVE:,  This 23-year-old white female presents with complaint of allergies.  She used to have allergies when she lived in Seattle but she thinks they are worse here.  In the past, she has tried Claritin, and Zyrtec.  Both worked for short time but then seemed to lose effectiveness.  She has used Allegra also.  She used that last summer and she began using it again two weeks ago.  It does not appear to be working very well.  She has used over-the-counter sprays but no prescription nasal sprays.  She does have asthma but doest not require daily medication for this and does not think it...</td>\n",
       "      <td>allergy / immunology, allergic rhinitis, allergies, asthma, nasal sprays, rhinitis, nasal, erythematous, allegra, sprays, allergic,</td>\n",
       "    </tr>\n",
       "    <tr>\n",
       "      <th>1</th>\n",
       "      <td>1</td>\n",
       "      <td>Consult for laparoscopic gastric bypass.</td>\n",
       "      <td>Bariatrics</td>\n",
       "      <td>Laparoscopic Gastric Bypass Consult - 2</td>\n",
       "      <td>PAST MEDICAL HISTORY:, He has difficulty climbing stairs, difficulty with airline seats, tying shoes, used to public seating, and lifting objects off the floor.  He exercises three times a week at home and does cardio.  He has difficulty walking two blocks or five flights of stairs.  Difficulty with snoring.  He has muscle and joint pains including knee pain, back pain, foot and ankle pain, and swelling.  He has gastroesophageal reflux disease.,PAST SURGICAL HISTORY:, Includes reconstructive surgery on his right hand 13 years ago.  ,SOCIAL HISTORY:, He is currently single.  He has about te...</td>\n",
       "      <td>bariatrics, laparoscopic gastric bypass, weight loss programs, gastric bypass, atkin's diet, weight watcher's, body weight, laparoscopic gastric, weight loss, pounds, months, weight, laparoscopic, band, loss, diets, overweight, lost</td>\n",
       "    </tr>\n",
       "    <tr>\n",
       "      <th>2</th>\n",
       "      <td>2</td>\n",
       "      <td>Consult for laparoscopic gastric bypass.</td>\n",
       "      <td>Bariatrics</td>\n",
       "      <td>Laparoscopic Gastric Bypass Consult - 1</td>\n",
       "      <td>HISTORY OF PRESENT ILLNESS: , I have seen ABC today.  He is a very pleasant gentleman who is 42 years old, 344 pounds.  He is 5'9\".  He has a BMI of 51.  He has been overweight for ten years since the age of 33, at his highest he was 358 pounds, at his lowest 260.  He is pursuing surgical attempts of weight loss to feel good, get healthy, and begin to exercise again.  He wants to be able to exercise and play volleyball.  Physically, he is sluggish.  He gets tired quickly.  He does not go out often.  When he loses weight he always regains it and he gains back more than he lost.  His biggest...</td>\n",
       "      <td>bariatrics, laparoscopic gastric bypass, heart attacks, body weight, pulmonary embolism, potential complications, sleep study, weight loss, gastric bypass, anastomosis, loss, sleep, laparoscopic, gastric, bypass, heart, pounds, weight,</td>\n",
       "    </tr>\n",
       "    <tr>\n",
       "      <th>3</th>\n",
       "      <td>3</td>\n",
       "      <td>2-D M-Mode. Doppler.</td>\n",
       "      <td>Cardiovascular / Pulmonary</td>\n",
       "      <td>2-D Echocardiogram - 1</td>\n",
       "      <td>2-D M-MODE: , ,1.  Left atrial enlargement with left atrial diameter of 4.7 cm.,2.  Normal size right and left ventricle.,3.  Normal LV systolic function with left ventricular ejection fraction of 51%.,4.  Normal LV diastolic function.,5.  No pericardial effusion.,6.  Normal morphology of aortic valve, mitral valve, tricuspid valve, and pulmonary valve.,7.  PA systolic pressure is 36 mmHg.,DOPPLER: , ,1.  Mild mitral and tricuspid regurgitation.,2.  Trace aortic and pulmonary regurgitation.</td>\n",
       "      <td>cardiovascular / pulmonary, 2-d m-mode, doppler, aortic valve, atrial enlargement, diastolic function, ejection fraction, mitral, mitral valve, pericardial effusion, pulmonary valve, regurgitation, systolic function, tricuspid, tricuspid valve, normal lv</td>\n",
       "    </tr>\n",
       "    <tr>\n",
       "      <th>4</th>\n",
       "      <td>4</td>\n",
       "      <td>2-D Echocardiogram</td>\n",
       "      <td>Cardiovascular / Pulmonary</td>\n",
       "      <td>2-D Echocardiogram - 2</td>\n",
       "      <td>1.  The left ventricular cavity size and wall thickness appear normal.  The wall motion and left ventricular systolic function appears hyperdynamic with estimated ejection fraction of 70% to 75%.  There is near-cavity obliteration seen.  There also appears to be increased left ventricular outflow tract gradient at the mid cavity level consistent with hyperdynamic left ventricular systolic function.  There is abnormal left ventricular relaxation pattern seen as well as elevated left atrial pressures seen by Doppler examination.,2.  The left atrium appears mildly dilated.,3.  The right atriu...</td>\n",
       "      <td>cardiovascular / pulmonary, 2-d, doppler, echocardiogram, annular, aortic root, aortic valve, atrial, atrium, calcification, cavity, ejection fraction, mitral, obliteration, outflow, regurgitation, relaxation pattern, stenosis, systolic function, tricuspid, valve, ventricular, ventricular cavity, wall motion, pulmonary artery</td>\n",
       "    </tr>\n",
       "  </tbody>\n",
       "</table>\n",
       "</div>"
      ],
      "text/plain": [
       "   Unnamed: 0  \\\n",
       "0           0   \n",
       "1           1   \n",
       "2           2   \n",
       "3           3   \n",
       "4           4   \n",
       "\n",
       "                                                        description  \\\n",
       "0  A 23-year-old white female presents with complaint of allergies.   \n",
       "1                          Consult for laparoscopic gastric bypass.   \n",
       "2                          Consult for laparoscopic gastric bypass.   \n",
       "3                                              2-D M-Mode. Doppler.   \n",
       "4                                                2-D Echocardiogram   \n",
       "\n",
       "            medical_specialty                              sample_name  \\\n",
       "0        Allergy / Immunology                        Allergic Rhinitis   \n",
       "1                  Bariatrics  Laparoscopic Gastric Bypass Consult - 2   \n",
       "2                  Bariatrics  Laparoscopic Gastric Bypass Consult - 1   \n",
       "3  Cardiovascular / Pulmonary                   2-D Echocardiogram - 1   \n",
       "4  Cardiovascular / Pulmonary                   2-D Echocardiogram - 2   \n",
       "\n",
       "                                                                                                                                                                                                                                                                                                                                                                                                                                                                                                                                                                                                             transcription  \\\n",
       "0  SUBJECTIVE:,  This 23-year-old white female presents with complaint of allergies.  She used to have allergies when she lived in Seattle but she thinks they are worse here.  In the past, she has tried Claritin, and Zyrtec.  Both worked for short time but then seemed to lose effectiveness.  She has used Allegra also.  She used that last summer and she began using it again two weeks ago.  It does not appear to be working very well.  She has used over-the-counter sprays but no prescription nasal sprays.  She does have asthma but doest not require daily medication for this and does not think it...   \n",
       "1  PAST MEDICAL HISTORY:, He has difficulty climbing stairs, difficulty with airline seats, tying shoes, used to public seating, and lifting objects off the floor.  He exercises three times a week at home and does cardio.  He has difficulty walking two blocks or five flights of stairs.  Difficulty with snoring.  He has muscle and joint pains including knee pain, back pain, foot and ankle pain, and swelling.  He has gastroesophageal reflux disease.,PAST SURGICAL HISTORY:, Includes reconstructive surgery on his right hand 13 years ago.  ,SOCIAL HISTORY:, He is currently single.  He has about te...   \n",
       "2  HISTORY OF PRESENT ILLNESS: , I have seen ABC today.  He is a very pleasant gentleman who is 42 years old, 344 pounds.  He is 5'9\".  He has a BMI of 51.  He has been overweight for ten years since the age of 33, at his highest he was 358 pounds, at his lowest 260.  He is pursuing surgical attempts of weight loss to feel good, get healthy, and begin to exercise again.  He wants to be able to exercise and play volleyball.  Physically, he is sluggish.  He gets tired quickly.  He does not go out often.  When he loses weight he always regains it and he gains back more than he lost.  His biggest...   \n",
       "3                                                                                                          2-D M-MODE: , ,1.  Left atrial enlargement with left atrial diameter of 4.7 cm.,2.  Normal size right and left ventricle.,3.  Normal LV systolic function with left ventricular ejection fraction of 51%.,4.  Normal LV diastolic function.,5.  No pericardial effusion.,6.  Normal morphology of aortic valve, mitral valve, tricuspid valve, and pulmonary valve.,7.  PA systolic pressure is 36 mmHg.,DOPPLER: , ,1.  Mild mitral and tricuspid regurgitation.,2.  Trace aortic and pulmonary regurgitation.   \n",
       "4  1.  The left ventricular cavity size and wall thickness appear normal.  The wall motion and left ventricular systolic function appears hyperdynamic with estimated ejection fraction of 70% to 75%.  There is near-cavity obliteration seen.  There also appears to be increased left ventricular outflow tract gradient at the mid cavity level consistent with hyperdynamic left ventricular systolic function.  There is abnormal left ventricular relaxation pattern seen as well as elevated left atrial pressures seen by Doppler examination.,2.  The left atrium appears mildly dilated.,3.  The right atriu...   \n",
       "\n",
       "                                                                                                                                                                                                                                                                                                                                  keywords  \n",
       "0                                                                                                                                                                                                      allergy / immunology, allergic rhinitis, allergies, asthma, nasal sprays, rhinitis, nasal, erythematous, allegra, sprays, allergic,  \n",
       "1                                                                                                 bariatrics, laparoscopic gastric bypass, weight loss programs, gastric bypass, atkin's diet, weight watcher's, body weight, laparoscopic gastric, weight loss, pounds, months, weight, laparoscopic, band, loss, diets, overweight, lost  \n",
       "2                                                                                              bariatrics, laparoscopic gastric bypass, heart attacks, body weight, pulmonary embolism, potential complications, sleep study, weight loss, gastric bypass, anastomosis, loss, sleep, laparoscopic, gastric, bypass, heart, pounds, weight,  \n",
       "3                                                                           cardiovascular / pulmonary, 2-d m-mode, doppler, aortic valve, atrial enlargement, diastolic function, ejection fraction, mitral, mitral valve, pericardial effusion, pulmonary valve, regurgitation, systolic function, tricuspid, tricuspid valve, normal lv  \n",
       "4  cardiovascular / pulmonary, 2-d, doppler, echocardiogram, annular, aortic root, aortic valve, atrial, atrium, calcification, cavity, ejection fraction, mitral, obliteration, outflow, regurgitation, relaxation pattern, stenosis, systolic function, tricuspid, valve, ventricular, ventricular cavity, wall motion, pulmonary artery  "
      ]
     },
     "execution_count": 9,
     "metadata": {},
     "output_type": "execute_result"
    }
   ],
   "source": [
    "mtsamples = pd.read_csv(str(data_path) + '/mtsamples.csv')\n",
    "# remove leading/trailing spaces from text fields\n",
    "mtsamples = mtsamples.applymap(lambda x: x.strip() if isinstance(x, str) else x)\n",
    "mtsamples.head()"
   ]
  },
  {
   "cell_type": "markdown",
   "metadata": {
    "id": "BsZi05Y0EUdc"
   },
   "source": [
    "### Setup objects for Language Model Training"
   ]
  },
  {
   "cell_type": "markdown",
   "metadata": {
    "id": "24fb6dc2"
   },
   "source": [
    "This is one way to load the data for training - it's more simple, but you have less control.\n",
    "\n",
    "```python\n",
    "TextDataLoaders.from_df(mtsamples,\n",
    "                        valid_pct=0.2,\n",
    "                        seed=42,\n",
    "                        text_col='transcription',\n",
    "                        label_col='medical_specialty',\n",
    "                        seq_len=72)\n",
    "```"
   ]
  },
  {
   "cell_type": "code",
   "execution_count": 10,
   "metadata": {
    "id": "b4a65e61"
   },
   "outputs": [],
   "source": [
    "dls_lm = DataBlock(\n",
    "    blocks=TextBlock.from_df('transcription', is_lm=True),\n",
    "    get_x=ColReader('text'),\n",
    "    splitter=TrainTestSplitter(test_size=0.2,\n",
    "                               random_state=42)\n",
    ")"
   ]
  },
  {
   "cell_type": "code",
   "execution_count": 11,
   "metadata": {
    "colab": {
     "base_uri": "https://localhost:8080/",
     "height": 72
    },
    "id": "fc358b72",
    "outputId": "df9ade36-285a-4fc0-f9b0-62f645537c87"
   },
   "outputs": [
    {
     "data": {
      "text/html": [],
      "text/plain": [
       "<IPython.core.display.HTML object>"
      ]
     },
     "metadata": {},
     "output_type": "display_data"
    },
    {
     "name": "stderr",
     "output_type": "stream",
     "text": [
      "/opt/miniconda3/envs/coprh/lib/python3.7/site-packages/numpy/core/_asarray.py:83: VisibleDeprecationWarning: Creating an ndarray from ragged nested sequences (which is a list-or-tuple of lists-or-tuples-or ndarrays with different lengths or shapes) is deprecated. If you meant to do this, you must specify 'dtype=object' when creating the ndarray\n",
      "  return array(a, dtype, copy=False, order=order)\n"
     ]
    }
   ],
   "source": [
    "# This cell takes 1 - 2 minutes\n",
    "# when using seq_len of 256, bs of 128 fits in GPU memory, bs 256 does not fit\n",
    "# when using seq_len of 512, bs of 64 fits in GPU memory, bs 128 does not fit\n",
    "dls_lm = dls_lm.dataloaders(mtsamples, bs=32, seq_len=sequence_length)"
   ]
  },
  {
   "cell_type": "markdown",
   "metadata": {
    "id": "adxARtIOD_os"
   },
   "source": [
    "## Train the language Model\n",
    "\n",
    "This portion can be skipped if done previously"
   ]
  },
  {
   "cell_type": "code",
   "execution_count": 12,
   "metadata": {
    "id": "9e3337c6"
   },
   "outputs": [],
   "source": [
    "# if changes in the above were made (such as batch size), it may be beneficial to purge GPU memory\n",
    "gc.collect()\n",
    "torch.cuda.empty_cache()\n",
    "gc.collect()\n",
    "torch.cuda.empty_cache()"
   ]
  },
  {
   "cell_type": "code",
   "execution_count": 13,
   "metadata": {
    "colab": {
     "base_uri": "https://localhost:8080/",
     "height": 321
    },
    "id": "49354b58",
    "outputId": "43e477c6-5de2-4428-ee7f-412c7e170973"
   },
   "outputs": [
    {
     "data": {
      "text/html": [
       "<table border=\"1\" class=\"dataframe\">\n",
       "  <thead>\n",
       "    <tr style=\"text-align: right;\">\n",
       "      <th></th>\n",
       "      <th>text</th>\n",
       "      <th>text_</th>\n",
       "    </tr>\n",
       "  </thead>\n",
       "  <tbody>\n",
       "    <tr>\n",
       "      <th>0</th>\n",
       "      <td>xxbos xxup history xxup of xxup present xxup illness : , xxmaj ms . a is a 55 - year - old female who presented to the xxmaj bariatric xxmaj surgery xxmaj service for consideration of laparoscopic roux - en - y gastric bypass . xxmaj the patient states that she has been overweight for approximately 35 years and has tried multiple weight loss modalities in the past including xxmaj weight xxmaj watchers , xxunk , xxmaj xxunk xxmaj craig , xxup xxunk , xxunk diet , grape fruit diet , slim - fast , xxmaj richard xxmaj xxunk , as well as over - the - counter measures without any long - term xxunk weight loss . xxmaj at the time of presentation to the practice , she is 5 feet 6 inches tall with a weight of xxunk pounds and a body mass index of 46 . xxmaj</td>\n",
       "      <td>xxup history xxup of xxup present xxup illness : , xxmaj ms . a is a 55 - year - old female who presented to the xxmaj bariatric xxmaj surgery xxmaj service for consideration of laparoscopic roux - en - y gastric bypass . xxmaj the patient states that she has been overweight for approximately 35 years and has tried multiple weight loss modalities in the past including xxmaj weight xxmaj watchers , xxunk , xxmaj xxunk xxmaj craig , xxup xxunk , xxunk diet , grape fruit diet , slim - fast , xxmaj richard xxmaj xxunk , as well as over - the - counter measures without any long - term xxunk weight loss . xxmaj at the time of presentation to the practice , she is 5 feet 6 inches tall with a weight of xxunk pounds and a body mass index of 46 . xxmaj she</td>\n",
       "    </tr>\n",
       "    <tr>\n",
       "      <th>1</th>\n",
       "      <td>she did choose to take then she would choose to cancel xxmaj friday ’s appointment , also that she would not feel too badly over the holiday weekend . i thought that was reasonable and agreed that that would work out . ,procedure : , : xxmaj she was then given 10 mg of morphine subcutaneously because she did not feel she could tolerate the discomfort in the instillation without pain medicine . xxmaj we waited about 20 minutes . xxmaj the bladder was then instilled and the urethra was instilled with lidocaine gel which she tolerated and then after a 10 - minute wait , the bladder was instilled with xxup xxunk , xxmaj kenalog , heparin , and sodium bicarbonate , and the catheter was removed . xxmaj the patient retained the solution for one hour , changing position every 15 minutes and then voided to empty the</td>\n",
       "      <td>did choose to take then she would choose to cancel xxmaj friday ’s appointment , also that she would not feel too badly over the holiday weekend . i thought that was reasonable and agreed that that would work out . ,procedure : , : xxmaj she was then given 10 mg of morphine subcutaneously because she did not feel she could tolerate the discomfort in the instillation without pain medicine . xxmaj we waited about 20 minutes . xxmaj the bladder was then instilled and the urethra was instilled with lidocaine gel which she tolerated and then after a 10 - minute wait , the bladder was instilled with xxup xxunk , xxmaj kenalog , heparin , and sodium bicarbonate , and the catheter was removed . xxmaj the patient retained the solution for one hour , changing position every 15 minutes and then voided to empty the bladder</td>\n",
       "    </tr>\n",
       "  </tbody>\n",
       "</table>"
      ],
      "text/plain": [
       "<IPython.core.display.HTML object>"
      ]
     },
     "metadata": {},
     "output_type": "display_data"
    }
   ],
   "source": [
    "dls_lm.show_batch(max_n=2)"
   ]
  },
  {
   "cell_type": "code",
   "execution_count": 14,
   "metadata": {
    "colab": {
     "base_uri": "https://localhost:8080/",
     "height": 17
    },
    "id": "d642f450",
    "outputId": "ae653cce-dd93-4d29-c0ef-75d7546041e1"
   },
   "outputs": [],
   "source": [
    "lm_learn = language_model_learner(\n",
    "    dls_lm,\n",
    "    AWD_LSTM,\n",
    "    model_dir=model_path,\n",
    "    drop_mult=0.3,\n",
    "    metrics=[accuracy, Perplexity()]).to_fp16()"
   ]
  },
  {
   "cell_type": "code",
   "execution_count": 15,
   "metadata": {
    "colab": {
     "base_uri": "https://localhost:8080/",
     "height": 81
    },
    "id": "915814fd",
    "outputId": "ebe17069-640f-40fc-b0bc-2b3ebd385d2d"
   },
   "outputs": [
    {
     "data": {
      "text/html": [
       "<table border=\"1\" class=\"dataframe\">\n",
       "  <thead>\n",
       "    <tr style=\"text-align: left;\">\n",
       "      <th>epoch</th>\n",
       "      <th>train_loss</th>\n",
       "      <th>valid_loss</th>\n",
       "      <th>accuracy</th>\n",
       "      <th>perplexity</th>\n",
       "      <th>time</th>\n",
       "    </tr>\n",
       "  </thead>\n",
       "  <tbody>\n",
       "    <tr>\n",
       "      <td>0</td>\n",
       "      <td>3.266061</td>\n",
       "      <td>2.974056</td>\n",
       "      <td>0.441138</td>\n",
       "      <td>19.571144</td>\n",
       "      <td>00:39</td>\n",
       "    </tr>\n",
       "  </tbody>\n",
       "</table>"
      ],
      "text/plain": [
       "<IPython.core.display.HTML object>"
      ]
     },
     "metadata": {},
     "output_type": "display_data"
    }
   ],
   "source": [
    "# on macbook this cell takes 40 minues\n",
    "# on GPU machine this cell takes about 1 minute\n",
    "lm_learn.fit_one_cycle(1, 2e-2)"
   ]
  },
  {
   "cell_type": "code",
   "execution_count": 16,
   "metadata": {
    "colab": {
     "base_uri": "https://localhost:8080/"
    },
    "id": "a60d5389",
    "outputId": "e570225f-ef4b-4e49-dcc9-21531f6b0aa3"
   },
   "outputs": [
    {
     "data": {
      "text/plain": [
       "Path('/home/sethr/coprh-nlp-2021/models/lm_1stepoch.pth')"
      ]
     },
     "execution_count": 16,
     "metadata": {},
     "output_type": "execute_result"
    }
   ],
   "source": [
    "lm_learn.save('lm_1stepoch')\n",
    "# can load already saved trained model with\n",
    "# learn.load('1stepoch')"
   ]
  },
  {
   "cell_type": "code",
   "execution_count": 17,
   "metadata": {
    "id": "d41db8bc"
   },
   "outputs": [],
   "source": [
    "# if changes in the above were made (such as batch size), it may be beneficial to purge GPU memory\n",
    "gc.collect()\n",
    "torch.cuda.empty_cache()\n",
    "gc.collect()\n",
    "torch.cuda.empty_cache()"
   ]
  },
  {
   "cell_type": "code",
   "execution_count": 18,
   "metadata": {
    "colab": {
     "base_uri": "https://localhost:8080/",
     "height": 990
    },
    "id": "6f857a0a",
    "outputId": "55e5e09c-4a73-46cc-f2b2-77ab316344be"
   },
   "outputs": [
    {
     "data": {
      "text/html": [
       "<table border=\"1\" class=\"dataframe\">\n",
       "  <thead>\n",
       "    <tr style=\"text-align: left;\">\n",
       "      <th>epoch</th>\n",
       "      <th>train_loss</th>\n",
       "      <th>valid_loss</th>\n",
       "      <th>accuracy</th>\n",
       "      <th>perplexity</th>\n",
       "      <th>time</th>\n",
       "    </tr>\n",
       "  </thead>\n",
       "  <tbody>\n",
       "    <tr>\n",
       "      <td>0</td>\n",
       "      <td>2.863827</td>\n",
       "      <td>2.869481</td>\n",
       "      <td>0.454325</td>\n",
       "      <td>17.627861</td>\n",
       "      <td>00:41</td>\n",
       "    </tr>\n",
       "    <tr>\n",
       "      <td>1</td>\n",
       "      <td>2.776455</td>\n",
       "      <td>2.769475</td>\n",
       "      <td>0.466248</td>\n",
       "      <td>15.950257</td>\n",
       "      <td>00:40</td>\n",
       "    </tr>\n",
       "    <tr>\n",
       "      <td>2</td>\n",
       "      <td>2.638583</td>\n",
       "      <td>2.641953</td>\n",
       "      <td>0.483763</td>\n",
       "      <td>14.040598</td>\n",
       "      <td>00:41</td>\n",
       "    </tr>\n",
       "    <tr>\n",
       "      <td>3</td>\n",
       "      <td>2.480408</td>\n",
       "      <td>2.496657</td>\n",
       "      <td>0.503286</td>\n",
       "      <td>12.141831</td>\n",
       "      <td>00:41</td>\n",
       "    </tr>\n",
       "    <tr>\n",
       "      <td>4</td>\n",
       "      <td>2.294246</td>\n",
       "      <td>2.340539</td>\n",
       "      <td>0.527089</td>\n",
       "      <td>10.386828</td>\n",
       "      <td>00:41</td>\n",
       "    </tr>\n",
       "    <tr>\n",
       "      <td>5</td>\n",
       "      <td>2.090474</td>\n",
       "      <td>2.190485</td>\n",
       "      <td>0.551739</td>\n",
       "      <td>8.939546</td>\n",
       "      <td>00:41</td>\n",
       "    </tr>\n",
       "    <tr>\n",
       "      <td>6</td>\n",
       "      <td>1.882048</td>\n",
       "      <td>2.035991</td>\n",
       "      <td>0.580387</td>\n",
       "      <td>7.659837</td>\n",
       "      <td>00:41</td>\n",
       "    </tr>\n",
       "    <tr>\n",
       "      <td>7</td>\n",
       "      <td>1.666690</td>\n",
       "      <td>1.881606</td>\n",
       "      <td>0.609787</td>\n",
       "      <td>6.564037</td>\n",
       "      <td>00:42</td>\n",
       "    </tr>\n",
       "    <tr>\n",
       "      <td>8</td>\n",
       "      <td>1.486784</td>\n",
       "      <td>1.754969</td>\n",
       "      <td>0.636988</td>\n",
       "      <td>5.783270</td>\n",
       "      <td>00:41</td>\n",
       "    </tr>\n",
       "    <tr>\n",
       "      <td>9</td>\n",
       "      <td>1.307533</td>\n",
       "      <td>1.637432</td>\n",
       "      <td>0.661955</td>\n",
       "      <td>5.141949</td>\n",
       "      <td>00:41</td>\n",
       "    </tr>\n",
       "    <tr>\n",
       "      <td>10</td>\n",
       "      <td>1.178919</td>\n",
       "      <td>1.557057</td>\n",
       "      <td>0.682484</td>\n",
       "      <td>4.744835</td>\n",
       "      <td>00:41</td>\n",
       "    </tr>\n",
       "    <tr>\n",
       "      <td>11</td>\n",
       "      <td>1.065290</td>\n",
       "      <td>1.451609</td>\n",
       "      <td>0.706912</td>\n",
       "      <td>4.269981</td>\n",
       "      <td>00:42</td>\n",
       "    </tr>\n",
       "    <tr>\n",
       "      <td>12</td>\n",
       "      <td>0.948260</td>\n",
       "      <td>1.375827</td>\n",
       "      <td>0.726989</td>\n",
       "      <td>3.958350</td>\n",
       "      <td>00:42</td>\n",
       "    </tr>\n",
       "    <tr>\n",
       "      <td>13</td>\n",
       "      <td>0.861903</td>\n",
       "      <td>1.296174</td>\n",
       "      <td>0.747733</td>\n",
       "      <td>3.655286</td>\n",
       "      <td>00:41</td>\n",
       "    </tr>\n",
       "    <tr>\n",
       "      <td>14</td>\n",
       "      <td>0.768886</td>\n",
       "      <td>1.237016</td>\n",
       "      <td>0.764744</td>\n",
       "      <td>3.445317</td>\n",
       "      <td>00:41</td>\n",
       "    </tr>\n",
       "    <tr>\n",
       "      <td>15</td>\n",
       "      <td>0.707941</td>\n",
       "      <td>1.184008</td>\n",
       "      <td>0.778942</td>\n",
       "      <td>3.267443</td>\n",
       "      <td>00:41</td>\n",
       "    </tr>\n",
       "    <tr>\n",
       "      <td>16</td>\n",
       "      <td>0.654192</td>\n",
       "      <td>1.139983</td>\n",
       "      <td>0.791580</td>\n",
       "      <td>3.126714</td>\n",
       "      <td>00:41</td>\n",
       "    </tr>\n",
       "    <tr>\n",
       "      <td>17</td>\n",
       "      <td>0.588318</td>\n",
       "      <td>1.094537</td>\n",
       "      <td>0.805300</td>\n",
       "      <td>2.987799</td>\n",
       "      <td>00:41</td>\n",
       "    </tr>\n",
       "    <tr>\n",
       "      <td>18</td>\n",
       "      <td>0.532937</td>\n",
       "      <td>1.057880</td>\n",
       "      <td>0.816600</td>\n",
       "      <td>2.880259</td>\n",
       "      <td>00:41</td>\n",
       "    </tr>\n",
       "    <tr>\n",
       "      <td>19</td>\n",
       "      <td>0.501764</td>\n",
       "      <td>1.026302</td>\n",
       "      <td>0.825992</td>\n",
       "      <td>2.790727</td>\n",
       "      <td>00:41</td>\n",
       "    </tr>\n",
       "    <tr>\n",
       "      <td>20</td>\n",
       "      <td>0.472742</td>\n",
       "      <td>0.998859</td>\n",
       "      <td>0.834136</td>\n",
       "      <td>2.715181</td>\n",
       "      <td>00:41</td>\n",
       "    </tr>\n",
       "    <tr>\n",
       "      <td>21</td>\n",
       "      <td>0.441311</td>\n",
       "      <td>0.980465</td>\n",
       "      <td>0.840799</td>\n",
       "      <td>2.665695</td>\n",
       "      <td>00:41</td>\n",
       "    </tr>\n",
       "    <tr>\n",
       "      <td>22</td>\n",
       "      <td>0.405172</td>\n",
       "      <td>0.962468</td>\n",
       "      <td>0.846261</td>\n",
       "      <td>2.618150</td>\n",
       "      <td>00:42</td>\n",
       "    </tr>\n",
       "    <tr>\n",
       "      <td>23</td>\n",
       "      <td>0.380458</td>\n",
       "      <td>0.947416</td>\n",
       "      <td>0.850589</td>\n",
       "      <td>2.579038</td>\n",
       "      <td>00:41</td>\n",
       "    </tr>\n",
       "    <tr>\n",
       "      <td>24</td>\n",
       "      <td>0.370818</td>\n",
       "      <td>0.938979</td>\n",
       "      <td>0.853528</td>\n",
       "      <td>2.557369</td>\n",
       "      <td>00:42</td>\n",
       "    </tr>\n",
       "    <tr>\n",
       "      <td>25</td>\n",
       "      <td>0.350313</td>\n",
       "      <td>0.930703</td>\n",
       "      <td>0.856043</td>\n",
       "      <td>2.536291</td>\n",
       "      <td>00:41</td>\n",
       "    </tr>\n",
       "    <tr>\n",
       "      <td>26</td>\n",
       "      <td>0.339162</td>\n",
       "      <td>0.927645</td>\n",
       "      <td>0.857654</td>\n",
       "      <td>2.528547</td>\n",
       "      <td>00:42</td>\n",
       "    </tr>\n",
       "    <tr>\n",
       "      <td>27</td>\n",
       "      <td>0.334950</td>\n",
       "      <td>0.925399</td>\n",
       "      <td>0.858229</td>\n",
       "      <td>2.522874</td>\n",
       "      <td>00:41</td>\n",
       "    </tr>\n",
       "    <tr>\n",
       "      <td>28</td>\n",
       "      <td>0.327720</td>\n",
       "      <td>0.924743</td>\n",
       "      <td>0.858515</td>\n",
       "      <td>2.521221</td>\n",
       "      <td>00:41</td>\n",
       "    </tr>\n",
       "    <tr>\n",
       "      <td>29</td>\n",
       "      <td>0.323885</td>\n",
       "      <td>0.924550</td>\n",
       "      <td>0.858537</td>\n",
       "      <td>2.520734</td>\n",
       "      <td>00:41</td>\n",
       "    </tr>\n",
       "  </tbody>\n",
       "</table>"
      ],
      "text/plain": [
       "<IPython.core.display.HTML object>"
      ]
     },
     "metadata": {},
     "output_type": "display_data"
    }
   ],
   "source": [
    "# train language model until we get to about 85% accuracy\n",
    "# each epoch takes about 1 minute\n",
    "lm_learn.unfreeze()\n",
    "lm_learn.fit_one_cycle(30, 2e-3)"
   ]
  },
  {
   "cell_type": "code",
   "execution_count": 19,
   "metadata": {
    "id": "eefe4759"
   },
   "outputs": [],
   "source": [
    "lm_learn.save_encoder('lm_finetuned')"
   ]
  },
  {
   "cell_type": "code",
   "execution_count": 20,
   "metadata": {
    "id": "8c9fsBZLaf0n"
   },
   "outputs": [
    {
     "name": "stdout",
     "output_type": "stream",
     "text": [
      "Object ` lm_learn.load()` not found.\n"
     ]
    }
   ],
   "source": [
    "? lm_learn.load()"
   ]
  },
  {
   "cell_type": "code",
   "execution_count": 22,
   "metadata": {
    "colab": {
     "base_uri": "https://localhost:8080/",
     "height": 434
    },
    "id": "At6weoaoZYF7",
    "outputId": "ce599b19-ea7c-4a3a-af26-e02462674d7e"
   },
   "outputs": [],
   "source": [
    "# can load with\n",
    "# lm_learn = lm_learn.load('lm_finetuned')"
   ]
  },
  {
   "cell_type": "markdown",
   "metadata": {
    "id": "deab493b"
   },
   "source": [
    "## Now build a text classifier\n",
    "\n",
    "Now that we have finetuned a language model based on our actual text let's build a classifier to identify the medical specialty of the transcription notes. As shown previously in this dataset, some specialties are more represented than others. Split data such that training and testing data sets are balanced based on specialty."
   ]
  },
  {
   "cell_type": "markdown",
   "metadata": {
    "id": "Guc4aZ7p3ZlE"
   },
   "source": [
    "A note on data cleanup: In the best case, a machine learning model can only be as good as the data provided. If data is of poor quality or labels are inconsistent, it will be difficult to get good accuracy with your model.\n",
    "\n",
    "Let's review the really short transcription notes."
   ]
  },
  {
   "cell_type": "code",
   "execution_count": 23,
   "metadata": {
    "id": "JvUEN8FX3ZlF"
   },
   "outputs": [],
   "source": [
    "word_len = mtsamples.transcription.str.split(' ').str.len()"
   ]
  },
  {
   "cell_type": "code",
   "execution_count": 24,
   "metadata": {
    "id": "Ar_jI-F-3ZlG"
   },
   "outputs": [],
   "source": [
    "mtsamples['num_words'] =  mtsamples.transcription.str.split(' ').str.len()"
   ]
  },
  {
   "cell_type": "code",
   "execution_count": 25,
   "metadata": {
    "colab": {
     "base_uri": "https://localhost:8080/"
    },
    "id": "OJqgRSzj3ZlG",
    "outputId": "60693f64-9fbd-43d8-a394-fe4f3d31a833"
   },
   "outputs": [
    {
     "data": {
      "text/plain": [
       "425.0"
      ]
     },
     "execution_count": 25,
     "metadata": {},
     "output_type": "execute_result"
    }
   ],
   "source": [
    "word_len.median()"
   ]
  },
  {
   "cell_type": "code",
   "execution_count": 26,
   "metadata": {
    "colab": {
     "base_uri": "https://localhost:8080/"
    },
    "id": "xO6hjbNr3ZlJ",
    "outputId": "6aa54ed4-4034-40f9-fe36-92f6f34d86d1"
   },
   "outputs": [
    {
     "data": {
      "text/plain": [
       "1.0"
      ]
     },
     "execution_count": 26,
     "metadata": {},
     "output_type": "execute_result"
    }
   ],
   "source": [
    "word_len.min()"
   ]
  },
  {
   "cell_type": "code",
   "execution_count": 27,
   "metadata": {
    "colab": {
     "base_uri": "https://localhost:8080/"
    },
    "id": "YAWiEULq3ZlK",
    "outputId": "f4528e78-bf11-445a-ed93-fcb828992af3"
   },
   "outputs": [
    {
     "data": {
      "text/plain": [
       "333.8242317381962"
      ]
     },
     "execution_count": 27,
     "metadata": {},
     "output_type": "execute_result"
    }
   ],
   "source": [
    "word_len.std()"
   ]
  },
  {
   "cell_type": "code",
   "execution_count": 28,
   "metadata": {
    "colab": {
     "base_uri": "https://localhost:8080/",
     "height": 380
    },
    "id": "ruL0DdHa3ZlL",
    "outputId": "a22df425-0af5-46c0-9fd5-6f9e1ab6198e"
   },
   "outputs": [
    {
     "name": "stdout",
     "output_type": "stream",
     "text": [
      "There are 16 records with short notes.\n"
     ]
    },
    {
     "data": {
      "text/html": [
       "<div>\n",
       "<style scoped>\n",
       "    .dataframe tbody tr th:only-of-type {\n",
       "        vertical-align: middle;\n",
       "    }\n",
       "\n",
       "    .dataframe tbody tr th {\n",
       "        vertical-align: top;\n",
       "    }\n",
       "\n",
       "    .dataframe thead th {\n",
       "        text-align: right;\n",
       "    }\n",
       "</style>\n",
       "<table border=\"1\" class=\"dataframe\">\n",
       "  <thead>\n",
       "    <tr style=\"text-align: right;\">\n",
       "      <th></th>\n",
       "      <th>Unnamed: 0</th>\n",
       "      <th>description</th>\n",
       "      <th>medical_specialty</th>\n",
       "      <th>sample_name</th>\n",
       "      <th>transcription</th>\n",
       "      <th>keywords</th>\n",
       "      <th>num_words</th>\n",
       "    </tr>\n",
       "  </thead>\n",
       "  <tbody>\n",
       "    <tr>\n",
       "      <th>24</th>\n",
       "      <td>24</td>\n",
       "      <td>Blood in urine - Transitional cell cancer of the bladder.</td>\n",
       "      <td>Urology</td>\n",
       "      <td>Urology Consut - 1</td>\n",
       "      <td>CHIEF COMPLAINT:,</td>\n",
       "      <td>NaN</td>\n",
       "      <td>2.0</td>\n",
       "    </tr>\n",
       "    <tr>\n",
       "      <th>872</th>\n",
       "      <td>872</td>\n",
       "      <td>EGD with dilation for dysphagia.</td>\n",
       "      <td>Surgery</td>\n",
       "      <td>EGD with Dilation</td>\n",
       "      <td>INDICATION:  ,</td>\n",
       "      <td>surgery, egd, hurricaine spray, olympus endoscope, savary wire, cricopharyngeus, decubitus, dilator, duodenum, dysphagia, esophagus, hiatal hernia, peptic, pylorus, stomach, tortuosity, egd with dilation, tortuous, scope, hiatal, hernia,</td>\n",
       "      <td>3.0</td>\n",
       "    </tr>\n",
       "    <tr>\n",
       "      <th>1379</th>\n",
       "      <td>1379</td>\n",
       "      <td>Sample progress note - Gen Med.</td>\n",
       "      <td>SOAP / Chart / Progress Notes</td>\n",
       "      <td>Gen Med SOAP - 1</td>\n",
       "      <td>SUBJECTIVE:,</td>\n",
       "      <td>soap / chart / progress notes, progress note, clear to auscultation, s1, s2, s3, s4, blood pressure, clubbing, cyanosis, general medicine, peripheral edema, rubs, tenderness, abdomen, pressure, soap, blood</td>\n",
       "      <td>1.0</td>\n",
       "    </tr>\n",
       "    <tr>\n",
       "      <th>1525</th>\n",
       "      <td>1525</td>\n",
       "      <td>Dobutrex stress test for abnormal EKG</td>\n",
       "      <td>Radiology</td>\n",
       "      <td>Stress Test Dobutrex</td>\n",
       "      <td>INDICATIONS:,</td>\n",
       "      <td>radiology, dobutrex stress test, abnormal ekg, dobutrex, inferior abnormality, ischemic heart disease, ventricle, µg/kg/minute, stress test, stress,</td>\n",
       "      <td>1.0</td>\n",
       "    </tr>\n",
       "    <tr>\n",
       "      <th>1949</th>\n",
       "      <td>1949</td>\n",
       "      <td>Trigger Point Injection.  The area over the myofascial spasm was prepped with alcohol utilizing sterile technique.</td>\n",
       "      <td>Pain Management</td>\n",
       "      <td>Trigger Point Injection</td>\n",
       "      <td>OPERATION:,</td>\n",
       "      <td>pain management, myofascial spasm, trigger point injection, trigger, injection, spasm</td>\n",
       "      <td>1.0</td>\n",
       "    </tr>\n",
       "  </tbody>\n",
       "</table>\n",
       "</div>"
      ],
      "text/plain": [
       "      Unnamed: 0  \\\n",
       "24            24   \n",
       "872          872   \n",
       "1379        1379   \n",
       "1525        1525   \n",
       "1949        1949   \n",
       "\n",
       "                                                                                                             description  \\\n",
       "24                                                             Blood in urine - Transitional cell cancer of the bladder.   \n",
       "872                                                                                     EGD with dilation for dysphagia.   \n",
       "1379                                                                                     Sample progress note - Gen Med.   \n",
       "1525                                                                               Dobutrex stress test for abnormal EKG   \n",
       "1949  Trigger Point Injection.  The area over the myofascial spasm was prepped with alcohol utilizing sterile technique.   \n",
       "\n",
       "                  medical_specialty              sample_name  \\\n",
       "24                          Urology       Urology Consut - 1   \n",
       "872                         Surgery        EGD with Dilation   \n",
       "1379  SOAP / Chart / Progress Notes         Gen Med SOAP - 1   \n",
       "1525                      Radiology     Stress Test Dobutrex   \n",
       "1949                Pain Management  Trigger Point Injection   \n",
       "\n",
       "          transcription  \\\n",
       "24    CHIEF COMPLAINT:,   \n",
       "872      INDICATION:  ,   \n",
       "1379       SUBJECTIVE:,   \n",
       "1525      INDICATIONS:,   \n",
       "1949        OPERATION:,   \n",
       "\n",
       "                                                                                                                                                                                                                                           keywords  \\\n",
       "24                                                                                                                                                                                                                                              NaN   \n",
       "872   surgery, egd, hurricaine spray, olympus endoscope, savary wire, cricopharyngeus, decubitus, dilator, duodenum, dysphagia, esophagus, hiatal hernia, peptic, pylorus, stomach, tortuosity, egd with dilation, tortuous, scope, hiatal, hernia,   \n",
       "1379                                  soap / chart / progress notes, progress note, clear to auscultation, s1, s2, s3, s4, blood pressure, clubbing, cyanosis, general medicine, peripheral edema, rubs, tenderness, abdomen, pressure, soap, blood   \n",
       "1525                                                                                           radiology, dobutrex stress test, abnormal ekg, dobutrex, inferior abnormality, ischemic heart disease, ventricle, µg/kg/minute, stress test, stress,   \n",
       "1949                                                                                                                                                          pain management, myofascial spasm, trigger point injection, trigger, injection, spasm   \n",
       "\n",
       "      num_words  \n",
       "24          2.0  \n",
       "872         3.0  \n",
       "1379        1.0  \n",
       "1525        1.0  \n",
       "1949        1.0  "
      ]
     },
     "execution_count": 28,
     "metadata": {},
     "output_type": "execute_result"
    }
   ],
   "source": [
    "print(f\"There are {len(mtsamples[mtsamples['num_words'] < 5])} records with short notes.\")\n",
    "mtsamples[mtsamples['num_words'] < 5].head()"
   ]
  },
  {
   "cell_type": "code",
   "execution_count": 29,
   "metadata": {
    "id": "141ugTdB3ZlM"
   },
   "outputs": [],
   "source": [
    "# keep transcripts with 5 or more words\n",
    "mtsamples = mtsamples[mtsamples['num_words'] >= 5]"
   ]
  },
  {
   "cell_type": "code",
   "execution_count": 30,
   "metadata": {
    "colab": {
     "base_uri": "https://localhost:8080/"
    },
    "id": "DR5DkABr3ZlN",
    "outputId": "3d602ffc-faaa-444e-e5bd-030805d14c2f"
   },
   "outputs": [
    {
     "data": {
      "text/plain": [
       "Surgery                          1087\n",
       "Consult - History and Phy.        515\n",
       "Cardiovascular / Pulmonary        370\n",
       "Orthopedic                        352\n",
       "Radiology                         272\n",
       "General Medicine                  258\n",
       "Neurology                         223\n",
       "Gastroenterology                  223\n",
       "SOAP / Chart / Progress Notes     165\n",
       "Obstetrics / Gynecology           155\n",
       "Urology                           155\n",
       "Discharge Summary                 108\n",
       "ENT - Otolaryngology               96\n",
       "Neurosurgery                       94\n",
       "Hematology - Oncology              90\n",
       "Ophthalmology                      83\n",
       "Nephrology                         81\n",
       "Emergency Room Reports             75\n",
       "Pediatrics - Neonatal              70\n",
       "Pain Management                    59\n",
       "Psychiatry / Psychology            53\n",
       "Office Notes                       48\n",
       "Podiatry                           47\n",
       "Dermatology                        29\n",
       "Cosmetic / Plastic Surgery         27\n",
       "Dentistry                          27\n",
       "Letters                            23\n",
       "Physical Medicine - Rehab          21\n",
       "Sleep Medicine                     20\n",
       "Endocrinology                      19\n",
       "Bariatrics                         18\n",
       "IME-QME-Work Comp etc.             16\n",
       "Chiropractic                       13\n",
       "Rheumatology                       10\n",
       "Diets and Nutritions               10\n",
       "Speech - Language                   9\n",
       "Lab Medicine - Pathology            8\n",
       "Autopsy                             8\n",
       "Allergy / Immunology                7\n",
       "Hospice - Palliative Care           6\n",
       "Name: medical_specialty, dtype: int64"
      ]
     },
     "execution_count": 30,
     "metadata": {},
     "output_type": "execute_result"
    }
   ],
   "source": [
    "mtsamples.medical_specialty.value_counts()"
   ]
  },
  {
   "cell_type": "markdown",
   "metadata": {
    "id": "zsfjAtHS3ZlO"
   },
   "source": [
    "All machine learning models require a few examples to be able to train from. In this dataset, we will combine those categories with less than 50 examples into an 'Other' category. Later those more rare categories can be dealt with separately."
   ]
  },
  {
   "cell_type": "code",
   "execution_count": 31,
   "metadata": {
    "id": "yFkGwy8V3ZlP"
   },
   "outputs": [],
   "source": [
    "mtsamples['counts'] = mtsamples.groupby(['medical_specialty'])['transcription'].transform('count')"
   ]
  },
  {
   "cell_type": "code",
   "execution_count": 32,
   "metadata": {
    "colab": {
     "base_uri": "https://localhost:8080/",
     "height": 727
    },
    "id": "JSdGgdjxv2I9",
    "outputId": "00cf8d8b-711f-440f-b9e1-320f2ee2886e"
   },
   "outputs": [
    {
     "data": {
      "text/html": [
       "<div>\n",
       "<style scoped>\n",
       "    .dataframe tbody tr th:only-of-type {\n",
       "        vertical-align: middle;\n",
       "    }\n",
       "\n",
       "    .dataframe tbody tr th {\n",
       "        vertical-align: top;\n",
       "    }\n",
       "\n",
       "    .dataframe thead th {\n",
       "        text-align: right;\n",
       "    }\n",
       "</style>\n",
       "<table border=\"1\" class=\"dataframe\">\n",
       "  <thead>\n",
       "    <tr style=\"text-align: right;\">\n",
       "      <th></th>\n",
       "      <th>Unnamed: 0</th>\n",
       "      <th>description</th>\n",
       "      <th>medical_specialty</th>\n",
       "      <th>sample_name</th>\n",
       "      <th>transcription</th>\n",
       "      <th>keywords</th>\n",
       "      <th>num_words</th>\n",
       "      <th>counts</th>\n",
       "    </tr>\n",
       "  </thead>\n",
       "  <tbody>\n",
       "    <tr>\n",
       "      <th>0</th>\n",
       "      <td>0</td>\n",
       "      <td>A 23-year-old white female presents with complaint of allergies.</td>\n",
       "      <td>Allergy / Immunology</td>\n",
       "      <td>Allergic Rhinitis</td>\n",
       "      <td>SUBJECTIVE:,  This 23-year-old white female presents with complaint of allergies.  She used to have allergies when she lived in Seattle but she thinks they are worse here.  In the past, she has tried Claritin, and Zyrtec.  Both worked for short time but then seemed to lose effectiveness.  She has used Allegra also.  She used that last summer and she began using it again two weeks ago.  It does not appear to be working very well.  She has used over-the-counter sprays but no prescription nasal sprays.  She does have asthma but doest not require daily medication for this and does not think it...</td>\n",
       "      <td>allergy / immunology, allergic rhinitis, allergies, asthma, nasal sprays, rhinitis, nasal, erythematous, allegra, sprays, allergic,</td>\n",
       "      <td>226.0</td>\n",
       "      <td>7</td>\n",
       "    </tr>\n",
       "    <tr>\n",
       "      <th>1</th>\n",
       "      <td>1</td>\n",
       "      <td>Consult for laparoscopic gastric bypass.</td>\n",
       "      <td>Bariatrics</td>\n",
       "      <td>Laparoscopic Gastric Bypass Consult - 2</td>\n",
       "      <td>PAST MEDICAL HISTORY:, He has difficulty climbing stairs, difficulty with airline seats, tying shoes, used to public seating, and lifting objects off the floor.  He exercises three times a week at home and does cardio.  He has difficulty walking two blocks or five flights of stairs.  Difficulty with snoring.  He has muscle and joint pains including knee pain, back pain, foot and ankle pain, and swelling.  He has gastroesophageal reflux disease.,PAST SURGICAL HISTORY:, Includes reconstructive surgery on his right hand 13 years ago.  ,SOCIAL HISTORY:, He is currently single.  He has about te...</td>\n",
       "      <td>bariatrics, laparoscopic gastric bypass, weight loss programs, gastric bypass, atkin's diet, weight watcher's, body weight, laparoscopic gastric, weight loss, pounds, months, weight, laparoscopic, band, loss, diets, overweight, lost</td>\n",
       "      <td>375.0</td>\n",
       "      <td>18</td>\n",
       "    </tr>\n",
       "    <tr>\n",
       "      <th>2</th>\n",
       "      <td>2</td>\n",
       "      <td>Consult for laparoscopic gastric bypass.</td>\n",
       "      <td>Bariatrics</td>\n",
       "      <td>Laparoscopic Gastric Bypass Consult - 1</td>\n",
       "      <td>HISTORY OF PRESENT ILLNESS: , I have seen ABC today.  He is a very pleasant gentleman who is 42 years old, 344 pounds.  He is 5'9\".  He has a BMI of 51.  He has been overweight for ten years since the age of 33, at his highest he was 358 pounds, at his lowest 260.  He is pursuing surgical attempts of weight loss to feel good, get healthy, and begin to exercise again.  He wants to be able to exercise and play volleyball.  Physically, he is sluggish.  He gets tired quickly.  He does not go out often.  When he loses weight he always regains it and he gains back more than he lost.  His biggest...</td>\n",
       "      <td>bariatrics, laparoscopic gastric bypass, heart attacks, body weight, pulmonary embolism, potential complications, sleep study, weight loss, gastric bypass, anastomosis, loss, sleep, laparoscopic, gastric, bypass, heart, pounds, weight,</td>\n",
       "      <td>774.0</td>\n",
       "      <td>18</td>\n",
       "    </tr>\n",
       "    <tr>\n",
       "      <th>3</th>\n",
       "      <td>3</td>\n",
       "      <td>2-D M-Mode. Doppler.</td>\n",
       "      <td>Cardiovascular / Pulmonary</td>\n",
       "      <td>2-D Echocardiogram - 1</td>\n",
       "      <td>2-D M-MODE: , ,1.  Left atrial enlargement with left atrial diameter of 4.7 cm.,2.  Normal size right and left ventricle.,3.  Normal LV systolic function with left ventricular ejection fraction of 51%.,4.  Normal LV diastolic function.,5.  No pericardial effusion.,6.  Normal morphology of aortic valve, mitral valve, tricuspid valve, and pulmonary valve.,7.  PA systolic pressure is 36 mmHg.,DOPPLER: , ,1.  Mild mitral and tricuspid regurgitation.,2.  Trace aortic and pulmonary regurgitation.</td>\n",
       "      <td>cardiovascular / pulmonary, 2-d m-mode, doppler, aortic valve, atrial enlargement, diastolic function, ejection fraction, mitral, mitral valve, pericardial effusion, pulmonary valve, regurgitation, systolic function, tricuspid, tricuspid valve, normal lv</td>\n",
       "      <td>77.0</td>\n",
       "      <td>370</td>\n",
       "    </tr>\n",
       "    <tr>\n",
       "      <th>4</th>\n",
       "      <td>4</td>\n",
       "      <td>2-D Echocardiogram</td>\n",
       "      <td>Cardiovascular / Pulmonary</td>\n",
       "      <td>2-D Echocardiogram - 2</td>\n",
       "      <td>1.  The left ventricular cavity size and wall thickness appear normal.  The wall motion and left ventricular systolic function appears hyperdynamic with estimated ejection fraction of 70% to 75%.  There is near-cavity obliteration seen.  There also appears to be increased left ventricular outflow tract gradient at the mid cavity level consistent with hyperdynamic left ventricular systolic function.  There is abnormal left ventricular relaxation pattern seen as well as elevated left atrial pressures seen by Doppler examination.,2.  The left atrium appears mildly dilated.,3.  The right atriu...</td>\n",
       "      <td>cardiovascular / pulmonary, 2-d, doppler, echocardiogram, annular, aortic root, aortic valve, atrial, atrium, calcification, cavity, ejection fraction, mitral, obliteration, outflow, regurgitation, relaxation pattern, stenosis, systolic function, tricuspid, valve, ventricular, ventricular cavity, wall motion, pulmonary artery</td>\n",
       "      <td>246.0</td>\n",
       "      <td>370</td>\n",
       "    </tr>\n",
       "  </tbody>\n",
       "</table>\n",
       "</div>"
      ],
      "text/plain": [
       "   Unnamed: 0  \\\n",
       "0           0   \n",
       "1           1   \n",
       "2           2   \n",
       "3           3   \n",
       "4           4   \n",
       "\n",
       "                                                        description  \\\n",
       "0  A 23-year-old white female presents with complaint of allergies.   \n",
       "1                          Consult for laparoscopic gastric bypass.   \n",
       "2                          Consult for laparoscopic gastric bypass.   \n",
       "3                                              2-D M-Mode. Doppler.   \n",
       "4                                                2-D Echocardiogram   \n",
       "\n",
       "            medical_specialty                              sample_name  \\\n",
       "0        Allergy / Immunology                        Allergic Rhinitis   \n",
       "1                  Bariatrics  Laparoscopic Gastric Bypass Consult - 2   \n",
       "2                  Bariatrics  Laparoscopic Gastric Bypass Consult - 1   \n",
       "3  Cardiovascular / Pulmonary                   2-D Echocardiogram - 1   \n",
       "4  Cardiovascular / Pulmonary                   2-D Echocardiogram - 2   \n",
       "\n",
       "                                                                                                                                                                                                                                                                                                                                                                                                                                                                                                                                                                                                             transcription  \\\n",
       "0  SUBJECTIVE:,  This 23-year-old white female presents with complaint of allergies.  She used to have allergies when she lived in Seattle but she thinks they are worse here.  In the past, she has tried Claritin, and Zyrtec.  Both worked for short time but then seemed to lose effectiveness.  She has used Allegra also.  She used that last summer and she began using it again two weeks ago.  It does not appear to be working very well.  She has used over-the-counter sprays but no prescription nasal sprays.  She does have asthma but doest not require daily medication for this and does not think it...   \n",
       "1  PAST MEDICAL HISTORY:, He has difficulty climbing stairs, difficulty with airline seats, tying shoes, used to public seating, and lifting objects off the floor.  He exercises three times a week at home and does cardio.  He has difficulty walking two blocks or five flights of stairs.  Difficulty with snoring.  He has muscle and joint pains including knee pain, back pain, foot and ankle pain, and swelling.  He has gastroesophageal reflux disease.,PAST SURGICAL HISTORY:, Includes reconstructive surgery on his right hand 13 years ago.  ,SOCIAL HISTORY:, He is currently single.  He has about te...   \n",
       "2  HISTORY OF PRESENT ILLNESS: , I have seen ABC today.  He is a very pleasant gentleman who is 42 years old, 344 pounds.  He is 5'9\".  He has a BMI of 51.  He has been overweight for ten years since the age of 33, at his highest he was 358 pounds, at his lowest 260.  He is pursuing surgical attempts of weight loss to feel good, get healthy, and begin to exercise again.  He wants to be able to exercise and play volleyball.  Physically, he is sluggish.  He gets tired quickly.  He does not go out often.  When he loses weight he always regains it and he gains back more than he lost.  His biggest...   \n",
       "3                                                                                                          2-D M-MODE: , ,1.  Left atrial enlargement with left atrial diameter of 4.7 cm.,2.  Normal size right and left ventricle.,3.  Normal LV systolic function with left ventricular ejection fraction of 51%.,4.  Normal LV diastolic function.,5.  No pericardial effusion.,6.  Normal morphology of aortic valve, mitral valve, tricuspid valve, and pulmonary valve.,7.  PA systolic pressure is 36 mmHg.,DOPPLER: , ,1.  Mild mitral and tricuspid regurgitation.,2.  Trace aortic and pulmonary regurgitation.   \n",
       "4  1.  The left ventricular cavity size and wall thickness appear normal.  The wall motion and left ventricular systolic function appears hyperdynamic with estimated ejection fraction of 70% to 75%.  There is near-cavity obliteration seen.  There also appears to be increased left ventricular outflow tract gradient at the mid cavity level consistent with hyperdynamic left ventricular systolic function.  There is abnormal left ventricular relaxation pattern seen as well as elevated left atrial pressures seen by Doppler examination.,2.  The left atrium appears mildly dilated.,3.  The right atriu...   \n",
       "\n",
       "                                                                                                                                                                                                                                                                                                                                  keywords  \\\n",
       "0                                                                                                                                                                                                      allergy / immunology, allergic rhinitis, allergies, asthma, nasal sprays, rhinitis, nasal, erythematous, allegra, sprays, allergic,   \n",
       "1                                                                                                 bariatrics, laparoscopic gastric bypass, weight loss programs, gastric bypass, atkin's diet, weight watcher's, body weight, laparoscopic gastric, weight loss, pounds, months, weight, laparoscopic, band, loss, diets, overweight, lost   \n",
       "2                                                                                              bariatrics, laparoscopic gastric bypass, heart attacks, body weight, pulmonary embolism, potential complications, sleep study, weight loss, gastric bypass, anastomosis, loss, sleep, laparoscopic, gastric, bypass, heart, pounds, weight,   \n",
       "3                                                                           cardiovascular / pulmonary, 2-d m-mode, doppler, aortic valve, atrial enlargement, diastolic function, ejection fraction, mitral, mitral valve, pericardial effusion, pulmonary valve, regurgitation, systolic function, tricuspid, tricuspid valve, normal lv   \n",
       "4  cardiovascular / pulmonary, 2-d, doppler, echocardiogram, annular, aortic root, aortic valve, atrial, atrium, calcification, cavity, ejection fraction, mitral, obliteration, outflow, regurgitation, relaxation pattern, stenosis, systolic function, tricuspid, valve, ventricular, ventricular cavity, wall motion, pulmonary artery   \n",
       "\n",
       "   num_words  counts  \n",
       "0      226.0       7  \n",
       "1      375.0      18  \n",
       "2      774.0      18  \n",
       "3       77.0     370  \n",
       "4      246.0     370  "
      ]
     },
     "execution_count": 32,
     "metadata": {},
     "output_type": "execute_result"
    }
   ],
   "source": [
    "mtsamples.head()"
   ]
  },
  {
   "cell_type": "code",
   "execution_count": 33,
   "metadata": {
    "id": "V_--VeCD3ZlQ"
   },
   "outputs": [],
   "source": [
    "# for now just drop the infrequent categories\n",
    "mtsamples = mtsamples[mtsamples.counts >= 100]"
   ]
  },
  {
   "cell_type": "code",
   "execution_count": 34,
   "metadata": {
    "id": "p1fNM71Sv2I_"
   },
   "outputs": [],
   "source": [
    "# as surgery and general medicine actuallly overlap with many of the other note types, drop these\n",
    "mtsamples = mtsamples[mtsamples.medical_specialty != 'Surgery']\n",
    "mtsamples = mtsamples[mtsamples.medical_specialty != 'General Medicine']"
   ]
  },
  {
   "cell_type": "code",
   "execution_count": 35,
   "metadata": {
    "colab": {
     "base_uri": "https://localhost:8080/"
    },
    "id": "8gwpakiv3ZlQ",
    "outputId": "99839b6e-409d-4ab2-d518-35f5d3c85122"
   },
   "outputs": [
    {
     "data": {
      "text/plain": [
       "Consult - History and Phy.       515\n",
       "Cardiovascular / Pulmonary       370\n",
       "Orthopedic                       352\n",
       "Radiology                        272\n",
       "Neurology                        223\n",
       "Gastroenterology                 223\n",
       "SOAP / Chart / Progress Notes    165\n",
       "Urology                          155\n",
       "Obstetrics / Gynecology          155\n",
       "Discharge Summary                108\n",
       "Name: medical_specialty, dtype: int64"
      ]
     },
     "execution_count": 35,
     "metadata": {},
     "output_type": "execute_result"
    }
   ],
   "source": [
    "mtsamples.medical_specialty.value_counts()"
   ]
  },
  {
   "cell_type": "code",
   "execution_count": 36,
   "metadata": {
    "id": "X-iYd330luBp"
   },
   "outputs": [],
   "source": [
    "# if changes in the above were made (such as batch size), it may be beneficial to purge GPU memory\n",
    "gc.collect()\n",
    "torch.cuda.empty_cache()\n",
    "gc.collect()\n",
    "torch.cuda.empty_cache()"
   ]
  },
  {
   "cell_type": "code",
   "execution_count": 37,
   "metadata": {
    "colab": {
     "base_uri": "https://localhost:8080/",
     "height": 72
    },
    "id": "982bac9a",
    "outputId": "3a0bce24-badb-4a12-9f4d-9b6d5f4a1029"
   },
   "outputs": [
    {
     "data": {
      "text/html": [],
      "text/plain": [
       "<IPython.core.display.HTML object>"
      ]
     },
     "metadata": {},
     "output_type": "display_data"
    },
    {
     "name": "stderr",
     "output_type": "stream",
     "text": [
      "/opt/miniconda3/envs/coprh/lib/python3.7/site-packages/numpy/core/_asarray.py:83: VisibleDeprecationWarning: Creating an ndarray from ragged nested sequences (which is a list-or-tuple of lists-or-tuples-or ndarrays with different lengths or shapes) is deprecated. If you meant to do this, you must specify 'dtype=object' when creating the ndarray\n",
      "  return array(a, dtype, copy=False, order=order)\n"
     ]
    }
   ],
   "source": [
    "# this cell takes about 2 minutes to run\n",
    "dls_clas = DataBlock(\n",
    "    blocks=(TextBlock.from_df('transcription', vocab=dls_lm.vocab), CategoryBlock),\n",
    "    get_x=ColReader('text'),\n",
    "    get_y=ColReader('medical_specialty'),\n",
    "#     splitter=TrainTestSplitter(test_size=0.2,\n",
    "#                                random_state=42)\n",
    "    splitter=TrainTestSplitter(test_size=0.2,\n",
    "                               random_state=42,\n",
    "                               stratify=mtsamples.medical_specialty)\n",
    ").dataloaders(mtsamples, bs=64, seq_len=sequence_length)"
   ]
  },
  {
   "cell_type": "code",
   "execution_count": 38,
   "metadata": {
    "colab": {
     "base_uri": "https://localhost:8080/",
     "height": 467
    },
    "id": "e62acb3b",
    "outputId": "84c881b5-f15c-46a3-d5ab-280ffe4e3e68"
   },
   "outputs": [
    {
     "data": {
      "text/html": [
       "<table border=\"1\" class=\"dataframe\">\n",
       "  <thead>\n",
       "    <tr style=\"text-align: right;\">\n",
       "      <th></th>\n",
       "      <th>text</th>\n",
       "      <th>category</th>\n",
       "    </tr>\n",
       "  </thead>\n",
       "  <tbody>\n",
       "    <tr>\n",
       "      <th>0</th>\n",
       "      <td>xxbos xxup history xxup of xxup present xxup illness : , the patient is a 79 - year - old right - handed man who reports that approximately one and a half years ago , he fell down while walking in the living room from the bedroom . xxmaj at that time , he reports both legs gave away on him and he fell . xxmaj he reported that he had some lightheadedness just before he fell and was slightly confused , but was aware of what was happening around him . xxmaj he was able to get up shortly after falling and according to the patient and his son , subsequently returned back to normal . ,he was then well until the 3rd of xxmaj july 2008 when his legs again gave way on him . xxmaj this was not preceded by lightheadedness . xxmaj he was rushed to</td>\n",
       "      <td>Consult - History and Phy.</td>\n",
       "    </tr>\n",
       "    <tr>\n",
       "      <th>1</th>\n",
       "      <td>xxbos xxup history xxup of xxup present xxup illness : , the patient is a 79 - year - old right - handed man who reports that approximately one and a half years ago , he fell down while walking in the living room from the bedroom . xxmaj at that time , he reports both legs gave away on him and he fell . xxmaj he reported that he had some lightheadedness just before he fell and was slightly confused , but was aware of what was happening around him . xxmaj he was able to get up shortly after falling and according to the patient and his son , subsequently returned back to normal . ,he was then well until the 3rd of xxmaj july 2008 when his legs again gave way on him . xxmaj this was not preceded by lightheadedness . xxmaj he was rushed to</td>\n",
       "      <td>Neurology</td>\n",
       "    </tr>\n",
       "    <tr>\n",
       "      <th>2</th>\n",
       "      <td>xxbos xxup preoperative xxup diagnoses:,1 . xxmaj hallux abductovalgus , right foot . ,2 . xxmaj hammer toe , right foot , second , third , fourth and fifth toes . ,3 . xxmaj tailor 's bunionette , right foot . ,4 . xxmaj degenerative joint disease , right first metatarsophalangeal joint . ,5 . xxmaj rheumatoid arthritis . ,6 . xxmaj contracted fourth right metatarsophalangeal joint . ,postoperative xxup diagnoses:,1 . xxmaj hallux abductovalgus , right foot . ,2 . xxmaj hammer toe , right foot , second , third , fourth and fifth toes . ,3 . xxmaj tailor 's bunionette , right foot . ,4 . xxmaj degenerative joint disease , right first metatarsophalangeal joint . ,5 . xxmaj rheumatoid arthritis . ,6 . xxmaj contracted fourth right metatarsophalangeal joint . ,procedures xxup performed:,1 . xxmaj bunionectomy , right foot with xxmaj biopro hemi implant , right</td>\n",
       "      <td>Orthopedic</td>\n",
       "    </tr>\n",
       "    <tr>\n",
       "      <th>3</th>\n",
       "      <td>xxbos xxup reason xxup for xxup referral : , xxmaj the patient is a 58 - year - old african - american right - handed female with 16 years of education who was referred for a neuropsychological evaluation by xxmaj dr . xxup x. xxmaj she is presenting for a second opinion following a recent neuropsychological evaluation that was ordered by her former place of employment that suggested that she was in the \" early stages of a likely dementia \" and was thereafter terminated from her position as a psychiatric nurse . a comprehensive evaluation was requested to assess current cognitive functioning and assist with diagnostic decisions and treatment planning . xxmaj note that this evaluation was undertaken as a clinical exam and intended for the purposes of aiding with treatment planning . xxmaj the patient was fully informed about the nature of this evaluation and intended use of</td>\n",
       "      <td>Consult - History and Phy.</td>\n",
       "    </tr>\n",
       "    <tr>\n",
       "      <th>4</th>\n",
       "      <td>xxbos xxup preoperative xxup diagnoses:,1 . xxmaj clinical stage xxup t2 , xxup nx , xxup mx transitional cell carcinoma of the urinary bladder , status post chemotherapy and radiation therapy . ,2 . xxmaj new right hydronephrosis . ,postoperative xxup diagnoses:,1 . xxmaj clinical stage xxmaj xxunk , xxup n3 , xxup m1 transitional cell carcinoma of the urinary bladder , status post chemotherapy and radiation therapy . ,2 . xxmaj new right hydronephrosis . ,3 . xxmaj carcinoid tumor of the small bowel . ,title xxup of xxup operation : , xxmaj exploratory laparotomy , resection of small bowel lesion , biopsy of small bowel mesentery , bilateral extended pelvic and iliac lymphadenectomy ( including xxunk and precaval , bilateral common iliac , presacral , bilateral external iliac lymph nodes ) , salvage radical cystoprostatectomy ( very difficult due to previous chemotherapy and radiation therapy ) , and</td>\n",
       "      <td>Urology</td>\n",
       "    </tr>\n",
       "  </tbody>\n",
       "</table>"
      ],
      "text/plain": [
       "<IPython.core.display.HTML object>"
      ]
     },
     "metadata": {},
     "output_type": "display_data"
    }
   ],
   "source": [
    "dls_clas.show_batch(max_n=5)"
   ]
  },
  {
   "cell_type": "code",
   "execution_count": 39,
   "metadata": {
    "id": "ac12345f"
   },
   "outputs": [],
   "source": [
    "learn = text_classifier_learner(\n",
    "    dls_clas,\n",
    "    AWD_LSTM,\n",
    "    drop_mult=0.7, # if this is too low, validation loss does not improve with more training\n",
    "    metrics=accuracy,\n",
    "    model_dir=model_path).to_fp16()\n",
    "# Without .to_fp16() requires more memory, takes about 2x - 3x time to train\n",
    "# Accuracy is essentially unchanged with or without .to_fp16()"
   ]
  },
  {
   "cell_type": "code",
   "execution_count": 40,
   "metadata": {
    "id": "8c2a043a"
   },
   "outputs": [],
   "source": [
    "# load the encoder used for the language model - must be the same to build off language model.\n",
    "learn = learn.load_encoder('lm_finetuned')"
   ]
  },
  {
   "cell_type": "code",
   "execution_count": 41,
   "metadata": {
    "colab": {
     "base_uri": "https://localhost:8080/",
     "height": 306
    },
    "id": "eMmosjDCzBT2",
    "outputId": "45ef15db-0c73-4ae2-c3f3-16979b8513be"
   },
   "outputs": [
    {
     "data": {
      "text/html": [],
      "text/plain": [
       "<IPython.core.display.HTML object>"
      ]
     },
     "metadata": {},
     "output_type": "display_data"
    },
    {
     "data": {
      "text/plain": [
       "SuggestedLRs(lr_min=0.03019951581954956, lr_steep=0.033113110810518265)"
      ]
     },
     "execution_count": 41,
     "metadata": {},
     "output_type": "execute_result"
    },
    {
     "data": {
      "image/png": "[encoded data removed]",
      "text/plain": [
       "<Figure size 432x288 with 1 Axes>"
      ]
     },
     "metadata": {
      "needs_background": "light"
     },
     "output_type": "display_data"
    }
   ],
   "source": [
    "# attempt to find a decent learning rate for this dataset\n",
    "learn.lr_find()"
   ]
  },
  {
   "cell_type": "code",
   "execution_count": 42,
   "metadata": {
    "colab": {
     "base_uri": "https://localhost:8080/",
     "height": 81
    },
    "id": "e3b92d1a",
    "outputId": "280feb33-b73f-46cb-8eb3-ad21ceee822e"
   },
   "outputs": [
    {
     "data": {
      "text/html": [
       "<table border=\"1\" class=\"dataframe\">\n",
       "  <thead>\n",
       "    <tr style=\"text-align: left;\">\n",
       "      <th>epoch</th>\n",
       "      <th>train_loss</th>\n",
       "      <th>valid_loss</th>\n",
       "      <th>accuracy</th>\n",
       "      <th>time</th>\n",
       "    </tr>\n",
       "  </thead>\n",
       "  <tbody>\n",
       "    <tr>\n",
       "      <td>0</td>\n",
       "      <td>2.051529</td>\n",
       "      <td>1.184890</td>\n",
       "      <td>0.580709</td>\n",
       "      <td>00:08</td>\n",
       "    </tr>\n",
       "  </tbody>\n",
       "</table>"
      ],
      "text/plain": [
       "<IPython.core.display.HTML object>"
      ]
     },
     "metadata": {},
     "output_type": "display_data"
    }
   ],
   "source": [
    "learn.fit_one_cycle(1, 4e-1)"
   ]
  },
  {
   "cell_type": "code",
   "execution_count": 43,
   "metadata": {
    "colab": {
     "base_uri": "https://localhost:8080/"
    },
    "id": "3a1pZpOB0KsU",
    "outputId": "1dff46dc-0f0e-46e7-ed55-4d325cf6b2de"
   },
   "outputs": [
    {
     "data": {
      "text/plain": [
       "Path('/home/sethr/coprh-nlp-2021/models/class_part_1.pth')"
      ]
     },
     "execution_count": 43,
     "metadata": {},
     "output_type": "execute_result"
    }
   ],
   "source": [
    "learn.save('class_part_1')"
   ]
  },
  {
   "cell_type": "code",
   "execution_count": 44,
   "metadata": {
    "id": "39C2w0Pzv2JB"
   },
   "outputs": [],
   "source": [
    "# learn = learn.load('class_part_1')"
   ]
  },
  {
   "cell_type": "code",
   "execution_count": 45,
   "metadata": {
    "colab": {
     "base_uri": "https://localhost:8080/",
     "height": 81
    },
    "id": "8mYtXu2nvhat",
    "outputId": "8e0e19ba-c82b-484d-d4cb-1a49696b808f"
   },
   "outputs": [
    {
     "data": {
      "text/html": [
       "<table border=\"1\" class=\"dataframe\">\n",
       "  <thead>\n",
       "    <tr style=\"text-align: left;\">\n",
       "      <th>epoch</th>\n",
       "      <th>train_loss</th>\n",
       "      <th>valid_loss</th>\n",
       "      <th>accuracy</th>\n",
       "      <th>time</th>\n",
       "    </tr>\n",
       "  </thead>\n",
       "  <tbody>\n",
       "    <tr>\n",
       "      <td>0</td>\n",
       "      <td>1.145597</td>\n",
       "      <td>1.294086</td>\n",
       "      <td>0.600394</td>\n",
       "      <td>00:09</td>\n",
       "    </tr>\n",
       "  </tbody>\n",
       "</table>"
      ],
      "text/plain": [
       "<IPython.core.display.HTML object>"
      ]
     },
     "metadata": {},
     "output_type": "display_data"
    }
   ],
   "source": [
    "learn.freeze_to(-2)\n",
    "learn.fit_one_cycle(1, slice(3e-2/(2.6**4),3e-2))"
   ]
  },
  {
   "cell_type": "code",
   "execution_count": 46,
   "metadata": {
    "colab": {
     "base_uri": "https://localhost:8080/"
    },
    "id": "majRrG7C0SKJ",
    "outputId": "0ab615bf-a860-4968-a91f-c807bf06b532"
   },
   "outputs": [
    {
     "data": {
      "text/plain": [
       "Path('/home/sethr/coprh-nlp-2021/models/class_part_2.pth')"
      ]
     },
     "execution_count": 46,
     "metadata": {},
     "output_type": "execute_result"
    }
   ],
   "source": [
    "learn.save('class_part_2')"
   ]
  },
  {
   "cell_type": "code",
   "execution_count": 47,
   "metadata": {
    "id": "alTIPZaqv2JD"
   },
   "outputs": [],
   "source": [
    "# learn = learn.load('class_part_2')"
   ]
  },
  {
   "cell_type": "code",
   "execution_count": 48,
   "metadata": {
    "colab": {
     "base_uri": "https://localhost:8080/",
     "height": 81
    },
    "id": "prnKbBnZvnwr",
    "outputId": "c5c1ae08-15fc-44da-8902-e427efb5a6b6"
   },
   "outputs": [
    {
     "data": {
      "text/html": [
       "<table border=\"1\" class=\"dataframe\">\n",
       "  <thead>\n",
       "    <tr style=\"text-align: left;\">\n",
       "      <th>epoch</th>\n",
       "      <th>train_loss</th>\n",
       "      <th>valid_loss</th>\n",
       "      <th>accuracy</th>\n",
       "      <th>time</th>\n",
       "    </tr>\n",
       "  </thead>\n",
       "  <tbody>\n",
       "    <tr>\n",
       "      <td>0</td>\n",
       "      <td>0.991994</td>\n",
       "      <td>3.249447</td>\n",
       "      <td>0.610236</td>\n",
       "      <td>00:10</td>\n",
       "    </tr>\n",
       "  </tbody>\n",
       "</table>"
      ],
      "text/plain": [
       "<IPython.core.display.HTML object>"
      ]
     },
     "metadata": {},
     "output_type": "display_data"
    }
   ],
   "source": [
    "learn.freeze_to(-3)\n",
    "learn.fit_one_cycle(1, slice(5e-3/(2.6**4),5e-3))"
   ]
  },
  {
   "cell_type": "code",
   "execution_count": 49,
   "metadata": {
    "colab": {
     "base_uri": "https://localhost:8080/"
    },
    "id": "aJkDmun-0T5z",
    "outputId": "612dce85-9924-4a4a-fd80-580fbec1777c"
   },
   "outputs": [
    {
     "data": {
      "text/plain": [
       "Path('/home/sethr/coprh-nlp-2021/models/class_part_3.pth')"
      ]
     },
     "execution_count": 49,
     "metadata": {},
     "output_type": "execute_result"
    }
   ],
   "source": [
    "learn.save('class_part_3')"
   ]
  },
  {
   "cell_type": "code",
   "execution_count": 50,
   "metadata": {
    "id": "IFb2aM5kv2JE"
   },
   "outputs": [],
   "source": [
    "learn = learn.load('class_part_3')"
   ]
  },
  {
   "cell_type": "code",
   "execution_count": 51,
   "metadata": {
    "id": "l781vmBVvqbb"
   },
   "outputs": [],
   "source": [
    "# now train all layers\n",
    "learn.unfreeze()"
   ]
  },
  {
   "cell_type": "code",
   "execution_count": 52,
   "metadata": {
    "colab": {
     "base_uri": "https://localhost:8080/",
     "height": 310
    },
    "id": "t-LmCpPModx9",
    "outputId": "2d3985a9-2bbc-43e4-dffa-aad0d4936c12"
   },
   "outputs": [
    {
     "data": {
      "text/html": [],
      "text/plain": [
       "<IPython.core.display.HTML object>"
      ]
     },
     "metadata": {},
     "output_type": "display_data"
    },
    {
     "data": {
      "text/plain": [
       "SuggestedLRs(lr_min=5.754399462603033e-05, lr_steep=5.754399353463668e-06)"
      ]
     },
     "execution_count": 52,
     "metadata": {},
     "output_type": "execute_result"
    },
    {
     "data": {
      "image/png": "[encoded data removed]",
      "text/plain": [
       "<Figure size 432x288 with 1 Axes>"
      ]
     },
     "metadata": {
      "needs_background": "light"
     },
     "output_type": "display_data"
    }
   ],
   "source": [
    "# attempt to find a decent learning rate for this dataset\n",
    "learn.lr_find()"
   ]
  },
  {
   "cell_type": "code",
   "execution_count": 53,
   "metadata": {
    "colab": {
     "base_uri": "https://localhost:8080/",
     "height": 81
    },
    "id": "wC9XGz5Johh3",
    "outputId": "e0d4231c-dbf7-4db4-a770-906d026c7763"
   },
   "outputs": [
    {
     "data": {
      "text/html": [
       "<table border=\"1\" class=\"dataframe\">\n",
       "  <thead>\n",
       "    <tr style=\"text-align: left;\">\n",
       "      <th>epoch</th>\n",
       "      <th>train_loss</th>\n",
       "      <th>valid_loss</th>\n",
       "      <th>accuracy</th>\n",
       "      <th>time</th>\n",
       "    </tr>\n",
       "  </thead>\n",
       "  <tbody>\n",
       "    <tr>\n",
       "      <td>0</td>\n",
       "      <td>0.955660</td>\n",
       "      <td>15.874542</td>\n",
       "      <td>0.602362</td>\n",
       "      <td>00:12</td>\n",
       "    </tr>\n",
       "  </tbody>\n",
       "</table>"
      ],
      "text/plain": [
       "<IPython.core.display.HTML object>"
      ]
     },
     "metadata": {},
     "output_type": "display_data"
    }
   ],
   "source": [
    "# now train all layers\n",
    "# this takes about 30 seconds per epoch\n",
    "# due to nature of dataset, more training doesn't help much\n",
    "learn.fit_one_cycle(1, slice(1e-6/(2.6**4),1e-6))"
   ]
  },
  {
   "cell_type": "code",
   "execution_count": 54,
   "metadata": {
    "colab": {
     "base_uri": "https://localhost:8080/"
    },
    "id": "Pcs2EgkK0Xtz",
    "outputId": "764c9484-891d-4bfa-d374-db250abb605b"
   },
   "outputs": [
    {
     "data": {
      "text/plain": [
       "Path('/home/sethr/coprh-nlp-2021/models/class_full_part_1.pth')"
      ]
     },
     "execution_count": 54,
     "metadata": {},
     "output_type": "execute_result"
    }
   ],
   "source": [
    "learn.save('class_full_part_1')"
   ]
  },
  {
   "cell_type": "code",
   "execution_count": 55,
   "metadata": {
    "colab": {
     "base_uri": "https://localhost:8080/",
     "height": 835
    },
    "id": "oQWuzoaKvyuc",
    "outputId": "fdf825a0-b53f-4443-9731-c234cdfc1c5b"
   },
   "outputs": [
    {
     "data": {
      "text/html": [],
      "text/plain": [
       "<IPython.core.display.HTML object>"
      ]
     },
     "metadata": {},
     "output_type": "display_data"
    },
    {
     "data": {
      "text/html": [
       "<table border=\"1\" class=\"dataframe\">\n",
       "  <thead>\n",
       "    <tr style=\"text-align: right;\">\n",
       "      <th></th>\n",
       "      <th>text</th>\n",
       "      <th>category</th>\n",
       "      <th>category_</th>\n",
       "    </tr>\n",
       "  </thead>\n",
       "  <tbody>\n",
       "    <tr>\n",
       "      <th>0</th>\n",
       "      <td>xxbos xxup reason xxup for xxup visit : , xxmaj the patient presents for a followup for history of erythema nodosum . ,history xxup of xxup present xxup illness : , xxmaj this is a 25 - year - old woman who is attending xxunk classes . xxmaj she was diagnosed with presumptive erythema nodosum in 2004 based on a biopsy consistent with erythema nodosum , but not entirely specific back in xxmaj xxunk . xxmaj at that point , she had undergone workup which was extensive for secondary diseases associated with erythema nodosum . xxmaj part of her workup included a colonoscopy . xxmaj the findings were equivocal xxunk not clearly abnormal biopsies of the terminal ileum . ,the skin biopsy , in particular , mentions some fibrosis , basal xxunk , and inflammatory cells in the subcutis . ,prior to the onset of her erythema nodosum , she</td>\n",
       "      <td>Consult - History and Phy.</td>\n",
       "      <td>Gastroenterology</td>\n",
       "    </tr>\n",
       "    <tr>\n",
       "      <th>1</th>\n",
       "      <td>xxbos xxup type xxup of xxup consultation : , xxmaj wound care consult . ,history xxup of xxup present xxup illness : , xxmaj the patient is a 62 - year - old woman with a past medical history significant for prior ileojejunal bypass for weight loss ( 1980 ) and then subsequent gastric banding ( 2002 xxmaj dr . xxup x ) who was transferred to this facility following a complicated surgical and postoperative course after takedown of the prior xxunk and bypass ( 07 / 08 / 2008 , xxmaj dr . xxup y ) . xxmaj the patient has been followed by xxmaj cardiothoracic xxmaj surgery ( dr . xxup z ) as an outpatient . xxmaj she had a history of daily postprandial vomiting , regurgitation , and heartburn . xxmaj she underwent a preop assessment of her xxup gerd and postprandial vomiting including nuclear gastric</td>\n",
       "      <td>Consult - History and Phy.</td>\n",
       "      <td>Consult - History and Phy.</td>\n",
       "    </tr>\n",
       "    <tr>\n",
       "      <th>2</th>\n",
       "      <td>xxbos xxup reason xxup for xxup referral : , xxmaj the patient is a 58 - year - old african - american right - handed female with 16 years of education who was referred for a neuropsychological evaluation by xxmaj dr . xxup x. xxmaj she is presenting for a second opinion following a recent neuropsychological evaluation that was ordered by her former place of employment that suggested that she was in the \" early stages of a likely dementia \" and was thereafter terminated from her position as a psychiatric nurse . a comprehensive evaluation was requested to assess current cognitive functioning and assist with diagnostic decisions and treatment planning . xxmaj note that this evaluation was undertaken as a clinical exam and intended for the purposes of aiding with treatment planning . xxmaj the patient was fully informed about the nature of this evaluation and intended use of</td>\n",
       "      <td>Neurology</td>\n",
       "      <td>Consult - History and Phy.</td>\n",
       "    </tr>\n",
       "    <tr>\n",
       "      <th>3</th>\n",
       "      <td>xxbos xxup history xxup of xxup present xxup illness : , xxmaj the patient is a 35 - year - old woman who reports that on the xxunk of xxmaj october 2008 , she had a rupture of her membranes at nine months of pregnancy , and was admitted to hospital and was given an epidural anesthetic . i do not have the records from this hospital admission , but apparently the epidural was administered for approximately 14 to 18 hours . xxmaj she was sitting up during the epidural . ,she did not notice any difference in her lower extremities at the time she had the epidural ; however , she reports that she was extremely sleepy and may not have been aware of any change in strength or sensation in her lower extremities at that time . xxmaj she delivered on the 31st of xxmaj october , by</td>\n",
       "      <td>Neurology</td>\n",
       "      <td>Neurology</td>\n",
       "    </tr>\n",
       "    <tr>\n",
       "      <th>4</th>\n",
       "      <td>xxbos xxup reason xxup for xxup referral : , xxmaj the patient was referred to me by xxmaj dr . x of the xxmaj clinic due to concerns regarding behavioral acting out as well as encopresis . xxmaj this is a 90 - minute initial intake completed on 10 / 03 / 2007 . i met with the patient 's mother individually for the entire session . i reviewed with her the treatment , consent form , as well as the boundaries of confidentiality , and she stated that she understood these concepts . ,presenting xxup problems : , xxmaj mother reported that her primary concern in regard to the patient had to do with his oppositionality . xxmaj she was more ambivalent regarding addressing the encopresis . xxmaj in regards to his oppositionality , she reported that the onset of his oppositionality was approximately at 4 years of age</td>\n",
       "      <td>Consult - History and Phy.</td>\n",
       "      <td>Consult - History and Phy.</td>\n",
       "    </tr>\n",
       "    <tr>\n",
       "      <th>5</th>\n",
       "      <td>xxbos xxup history xxup of xxup present xxup illness : , xxmaj the patient is a 63 - year - old left - handed gentleman who presents for further evaluation of multiple neurological symptoms . i asked him to discuss each symptom individually as he had a very hard time describing the nature of his problems . xxmaj he first mentioned that he has neck pain . xxmaj he states that he has had this for at least 15 years . xxmaj it is worse with movement . xxmaj it has progressed very slowly over the course of 15 years . xxmaj it is localized to the base of his neck and is sharp in quality . xxmaj he also endorses a history of gait instability . xxmaj this has been present for a few years and has been slightly progressively worsening . xxmaj he describes that he feels unsteady</td>\n",
       "      <td>Neurology</td>\n",
       "      <td>Consult - History and Phy.</td>\n",
       "    </tr>\n",
       "    <tr>\n",
       "      <th>6</th>\n",
       "      <td>xxbos xxup preoperative xxup diagnoses:,1 . xxmaj right ankle trimalleolar fracture . ,2 . xxmaj right distal tibia plafond fracture with comminuted posterolateral impacted fragment . ,operative xxup procedure : , delayed open reduction internal fixation with plates and screws , 6 - hole contoured distal fibular plate and screws reducing posterolateral malleolar fragment , as well as medial malleolar fragment . ,postoperative xxup diagnoses:,1 . xxmaj right ankle trimalleolar fracture . ,2 . xxmaj right distal tibia plafond fracture with comminuted posterolateral impacted fragment . ,tourniquet xxup time : , 80 minutes . ,history : , xxmaj this 50 - year - old gentleman was from the area and riding his motorcycle in kentucky . ,the patient lost control of his motorcycle when he was traveling approximately 40 mile per hour . xxmaj he was on a curve and lost control . xxmaj he is unsure what exactly happened</td>\n",
       "      <td>Orthopedic</td>\n",
       "      <td>Orthopedic</td>\n",
       "    </tr>\n",
       "    <tr>\n",
       "      <th>7</th>\n",
       "      <td>xxbos xxup preoperative xxup diagnosis ( es ): , xxup l4 - l5 and xxup l5 - s1 degenerative disk disease / disk protrusions / spondylosis with radiculopathy . ,postoperative xxup diagnosis ( es ): , xxup l4 - l5 and xxup l5 - s1 degenerative disk disease / disk protrusions / spondylosis with radiculopathy . ,procedure:,1 . xxmaj left xxup l4 - l5 and xxup l5 - s1 xxmaj transforaminal xxmaj lumbar xxmaj interbody xxmaj fusion ( xxunk . xxup l4 to xxup s1 fixation ( danek xxup xxunk system).,3 . xxmaj right posterolateral xxup l4 to xxup s1 fusion . ,4 . xxmaj placement of intervertebral prosthetic device ( danek xxmaj capstone spacers xxup l4 - l5 and xxup l5 - xxunk . xxmaj vertebral autograft plus bone morphogenetic protein ( xxunk : , none . ,anesthesia : , xxmaj general endotracheal . ,specimens : , xxmaj portions</td>\n",
       "      <td>Orthopedic</td>\n",
       "      <td>Orthopedic</td>\n",
       "    </tr>\n",
       "    <tr>\n",
       "      <th>8</th>\n",
       "      <td>xxbos xxup chief xxup complaint : , xxmaj blood in urine . ,history xxup of xxup present xxup illness : , this is a 78 - year - old male who has prostate cancer with metastatic disease to his bladder and in several locations throughout the skeletal system including the spine and shoulder . xxmaj the patient has had problems with hematuria in the past , but the patient noted that this episode began yesterday , and today he has been passing principally blood with very little urine . xxmaj the patient states that there is no change in his chronic lower back pain and denies any incontinence of urine or stool . xxmaj the patient has not had any fever . xxmaj there is no abdominal pain and the patient is still able to pass urine . xxmaj the patient has not had any melena or hematochezia . xxmaj</td>\n",
       "      <td>Urology</td>\n",
       "      <td>Consult - History and Phy.</td>\n",
       "    </tr>\n",
       "  </tbody>\n",
       "</table>"
      ],
      "text/plain": [
       "<IPython.core.display.HTML object>"
      ]
     },
     "metadata": {},
     "output_type": "display_data"
    }
   ],
   "source": [
    "learn.show_results()"
   ]
  },
  {
   "cell_type": "code",
   "execution_count": 56,
   "metadata": {
    "colab": {
     "base_uri": "https://localhost:8080/",
     "height": 17
    },
    "id": "sDunqwzV0WZZ",
    "outputId": "789697d1-757b-4e32-ca38-86dc4f118f33"
   },
   "outputs": [
    {
     "data": {
      "text/html": [],
      "text/plain": [
       "<IPython.core.display.HTML object>"
      ]
     },
     "metadata": {},
     "output_type": "display_data"
    }
   ],
   "source": [
    "interp = Interpretation.from_learner(learn)"
   ]
  },
  {
   "cell_type": "code",
   "execution_count": 57,
   "metadata": {
    "colab": {
     "base_uri": "https://localhost:8080/",
     "height": 835
    },
    "id": "5Z87Eefu1CA-",
    "outputId": "a3729fb2-039f-4be9-8f8f-f1dcdf6bce8c"
   },
   "outputs": [
    {
     "data": {
      "text/html": [
       "<table border=\"1\" class=\"dataframe\">\n",
       "  <thead>\n",
       "    <tr style=\"text-align: right;\">\n",
       "      <th></th>\n",
       "      <th>input</th>\n",
       "      <th>target</th>\n",
       "      <th>predicted</th>\n",
       "      <th>probability</th>\n",
       "      <th>loss</th>\n",
       "    </tr>\n",
       "  </thead>\n",
       "  <tbody>\n",
       "    <tr>\n",
       "      <th>0</th>\n",
       "      <td>xxbos xxup reason xxup for xxup consultation : , xxmaj loculated left effusion , xxunk pneumonia .</td>\n",
       "      <td>Consult - History and Phy.</td>\n",
       "      <td>Radiology</td>\n",
       "      <td>1.0</td>\n",
       "      <td>2411.0</td>\n",
       "    </tr>\n",
       "    <tr>\n",
       "      <th>1</th>\n",
       "      <td>xxbos xxup indications : , chest pain . ,stress xxup technique : ,</td>\n",
       "      <td>Cardiovascular / Pulmonary</td>\n",
       "      <td>Radiology</td>\n",
       "      <td>1.0</td>\n",
       "      <td>1849.5</td>\n",
       "    </tr>\n",
       "    <tr>\n",
       "      <th>2</th>\n",
       "      <td>xxbos xxup preoperative xxup diagnosis : , lateral epicondylitis .</td>\n",
       "      <td>Orthopedic</td>\n",
       "      <td>Discharge Summary</td>\n",
       "      <td>1.0</td>\n",
       "      <td>1334.0</td>\n",
       "    </tr>\n",
       "    <tr>\n",
       "      <th>3</th>\n",
       "      <td>xxbos findings:,there is a large xxunk mass lesion producing diffuse expansion of the sella turcica . xxmaj this mass lesions measures approximately 16 x 18 x 18 mm ( craniocaudal x xxup ap x mediolateral ) in size .</td>\n",
       "      <td>Neurology</td>\n",
       "      <td>Radiology</td>\n",
       "      <td>1.0</td>\n",
       "      <td>1221.625</td>\n",
       "    </tr>\n",
       "    <tr>\n",
       "      <th>4</th>\n",
       "      <td>xxbos xxup discharge xxup summary , summary xxup of xxup treatment xxunk major problems were identified at the admission of this xxunk .</td>\n",
       "      <td>Discharge Summary</td>\n",
       "      <td>Orthopedic</td>\n",
       "      <td>1.0</td>\n",
       "      <td>394.5</td>\n",
       "    </tr>\n",
       "    <tr>\n",
       "      <th>5</th>\n",
       "      <td>xxbos xxup diagnosis : , shortness of breath . xxmaj fatigue and weakness . xxmaj hypertension . hyperlipidemia . ,indication : , xxmaj to evaluate for coronary artery disease . ,</td>\n",
       "      <td>Radiology</td>\n",
       "      <td>Orthopedic</td>\n",
       "      <td>1.0</td>\n",
       "      <td>152.421875</td>\n",
       "    </tr>\n",
       "    <tr>\n",
       "      <th>6</th>\n",
       "      <td>xxbos xxup observations : , xxup fev1 is xxunk , 103 % predicted . xxup fvc is xxunk , 110 % predicted . xxmaj ratio is 75 . xxup fef 25 - 75 is xxunk , 82 % predicted , xxunk improves by 35 % . xxup xxunk is 35 , 121 % predicted . xxmaj residual volume is xxunk , 139 % predicted . xxmaj total lung capacity is xxunk , 120 % predicted . xxunk volume loop reviewed . ,interpretation : , xxmaj mild restrictive airflow limitation . xxmaj clinical correlation is recommended .</td>\n",
       "      <td>Cardiovascular / Pulmonary</td>\n",
       "      <td>SOAP / Chart / Progress Notes</td>\n",
       "      <td>0.8221890926361084</td>\n",
       "      <td>63.96336364746094</td>\n",
       "    </tr>\n",
       "    <tr>\n",
       "      <th>7</th>\n",
       "      <td>xxbos xxup indication : , xxmaj bradycardia and dizziness . xxunk . xxmaj the patient was monitored for 24 hours . ,2 . xxmaj the predominant rhythm was normal sinus rhythm with a minimum heart rate of 56 beats per minute and the maximum heart rate of 114 beats per minute and a mean heart rate of 86 beats per minute . ,3 . xxmaj there were occasional premature atrial contractions seen , no supraventricular tachycardia was seen . ,4 . xxmaj there was a frequent premature ventricular contraction seen . xxmaj between 11:00 a.m. and xxunk a.m. the patient was in ventricular xxunk and trigemini most of the time . xxmaj during rest of the monitoring period , there were just occasional premature ventricular contractions seen . xxmaj no ventricular tachycardia was seen . ,5 . xxmaj there were no pathological pauses noted . ,6 . xxmaj the longest</td>\n",
       "      <td>Cardiovascular / Pulmonary</td>\n",
       "      <td>Orthopedic</td>\n",
       "      <td>1.0</td>\n",
       "      <td>47.3125</td>\n",
       "    </tr>\n",
       "    <tr>\n",
       "      <th>8</th>\n",
       "      <td>xxbos xxup preoperative xxup diagnosis : , xxmaj left pleural effusion . ,postoperative xxup diagnosis : , xxmaj left hemothorax . ,procedure : , thoracentesis . ,procedure xxup in xxup detail : , xxmaj after obtaining informed consent and having explained the procedure to the patient , he was sat at the side of a stretcher in the emergency department . xxmaj his left back was prepped and draped in the usual fashion . xxmaj xylocaine 1 % was used to infiltrate his chest wall and the chest entered upon the ninth intercostal space in the midscapular line and the thoracentesis catheter was used and placed , and then we proceed to draw by hand about 1200 ml blood . xxmaj this blood was xxunk and it was tested twice . xxmaj halfway during the procedure , the patient felt that he was getting dizzy and his pressure at that</td>\n",
       "      <td>Cardiovascular / Pulmonary</td>\n",
       "      <td>Orthopedic</td>\n",
       "      <td>1.0</td>\n",
       "      <td>42.9375</td>\n",
       "    </tr>\n",
       "  </tbody>\n",
       "</table>"
      ],
      "text/plain": [
       "<IPython.core.display.HTML object>"
      ]
     },
     "metadata": {},
     "output_type": "display_data"
    }
   ],
   "source": [
    "interp.plot_top_losses(9, figsize=(15,10))"
   ]
  },
  {
   "cell_type": "code",
   "execution_count": 58,
   "metadata": {
    "colab": {
     "base_uri": "https://localhost:8080/",
     "height": 17
    },
    "id": "VBnw3TLMv2JG",
    "outputId": "75f62649-b16f-4570-e696-e56b63c095eb"
   },
   "outputs": [
    {
     "data": {
      "text/html": [],
      "text/plain": [
       "<IPython.core.display.HTML object>"
      ]
     },
     "metadata": {},
     "output_type": "display_data"
    }
   ],
   "source": [
    "interp = ClassificationInterpretation.from_learner(learn)"
   ]
  },
  {
   "cell_type": "code",
   "execution_count": 59,
   "metadata": {
    "id": "7qsY7nr5v2JG"
   },
   "outputs": [],
   "source": [
    "losses,idxs = interp.top_losses()"
   ]
  },
  {
   "cell_type": "code",
   "execution_count": 60,
   "metadata": {
    "colab": {
     "base_uri": "https://localhost:8080/"
    },
    "id": "nq7btCqlv2JH",
    "outputId": "20b16d90-e087-412e-c6fc-625106654c55"
   },
   "outputs": [
    {
     "data": {
      "text/plain": [
       "True"
      ]
     },
     "execution_count": 60,
     "metadata": {},
     "output_type": "execute_result"
    }
   ],
   "source": [
    "len(dls_clas.valid_ds)==len(losses)==len(idxs)"
   ]
  },
  {
   "cell_type": "code",
   "execution_count": 61,
   "metadata": {
    "colab": {
     "base_uri": "https://localhost:8080/",
     "height": 742
    },
    "id": "jaKpdinvv2JH",
    "outputId": "41aa132a-467f-4c51-e4a3-5ca0b1b42feb"
   },
   "outputs": [
    {
     "data": {
      "image/png": "[encoded data removed]",
      "text/plain": [
       "<Figure size 720x720 with 1 Axes>"
      ]
     },
     "metadata": {
      "needs_background": "light"
     },
     "output_type": "display_data"
    }
   ],
   "source": [
    "interp.plot_confusion_matrix(figsize=(10,10))"
   ]
  },
  {
   "cell_type": "code",
   "execution_count": 62,
   "metadata": {
    "id": "oQe44V-M1ECB"
   },
   "outputs": [],
   "source": [
    "# del(learn)"
   ]
  },
  {
   "cell_type": "markdown",
   "metadata": {
    "id": "19JAuNgoDCJ2"
   },
   "source": [
    "## Discussion\n",
    "\n",
    "While 60% - 65% accuracy doesn't sound super high, it can be enough depending on use case. With any use case, you need to think about what task you are solving - going for the highest % accuracy doesn't always mean your NLP/Machine Learning pipeline will suit the desired purpose.\n",
    "\n",
    "The confusion matrix above shows that some categories have highly similar language and thus are hard to automatically distinguish between the specialties. For example, in the validation/testing set the Neurology and Radiology notes have a high degree of overlap. Similarly, History and Physicals notes often deal with other medical issues so have some overlap with almost every other category.\n",
    "\n",
    "What are some ways that you might improve accuracy?\n",
    "\n",
    "* Get more data\n",
    "* Improve quality of data\n",
    "* Exclude certain categories/types of notes from automated classification (could be based on words that are found in multiple specialties, based on length, etc.) In the above, Radiology and Neurology would be ideal candidates for human review.\n",
    "* Use other information to enrich the NLP process (e.g. clinic name, doctor name, billing codes)\n"
   ]
  },
  {
   "cell_type": "code",
   "execution_count": null,
   "metadata": {},
   "outputs": [],
   "source": []
  }
 ],
 "metadata": {
  "accelerator": "GPU",
  "colab": {
   "collapsed_sections": [],
   "name": "text_classification_colab.ipynb",
   "provenance": []
  },
  "kernelspec": {
   "display_name": "Python [conda env:coprh]",
   "language": "python",
   "name": "conda-env-coprh-py"
  },
  "language_info": {
   "codemirror_mode": {
    "name": "ipython",
    "version": 3
   },
   "file_extension": ".py",
   "mimetype": "text/x-python",
   "name": "python",
   "nbconvert_exporter": "python",
   "pygments_lexer": "ipython3",
   "version": "3.7.10"
  }
 },
 "nbformat": 4,
 "nbformat_minor": 5
}
