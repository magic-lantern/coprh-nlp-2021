{
 "cells": [
  {
   "cell_type": "code",
   "execution_count": 1,
   "id": "56f23079",
   "metadata": {},
   "outputs": [],
   "source": [
    "import fastbook"
   ]
  },
  {
   "cell_type": "code",
   "execution_count": 2,
   "id": "1027221e",
   "metadata": {},
   "outputs": [],
   "source": [
    "fastbook.setup_book()"
   ]
  },
  {
   "cell_type": "code",
   "execution_count": 3,
   "id": "076b0247",
   "metadata": {},
   "outputs": [
    {
     "ename": "AttributeError",
     "evalue": "module 'fastbook' has no attribute 'gdrive'",
     "output_type": "error",
     "traceback": [
      "\u001b[0;31m---------------------------------------------------------------------------\u001b[0m",
      "\u001b[0;31mAttributeError\u001b[0m                            Traceback (most recent call last)",
      "\u001b[0;32m<ipython-input-3-da49289be8ba>\u001b[0m in \u001b[0;36m<module>\u001b[0;34m\u001b[0m\n\u001b[0;32m----> 1\u001b[0;31m \u001b[0mfastbook\u001b[0m\u001b[0;34m.\u001b[0m\u001b[0mgdrive\u001b[0m\u001b[0;34m\u001b[0m\u001b[0;34m\u001b[0m\u001b[0m\n\u001b[0m",
      "\u001b[0;31mAttributeError\u001b[0m: module 'fastbook' has no attribute 'gdrive'"
     ]
    }
   ],
   "source": [
    "fastbook.gdrive"
   ]
  },
  {
   "cell_type": "code",
   "execution_count": 1,
   "id": "f4368554",
   "metadata": {},
   "outputs": [
    {
     "name": "stderr",
     "output_type": "stream",
     "text": [
      "/opt/miniconda3/envs/coprh/lib/python3.7/site-packages/torch/cuda/__init__.py:52: UserWarning: CUDA initialization: Unexpected error from cudaGetDeviceCount(). Did you run some cuda functions before calling NumCudaDevices() that might have already set an error? Error 804: forward compatibility was attempted on non supported HW (Triggered internally at  /opt/conda/conda-bld/pytorch_1616554800319/work/c10/cuda/CUDAFunctions.cpp:109.)\n",
      "  return torch._C._cuda_getDeviceCount() > 0\n"
     ]
    }
   ],
   "source": [
    "from fastai.text.all import *\n",
    "import fastai as f"
   ]
  },
  {
   "cell_type": "code",
   "execution_count": 2,
   "id": "c4ed7e46",
   "metadata": {},
   "outputs": [
    {
     "name": "stdout",
     "output_type": "stream",
     "text": [
      "APScoreBinary\t APScoreMulti\t AWD_LSTM\t AWD_QRNN\t AccumMetric\t ActivationStats\t Adam\t AdaptiveAvgPool\t AdaptiveConcatPool1d\t \n",
      "AdaptiveConcatPool2d\t ArrayBase\t ArrayImage\t ArrayImageBW\t ArrayImageBase\t ArrayMask\t AttrDict\t AttrGetter\t AutoInit\t \n",
      "AvgLoss\t AvgMetric\t AvgPool\t AvgSmoothLoss\t BCELossFlat\t BCEWithLogitsLossFlat\t BOS\t BalancedAccuracy\t BaseLoss\t \n",
      "BaseTokenizer\t BatchNorm\t BatchNorm1dFlat\t BatchSampler\t BnFreeze\t BrierScore\t BrierScoreMulti\t BuiltinFunctionType\t BuiltinMethodType\t \n",
      "BypassNewMeta\t ByteTensor\t CSVLogger\t Callback\t CancelBatchException\t CancelEpochException\t CancelFitException\t CancelStepException\t CancelTrainException\t \n",
      "CancelValidException\t Cat\t Categorize\t Category\t CategoryBlock\t CategoryMap\t Chunks\t ClassificationInterpretation\t CohenKappa\t \n",
      "ColReader\t ColSplitter\t CollBase\t CollectDataCallback\t Config\t ContextManagers\t ConvLayer\t CorpusBLEUMetric\t Counter\t \n",
      "CrossEntropyLossFlat\t CutMix\t DataBlock\t DataLoader\t DataLoaders\t Datasets\t Debugger\t Dice\t DiceMulti\t \n",
      "DispatchReg\t DisplayedTransform\t DoubleTensor\t EOS\t EarlyStoppingCallback\t Embedding\t EmbeddingDropout\t EncodedMultiCategorize\t Enum\t \n",
      "EventTimer\t ExceptionExpected\t ExceptionsHTTP\t ExplainedVariance\t F\t F1Score\t F1ScoreMulti\t FBeta\t FBetaMulti\t \n",
      "FLD\t FP16TestCallback\t FetchPredsCallback\t FileGetter\t FileSplitter\t FilteredBase\t FixSigMeta\t Flatten\t Float\t \n",
      "FloatTensor\t FocalLossFlat\t Func\t FuncSplitter\t FunctionType\t GatherPredsCallback\t Generator\t GetAttr\t GetAttrBase\t \n",
      "GradientAccumulation\t GradientClip\t GrandparentSplitter\t HTTP400BadRequestError\t HTTP401UnauthorizedError\t HTTP402PaymentRequiredError\t HTTP403ForbiddenError\t HTTP404NotFoundError\t HTTP405MethodNotAllowedError\t \n",
      "HTTP406NotAcceptableError\t HTTP407ProxyAuthRequiredError\t HTTP408RequestTimeoutError\t HTTP409ConflictError\t HTTP410GoneError\t HTTP411LengthRequiredError\t HTTP412PreconditionFailedError\t HTTP413PayloadTooLargeError\t HTTP414URITooLongError\t \n",
      "HTTP415UnsupportedMediaTypeError\t HTTP416RangeNotSatisfiableError\t HTTP417ExpectationFailedError\t HTTP418AmAteapotError\t HTTP421MisdirectedRequestError\t HTTP422UnprocessableEntityError\t HTTP423LockedError\t HTTP424FailedDependencyError\t HTTP425TooEarlyError\t \n",
      "HTTP426UpgradeRequiredError\t HTTP428PreconditionRequiredError\t HTTP429TooManyRequestsError\t HTTP431HeaderFieldsTooLargeError\t HTTP451LegalReasonsError\t HTTP4xxClientError\t HTTP5xxServerError\t HalfTensor\t HammingLoss\t \n",
      "HammingLossMulti\t Hook\t HookCallback\t Hooks\t IN_COLAB\t IN_IPYTHON\t IN_JUPYTER\t IN_NOTEBOOK\t Identity\t \n",
      "ImageGetter\t ImportEnum\t IndexSplitter\t Inf\t InplaceTransform\t InstanceNorm\t Int\t IntEnum\t IntToFloatTensor\t \n",
      "Interpretation\t ItemGetter\t ItemTransform\t IterLen\t Iterable\t IterableDataset\t Iterator\t Jaccard\t JaccardCoeff\t \n",
      "JaccardMulti\t L\t L1LossFlat\t LMDataLoader\t LMLearner\t LMTensorText\t LRFinder\t LabelSmoothingCrossEntropy\t LabelSmoothingCrossEntropyFlat\t \n",
      "Lamb\t Lambda\t LambdaType\t Larc\t Learner\t LinBnDrop\t LinearDecoder\t Lock\t LongTensor\t \n",
      "Lookahead\t LossMetric\t LossMetrics\t MCDropoutCallback\t MSELossFlat\t MaskSplitter\t MatthewsCorrCoef\t MatthewsCorrCoefMulti\t MaxPool\t \n",
      "MergeLayer\t MethodDescriptorType\t MethodType\t MethodWrapperType\t Metric\t Mish\t MishJitAutoFn\t MixHandler\t MixUp\t \n",
      "MixedPrecision\t ModelResetter\t ModelToHalf\t Module\t MultiCategorize\t MultiCategory\t MultiCategoryBlock\t NewChkMeta\t NonNativeMixedPrecision\t \n",
      "NoneReduce\t NoneType\t NormType\t Normalize\t NullType\t Numericalize\t OneHotEncode\t OptimWrapper\t Optimizer\t \n",
      "Optional\t OrderedDict\t PAD\t Pad_Chunk\t Pad_Input\t Param\t ParamScheduler\t ParameterModule\t PartialDL\t \n",
      "PartialFormatter\t PartialLambda\t Path\t PearsonCorrCoef\t Perplexity\t Pipeline\t PixelShuffle_ICNR\t PoolFlatten\t PoolType\t \n",
      "PooledSelfAttention2d\t PoolingLinearClassifier\t PrePostInitMeta\t Precision\t PrecisionMulti\t PrettyString\t Process\t ProcessPoolExecutor\t ProdLayer\t \n",
      "ProgressCallback\t QHAdam\t Queue\t R2Score\t RAdam\t RMSProp\t RNNCallback\t RNNDropout\t RNNRegularizer\t \n",
      "RandomSampler\t RandomSplitter\t RandomSubsetSplitter\t Recall\t RecallMulti\t Recorder\t ReduceLROnPlateau\t RegexLabeller\t RegressionBlock\t \n",
      "RegressionSetup\t ReindexCollection\t ResBlock\t ResizeBatch\t RocAuc\t RocAucBinary\t RocAucMulti\t SCRIPT_INFO\t SEBlock\t \n",
      "SEModule\t SEResNeXtBlock\t SGD\t Sampler\t SaveModelCallback\t SchedCos\t SchedExp\t SchedLin\t SchedNo\t \n",
      "SchedPoly\t SegmentationInterpretation\t Self\t SelfAttention\t SentenceEncoder\t SentencePieceTokenizer\t SeparableBlock\t Sequence\t SequentialEx\t \n",
      "SequentialRNN\t SequentialSampler\t ShortEpochCallback\t ShowGraphCallback\t ShowPrint\t ShowTitle\t Sig\t SigmoidRange\t SimpleCNN\t \n",
      "SimpleNamespace\t SimpleSelfAttention\t SkipItemException\t SortedDL\t SpacyTokenizer\t SpearmanCorrCoef\t Stateful\t Str\t StrEnum\t \n",
      "SubwordTokenizer\t SuggestedLRs\t Swish\t TEST_IMAGE\t TEST_IMAGE_BW\t TK_MAJ\t TK_REP\t TK_UP\t TK_WREP\t \n",
      "Tensor\t TensorBase\t TensorCategory\t TensorFlowField\t TensorImage\t TensorImageBW\t TensorImageBase\t TensorMask\t TensorMultiCategory\t \n",
      "TensorText\t TerminateOnNaNCallback\t TextBlock\t TextDataLoaders\t TextLearner\t TextWrapper\t TfmdDL\t TfmdLists\t ThreadPoolExecutor\t \n",
      "TimeDistributed\t TitledFloat\t TitledInt\t TitledStr\t TitledTensorScalar\t TitledTuple\t ToTensor\t TokenizeWithRules\t Tokenizer\t \n",
      "TrackerCallback\t TrainEvalCallback\t TrainTestSplitter\t Transform\t TransformBlock\t TypeDispatch\t UNK\t URLs\t Union\t \n",
      "ValueMetric\t View\t WeightDropout\t WeightedDL\t WordTokenizer\t WrapperDescriptorType\t accuracy\t accuracy_multi\t adam_step\t \n",
      "adaptive_pool\t add\t add_docs\t add_one\t add_props\t all_equal\t annealer\t anno_dict\t anno_parser\t \n",
      "anno_ret\t annotations\t any_is_instance\t apply\t apply_init\t apply_leaf\t arg0\t arg1\t arg2\t \n",
      "arg3\t arg4\t argnames\t args_from_prog\t argwhere\t array\t array_equal\t as_completed\t as_tensor\t \n",
      "attrdict\t attrgetter\t autostart\t average_grad\t average_sqr_grad\t awd_lstm_clas_config\t awd_lstm_clas_split\t awd_lstm_lm_config\t awd_lstm_lm_split\t \n",
      "awd_qrnn_clas_config\t awd_qrnn_lm_config\t awdlstm\t base_doc\t basic_repr\t batch_to_samples\t before_batch_cb\t bind\t bn_types\t \n",
      "bool_arg\t broadcast_vec\t bunzip\t bz2\t call_parse\t camel2snake\t camel2words\t cast\t children_and_parameters\t \n",
      "chunked\t class2attr\t clean_raw_keys\t clean_type_str\t coll_repr\t collections\t combine_scheds\t combined_cos\t compose\t \n",
      "compose_tfms\t concat\t concurrent\t cond_init\t contextmanager\t copy\t copy_clone\t copy_func\t core\t \n",
      "csv\t custom_dir\t cycle\t datetime\t debias\t decode_at\t decode_spec_tokens\t deepcopy\t default_collate\t \n",
      "default_convert\t default_device\t default_set_meta\t defaultdict\t defaults\t delegate_attr\t delegates\t detuplify\t detuplify_pg\t \n",
      "df_equal\t dict2obj\t display_df\t distrib_barrier\t do_request\t doc\t docs\t download_data\t download_url\t \n",
      "dropout_mask\t dropwhile\t dummy_eval\t empty2none\t enum\t eq\t equals\t error_rate\t eu_langs\t \n",
      "even_mults\t event\t exception\t exec_local\t exp_rmspe\t explode_types\t f\t fa_collate\t fa_convert\t \n",
      "fastuple\t file_extract\t filter_dict\t filter_ex\t filter_keys\t filter_values\t find_bs\t find_device\t first\t \n",
      "fix_html\t flatten_check\t flatten_model\t fn_counter_pkl\t fn_lengths_pkl\t foreground_acc\t funcs_kwargs\t functools\t gather_attr_names\t \n",
      "gather_attrs\t ge\t gen\t get_c\t get_class\t get_empty_df\t get_files\t get_first\t get_func\t \n",
      "get_image_files\t get_language_model\t get_master\t get_model\t get_random_states\t get_text_classifier\t get_text_files\t get_worker_info\t getattrs\t \n",
      "glob\t grad_module\t grad_overflow\t groupby\t gt\t has_children\t has_params\t hasattrs\t hashlib\t \n",
      "hook_output\t hook_outputs\t icnr_init\t ifnone\t ignore_exceptions\t image_extensions\t image_size\t in_\t in_channels\t \n",
      "in_colab\t in_ipython\t in_jupyter\t in_notebook\t init_default\t init_linear\t inplace_relu\t inspect\t instantiate\t \n",
      "inum_methods\t io\t ipython_shell\t is_\t is_array\t is_bool\t is_categorical_dtype\t is_close\t is_coll\t \n",
      "is_indexer\t is_iter\t is_listy\t is_not\t is_numeric_dtype\t isinstance_str\t item_find\t itemgetter\t itertools\t \n",
      "join_path_file\t json\t l2_reg\t lamb_step\t language_model_learner\t larc_layer_lr\t larc_step\t last_index\t layer_info\t \n",
      "le\t lenient_issubclass\t listify\t load_ignore_keys\t load_learner\t load_model\t load_model_text\t load_pickle\t load_tokenized_csv\t \n",
      "loads\t loads_multi\t local2utc\t logit\t lowercase\t lt\t mae\t make_cross_image\t make_vocab\t \n",
      "map_ex\t mapped\t maps\t mapt\t mask2idxs\t masked_concat_pool\t master_bar\t match_embeds\t math\t \n",
      "matplotlib\t maybe_attr\t maybe_gather\t maybe_open\t merge\t method\t methodcaller\t mimetypes\t mish\t \n",
      "mk_class\t mk_metric\t mk_transform\t model_sizes\t modified_env\t module\t module_summary\t momentum_step\t mse\t \n",
      "msle\t mul\t multiprocessing\t namedtuple\t ndarray\t ndimage\t ne\t nequals\t nested_attr\t \n",
      "nested_idx\t nested_reorder\t newest_folder\t nn\t no_random\t noop\t noops\t norm_bias_params\t norm_types\t \n",
      "not_\t np\t np_func\t null\t num_cpus\t num_distrib\t num_features_model\t num_methods\t numbers\t \n",
      "obj2dict\t one_hot\t one_hot_decode\t one_is_instance\t one_param\t open_file\t operator\t optim_metric\t os\t \n",
      "otherwise\t pad_chunk\t pad_input\t pad_input_chunk\t parallel\t parallel_gen\t parallel_tokenize\t parallelable\t params\t \n",
      "parent_label\t partial\t partial_format\t partialler\t patch\t patch_property\t patch_to\t pd\t perplexity\t \n",
      "pickle\t platform\t plot_top_losses\t plt\t progress_bar\t properties\t pv\t pytorch_hp_map\t qhadam_step\t \n",
      "queues\t radam_step\t random\t range_of\t ranger\t rank_distrib\t re\t read_config_file\t redirect_stdout\t \n",
      "reduce\t reduce_loss\t remove_prefix\t remove_suffix\t rename_extracted\t renumerate\t replace_all_caps\t replace_maj\t replace_rep\t \n",
      "replace_space\t replace_wrep\t replacing_yield\t replicate\t repo_details\t repr_dict\t requests\t requires_grad\t retain_meta\t \n",
      "retain_type\t retain_types\t reverse_text\t risinstance\t rm_useless_spaces\t rms_prop_step\t rmse\t rnn_cbs\t rnum_methods\t \n",
      "round_multiple\t run\t run_procs\t save_config_file\t save_model\t save_pickle\t sched_cos\t sched_exp\t sched_lin\t \n",
      "sched_no\t scipy\t script_bwd\t script_fwd\t script_save_ctx\t script_use_ctx\t sequential\t set_bn_eval\t set_item_pg\t \n",
      "set_num_threads\t set_random_states\t set_seed\t set_trace\t setattrs\t setify\t sgd_step\t show_at\t show_batch\t \n",
      "show_image\t show_image_batch\t show_images\t show_results\t show_title\t show_titled_image\t shufflish\t shutil\t sigmoid\t \n",
      "sigmoid_\t sigmoid_range\t skm_to_fastai\t snake2camel\t sort_by_run\t sorted_ex\t sorted_topologically\t spark_chars\t sparkline\t \n",
      "spec_add_spaces\t starmap\t start_client\t start_server\t startthread\t step_stat\t stop\t store_attr\t store_false\t \n",
      "store_true\t str2bool\t str_enum\t strcat\t string\t string_classes\t stringfmt_names\t sub\t subplots\t \n",
      "swish\t sys\t takewhile\t tarfile\t tempfile\t tensor\t test\t test_close\t test_eq\t \n",
      "test_eq_type\t test_fail\t test_fig_exists\t test_is\t test_ne\t test_overflow\t test_set\t test_shuffled\t test_sig\t \n",
      "test_stdout\t test_warns\t text_classifier_learner\t threaded\t threading\t time\t to_concat\t to_cpu\t to_detach\t \n",
      "to_detach_from_dl\t to_device\t to_float\t to_half\t to_master_grads\t to_model_params\t to_np\t tokenize1\t tokenize_csv\t \n",
      "tokenize_df\t tokenize_files\t tokenize_folder\t tokenize_texts\t tonull\t top_k_accuracy\t torch\t total_params\t trace\t \n",
      "trainable_params\t true\t truediv\t trunc_normal_\t truncstr\t try_attrs\t tuplify\t type_hints\t typed\t \n",
      "typedispatch\t types\t typing\t uniqueify\t unsqueeze\t unsqueeze_\t untar_data\t untar_dir\t url_default_headers\t \n",
      "urlcheck\t urlclean\t urljson\t urllib\t urlopen\t urlquote\t urlread\t urlrequest\t urlsave\t \n",
      "urlsend\t urlvalid\t urlwrap\t use_kwargs\t use_kwargs_dict\t using_attr\t utc2local\t val2idx\t vleaky_relu\t \n",
      "warn\t warnings\t weight_decay\t with_cast\t working_directory\t wrap_class\t yaml\t zip_cycle\t zip_longest\t \n",
      "zipfile\t \n"
     ]
    }
   ],
   "source": [
    "who"
   ]
  },
  {
   "cell_type": "code",
   "execution_count": 3,
   "id": "721e8126",
   "metadata": {},
   "outputs": [
    {
     "data": {
      "text/plain": [
       "Path('/home/sethr/coprh-nlp-2021')"
      ]
     },
     "execution_count": 3,
     "metadata": {},
     "output_type": "execute_result"
    }
   ],
   "source": [
    "Path.cwd()"
   ]
  },
  {
   "cell_type": "code",
   "execution_count": 4,
   "id": "d61926a1",
   "metadata": {},
   "outputs": [],
   "source": [
    "data_path = Path.cwd() / Path('data')\n",
    "data_file = data_path / 'mtsamples.csv'"
   ]
  },
  {
   "cell_type": "code",
   "execution_count": 5,
   "id": "b1ed449f-5443-4a77-947a-e667e021ef24",
   "metadata": {},
   "outputs": [
    {
     "data": {
      "text/plain": [
       "Path('/home/sethr/coprh-nlp-2021/data/mtsamples.csv')"
      ]
     },
     "execution_count": 5,
     "metadata": {},
     "output_type": "execute_result"
    }
   ],
   "source": [
    "data_file"
   ]
  },
  {
   "cell_type": "code",
   "execution_count": 6,
   "id": "36e6f504-109b-49ad-a1cb-c08e8352464b",
   "metadata": {},
   "outputs": [
    {
     "name": "stdout",
     "output_type": "stream",
     "text": [
      "Already downloaded\n"
     ]
    }
   ],
   "source": [
    "if data_file.is_file():\n",
    "    print('Already downloaded')\n",
    "else:\n",
    "    print('downloading data file')\n",
    "    download_data(\n",
    "        url='https://github.com/socd06/medical-nlp/raw/master/data/mtsamples.csv',\n",
    "        fname = data_file\n",
    "    )"
   ]
  },
  {
   "cell_type": "code",
   "execution_count": 7,
   "id": "0b52bdf3",
   "metadata": {},
   "outputs": [
    {
     "data": {
      "text/html": [
       "<div>\n",
       "<style scoped>\n",
       "    .dataframe tbody tr th:only-of-type {\n",
       "        vertical-align: middle;\n",
       "    }\n",
       "\n",
       "    .dataframe tbody tr th {\n",
       "        vertical-align: top;\n",
       "    }\n",
       "\n",
       "    .dataframe thead th {\n",
       "        text-align: right;\n",
       "    }\n",
       "</style>\n",
       "<table border=\"1\" class=\"dataframe\">\n",
       "  <thead>\n",
       "    <tr style=\"text-align: right;\">\n",
       "      <th></th>\n",
       "      <th>Unnamed: 0</th>\n",
       "      <th>description</th>\n",
       "      <th>medical_specialty</th>\n",
       "      <th>sample_name</th>\n",
       "      <th>transcription</th>\n",
       "      <th>keywords</th>\n",
       "    </tr>\n",
       "  </thead>\n",
       "  <tbody>\n",
       "    <tr>\n",
       "      <th>0</th>\n",
       "      <td>0</td>\n",
       "      <td>A 23-year-old white female presents with complaint of allergies.</td>\n",
       "      <td>Allergy / Immunology</td>\n",
       "      <td>Allergic Rhinitis</td>\n",
       "      <td>SUBJECTIVE:,  This 23-year-old white female presents with complaint of allergies.  She used to have allergies when she lived in Seattle but she thinks they are worse here.  In the past, she has tried Claritin, and Zyrtec.  Both worked for short time but then seemed to lose effectiveness.  She has used Allegra also.  She used that last summer and she began using it again two weeks ago.  It does not appear to be working very well.  She has used over-the-counter sprays but no prescription nasal sprays.  She does have asthma but doest not require daily medication for this and does not think it...</td>\n",
       "      <td>allergy / immunology, allergic rhinitis, allergies, asthma, nasal sprays, rhinitis, nasal, erythematous, allegra, sprays, allergic,</td>\n",
       "    </tr>\n",
       "    <tr>\n",
       "      <th>1</th>\n",
       "      <td>1</td>\n",
       "      <td>Consult for laparoscopic gastric bypass.</td>\n",
       "      <td>Bariatrics</td>\n",
       "      <td>Laparoscopic Gastric Bypass Consult - 2</td>\n",
       "      <td>PAST MEDICAL HISTORY:, He has difficulty climbing stairs, difficulty with airline seats, tying shoes, used to public seating, and lifting objects off the floor.  He exercises three times a week at home and does cardio.  He has difficulty walking two blocks or five flights of stairs.  Difficulty with snoring.  He has muscle and joint pains including knee pain, back pain, foot and ankle pain, and swelling.  He has gastroesophageal reflux disease.,PAST SURGICAL HISTORY:, Includes reconstructive surgery on his right hand 13 years ago.  ,SOCIAL HISTORY:, He is currently single.  He has about te...</td>\n",
       "      <td>bariatrics, laparoscopic gastric bypass, weight loss programs, gastric bypass, atkin's diet, weight watcher's, body weight, laparoscopic gastric, weight loss, pounds, months, weight, laparoscopic, band, loss, diets, overweight, lost</td>\n",
       "    </tr>\n",
       "    <tr>\n",
       "      <th>2</th>\n",
       "      <td>2</td>\n",
       "      <td>Consult for laparoscopic gastric bypass.</td>\n",
       "      <td>Bariatrics</td>\n",
       "      <td>Laparoscopic Gastric Bypass Consult - 1</td>\n",
       "      <td>HISTORY OF PRESENT ILLNESS: , I have seen ABC today.  He is a very pleasant gentleman who is 42 years old, 344 pounds.  He is 5'9\".  He has a BMI of 51.  He has been overweight for ten years since the age of 33, at his highest he was 358 pounds, at his lowest 260.  He is pursuing surgical attempts of weight loss to feel good, get healthy, and begin to exercise again.  He wants to be able to exercise and play volleyball.  Physically, he is sluggish.  He gets tired quickly.  He does not go out often.  When he loses weight he always regains it and he gains back more than he lost.  His biggest...</td>\n",
       "      <td>bariatrics, laparoscopic gastric bypass, heart attacks, body weight, pulmonary embolism, potential complications, sleep study, weight loss, gastric bypass, anastomosis, loss, sleep, laparoscopic, gastric, bypass, heart, pounds, weight,</td>\n",
       "    </tr>\n",
       "    <tr>\n",
       "      <th>3</th>\n",
       "      <td>3</td>\n",
       "      <td>2-D M-Mode. Doppler.</td>\n",
       "      <td>Cardiovascular / Pulmonary</td>\n",
       "      <td>2-D Echocardiogram - 1</td>\n",
       "      <td>2-D M-MODE: , ,1.  Left atrial enlargement with left atrial diameter of 4.7 cm.,2.  Normal size right and left ventricle.,3.  Normal LV systolic function with left ventricular ejection fraction of 51%.,4.  Normal LV diastolic function.,5.  No pericardial effusion.,6.  Normal morphology of aortic valve, mitral valve, tricuspid valve, and pulmonary valve.,7.  PA systolic pressure is 36 mmHg.,DOPPLER: , ,1.  Mild mitral and tricuspid regurgitation.,2.  Trace aortic and pulmonary regurgitation.</td>\n",
       "      <td>cardiovascular / pulmonary, 2-d m-mode, doppler, aortic valve, atrial enlargement, diastolic function, ejection fraction, mitral, mitral valve, pericardial effusion, pulmonary valve, regurgitation, systolic function, tricuspid, tricuspid valve, normal lv</td>\n",
       "    </tr>\n",
       "    <tr>\n",
       "      <th>4</th>\n",
       "      <td>4</td>\n",
       "      <td>2-D Echocardiogram</td>\n",
       "      <td>Cardiovascular / Pulmonary</td>\n",
       "      <td>2-D Echocardiogram - 2</td>\n",
       "      <td>1.  The left ventricular cavity size and wall thickness appear normal.  The wall motion and left ventricular systolic function appears hyperdynamic with estimated ejection fraction of 70% to 75%.  There is near-cavity obliteration seen.  There also appears to be increased left ventricular outflow tract gradient at the mid cavity level consistent with hyperdynamic left ventricular systolic function.  There is abnormal left ventricular relaxation pattern seen as well as elevated left atrial pressures seen by Doppler examination.,2.  The left atrium appears mildly dilated.,3.  The right atriu...</td>\n",
       "      <td>cardiovascular / pulmonary, 2-d, doppler, echocardiogram, annular, aortic root, aortic valve, atrial, atrium, calcification, cavity, ejection fraction, mitral, obliteration, outflow, regurgitation, relaxation pattern, stenosis, systolic function, tricuspid, valve, ventricular, ventricular cavity, wall motion, pulmonary artery</td>\n",
       "    </tr>\n",
       "  </tbody>\n",
       "</table>\n",
       "</div>"
      ],
      "text/plain": [
       "   Unnamed: 0  \\\n",
       "0           0   \n",
       "1           1   \n",
       "2           2   \n",
       "3           3   \n",
       "4           4   \n",
       "\n",
       "                                                         description  \\\n",
       "0   A 23-year-old white female presents with complaint of allergies.   \n",
       "1                           Consult for laparoscopic gastric bypass.   \n",
       "2                           Consult for laparoscopic gastric bypass.   \n",
       "3                                             2-D M-Mode. Doppler.     \n",
       "4                                                 2-D Echocardiogram   \n",
       "\n",
       "             medical_specialty                                sample_name  \\\n",
       "0         Allergy / Immunology                         Allergic Rhinitis    \n",
       "1                   Bariatrics   Laparoscopic Gastric Bypass Consult - 2    \n",
       "2                   Bariatrics   Laparoscopic Gastric Bypass Consult - 1    \n",
       "3   Cardiovascular / Pulmonary                    2-D Echocardiogram - 1    \n",
       "4   Cardiovascular / Pulmonary                    2-D Echocardiogram - 2    \n",
       "\n",
       "                                                                                                                                                                                                                                                                                                                                                                                                                                                                                                                                                                                                             transcription  \\\n",
       "0  SUBJECTIVE:,  This 23-year-old white female presents with complaint of allergies.  She used to have allergies when she lived in Seattle but she thinks they are worse here.  In the past, she has tried Claritin, and Zyrtec.  Both worked for short time but then seemed to lose effectiveness.  She has used Allegra also.  She used that last summer and she began using it again two weeks ago.  It does not appear to be working very well.  She has used over-the-counter sprays but no prescription nasal sprays.  She does have asthma but doest not require daily medication for this and does not think it...   \n",
       "1  PAST MEDICAL HISTORY:, He has difficulty climbing stairs, difficulty with airline seats, tying shoes, used to public seating, and lifting objects off the floor.  He exercises three times a week at home and does cardio.  He has difficulty walking two blocks or five flights of stairs.  Difficulty with snoring.  He has muscle and joint pains including knee pain, back pain, foot and ankle pain, and swelling.  He has gastroesophageal reflux disease.,PAST SURGICAL HISTORY:, Includes reconstructive surgery on his right hand 13 years ago.  ,SOCIAL HISTORY:, He is currently single.  He has about te...   \n",
       "2  HISTORY OF PRESENT ILLNESS: , I have seen ABC today.  He is a very pleasant gentleman who is 42 years old, 344 pounds.  He is 5'9\".  He has a BMI of 51.  He has been overweight for ten years since the age of 33, at his highest he was 358 pounds, at his lowest 260.  He is pursuing surgical attempts of weight loss to feel good, get healthy, and begin to exercise again.  He wants to be able to exercise and play volleyball.  Physically, he is sluggish.  He gets tired quickly.  He does not go out often.  When he loses weight he always regains it and he gains back more than he lost.  His biggest...   \n",
       "3                                                                                                          2-D M-MODE: , ,1.  Left atrial enlargement with left atrial diameter of 4.7 cm.,2.  Normal size right and left ventricle.,3.  Normal LV systolic function with left ventricular ejection fraction of 51%.,4.  Normal LV diastolic function.,5.  No pericardial effusion.,6.  Normal morphology of aortic valve, mitral valve, tricuspid valve, and pulmonary valve.,7.  PA systolic pressure is 36 mmHg.,DOPPLER: , ,1.  Mild mitral and tricuspid regurgitation.,2.  Trace aortic and pulmonary regurgitation.   \n",
       "4  1.  The left ventricular cavity size and wall thickness appear normal.  The wall motion and left ventricular systolic function appears hyperdynamic with estimated ejection fraction of 70% to 75%.  There is near-cavity obliteration seen.  There also appears to be increased left ventricular outflow tract gradient at the mid cavity level consistent with hyperdynamic left ventricular systolic function.  There is abnormal left ventricular relaxation pattern seen as well as elevated left atrial pressures seen by Doppler examination.,2.  The left atrium appears mildly dilated.,3.  The right atriu...   \n",
       "\n",
       "                                                                                                                                                                                                                                                                                                                                  keywords  \n",
       "0                                                                                                                                                                                                      allergy / immunology, allergic rhinitis, allergies, asthma, nasal sprays, rhinitis, nasal, erythematous, allegra, sprays, allergic,  \n",
       "1                                                                                                 bariatrics, laparoscopic gastric bypass, weight loss programs, gastric bypass, atkin's diet, weight watcher's, body weight, laparoscopic gastric, weight loss, pounds, months, weight, laparoscopic, band, loss, diets, overweight, lost  \n",
       "2                                                                                              bariatrics, laparoscopic gastric bypass, heart attacks, body weight, pulmonary embolism, potential complications, sleep study, weight loss, gastric bypass, anastomosis, loss, sleep, laparoscopic, gastric, bypass, heart, pounds, weight,  \n",
       "3                                                                          cardiovascular / pulmonary, 2-d m-mode, doppler, aortic valve, atrial enlargement, diastolic function, ejection fraction, mitral, mitral valve, pericardial effusion, pulmonary valve, regurgitation, systolic function, tricuspid, tricuspid valve, normal lv   \n",
       "4  cardiovascular / pulmonary, 2-d, doppler, echocardiogram, annular, aortic root, aortic valve, atrial, atrium, calcification, cavity, ejection fraction, mitral, obliteration, outflow, regurgitation, relaxation pattern, stenosis, systolic function, tricuspid, valve, ventricular, ventricular cavity, wall motion, pulmonary artery  "
      ]
     },
     "execution_count": 7,
     "metadata": {},
     "output_type": "execute_result"
    }
   ],
   "source": [
    "mtsamples = pd.read_csv(str(data_path) + '/mtsamples.csv')\n",
    "mtsamples.head()"
   ]
  },
  {
   "cell_type": "code",
   "execution_count": 8,
   "id": "8e900009",
   "metadata": {},
   "outputs": [
    {
     "data": {
      "text/plain": [
       "0       1331.0\n",
       "1       2431.0\n",
       "2       4422.0\n",
       "3        495.0\n",
       "4       1618.0\n",
       "         ...  \n",
       "4994    5338.0\n",
       "4995    1566.0\n",
       "4996    4543.0\n",
       "4997    2781.0\n",
       "4998    4379.0\n",
       "Name: transcription, Length: 4999, dtype: float64"
      ]
     },
     "execution_count": 8,
     "metadata": {},
     "output_type": "execute_result"
    }
   ],
   "source": [
    "mtsamples.transcription.str.len()"
   ]
  },
  {
   "cell_type": "code",
   "execution_count": 9,
   "id": "e35a8619",
   "metadata": {},
   "outputs": [
    {
     "data": {
      "text/plain": [
       " Surgery                          1103\n",
       " Consult - History and Phy.        516\n",
       " Cardiovascular / Pulmonary        372\n",
       " Orthopedic                        355\n",
       " Radiology                         273\n",
       " General Medicine                  259\n",
       " Gastroenterology                  230\n",
       " Neurology                         223\n",
       " SOAP / Chart / Progress Notes     166\n",
       " Obstetrics / Gynecology           160\n",
       " Urology                           158\n",
       " Discharge Summary                 108\n",
       " ENT - Otolaryngology               98\n",
       " Neurosurgery                       94\n",
       " Hematology - Oncology              90\n",
       " Ophthalmology                      83\n",
       " Nephrology                         81\n",
       " Emergency Room Reports             75\n",
       " Pediatrics - Neonatal              70\n",
       " Pain Management                    62\n",
       " Psychiatry / Psychology            53\n",
       " Office Notes                       51\n",
       " Podiatry                           47\n",
       " Dermatology                        29\n",
       " Dentistry                          27\n",
       " Cosmetic / Plastic Surgery         27\n",
       " Letters                            23\n",
       " Physical Medicine - Rehab          21\n",
       " Sleep Medicine                     20\n",
       " Endocrinology                      19\n",
       " Bariatrics                         18\n",
       " IME-QME-Work Comp etc.             16\n",
       " Chiropractic                       14\n",
       " Diets and Nutritions               10\n",
       " Rheumatology                       10\n",
       " Speech - Language                   9\n",
       " Autopsy                             8\n",
       " Lab Medicine - Pathology            8\n",
       " Allergy / Immunology                7\n",
       " Hospice - Palliative Care           6\n",
       "Name: medical_specialty, dtype: int64"
      ]
     },
     "execution_count": 9,
     "metadata": {},
     "output_type": "execute_result"
    }
   ],
   "source": [
    "mtsamples.medical_specialty.value_counts()"
   ]
  },
  {
   "cell_type": "markdown",
   "id": "f6a9df06",
   "metadata": {},
   "source": [
    "This is one way to load the data for training\n",
    "\n",
    "```python\n",
    "TextDataLoaders.from_df(mtsamples,\n",
    "                        valid_pct=0.2,\n",
    "                        seed=42,\n",
    "                        text_col='transcription',\n",
    "                        label_col='medical_specialty',\n",
    "                        seq_len=72)\n",
    "```"
   ]
  },
  {
   "cell_type": "code",
   "execution_count": 10,
   "id": "65bff6a4",
   "metadata": {},
   "outputs": [],
   "source": [
    "# dls_lm = DataBlock(\n",
    "#     blocks=(TextBlock.from_df('transcription', is_lm=True), CategoryBlock),\n",
    "#     get_x=ColReader('transcription'), \n",
    "#     get_y=ColReader('medical_specialty'),\n",
    "#     splitter=TrainTestSplitter(test_size=0.2,\n",
    "#                                random_state=42,\n",
    "#                                stratify=mtsamples.medical_specialty)\n",
    "# )"
   ]
  },
  {
   "cell_type": "code",
   "execution_count": 11,
   "id": "dfe7270d",
   "metadata": {},
   "outputs": [],
   "source": [
    "dls_lm = DataBlock(\n",
    "    blocks=TextBlock.from_df('transcription', is_lm=True),\n",
    "    get_x=ColReader('text'),\n",
    "    #get_y='medical_specialty',\n",
    "    splitter=TrainTestSplitter(test_size=0.2,\n",
    "                               random_state=42,\n",
    "                               stratify=mtsamples.medical_specialty)\n",
    ")"
   ]
  },
  {
   "cell_type": "code",
   "execution_count": 12,
   "id": "f5f48b66",
   "metadata": {},
   "outputs": [
    {
     "data": {
      "text/html": [],
      "text/plain": [
       "<IPython.core.display.HTML object>"
      ]
     },
     "metadata": {},
     "output_type": "display_data"
    },
    {
     "name": "stderr",
     "output_type": "stream",
     "text": [
      "/opt/miniconda3/envs/coprh/lib/python3.7/site-packages/numpy/core/_asarray.py:83: VisibleDeprecationWarning: Creating an ndarray from ragged nested sequences (which is a list-or-tuple of lists-or-tuples-or ndarrays with different lengths or shapes) is deprecated. If you meant to do this, you must specify 'dtype=object' when creating the ndarray\n",
      "  return array(a, dtype, copy=False, order=order)\n"
     ]
    }
   ],
   "source": [
    "# setting max transcription length to 128 words\n",
    "dls_lm = dls_lm.dataloaders(mtsamples, bs=64, seq_len=128)"
   ]
  },
  {
   "cell_type": "code",
   "execution_count": 13,
   "id": "a241960c",
   "metadata": {},
   "outputs": [
    {
     "data": {
      "text/html": [
       "<table border=\"1\" class=\"dataframe\">\n",
       "  <thead>\n",
       "    <tr style=\"text-align: right;\">\n",
       "      <th></th>\n",
       "      <th>text</th>\n",
       "      <th>text_</th>\n",
       "    </tr>\n",
       "  </thead>\n",
       "  <tbody>\n",
       "    <tr>\n",
       "      <th>0</th>\n",
       "      <td>xxbos xxup review xxup of xxup systems:,constitutional : xxmaj patient denies fevers , chills , sweats and weight changes . ,eyes : xxmaj patient denies any visual symptoms . ,ears , xxup nose , xxup and xxup throat : xxmaj no difficulties with hearing . xxmaj no symptoms of rhinitis or sore throat . ,cardiovascular : xxmaj patient denies chest pains , palpitations , orthopnea and paroxysmal nocturnal dyspnea . ,respiratory : xxmaj no dyspnea on exertion , no wheezing or cough . ,gi : xxmaj no nausea , vomiting , diarrhea , constipation , abdominal pain , hematochezia or melena . ,gu : xxmaj no urinary hesitancy or dribbling . xxmaj no nocturia or urinary frequency . xxmaj no abnormal urethral discharge . ,musculoskeletal : xxmaj no</td>\n",
       "      <td>xxup review xxup of xxup systems:,constitutional : xxmaj patient denies fevers , chills , sweats and weight changes . ,eyes : xxmaj patient denies any visual symptoms . ,ears , xxup nose , xxup and xxup throat : xxmaj no difficulties with hearing . xxmaj no symptoms of rhinitis or sore throat . ,cardiovascular : xxmaj patient denies chest pains , palpitations , orthopnea and paroxysmal nocturnal dyspnea . ,respiratory : xxmaj no dyspnea on exertion , no wheezing or cough . ,gi : xxmaj no nausea , vomiting , diarrhea , constipation , abdominal pain , hematochezia or melena . ,gu : xxmaj no urinary hesitancy or dribbling . xxmaj no nocturia or urinary frequency . xxmaj no abnormal urethral discharge . ,musculoskeletal : xxmaj no myalgias</td>\n",
       "    </tr>\n",
       "    <tr>\n",
       "      <th>1</th>\n",
       "      <td>usual fashion . ,a transverse skin incision was made and carried down to the platysma muscle . xxmaj this was then split in line with its fibers . xxmaj blunt dissection was carried down medial to the carotid sheath and lateral to the trachea and esophagus until the anterior cervical spine was visualized . a needle was placed into a disc and an x - ray was done to determine its location . xxmaj the longus colli muscles were then elevated bilaterally with the electrocautery unit . xxmaj self - retaining retractors were placed deep to the longus colli muscle in an effort to avoid injury to the sympathetic chains . ,radical anterior discectomies were performed at xxup c3 - c4 and xxup c4 - c5 . xxmaj</td>\n",
       "      <td>fashion . ,a transverse skin incision was made and carried down to the platysma muscle . xxmaj this was then split in line with its fibers . xxmaj blunt dissection was carried down medial to the carotid sheath and lateral to the trachea and esophagus until the anterior cervical spine was visualized . a needle was placed into a disc and an x - ray was done to determine its location . xxmaj the longus colli muscles were then elevated bilaterally with the electrocautery unit . xxmaj self - retaining retractors were placed deep to the longus colli muscle in an effort to avoid injury to the sympathetic chains . ,radical anterior discectomies were performed at xxup c3 - c4 and xxup c4 - c5 . xxmaj this</td>\n",
       "    </tr>\n",
       "  </tbody>\n",
       "</table>"
      ],
      "text/plain": [
       "<IPython.core.display.HTML object>"
      ]
     },
     "metadata": {},
     "output_type": "display_data"
    }
   ],
   "source": [
    "dls_lm.show_batch(max_n=2)"
   ]
  },
  {
   "cell_type": "code",
   "execution_count": 14,
   "id": "a555a56f",
   "metadata": {},
   "outputs": [
    {
     "data": {
      "text/html": [],
      "text/plain": [
       "<IPython.core.display.HTML object>"
      ]
     },
     "metadata": {},
     "output_type": "display_data"
    },
    {
     "name": "stderr",
     "output_type": "stream",
     "text": [
      "/opt/miniconda3/envs/coprh/lib/python3.7/site-packages/torch/cuda/amp/autocast_mode.py:118: UserWarning: torch.cuda.amp.autocast only affects CUDA ops, but CUDA is not available.  Disabling.\n",
      "  warnings.warn(\"torch.cuda.amp.autocast only affects CUDA ops, but CUDA is not available.  Disabling.\")\n"
     ]
    }
   ],
   "source": [
    "learn = language_model_learner(\n",
    "    dls_lm,\n",
    "    AWD_LSTM,\n",
    "    drop_mult=0.3, \n",
    "    metrics=[accuracy, Perplexity()]).to_fp16()"
   ]
  },
  {
   "cell_type": "code",
   "execution_count": 15,
   "id": "2e3c133a",
   "metadata": {},
   "outputs": [
    {
     "name": "stderr",
     "output_type": "stream",
     "text": [
      "/opt/miniconda3/envs/coprh/lib/python3.7/site-packages/torch/cuda/amp/grad_scaler.py:116: UserWarning: torch.cuda.amp.GradScaler is enabled, but CUDA is not available.  Disabling.\n",
      "  warnings.warn(\"torch.cuda.amp.GradScaler is enabled, but CUDA is not available.  Disabling.\")\n"
     ]
    },
    {
     "data": {
      "text/html": [
       "<table border=\"1\" class=\"dataframe\">\n",
       "  <thead>\n",
       "    <tr style=\"text-align: left;\">\n",
       "      <th>epoch</th>\n",
       "      <th>train_loss</th>\n",
       "      <th>valid_loss</th>\n",
       "      <th>accuracy</th>\n",
       "      <th>perplexity</th>\n",
       "      <th>time</th>\n",
       "    </tr>\n",
       "  </thead>\n",
       "  <tbody>\n",
       "    <tr>\n",
       "      <td>0</td>\n",
       "      <td>3.022231</td>\n",
       "      <td>2.849046</td>\n",
       "      <td>0.452408</td>\n",
       "      <td>17.271288</td>\n",
       "      <td>36:42</td>\n",
       "    </tr>\n",
       "  </tbody>\n",
       "</table>"
      ],
      "text/plain": [
       "<IPython.core.display.HTML object>"
      ]
     },
     "metadata": {},
     "output_type": "display_data"
    }
   ],
   "source": [
    "# on macbook this takes 40 minues\n",
    "# on GPU machine this takes \n",
    "learn.fit_one_cycle(1, 2e-2)"
   ]
  },
  {
   "cell_type": "code",
   "execution_count": null,
   "id": "6f8554c3",
   "metadata": {},
   "outputs": [],
   "source": [
    "learn.save('1epoch')"
   ]
  },
  {
   "cell_type": "code",
   "execution_count": null,
   "id": "4fd56526",
   "metadata": {},
   "outputs": [],
   "source": []
  }
 ],
 "metadata": {
  "kernelspec": {
   "display_name": "Python 3",
   "language": "python",
   "name": "python3"
  },
  "language_info": {
   "codemirror_mode": {
    "name": "ipython",
    "version": 3
   },
   "file_extension": ".py",
   "mimetype": "text/x-python",
   "name": "python",
   "nbconvert_exporter": "python",
   "pygments_lexer": "ipython3",
   "version": "3.7.10"
  }
 },
 "nbformat": 4,
 "nbformat_minor": 5
}
