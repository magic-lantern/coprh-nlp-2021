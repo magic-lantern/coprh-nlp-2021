{
 "cells": [
  {
   "cell_type": "code",
   "execution_count": null,
   "id": "4139c9f6",
   "metadata": {
    "slideshow": {
     "slide_type": "skip"
    }
   },
   "outputs": [],
   "source": [
    "from IPython.display import Image"
   ]
  },
  {
   "cell_type": "markdown",
   "id": "4ddc18b3",
   "metadata": {
    "slideshow": {
     "slide_type": "slide"
    }
   },
   "source": [
    "# Attics, guesswork and clay. Sleuthing your way into Biomedical Natural Language Processing\n",
    "\n",
    "## Colorado Pragmatic Research in Health 2021 Conference<br/>May 24 - 26, 2021\n",
    "\n",
    "<pre>\n",
    "Seth Russell, MS\n",
    "University of Colorado Anschutz Medical Campus\n",
    "ACCORDS Data Science Program, D2V Data Science Core\n",
    "</pre>"
   ]
  },
  {
   "cell_type": "markdown",
   "id": "d294a758",
   "metadata": {
    "slideshow": {
     "slide_type": "slide"
    }
   },
   "source": [
    "## Learning Objectives\n",
    "\n",
    "Learners should have:\n",
    "\n",
    "1. A general idea of what Natural Language Processing (NLP) is.\n",
    "1. A knowledge of the ethical implications of data reuse in NLP.\n",
    "1. Knowledge of where to get text for NLP.\n",
    "1. How to use and learn more about some basic NLP techniques."
   ]
  },
  {
   "cell_type": "code",
   "execution_count": null,
   "id": "87104efb",
   "metadata": {
    "hide_input": true,
    "slideshow": {
     "slide_type": "slide"
    }
   },
   "outputs": [],
   "source": [
    "Image(filename='./pictures/natgeo_2011.png') "
   ]
  },
  {
   "cell_type": "markdown",
   "id": "45dd76b9",
   "metadata": {
    "slideshow": {
     "slide_type": "notes"
    }
   },
   "source": [
    "Some of you may have heard of the many successes of Natural Language Processing. It has been highly lauded in the popular news as well as more academic circles for many years. One popular event about - described in this 2011 national geograpic article from 10 years ago was the match up of Jeopardy champion vs IBM's Question Answering system called \"Watson\" named for IBMs founder and first CEO Thomas J. Watson"
   ]
  },
  {
   "cell_type": "code",
   "execution_count": null,
   "id": "539c5511",
   "metadata": {
    "hide_input": true,
    "slideshow": {
     "slide_type": "slide"
    }
   },
   "outputs": [],
   "source": [
    "Image(filename='./pictures/nyt_2020.png')"
   ]
  },
  {
   "cell_type": "markdown",
   "id": "1222261a",
   "metadata": {
    "slideshow": {
     "slide_type": "notes"
    }
   },
   "source": [
    "More recently companies such as OpenAI - this image is from 2020 - have made additional breakthroughs that have caught popular imagination and fear in some cases for the ability for software to generate and appear to understand text."
   ]
  },
  {
   "cell_type": "code",
   "execution_count": null,
   "id": "fa2121f9",
   "metadata": {
    "hide_input": true,
    "slideshow": {
     "slide_type": "slide"
    }
   },
   "outputs": [],
   "source": [
    "Image(filename='./pictures/wsj_2021.png')"
   ]
  },
  {
   "cell_type": "markdown",
   "id": "d066b882",
   "metadata": {
    "slideshow": {
     "slide_type": "notes"
    }
   },
   "source": [
    "As with any technology sometimes the hype doesn't live up to reality and as shown in this February 2021 article, even the amazing Watson may have to be put to pasture like a has been race horse.\n",
    "\n",
    "openai gpt-3 training at least 4.6 million in hardware costs + many people and their wages\n",
    "\n",
    "https://bdtechtalks.com/2020/09/21/gpt-3-economy-business-model/"
   ]
  },
  {
   "cell_type": "markdown",
   "id": "c3843c2a",
   "metadata": {
    "slideshow": {
     "slide_type": "slide"
    }
   },
   "source": [
    "## “Come, Watson, come!” he cried. “The game is afoot. Not a word! Into your clothes and come!”\n",
    "\n",
    "The Adventure of the Abbey Grange  \n",
    "Sir Arthur Conan Doyle"
   ]
  },
  {
   "cell_type": "markdown",
   "id": "f5b1ace1",
   "metadata": {
    "slideshow": {
     "slide_type": "notes"
    }
   },
   "source": [
    "After seeing and hearing of the amazing things NLP can do, everyone wants to get into the game and see immediate advantages."
   ]
  },
  {
   "cell_type": "markdown",
   "id": "e72beec5",
   "metadata": {
    "slideshow": {
     "slide_type": "slide"
    }
   },
   "source": [
    "## So what *is* Natural Language Processing ?\n",
    "\n",
    "* Document Retrieval\n",
    "* Information Extraction\n",
    "* Knowledge Representation\n",
    "* Word/Concept/Abbreviation disambiguation\n",
    "* Automated reasoning\n",
    "* Classification\n",
    "* Sentiment Analysis"
   ]
  },
  {
   "cell_type": "markdown",
   "id": "0dfd604e",
   "metadata": {
    "slideshow": {
     "slide_type": "notes"
    }
   },
   "source": [
    "* Document Retrieval - Google\n",
    "* Information Extraction - This also can be seen in Google\n",
    "* Knowledge Representation\n",
    "* Word/Concept/Abbreviation disambiguation\n",
    "* Automated reasoning\n",
    "* Classification and sentiment analysis - Content management systems to identify problem videos, posts, etc. Youtube, Facebook, Twitter and others are doing this\n"
   ]
  },
  {
   "cell_type": "code",
   "execution_count": null,
   "id": "28af4eba",
   "metadata": {
    "hide_input": true,
    "slideshow": {
     "slide_type": "subslide"
    }
   },
   "outputs": [],
   "source": [
    "Image(filename='./pictures/google_information_extraction.png')"
   ]
  },
  {
   "cell_type": "code",
   "execution_count": null,
   "id": "a904d86b",
   "metadata": {
    "hide_input": true,
    "slideshow": {
     "slide_type": "subslide"
    }
   },
   "outputs": [],
   "source": [
    "Image(filename='./pictures/wapost_2021.png')"
   ]
  },
  {
   "cell_type": "markdown",
   "id": "99871463",
   "metadata": {
    "slideshow": {
     "slide_type": "slide"
    }
   },
   "source": [
    "# Some common techniques\n",
    "\n",
    "* Regular expressions\n",
    "* Lexical Analysis\n",
    "* Stemming\n",
    "* Lemmatization\n",
    "* Stop word removal\n",
    "* Word to vector representations\n",
    "* Language Models as basis for various tasks"
   ]
  },
  {
   "cell_type": "markdown",
   "id": "5cbba864",
   "metadata": {
    "slideshow": {
     "slide_type": "notes"
    }
   },
   "source": [
    "* Regular expressions - Text pattern matching language\n",
    "* Stemming - Removing common endings to words such as 's', 'ed', 'ing' to get the word stem\n",
    "* Lemmatization - 'to walk' may appear as 'walk', 'walked', 'walks' or 'walking'\n",
    "* Stop word removal - Removing high frequency, low meaning words.\n",
    "* Word to Vector - Most machine learning techniques require numeric input. There are various algorithms for converting words to numbers in a high dimensional vector space"
   ]
  },
  {
   "cell_type": "code",
   "execution_count": null,
   "id": "939ac501",
   "metadata": {
    "hide_input": true,
    "slideshow": {
     "slide_type": "subslide"
    }
   },
   "outputs": [],
   "source": [
    "Image(filename='./pictures/parse_tree.png')"
   ]
  },
  {
   "cell_type": "raw",
   "id": "ea33bb14",
   "metadata": {
    "slideshow": {
     "slide_type": "notes"
    }
   },
   "source": [
    "consider the sentence \"John hit the ball\" Breaking this down into nouns, verbs, etc you come up with a structure like this which is how linguists explain how your brain makes sense of a sentence.\n",
    "\n",
    "After show parse tree go back to list."
   ]
  },
  {
   "cell_type": "code",
   "execution_count": null,
   "id": "d54a0ff4",
   "metadata": {
    "hide_input": true,
    "slideshow": {
     "slide_type": "subslide"
    }
   },
   "outputs": [],
   "source": [
    "Image(filename='./pictures/model_size_over_time_part1.png')"
   ]
  },
  {
   "cell_type": "code",
   "execution_count": null,
   "id": "231cf3b6",
   "metadata": {
    "hide_input": true,
    "slideshow": {
     "slide_type": "subslide"
    }
   },
   "outputs": [],
   "source": [
    "Image(filename='./pictures/model_size_over_time_part2.png')"
   ]
  },
  {
   "cell_type": "code",
   "execution_count": null,
   "id": "9b8df0dd",
   "metadata": {
    "hide_input": true,
    "slideshow": {
     "slide_type": "subslide"
    }
   },
   "outputs": [],
   "source": [
    "Image(filename='./pictures/bert.png')"
   ]
  },
  {
   "cell_type": "markdown",
   "id": "0de72e1e",
   "metadata": {
    "slideshow": {
     "slide_type": "slide"
    }
   },
   "source": [
    "##  “We are coming now rather into the region of guesswork,” said Dr. Mortimer.\n",
    "\n",
    "## *Holmes' reply:* “Say, rather, into the region where we balance probabilities and choose the most likely. It is the scientific use of the imagination, but we have always some material basis on which to start our speculation.”\n",
    "\n",
    "The Hound of the Baskervilles\n",
    "Sir Arthur Conan Doyle"
   ]
  },
  {
   "cell_type": "markdown",
   "id": "56eaae7a",
   "metadata": {
    "slideshow": {
     "slide_type": "notes"
    }
   },
   "source": [
    "What that little bit of information on what is considered NLP, where do we go now?"
   ]
  },
  {
   "cell_type": "markdown",
   "id": "e5b4d80c",
   "metadata": {
    "slideshow": {
     "slide_type": "slide"
    }
   },
   "source": [
    "# ACM Code of Ethics and Professional Conduct\n",
    "\n",
    "#### Association for Computing Machinery, 2018\n",
    "\n",
    "Computing professionals' actions change the world. To act responsibly, they should reflect upon the wider impacts of their work, consistently supporting the public good. The ACM Code of Ethics and Professional Conduct (\"the Code\") expresses the conscience of the profession..."
   ]
  },
  {
   "cell_type": "markdown",
   "id": "209624eb",
   "metadata": {
    "slideshow": {
     "slide_type": "subslide"
    }
   },
   "source": [
    "\n",
    "## 1. GENERAL ETHICAL PRINCIPLES.\n",
    "\n",
    "A computing professional should...\n",
    "\n",
    "1. Contribute to society and to human well-being, acknowledging that all people are stakeholders in computing\n",
    "1. Avoid harm.\n",
    "1. Be honest and trustworthy.\n",
    "1. Be fair and take action not to discriminate.\n",
    "1. Respect the work required to produce new ideas, inventions, creative works, and computing artifacts.\n",
    "1. Respect privacy.\n",
    "1. Honor confidentiality."
   ]
  },
  {
   "cell_type": "markdown",
   "id": "6b3dd9a5",
   "metadata": {
    "slideshow": {
     "slide_type": "fragment"
    }
   },
   "source": [
    "## 2. PROFESSIONAL RESPONSIBILITIES.\n",
    "...\n",
    "\n",
    "Continued at https://www.acm.org/code-of-ethics"
   ]
  },
  {
   "cell_type": "markdown",
   "id": "4c233261",
   "metadata": {
    "slideshow": {
     "slide_type": "slide"
    }
   },
   "source": [
    "## I consider that a man’s brain originally is like a little empty attic, and you have to stock it with such furniture as you choose. \n",
    "\n",
    "A fool takes in all the lumber of every sort that he comes across, so that the knowledge which might be useful to him gets crowded out, or at best is jumbled up with a lot of other things so that he has a difficulty in laying his hands upon it. Now the skilful workman is very careful indeed as to what he takes into his brain-attic. He will have nothing but the tools which may help him in doing his work, but of these he has a large assortment, and all in the most perfect order. It is a mistake to think that that little room has elastic walls and can distend to any extent. Depend upon it there comes a time when for every addition of knowledge you forget something that you knew before. It is of the highest importance, therefore, not to have useless facts elbowing out the useful ones.\n",
    "\n",
    "A Study In Scarlet  \n",
    "Sir Arthur Conan Doyle"
   ]
  },
  {
   "cell_type": "markdown",
   "id": "1b4f3265",
   "metadata": {
    "slideshow": {
     "slide_type": "notes"
    }
   },
   "source": [
    "Historically, NLP systems were rule based - either rules based on grammar or rules based on matching specific words and phrases. Any domain expert can identify common words and phrases that could be used to identify specific elements in text for example. More specialized NLP experts where often Linguists - computational linguists - who codified rules of English and created complex sentence parse trees to then identify where information of a certain type would be found. It's my semi-educated guess that the rule based type of NLP is probably the most common and most popular.\n",
    "\n",
    "Next we get into how to fill your brain with techniques and tools for natural language processing"
   ]
  },
  {
   "cell_type": "code",
   "execution_count": null,
   "id": "ecd8aad6",
   "metadata": {
    "slideshow": {
     "slide_type": "slide"
    }
   },
   "outputs": [],
   "source": [
    "import re\n",
    "\n",
    "get_subsections_pat = re.compile(r'(^[\\w\\s]+$)|(^[^\\n:]+):[ \\t]*([\\s\\S]*?(?=(?:^[^\\n:]*:)|\\Z))', flags=re.M)\n",
    "# patterns for matching concepts\n",
    "dimension_pat = re.compile(r'^[\\d.xX\\s]+(cm)?$')\n",
    "def no_spec_char(input):\n",
    "    return re.sub(r'[-(),:]', '', input.lower()).strip()\n",
    "\n",
    "def no_spec_char_space(input):\n",
    "    return re.sub(r'\\s+', ' ', re.sub(r'[-(),:]', ' ', input.lower())).strip()\n",
    "\n",
    "def no_paren(input):\n",
    "    return re.sub(r'\\([^)]*\\)', '', input.lower()).strip()\n",
    "# end pattern matching stuff\n",
    "\n",
    "def get_sections(instr):\n",
    "    return {m.group(1).strip() : m.group(3).strip() for m in get_sections_pat.finditer(instr)}"
   ]
  },
  {
   "cell_type": "code",
   "execution_count": null,
   "id": "4e8aa74f",
   "metadata": {
    "hide_input": true,
    "slideshow": {
     "slide_type": "subslide"
    }
   },
   "outputs": [],
   "source": [
    "Image(filename='./pictures/regex_example.png')"
   ]
  },
  {
   "cell_type": "code",
   "execution_count": null,
   "id": "5cc76887",
   "metadata": {
    "slideshow": {
     "slide_type": "subslide"
    }
   },
   "outputs": [],
   "source": [
    "def find_match(search_term, domain=None, candidate_order=None, previous_concept=None, debug=True):\n",
    "    \"\"\"\n",
    "    Use substring/pattern matching to find a concept that appears to match the search_term\n",
    "    \"\"\"\n",
    "    st_lower = search_term.lower()\n",
    "    st_no_spec_char = no_spec_char(search_term)\n",
    "    st_no_spec_char_space = no_spec_char_space(search_term)\n",
    "    st_no_paren = no_paren(search_term)\n",
    "\n",
    "    # hierarchy of how to match\n",
    "    # exact\n",
    "    if len(concept_df[concept_df.concept == search_term]) == 1:\n",
    "        df = concept_df[concept_df.concept == search_term].copy()\n",
    "        if debug: print('Found match based on search term')\n",
    "    elif ((domain is not None) and (len(concept_df[(concept_df.concept == search_term) & (concept_df.domain_id == domain)]) == 1)):\n",
    "        df = concept_df[(concept_df.concept == search_term) & (concept_df.domain_id == domain)].copy()\n",
    "        if debug: print('Found match based on search term and domain')\n",
    "    # lower case\n",
    "    elif len(concept_df[concept_df.concept_lower == st_lower]) == 1:\n",
    "        df = concept_df[concept_df.concept_lower == st_lower].copy()\n",
    "        if debug: print('Found match based on search term lower cased')\n",
    "    elif ((domain is not None) and (len(concept_df[(concept_df.concept_lower == st_lower) & (concept_df.domain_id == domain)]) == 1)):\n",
    "        df = concept_df[(concept_df.concept_lower == st_lower) & (concept_df.domain_id == domain)].copy()\n",
    "        if debug: print('Found match based on search term lower cased and domain')\n",
    "    # remove special characters\n",
    "    elif len(concept_df[concept_df.concept_no_spec_char == st_no_spec_char]) == 1:\n",
    "        df = concept_df[concept_df.concept_no_spec_char == st_no_spec_char].copy()\n",
    "        if debug: print('Found match based on search term with removing special characters')\n",
    "    elif ((domain is not None) and (len(concept_df[(concept_df.concept_no_spec_char == st_no_spec_char) & (concept_df.domain_id == domain)]) == 1)):\n",
    "        df = concept_df[(concept_df.concept_no_spec_char == st_no_spec_char) & (concept_df.domain_id == domain)].copy()\n",
    "        if debug: print('Found match based on search term with removing special characters and domain')"
   ]
  },
  {
   "cell_type": "markdown",
   "id": "cb94b3d2",
   "metadata": {
    "slideshow": {
     "slide_type": "slide"
    }
   },
   "source": [
    "## BERT applied to concept matching\n",
    "\n",
    "Given a language model that can predict words in sentences, you can apply this to identifying how similar one sentence is to another.\n",
    "\n",
    "\n",
    "    Attempting to match: Lymph-Vascular Invasion\n",
    "      top precision results: tensor([0.8579, 0.7961, 0.7620])\n",
    "      top precision matches: ['lymphovascular invasion' 'perineural invasion' 'seminal vesicle invasion']\n",
    "      top recall results: tensor([0.9087, 0.8359, 0.7944])\n",
    "      top recall matches: ['lymphovascular invasion' 'perineural invasion' 'seminal vesicle invasion']\n",
    "      top F1 results: tensor([0.8825, 0.8155, 0.7779])\n",
    "      top F1 matches: ['lymphovascular invasion' 'perineural invasion' 'seminal vesicle invasion']"
   ]
  },
  {
   "cell_type": "markdown",
   "id": "2de1d978",
   "metadata": {
    "slideshow": {
     "slide_type": "subslide"
    }
   },
   "source": [
    "    Attempting to match: Number of Lymph Nodes Involved/ Examined\n",
    "      top precision results: tensor([0.8756, 0.8709, 0.7688])\n",
    "      top precision matches: ['number of lymph nodes involved' 'number of lymph nodes examined' 'size of largest lymph node involved in centimeters cm']\n",
    "      top recall results: tensor([0.9483, 0.9405, 0.7751])\n",
    "      top recall matches: ['number of lymph nodes involved' 'number of lymph nodes examined' 'no lymph nodes submitted or found']\n",
    "      top F1 results: tensor([0.9105, 0.9044, 0.7661])\n",
    "      top F1 matches: ['number of lymph nodes involved' 'number of lymph nodes examined' 'no lymph nodes submitted or found']"
   ]
  },
  {
   "cell_type": "markdown",
   "id": "17f5c1b9",
   "metadata": {
    "slideshow": {
     "slide_type": "slide"
    }
   },
   "source": [
    "## “Data! data! data!” he cried impatiently. “I can’t make bricks without clay.”\n",
    "\n",
    "The Adventure of the Copper Beeches  \n",
    "Sir Arthur Conan Doyle"
   ]
  },
  {
   "cell_type": "markdown",
   "id": "4dc9d332",
   "metadata": {
    "slideshow": {
     "slide_type": "slide"
    }
   },
   "source": [
    "# Sources of text for NLP\n",
    "\n",
    "* CU Anschutz Health Data Compass - With IRB Approval can access many clinical notes from UC Health and Children's Hospital of Colorado https://www.healthdatacompass.org/\n",
    "* PhysioNet (MIMIC et al) https://physionet.org/about/database/\n",
    "\n",
    "## Non-medical related\n",
    "\n",
    "* Kaggle https://www.kaggle.com/datasets\n",
    "* Hugging Face https://huggingface.co/datasets\n",
    "* Amazon product reviews and ratings http://jmcauley.ucsd.edu/data/amazon/"
   ]
  },
  {
   "cell_type": "markdown",
   "id": "3ed4541d",
   "metadata": {
    "slideshow": {
     "slide_type": "slide"
    }
   },
   "source": [
    "## It is a capital mistake to theorise before one has data. Insensibly one begins to twist facts to suit theories, instead of theories to suit facts.\n",
    "\n",
    "A Scandal in Bohemia  \n",
    "Sir Arthur Conan Doyle"
   ]
  },
  {
   "cell_type": "markdown",
   "id": "3d84933e",
   "metadata": {
    "slideshow": {
     "slide_type": "slide"
    }
   },
   "source": [
    "# How to evaluate NLP systems\n",
    "\n",
    "* Compare against held out training set\n",
    "* Compare across time\n",
    "* Compare across sites"
   ]
  },
  {
   "cell_type": "markdown",
   "id": "0738cab3",
   "metadata": {
    "slideshow": {
     "slide_type": "subslide"
    }
   },
   "source": [
    "## Error Analysis\n",
    "\n",
    "* What errors matter?\n",
    "* What concepts are matched wrong?\n",
    "* What text never is mapped to concepts?"
   ]
  },
  {
   "cell_type": "markdown",
   "id": "6cf58f74",
   "metadata": {
    "slideshow": {
     "slide_type": "subslide"
    }
   },
   "source": [
    "## What really matters for users of this tool?\n",
    "\n",
    "* Ranked list of features\n",
    "* Find people who have actually used the human human version of the system - what else did they want to know?\n",
    "* Precision vs Recall trade off"
   ]
  },
  {
   "cell_type": "code",
   "execution_count": null,
   "id": "0cbe68ef",
   "metadata": {
    "hide_input": true,
    "slideshow": {
     "slide_type": "subslide"
    }
   },
   "outputs": [],
   "source": [
    "Image(filename='./pictures/error_analysis.png')"
   ]
  },
  {
   "cell_type": "markdown",
   "id": "799ca25d",
   "metadata": {
    "slideshow": {
     "slide_type": "notes"
    }
   },
   "source": [
    "Precision - Getting items that match class and nothing else.  \n",
    "Recall - Getting all of the items that match class and some extra too."
   ]
  },
  {
   "cell_type": "markdown",
   "id": "7a3e1d77",
   "metadata": {
    "slideshow": {
     "slide_type": "slide"
    }
   },
   "source": [
    "The goal:\n",
    "\n",
    "Natural-language understanding (NLU) or natural-language interpretation (NLI) is a subtopic of natural-language processing in artificial intelligence that deals with machine reading comprehension. Natural-language understanding is considered an AI-hard problem.\n",
    "\n",
    "* Linguistics-focused approaches\n",
    "* Statistics-focused approaches\n",
    "* The annotation problem\n",
    "\n",
    "language translation, question answering, text summarization, etc...\n",
    "\n",
    "Source: [Natural language processing: State of the art and prospects for significant progress, a workshop sponsored by the National Library of Medicine](https://doi.org/10.1016/j.jbi.2013.06.004)"
   ]
  },
  {
   "cell_type": "markdown",
   "id": "29922894",
   "metadata": {},
   "source": [
    "Types of NLP\n",
    "\n",
    "* Word disambiguation:\n",
    "  * https://www.kaggle.com/xhlulu/medal-emnlp\n",
    "  * https://zenodo.org/record/4482922\n",
    "* Note Type: https://www.kaggle.com/tboyle10/medicaltranscriptions\n",
    "  * Code demonstrating use: https://www.kaggle.com/ritheshsreenivasan/clinical-text-classification\n",
    "  * Appears to be similar - https://www.kaggle.com/c/medicalnotes-2019/overview\n",
    "* Mixed bag: https://github.com/socd06/medical-nlp\n",
    "* Deep learning applied to MIMIC https://github.com/lsy3/clinical-notes-diagnosis-dl-nlp "
   ]
  },
  {
   "cell_type": "code",
   "execution_count": null,
   "id": "839f52ad",
   "metadata": {},
   "outputs": [],
   "source": [
    "#steming/lemmatization is no longer used with deep learning\n",
    "# labeling problem. See https://arxiv.org/abs/1904.12848 \"Unsupervised Data Augmentation for Consistency Training\" IMDB with 20 labeled examples\n",
    "#\n",
    "# importance of good data:\n",
    "# \"A Chat with Andrew on MLOps: From Model-centric to Data-centric AI\" https://youtu.be/06-AZXmwHjo "
   ]
  },
  {
   "cell_type": "markdown",
   "id": "d08b70b8",
   "metadata": {},
   "source": [
    "Data from: https://www.kaggle.com/tboyle10/medicaltranscriptions\n",
    "\n",
    "Can get from https://github.com/socd06/medical-nlp/raw/master/data/mtsamples.csv as well"
   ]
  },
  {
   "cell_type": "markdown",
   "id": "d01b7faa",
   "metadata": {
    "slideshow": {
     "slide_type": "slide"
    }
   },
   "source": [
    "## Resources\n",
    "\n",
    "### Tutorials/Courses\n",
    "\n",
    "* \"Clinical Natural Language Processing\" Laura K. Wiley, PhD Asst Prof @ CU Anschutz https://www.coursera.org/learn/clinical-natural-language-processing\n",
    "* \"Natural Language Processing Specialization\" https://www.deeplearning.ai/program/natural-language-processing-specialization/\n",
    "* \"A Code-First Introduction to Natural Language Processing\" https://www.fast.ai/2019/07/08/fastai-nlp/\n",
    "* https://towardsdatascience.com/introduction-to-clinical-natural-language-processing-predicting-hospital-readmission-with-1736d52bc709"
   ]
  },
  {
   "cell_type": "markdown",
   "id": "2923572e",
   "metadata": {
    "slideshow": {
     "slide_type": "subslide"
    }
   },
   "source": [
    "### Books\n",
    "\n",
    "* \"Introduction to Information Retrieval\" https://nlp.stanford.edu/IR-book/\n",
    "* \"Speech and Language Processing\" https://web.stanford.edu/~jurafsky/slp3/\n",
    "* \"Deep Learning for Coders with Fastai and PyTorch\" https://book.fast.ai\n",
    "\n",
    "### Libraries\n",
    "\n",
    "* https://spacy.io/ - Python\n",
    "* http://www.nltk.org/ - Python\n",
    "* https://opennlp.apache.org/ - Java"
   ]
  },
  {
   "cell_type": "code",
   "execution_count": null,
   "id": "09bc6875",
   "metadata": {},
   "outputs": [],
   "source": []
  }
 ],
 "metadata": {
  "celltoolbar": "Slideshow",
  "kernelspec": {
   "display_name": "Python 3.8.5 64-bit ('nlp': conda)",
   "language": "python",
   "name": "python38564bitnlpconda558de9a36abb4155bca9bf25b4c81369"
  },
  "language_info": {
   "codemirror_mode": {
    "name": "ipython",
    "version": 3
   },
   "file_extension": ".py",
   "mimetype": "text/x-python",
   "name": "python",
   "nbconvert_exporter": "python",
   "pygments_lexer": "ipython3",
   "version": "3.8.6"
  },
  "rise": {
   "footer": "<h2><a href='https://github.com/magic-lantern/coprh-nlp-2021'>https://github.com/magic-lantern/coprh-nlp-2021</a></h2>"
  }
 },
 "nbformat": 4,
 "nbformat_minor": 5
}
