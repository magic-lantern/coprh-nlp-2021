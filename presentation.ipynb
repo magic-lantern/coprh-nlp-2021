{
 "cells": [
  {
   "cell_type": "markdown",
   "id": "regulation-chemical",
   "metadata": {},
   "source": [
    "# Biomedical Natural Language Processing\n",
    "\n",
    "## Colorado Pragmatic Research in Health 2021 Conference<br/>May 24 - 26, 2021\n",
    "\n",
    "<pre>\n",
    "Seth Russell, MS\n",
    "University of Colorado Anschutz Medical Campus\n",
    "ACCORDS Data Science Program, D2V Data Science Core\n",
    "</pre>"
   ]
  },
  {
   "cell_type": "markdown",
   "id": "necessary-discussion",
   "metadata": {},
   "source": [
    "# Learning Objectives\n",
    "\n",
    "Learners should have:\n",
    "\n",
    "1. A knowledge of the ethical implications of Natural Language Processing (NLP).\n",
    "1. A general idea of what NLP is.\n",
    "1. Basic knowledge of areas of NLP.\n",
    "1. Sources of text for NLP.\n",
    "1. Links to resources that demonstrate some NLP techniques."
   ]
  },
  {
   "cell_type": "markdown",
   "id": "industrial-apparatus",
   "metadata": {},
   "source": [
    "# ACM Code of Ethics and Professional Conduct\n",
    "\n",
    "#### Association for Computing Machinery, 2018\n",
    "\n",
    "Computing professionals' actions change the world. To act responsibly, they should reflect upon the wider impacts of their work, consistently supporting the public good. The ACM Code of Ethics and Professional Conduct (\"the Code\") expresses the conscience of the profession...\n",
    "\n",
    "## 1. GENERAL ETHICAL PRINCIPLES.\n",
    "\n",
    "A computing professional should...\n",
    "\n",
    "1. Contribute to society and to human well-being, acknowledging that all people are stakeholders in computing\n",
    "1. Avoid harm.\n",
    "1. Be honest and trustworthy.\n",
    "1. Be fair and take action not to discriminate.\n",
    "1. Respect the work required to produce new ideas, inventions, creative works, and computing artifacts.\n",
    "1. Respect privacy.\n",
    "1. Honor confidentiality.\n",
    "\n",
    "## 2. PROFESSIONAL RESPONSIBILITIES.\n",
    "...\n",
    "\n",
    "Continued at https://www.acm.org/code-of-ethics"
   ]
  },
  {
   "cell_type": "markdown",
   "id": "cloudy-tracy",
   "metadata": {},
   "source": [
    "# Overview\n",
    "\n",
    "1. What is Natural Language Processing?\n",
    "1. Document Retrieval?\n",
    "1. Information Extraction\n",
    "1. Information Retrieval\n",
    "\n"
   ]
  },
  {
   "cell_type": "markdown",
   "id": "streaming-gambling",
   "metadata": {},
   "source": [
    "The goal:\n",
    "\n",
    "Natural-language understanding (NLU) or natural-language interpretation (NLI) is a subtopic of natural-language processing in artificial intelligence that deals with machine reading comprehension. Natural-language understanding is considered an AI-hard problem.\n",
    "\n",
    "* Linguistics-focused approaches\n",
    "* Statistics-focused approaches\n",
    "* The annotation problem\n",
    "\n",
    "language translation, question answering, text summarization, etc...\n",
    "\n",
    "Source: [Natural language processing: State of the art and prospects for significant progress, a workshop sponsored by the National Library of Medicine](https://doi.org/10.1016/j.jbi.2013.06.004)"
   ]
  },
  {
   "cell_type": "markdown",
   "id": "drawn-probe",
   "metadata": {},
   "source": [
    "openai gpt-3 training at least 4.6 million in hardware costs + many people\n",
    "\n",
    "https://bdtechtalks.com/2020/09/21/gpt-3-economy-business-model/"
   ]
  },
  {
   "cell_type": "markdown",
   "id": "organic-leather",
   "metadata": {},
   "source": [
    "resources:\n",
    "\n",
    "* https://www.fast.ai/2019/07/08/fastai-nlp/\n",
    "* ? https://xkcd.com/1838/"
   ]
  }
 ],
 "metadata": {
  "kernelspec": {
   "display_name": "Python [conda env:py37] *",
   "language": "python",
   "name": "conda-env-py37-py"
  },
  "language_info": {
   "codemirror_mode": {
    "name": "ipython",
    "version": 3
   },
   "file_extension": ".py",
   "mimetype": "text/x-python",
   "name": "python",
   "nbconvert_exporter": "python",
   "pygments_lexer": "ipython3",
   "version": "3.7.9"
  }
 },
 "nbformat": 4,
 "nbformat_minor": 5
}
