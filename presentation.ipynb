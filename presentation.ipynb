{
 "cells": [
  {
   "cell_type": "markdown",
   "id": "4ddc18b3",
   "metadata": {
    "slideshow": {
     "slide_type": "slide"
    }
   },
   "source": [
    "# Attics, guesswork and clay. Sleuthing your way into Biomedical Natural Language Processing\n",
    "\n",
    "## Colorado Pragmatic Research in Health 2021 Conference<br/>May 24 - 26, 2021\n",
    "\n",
    "<pre>\n",
    "Seth Russell, MS\n",
    "University of Colorado Anschutz Medical Campus\n",
    "ACCORDS Data Science Program, D2V Data Science Core\n",
    "</pre>"
   ]
  },
  {
   "cell_type": "markdown",
   "id": "d294a758",
   "metadata": {
    "slideshow": {
     "slide_type": "slide"
    }
   },
   "source": [
    "# Learning Objectives\n",
    "\n",
    "Learners should have:\n",
    "\n",
    "1. A general idea of what Natural Language Processing (NLP) is.\n",
    "1. A knowledge of the ethical implications of data reuse in NLP.\n",
    "1. Knowledge of where to get text for NLP.\n",
    "1. How to use and learn more about some basic NLP techniques."
   ]
  },
  {
   "cell_type": "markdown",
   "id": "b7ae9683",
   "metadata": {},
   "source": [
    "##  “We are coming now rather into the region of guesswork,” said Dr. Mortimer.\n",
    "\n",
    "## “Say, rather, into the region where we balance probabilities and choose the most likely. It is the scientific use of the imagination, but we have always some material basis on which to start our speculation.” \n",
    "\n",
    "The Hound of the Baskervilles\n",
    "\n",
    "## It is a capital mistake to theorise before one has data. Insensibly one begins to twist facts to suit theories, instead of theories to suit facts.\n",
    "\n",
    "A Scandal in Bohemia\n",
    "\n",
    "## “Come, Watson, come!” he cried. “The game is afoot. Not a word! Into your clothes and come!”\n",
    "\n",
    "The Adventure of the Abbey Grange\n",
    "\n",
    "## “Data! data! data!” he cried impatiently. “I can’t make bricks without clay.”\n",
    "\n",
    "The Adventure of the Copper Beeches\n",
    "\n",
    "## I consider that a man’s brain originally is like a little empty attic, and you have to stock it with such furniture as you choose. \n",
    "\n",
    "A fool takes in all the lumber of every sort that he comes across, so that the knowledge which might be useful to him gets crowded out, or at best is jumbled up with a lot of other things so that he has a difficulty in laying his hands upon it. Now the skilful workman is very careful indeed as to what he takes into his brain-attic. He will have nothing but the tools which may help him in doing his work, but of these he has a large assortment, and all in the most perfect order. It is a mistake to think that that little room has elastic walls and can distend to any extent. Depend upon it there comes a time when for every addition of knowledge you forget something that you knew before. It is of the highest importance, therefore, not to have useless facts elbowing out the useful ones.\n",
    "\n",
    "A Study In Scarlet\n",
    "\n",
    "Sir Arthur Conan Doyle\n"
   ]
  },
  {
   "cell_type": "markdown",
   "id": "e9260387",
   "metadata": {},
   "source": []
  },
  {
   "cell_type": "markdown",
   "id": "e5b4d80c",
   "metadata": {
    "slideshow": {
     "slide_type": "slide"
    }
   },
   "source": [
    "# ACM Code of Ethics and Professional Conduct\n",
    "\n",
    "#### Association for Computing Machinery, 2018\n",
    "\n",
    "Computing professionals' actions change the world. To act responsibly, they should reflect upon the wider impacts of their work, consistently supporting the public good. The ACM Code of Ethics and Professional Conduct (\"the Code\") expresses the conscience of the profession..."
   ]
  },
  {
   "cell_type": "markdown",
   "id": "209624eb",
   "metadata": {
    "slideshow": {
     "slide_type": "subslide"
    }
   },
   "source": [
    "\n",
    "## 1. GENERAL ETHICAL PRINCIPLES.\n",
    "\n",
    "A computing professional should...\n",
    "\n",
    "1. Contribute to society and to human well-being, acknowledging that all people are stakeholders in computing\n",
    "1. Avoid harm.\n",
    "1. Be honest and trustworthy.\n",
    "1. Be fair and take action not to discriminate.\n",
    "1. Respect the work required to produce new ideas, inventions, creative works, and computing artifacts.\n",
    "1. Respect privacy.\n",
    "1. Honor confidentiality."
   ]
  },
  {
   "cell_type": "markdown",
   "id": "6b3dd9a5",
   "metadata": {
    "slideshow": {
     "slide_type": "fragment"
    }
   },
   "source": [
    "## 2. PROFESSIONAL RESPONSIBILITIES.\n",
    "...\n",
    "\n",
    "Continued at https://www.acm.org/code-of-ethics"
   ]
  },
  {
   "cell_type": "markdown",
   "id": "0c2f9151",
   "metadata": {
    "slideshow": {
     "slide_type": "slide"
    }
   },
   "source": [
    "# Overview\n",
    "\n",
    "1. What is Natural Language Processing?\n",
    "1. Document Retrieval?\n",
    "1. Information Extraction\n",
    "1. Information Retrieval\n",
    "1. Word/Concept/Abbreviation disambiguation\n"
   ]
  },
  {
   "cell_type": "markdown",
   "id": "7a3e1d77",
   "metadata": {
    "slideshow": {
     "slide_type": "slide"
    }
   },
   "source": [
    "The goal:\n",
    "\n",
    "Natural-language understanding (NLU) or natural-language interpretation (NLI) is a subtopic of natural-language processing in artificial intelligence that deals with machine reading comprehension. Natural-language understanding is considered an AI-hard problem.\n",
    "\n",
    "* Linguistics-focused approaches\n",
    "* Statistics-focused approaches\n",
    "* The annotation problem\n",
    "\n",
    "language translation, question answering, text summarization, etc...\n",
    "\n",
    "Source: [Natural language processing: State of the art and prospects for significant progress, a workshop sponsored by the National Library of Medicine](https://doi.org/10.1016/j.jbi.2013.06.004)"
   ]
  },
  {
   "cell_type": "markdown",
   "id": "0599b800",
   "metadata": {},
   "source": [
    "openai gpt-3 training at least 4.6 million in hardware costs + many people\n",
    "\n",
    "https://bdtechtalks.com/2020/09/21/gpt-3-economy-business-model/"
   ]
  },
  {
   "cell_type": "markdown",
   "id": "29922894",
   "metadata": {},
   "source": [
    "Examples of items to present:\n",
    "\n",
    "* https://www.fast.ai/2019/07/08/fastai-nlp/\n",
    "* https://towardsdatascience.com/introduction-to-clinical-natural-language-processing-predicting-hospital-readmission-with-1736d52bc709\n",
    "\n",
    "Types of NLP\n",
    "\n",
    "* Word disambiguation:\n",
    "  * https://www.kaggle.com/xhlulu/medal-emnlp\n",
    "  * https://zenodo.org/record/4482922\n",
    "* Note Type: https://www.kaggle.com/tboyle10/medicaltranscriptions\n",
    "  * Code demonstrating use: https://www.kaggle.com/ritheshsreenivasan/clinical-text-classification\n",
    "  * Appears to be similar - https://www.kaggle.com/c/medicalnotes-2019/overview\n",
    "* Mixed bag: https://github.com/socd06/medical-nlp\n",
    "* Deep learning applied to MIMIC https://github.com/lsy3/clinical-notes-diagnosis-dl-nlp "
   ]
  },
  {
   "cell_type": "code",
   "execution_count": 1,
   "id": "839f52ad",
   "metadata": {},
   "outputs": [],
   "source": [
    "#steming/lemmatization is no longer used with deep learning\n",
    "# labeling problem. See https://arxiv.org/abs/1904.12848 \"Unsupervised Data Augmentation for Consistency Training\" IMDB with 20 labeled examples\n",
    "#\n",
    "# importance of good data:\n",
    "# \"A Chat with Andrew on MLOps: From Model-centric to Data-centric AI\" https://youtu.be/06-AZXmwHjo "
   ]
  },
  {
   "cell_type": "markdown",
   "id": "d08b70b8",
   "metadata": {},
   "source": [
    "Data from: https://www.kaggle.com/tboyle10/medicaltranscriptions\n",
    "Can get from https://github.com/socd06/medical-nlp/raw/master/data/mtsamples.csv as well"
   ]
  },
  {
   "cell_type": "code",
   "execution_count": null,
   "id": "89779491",
   "metadata": {},
   "outputs": [],
   "source": [
    "import fastai"
   ]
  },
  {
   "cell_type": "code",
   "execution_count": null,
   "id": "d200b82f",
   "metadata": {},
   "outputs": [],
   "source": [
    "untar_data(url, fname=None, dest=None, c_key='data', force_download=False, extract_func=file_extract, timeout=4)"
   ]
  },
  {
   "cell_type": "code",
   "execution_count": null,
   "id": "e0369315",
   "metadata": {},
   "outputs": [],
   "source": []
  }
 ],
 "metadata": {
  "celltoolbar": "Slideshow",
  "kernelspec": {
   "display_name": "Python [conda env:py37] *",
   "language": "python",
   "name": "conda-env-py37-py"
  },
  "language_info": {
   "codemirror_mode": {
    "name": "ipython",
    "version": 3
   },
   "file_extension": ".py",
   "mimetype": "text/x-python",
   "name": "python",
   "nbconvert_exporter": "python",
   "pygments_lexer": "ipython3",
   "version": "3.7.10"
  }
 },
 "nbformat": 4,
 "nbformat_minor": 5
}
